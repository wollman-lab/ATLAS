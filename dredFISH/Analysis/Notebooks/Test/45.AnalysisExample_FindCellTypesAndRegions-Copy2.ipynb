{
 "cells": [
  {
   "cell_type": "markdown",
   "id": "010b6eac-92c9-4ba4-a12f-a27bd4658781",
   "metadata": {},
   "source": [
    "#### Imports"
   ]
  },
  {
   "cell_type": "code",
   "execution_count": null,
   "id": "099bfeb6-de1f-4f3a-8731-1364ba4c1ff9",
   "metadata": {},
   "outputs": [],
   "source": [
    "from dredFISH.Analysis.TissueGraph import *\n",
    "from dredFISH.Visualization.Viz import *\n",
    "import ipyparallel as ipp\n",
    "\n",
    "import matplotlib.pyplot as plt "
   ]
  },
  {
   "cell_type": "markdown",
   "id": "ccf642a9-a784-4363-a59a-b19bc0a6f682",
   "metadata": {},
   "source": [
    "#### Load data"
   ]
  },
  {
   "cell_type": "code",
   "execution_count": null,
   "id": "d3072339-a760-43a1-b224-ea65e427db43",
   "metadata": {},
   "outputs": [],
   "source": [
    "%%time\n",
    "TMG = TissueMultiGraph('/bigstore/GeneralStorage/fangming/projects/dredfish/data_dump/TMG_example_2.pkl')"
   ]
  },
  {
   "cell_type": "code",
   "execution_count": null,
   "id": "37ac6f93-652b-4498-8ae9-5fd459a2ee86",
   "metadata": {},
   "outputs": [],
   "source": [
    "# # %%time\n",
    "# base_path = '/bigstore/Images2021/gaby/dredFISH/DPNMF_PolyA_2021Nov19/'\n",
    "# dataset = 'DPNMF_PolyA_2021Nov19'\n",
    "\n",
    "# TMG = TissueMultiGraph()\n",
    "# XY,PNMF = TMG.load_and_normalize_data(base_path,dataset,norm_bit = 'robustZ-iqr',norm_cell = 'l1')"
   ]
  },
  {
   "cell_type": "markdown",
   "id": "ee51e708-f2aa-42fb-967c-ec6d0dd099be",
   "metadata": {},
   "source": [
    "#### Build layers 1-2: cells and zones"
   ]
  },
  {
   "cell_type": "code",
   "execution_count": null,
   "id": "fc300bbc-6173-430c-b5dd-f2f75f2bc736",
   "metadata": {},
   "outputs": [],
   "source": [
    "# %%time\n",
    "# TMG.create_cell_and_zone_layers(XY,PNMF)"
   ]
  },
  {
   "cell_type": "code",
   "execution_count": null,
   "id": "6e158498-8e36-4888-bfb1-e119acdbd372",
   "metadata": {},
   "outputs": [],
   "source": [
    "# %%time\n",
    "# TMG.add_geoms()"
   ]
  },
  {
   "cell_type": "code",
   "execution_count": null,
   "id": "625cf2bf-63f0-4964-8c42-0dc2d6a9923d",
   "metadata": {},
   "outputs": [],
   "source": [
    "# %%time\n",
    "# save Cond entropy values for later plotting\n",
    "# TMG.Layers[0].calc_entropy_at_different_Leiden_resolutions()"
   ]
  },
  {
   "cell_type": "markdown",
   "id": "a5673364-d6d2-42e9-a348-6f9c38a42a1f",
   "metadata": {
    "tags": []
   },
   "source": [
    "#### Build layers 3: regions"
   ]
  },
  {
   "cell_type": "code",
   "execution_count": null,
   "id": "4d05a0f2-e24a-46b8-baa8-fa5f360e4168",
   "metadata": {
    "tags": []
   },
   "outputs": [],
   "source": [
    "%%time\n",
    "\n",
    "\n",
    "# None of these are successful -- need to ask Roy or use something else.\n",
    "# !ipcluster start -n 4  # to start cluster\n",
    "# start cluster\n",
    "# ipp.Cluster(n=4).start_cluster()\n",
    "# rc = ipp.Cluster(n=4)\n",
    "# topics = TMG.find_topics(use_parallel=True) # need to first start the engine\n",
    "\n",
    "\n",
    "\n",
    "topics = TMG.find_topics(use_parallel=False) # this take long ~ 4.5 hours/CPU\n",
    "TMG.create_region_layer(topics)\n"
   ]
  },
  {
   "cell_type": "markdown",
   "id": "9aab4088-dc58-4789-8ecd-e64a73585ee9",
   "metadata": {},
   "source": [
    "### Save"
   ]
  },
  {
   "cell_type": "code",
   "execution_count": null,
   "id": "703cd489-5220-40d9-80b9-24be72477c4a",
   "metadata": {},
   "outputs": [],
   "source": [
    "TMG.save('/bigstore/GeneralStorage/fangming/projects/dredfish/data_dump/TMG_example_4.pkl')"
   ]
  },
  {
   "cell_type": "code",
   "execution_count": null,
   "id": "e87d3752-d510-408b-a1db-614f0f16fcbf",
   "metadata": {},
   "outputs": [],
   "source": [
    "rc"
   ]
  },
  {
   "cell_type": "code",
   "execution_count": null,
   "id": "d41760be-2307-4858-8a0f-d73bb795df98",
   "metadata": {},
   "outputs": [],
   "source": []
  }
 ],
 "metadata": {
  "interpreter": {
   "hash": "232f8d06215062f61d321fc7446956117d6c46bb7076bf772bcda94cc0361d06"
  },
  "kernelspec": {
   "display_name": "Python 3 (ipykernel)",
   "language": "python",
   "name": "python3"
  },
  "language_info": {
   "codemirror_mode": {
    "name": "ipython",
    "version": 3
   },
   "file_extension": ".py",
   "mimetype": "text/x-python",
   "name": "python",
   "nbconvert_exporter": "python",
   "pygments_lexer": "ipython3",
   "version": "3.10.2"
  }
 },
 "nbformat": 4,
 "nbformat_minor": 5
}
