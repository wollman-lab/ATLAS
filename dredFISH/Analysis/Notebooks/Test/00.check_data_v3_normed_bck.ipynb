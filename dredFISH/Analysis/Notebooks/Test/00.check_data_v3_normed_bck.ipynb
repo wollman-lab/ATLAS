{
 "cells": [
  {
   "cell_type": "code",
   "execution_count": 1,
   "id": "d0087b2e-2bf9-44e0-b878-9093e98d4c05",
   "metadata": {},
   "outputs": [],
   "source": [
    "import json\n",
    "import sys\n",
    "import os\n",
    "import numpy as np\n",
    "import skimage\n",
    "from scipy import ndimage\n",
    "from scipy import special\n",
    "from scipy import sparse\n",
    "import anndata\n",
    "import nibabel as nib\n",
    "import pandas as pd\n",
    "import datashader as ds\n",
    "import time\n",
    "from sklearn.decomposition import PCA\n",
    "import collections\n",
    "import pickle as pkl\n",
    "import zarr\n",
    "import h5py\n",
    "import anndata as ad\n",
    "\n",
    "import ants\n",
    "import nibabel as nib\n",
    "\n",
    "sys.path.insert(0, '/home/fangming/projects/myutils')\n",
    "from __init__plots import *\n",
    "sns.set_style('white')\n",
    "\n",
    "import importlib\n",
    "import powerplots\n",
    "importlib.reload(powerplots)\n",
    "import imageu\n",
    "importlib.reload(imageu)\n",
    "import regu\n",
    "importlib.reload(regu)\n",
    "import basicu\n",
    "importlib.reload(basicu)\n",
    "\n",
    "\n",
    "# sys.path.insert(0, '/home/fangming/projects/dredfish/packages/dredFISH')\n",
    "sys.path.insert(0, '/home/fangming/projects/dredfish/packages/PySpots')\n",
    "from MERFISH_Objects.FISHData import *\n"
   ]
  },
  {
   "cell_type": "code",
   "execution_count": 2,
   "id": "06250a17-fea2-416b-9f55-fc599cd11992",
   "metadata": {},
   "outputs": [],
   "source": [
    "# sns.boxplot(scrna.values.flatten())\n",
    "def group_sum(mat, groups, group_order=[]):\n",
    "    \"\"\"\n",
    "    mat is a matrix (cell-by-feature) ; group are the labels (for each cell).\n",
    "    \n",
    "    this can be speed up!!! take advantage of the cluster label structure... check my metacell analysis script as well\n",
    "    \"\"\"\n",
    "    m, n = mat.shape\n",
    "    assert m == len(groups)\n",
    "    if len(group_order) == 0:\n",
    "        group_order = np.unique(groups)\n",
    "    \n",
    "    group_idx = basicu.get_index_from_array(group_order, groups)\n",
    "    groupmat = sparse.csc_matrix(([1]*m, (group_idx, np.arange(m)))) # group by cell\n",
    "    \n",
    "    return groupmat.dot(mat), group_order\n",
    "\n",
    "def group_mean(mat, groups, group_order=[]):\n",
    "    \"\"\"\n",
    "    mat is a matrix (cell-by-feature) ; group are the labels (for each cell).\n",
    "    \"\"\"\n",
    "    m, n = mat.shape\n",
    "    assert m == len(groups)\n",
    "    if len(group_order) == 0:\n",
    "        group_order = np.unique(groups)\n",
    "    \n",
    "    group_idx = basicu.get_index_from_array(group_order, groups)\n",
    "    groupmat = sparse.csc_matrix(([1]*m, (group_idx, np.arange(m)))) # group by cell\n",
    "    groupmat = groupmat/np.sum(groupmat, axis=1)  # row\n",
    "    \n",
    "    return groupmat.dot(mat), group_order\n",
    "\n",
    "def IQR_normalize_vector(v):\n",
    "    v = v.copy()\n",
    "    v = v-np.percentile(v,50)\n",
    "    v = v/(np.percentile(v,75)-np.percentile(v,25))\n",
    "    return v\n",
    "\n",
    "def IQR_normalize_matrix_bycol(mat):\n",
    "    mat = mat.copy()\n",
    "    for i in range(mat.shape[1]):\n",
    "        \"\"\" Scale bitwise first \"\"\"\n",
    "        mat[:,i] = IQR_normalize_vector(mat[:,i])\n",
    "    return mat\n",
    "\n",
    "def zscore(v, **kwargs):\n",
    "    return (v-np.mean(v, **kwargs))/(np.std(v, **kwargs))\n",
    "\n",
    "def zscore_matrix_bycol(mat):\n",
    "    return zscore(mat, axis=0) # across rows"
   ]
  },
  {
   "cell_type": "markdown",
   "id": "ed2db464-bb94-4bdd-8bc6-39c7148eaf9b",
   "metadata": {},
   "source": [
    "# Load data"
   ]
  },
  {
   "cell_type": "code",
   "execution_count": 3,
   "id": "a865e806-b3bf-4bbf-bc75-749d11e41ad0",
   "metadata": {},
   "outputs": [],
   "source": [
    "prj_dir = '/home/fangming/projects/dredfish/'\n",
    "dat_dir = prj_dir + 'data/'\n",
    "res_dir = prj_dir + 'results/'\n",
    "fig_dir = prj_dir + 'figures/'"
   ]
  },
  {
   "cell_type": "code",
   "execution_count": 4,
   "id": "6d5922ff-a6cc-4a7b-a15a-19467da9455e",
   "metadata": {},
   "outputs": [
    {
     "name": "stdout",
     "output_type": "stream",
     "text": [
      "(73347, 45768)\n",
      "(9711, 24)\n"
     ]
    }
   ],
   "source": [
    "# allen matrix\n",
    "f = f'{dat_dir}rna/scrna_ss_ctxhippo_a_exon_count_matrix_v2.h5ad'\n",
    "scrna = ad.read_h5ad(f)\n",
    "print(scrna.shape)\n",
    "\n",
    "# DPNMF matrix \n",
    "f = f'{dat_dir}dpnmf.csv' \n",
    "pmat = pd.read_csv(f, index_col=0)\n",
    "print(pmat.shape)"
   ]
  },
  {
   "cell_type": "code",
   "execution_count": 5,
   "id": "5b13d439-a1cc-41f0-bb68-abda145c5ba7",
   "metadata": {},
   "outputs": [
    {
     "name": "stdout",
     "output_type": "stream",
     "text": [
      "(5818,) (45768,) (5576,)\n"
     ]
    }
   ],
   "source": [
    "# for each allen cluster, get their DPNMF measurements\n",
    "\n",
    "# remove genes with zero counts\n",
    "pmat = pmat[pmat.sum(axis=1) > 0]\n",
    "# 5818 genes, 5576 overlap with Allen SS \n",
    "genes = np.intersect1d(pmat.index.values, scrna.var.index.values)\n",
    "genes_idx = basicu.get_index_from_array(scrna.var.index.values, genes)\n",
    "print(np.unique(pmat.index.values).shape, np.unique(scrna.var.index.values).shape, genes.shape)\n",
    "\n",
    "pmat = pmat.loc[genes]"
   ]
  },
  {
   "cell_type": "code",
   "execution_count": 6,
   "id": "b5bb62dc-9752-43dc-a622-031030659ade",
   "metadata": {},
   "outputs": [
    {
     "name": "stdout",
     "output_type": "stream",
     "text": [
      "CPU times: user 1min 55s, sys: 4min 43s, total: 6min 39s\n",
      "Wall time: 7min 2s\n"
     ]
    }
   ],
   "source": [
    "%%time\n",
    "Xcell = scrna.X\n",
    "\n",
    "# correct for library size (each cluster has the same total counts)\n",
    "Xc_norm = basicu.sparse_libsize_norm(Xcell)\n",
    "\n",
    "# projection\n",
    "Xcr_norm = Xc_norm[:,genes_idx].dot(pmat)\n",
    "\n",
    "# # IQR norm by feautures\n",
    "# Xcp = zscore_matrix_bycol(Xcr_norm)"
   ]
  },
  {
   "cell_type": "code",
   "execution_count": 7,
   "id": "68377a03-2867-4723-9d4d-6165555d266a",
   "metadata": {},
   "outputs": [
    {
     "data": {
      "text/plain": [
       "AnnData object with n_obs × n_vars = 73347 × 45768\n",
       "    obs: 'donor_sex_id', 'donor_sex_label', 'donor_sex_color', 'region_id', 'region_label', 'region_color', 'platform_label', 'cluster_order', 'cluster_label', 'cluster_color', 'subclass_order', 'subclass_label', 'subclass_color', 'neighborhood_id', 'neighborhood_label', 'neighborhood_color', 'class_order', 'class_label', 'class_color', 'exp_component_name', 'external_donor_name_label', 'full_genotype_label', 'facs_population_plan_label', 'injection_roi_label', 'injection_materials_label', 'injection_method_label', 'injection_type_label', 'full_genotype_id', 'full_genotype_color', 'external_donor_name_id', 'external_donor_name_color', 'facs_population_plan_id', 'facs_population_plan_color', 'injection_materials_id', 'injection_materials_color', 'injection_method_id', 'injection_method_color', 'injection_roi_id', 'injection_roi_color', 'injection_type_id', 'injection_type_color', 'cell_type_accession_label', 'cell_type_alias_label', 'cell_type_alt_alias_label', 'cell_type_designation_label', 'cell_type_designation_id', 'cell_type_alt_alias_id', 'cell_type_alias_id', 'cell_type_accession_id', 'cell_type_designation_color', 'cell_type_alt_alias_color', 'cell_type_alias_color', 'cell_type_accession_color', 'cortical_layer_label', 'cortical_layer_order', 'cortical_layer_color', 'Lim1', 'Lim2'"
      ]
     },
     "execution_count": 7,
     "metadata": {},
     "output_type": "execute_result"
    }
   ],
   "source": [
    "scrna"
   ]
  },
  {
   "cell_type": "code",
   "execution_count": 8,
   "id": "74ef8f06-d4cf-4d0c-bbab-dd2b9b5d519d",
   "metadata": {},
   "outputs": [
    {
     "data": {
      "text/plain": [
       "array([[ 375181.10002363,   65590.69645607,  178763.04222405, ...,\n",
       "          80849.83572292,  233802.39185572, 1573859.12275589],\n",
       "       [ 386782.56370842,   78100.50263834,  228846.04216266, ...,\n",
       "          72493.76508677,  261229.68187928, 1691416.93384945],\n",
       "       [ 330038.05532682,   57793.23883879,  224242.24100351, ...,\n",
       "          75187.10413492,  257466.14829719, 1537874.9802959 ],\n",
       "       ...,\n",
       "       [  93455.60415649,  321611.71696424,  371433.87145185, ...,\n",
       "          73337.14973783,  184700.66510534, 1626045.15356207],\n",
       "       [ 213186.26533389,   67800.55113566,  152313.2962544 , ...,\n",
       "         110288.91963696,  256774.27808619, 1273398.44875634],\n",
       "       [ 169172.3426789 ,   95462.94227123,  322866.29774165, ...,\n",
       "          92563.20447397,  140770.35049963, 1250851.52884841]])"
      ]
     },
     "execution_count": 8,
     "metadata": {},
     "output_type": "execute_result"
    }
   ],
   "source": [
    "Xcr_norm"
   ]
  },
  {
   "cell_type": "code",
   "execution_count": 9,
   "id": "0f0fee6e-18a3-47ce-b566-ee41a55c1ca2",
   "metadata": {},
   "outputs": [
    {
     "data": {
      "text/plain": [
       "(73347, 24)"
      ]
     },
     "execution_count": 9,
     "metadata": {},
     "output_type": "execute_result"
    }
   ],
   "source": [
    "Xcr_norm.shape"
   ]
  },
  {
   "cell_type": "code",
   "execution_count": 10,
   "id": "f0e29fd9-e528-4805-95c5-d69681916d2e",
   "metadata": {},
   "outputs": [
    {
     "data": {
      "text/plain": [
       "AnnData object with n_obs × n_vars = 73347 × 24\n",
       "    obs: 'donor_sex_id', 'donor_sex_label', 'donor_sex_color', 'region_id', 'region_label', 'region_color', 'platform_label', 'cluster_order', 'cluster_label', 'cluster_color', 'subclass_order', 'subclass_label', 'subclass_color', 'neighborhood_id', 'neighborhood_label', 'neighborhood_color', 'class_order', 'class_label', 'class_color', 'exp_component_name', 'external_donor_name_label', 'full_genotype_label', 'facs_population_plan_label', 'injection_roi_label', 'injection_materials_label', 'injection_method_label', 'injection_type_label', 'full_genotype_id', 'full_genotype_color', 'external_donor_name_id', 'external_donor_name_color', 'facs_population_plan_id', 'facs_population_plan_color', 'injection_materials_id', 'injection_materials_color', 'injection_method_id', 'injection_method_color', 'injection_roi_id', 'injection_roi_color', 'injection_type_id', 'injection_type_color', 'cell_type_accession_label', 'cell_type_alias_label', 'cell_type_alt_alias_label', 'cell_type_designation_label', 'cell_type_designation_id', 'cell_type_alt_alias_id', 'cell_type_alias_id', 'cell_type_accession_id', 'cell_type_designation_color', 'cell_type_alt_alias_color', 'cell_type_alias_color', 'cell_type_accession_color', 'cortical_layer_label', 'cortical_layer_order', 'cortical_layer_color', 'Lim1', 'Lim2'"
      ]
     },
     "execution_count": 10,
     "metadata": {},
     "output_type": "execute_result"
    }
   ],
   "source": [
    "# save as an anndata\n",
    "adata = ad.AnnData(\n",
    "    X=Xcr_norm,\n",
    "    obs=scrna.obs,\n",
    ")\n",
    "adata"
   ]
  },
  {
   "cell_type": "code",
   "execution_count": 11,
   "id": "3e31b9a1-6364-4ea9-8da7-d6d6be593c8e",
   "metadata": {},
   "outputs": [],
   "source": [
    "# output = f'{dat_dir}rna/scrna_ss_ctxhippo_a_exon_DPNMF_matrix.h5ad'\n",
    "# adata.write(output)\n",
    "# !chmod 444 $output"
   ]
  },
  {
   "cell_type": "code",
   "execution_count": null,
   "id": "9214c6fa-d2e1-4dea-afc9-548b448af784",
   "metadata": {},
   "outputs": [],
   "source": []
  }
 ],
 "metadata": {
  "kernelspec": {
   "display_name": "Python 3 (ipykernel)",
   "language": "python",
   "name": "python3"
  },
  "language_info": {
   "codemirror_mode": {
    "name": "ipython",
    "version": 3
   },
   "file_extension": ".py",
   "mimetype": "text/x-python",
   "name": "python",
   "nbconvert_exporter": "python",
   "pygments_lexer": "ipython3",
   "version": "3.9.12"
  }
 },
 "nbformat": 4,
 "nbformat_minor": 5
}
