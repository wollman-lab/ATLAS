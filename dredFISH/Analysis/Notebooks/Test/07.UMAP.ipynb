{
 "cells": [
  {
   "cell_type": "code",
   "execution_count": 2,
   "id": "1d35953c-121a-4bb4-82bb-a2f6fd1d4156",
   "metadata": {},
   "outputs": [],
   "source": [
    "import scanpy as sc\n",
    "import anndata\n",
    "import logging\n",
    "import os\n",
    "import numpy as np\n",
    "import pandas as pd\n",
    "import json\n",
    "# import scanpy.external as sce\n",
    "logging.basicConfig(level=logging.INFO)\n",
    "\n",
    "from sklearn.neighbors import KNeighborsClassifier\n",
    "from sklearn.neural_network import MLPClassifier\n",
    "from sklearn.model_selection import train_test_split\n",
    "from sklearn.metrics import classification_report\n",
    "\n",
    "import matplotlib.pyplot as plt\n",
    "import seaborn as sns\n",
    "import umap\n",
    "\n",
    "# from PySpots.fish_helpers import *\n",
    "from dredFISH.Analysis import basicu\n",
    "from dredFISH.Analysis import regu\n",
    "from dredFISH.Analysis import celltypeu\n",
    "from dredFISH.Analysis import TissueGraph as tgh\n",
    "\n",
    "import importlib\n",
    "importlib.reload(tgh)\n",
    "importlib.reload(celltypeu)\n",
    "importlib.reload(basicu)\n",
    "sc.set_figure_params(figsize=(7, 7))"
   ]
  },
  {
   "cell_type": "code",
   "execution_count": 3,
   "id": "bb1c1b61-7d41-4dfd-b0d8-1a8fb20b7b10",
   "metadata": {},
   "outputs": [
    {
     "name": "stderr",
     "output_type": "stream",
     "text": [
      "INFO:root:hi\n"
     ]
    }
   ],
   "source": [
    "logging.info('hi')"
   ]
  },
  {
   "cell_type": "markdown",
   "id": "48af8f0a-6582-418d-a85a-45875be5c27c",
   "metadata": {},
   "source": [
    "# file paths and load data"
   ]
  },
  {
   "cell_type": "code",
   "execution_count": 4,
   "id": "d2ce3b27-70bf-474e-8114-70403223c3df",
   "metadata": {},
   "outputs": [
    {
     "name": "stdout",
     "output_type": "stream",
     "text": [
      "/bigstore/GeneralStorage/fangming/projects/dredfish/data_dump/noHarmony_March30_v4_isocortex_hpf.csv\n",
      "/bigstore/GeneralStorage/fangming/projects/dredfish/data_dump/Joint_UMAP_isocortex_hpf_April1.csv\n",
      "/bigstore/GeneralStorage/fangming/projects/dredfish/data_dump/Joint_UMAP_isocortex_hpf_subsamp100_level1_April1.csv\n",
      "/bigstore/GeneralStorage/fangming/projects/dredfish/data_dump/Joint_UMAP_isocortex_hpf_subsamp100_level1_April1_v2.csv\n"
     ]
    }
   ],
   "source": [
    "prj_dir = '/bigstore/GeneralStorage/fangming/projects/dredfish/'\n",
    "dat_dir = prj_dir + 'data/'\n",
    "res_dir = prj_dir + 'data_dump/'\n",
    "fig_dir = prj_dir + 'figures/'\n",
    "\n",
    "input_csv = f'{res_dir}noHarmony_March30_v4_isocortex_hpf.csv'\n",
    "print(input_csv)\n",
    "\n",
    "output_csv = f'{res_dir}Joint_UMAP_isocortex_hpf_April1.csv'\n",
    "output2_csv = f'{res_dir}Joint_UMAP_isocortex_hpf_subsamp100_level1_April1.csv'\n",
    "output3_csv = f'{res_dir}Joint_UMAP_isocortex_hpf_subsamp100_level1_April1_v2.csv'\n",
    "print(output_csv)\n",
    "print(output2_csv)\n",
    "print(output3_csv)\n",
    "\n",
    "# dredFISH data\n",
    "dataset = 'DPNMF_PolyA_2021Nov19' # dataset tag\n",
    "base_path = '/bigstore/Images2021/gaby/dredFISH/DPNMF_PolyA_2021Nov19/'\n",
    "fish_path = f'{base_path}fishdata_2022Mar23/' # Zach's new version\n",
    "# anndata_path = f'{base_path}results/raw_fishdata_Mar30.h5ad'\n",
    "anndata_path = '/bigstore/GeneralStorage/fangming/projects/dredfish/data_dump/DPNMF_PolyA_2021Nov19_v2_results_anndata.h5ad'\n",
    "# anndata_path = ''\n",
    "\n",
    "# allen data\n",
    "scrna_path = '/bigstore/GeneralStorage/fangming/projects/dredfish/data/rna/scrna_ss_ctxhippo_a_exon_DPNMF_matrix.h5ad'\n",
    "\n",
    "# allen tree\n",
    "allen_tree_path='/bigstore/GeneralStorage/fangming/reference/allen_ccf/structures.json'\n",
    "\n",
    "# analysis metadata\n",
    "meta_path = '/bigstore/GeneralStorage/fangming/projects/dredfish/data_dump/analysis_meta_Mar31.json'\n"
   ]
  },
  {
   "cell_type": "code",
   "execution_count": 5,
   "id": "e3ddd1fb-7e73-462d-9501-1ef999f910f1",
   "metadata": {},
   "outputs": [
    {
     "name": "stdout",
     "output_type": "stream",
     "text": [
      "from AnnData\n"
     ]
    },
    {
     "name": "stderr",
     "output_type": "stream",
     "text": [
      "INFO:root:113758 cells, minimum counts = 1248.0\n"
     ]
    },
    {
     "name": "stdout",
     "output_type": "stream",
     "text": [
      "CPU times: user 935 ms, sys: 220 ms, total: 1.16 s\n",
      "Wall time: 1.16 s\n"
     ]
    }
   ],
   "source": [
    "%%time\n",
    "# results\n",
    "dftypes = pd.read_csv(input_csv, index_col=0)\n",
    "dftypes = dftypes.filter(regex=r'^Level_[0-9]', axis=1)\n",
    "levels = dftypes.columns.values\n",
    "\n",
    "# load dredFISH\n",
    "TMG = tgh.TissueMultiGraph(name=dataset)\n",
    "# load raw counts data\n",
    "if os.path.isfile(anndata_path):\n",
    "    print('from AnnData')\n",
    "    TMG.load_from_anndata(anndata_path)\n",
    "else:\n",
    "    print('from FishData')\n",
    "    TMG.load_from_fishdata(fish_path, dataset, output_path=anndata_path)\n",
    "# normalize (optional for spatial registration)\n",
    "TMG.normalize_data(norm_cell=True, norm_bit=False)\n",
    "\n",
    "### for now\n",
    "data = TMG.data\n",
    "data.obs = data.obs.join(dftypes)\n",
    "\n",
    "# print(data)\n",
    "    \n",
    "# allen scrna matrix\n",
    "ref_data = anndata.read_h5ad(scrna_path)\n",
    "# print(ref_data)\n",
    "\n",
    "# allen tree\n",
    "allen_tree, allen_maps = regu.load_allen_tree(allen_tree_path)\n",
    "\n",
    "# analysis\n",
    "with open(meta_path, 'r') as fh:\n",
    "    meta = json.load(fh)\n"
   ]
  },
  {
   "cell_type": "code",
   "execution_count": 6,
   "id": "a2f206a3-3962-440d-a9c7-64424bc6c06f",
   "metadata": {},
   "outputs": [
    {
     "data": {
      "text/plain": [
       "AnnData object with n_obs × n_vars = 73347 × 24\n",
       "    obs: 'donor_sex_id', 'donor_sex_label', 'donor_sex_color', 'region_id', 'region_label', 'region_color', 'platform_label', 'cluster_order', 'Level_5_cluster_label', 'cluster_color', 'subclass_order', 'Level_3_subclass_label', 'subclass_color', 'neighborhood_id', 'Level_2_neighborhood_label', 'neighborhood_color', 'class_order', 'Level_1_class_label', 'class_color', 'exp_component_name', 'external_donor_name_label', 'full_genotype_label', 'facs_population_plan_label', 'injection_roi_label', 'injection_materials_label', 'injection_method_label', 'injection_type_label', 'full_genotype_id', 'full_genotype_color', 'external_donor_name_id', 'external_donor_name_color', 'facs_population_plan_id', 'facs_population_plan_color', 'injection_materials_id', 'injection_materials_color', 'injection_method_id', 'injection_method_color', 'injection_roi_id', 'injection_roi_color', 'injection_type_id', 'injection_type_color', 'cell_type_accession_label', 'cell_type_alias_label', 'cell_type_alt_alias_label', 'cell_type_designation_label', 'cell_type_designation_id', 'cell_type_alt_alias_id', 'cell_type_alias_id', 'cell_type_accession_id', 'cell_type_designation_color', 'cell_type_alt_alias_color', 'cell_type_alias_color', 'cell_type_accession_color', 'cortical_layer_label', 'cortical_layer_order', 'cortical_layer_color', 'Lim1', 'Lim2'"
      ]
     },
     "execution_count": 6,
     "metadata": {},
     "output_type": "execute_result"
    }
   ],
   "source": [
    "ref_data.obs = ref_data.obs.rename({\n",
    "                                    'class_label': 'Level_1_class_label',\n",
    "                                    'neighborhood_label': 'Level_2_neighborhood_label',\n",
    "                                    'subclass_label': 'Level_3_subclass_label',\n",
    "                                    'cluster_label': 'Level_5_cluster_label',\n",
    "                                    }, axis=1)\n",
    "ref_data"
   ]
  },
  {
   "cell_type": "code",
   "execution_count": 7,
   "id": "3be1a8f9-d0d5-48c1-a3ba-1175fbbe6ffc",
   "metadata": {},
   "outputs": [
    {
     "data": {
      "text/plain": [
       "View of AnnData object with n_obs × n_vars = 44075 × 24\n",
       "    obs: 'label', 'pixel_x', 'pixel_y', 'nuclei_size', 'nuclei_signal', 'cytoplasm_size', 'cytoplasm_signal', 'total_size', 'total_signal', 'posname', 'posname_stage_x', 'posname_stage_y', 'cell_name', 'stage_x', 'stage_y', 'coord_x', 'coord_y', 'region_id', 'region_color', 'region_acronym', 'Level_1_class_label', 'Level_2_neighborhood_label', 'Level_3_subclass_label'\n",
       "    obsm: 'stage'\n",
       "    layers: 'cytoplasm_vectors', 'nuclei_vectors', 'total_vectors', 'norm_cell'"
      ]
     },
     "execution_count": 7,
     "metadata": {},
     "output_type": "execute_result"
    }
   ],
   "source": [
    "# select specific regions\n",
    "selected_regions = ['Isocortex', 'HPF']\n",
    "selected_all_sids = regu.expand_regions(allen_tree, selected_regions, 'acronym')\n",
    "\n",
    "# selected cells\n",
    "cond_cells = data.obs['region_id'].isin(selected_all_sids)\n",
    "data = data[cond_cells]\n",
    "data"
   ]
  },
  {
   "cell_type": "code",
   "execution_count": 7,
   "id": "7ef941e7-0b1f-40f5-9219-44353548f00b",
   "metadata": {},
   "outputs": [
    {
     "data": {
      "text/plain": [
       "((73347, 24), (44075, 24))"
      ]
     },
     "execution_count": 7,
     "metadata": {},
     "output_type": "execute_result"
    }
   ],
   "source": [
    "Xcell = basicu.zscore(ref_data.X, axis=0)\n",
    "Ycell = basicu.zscore(data.layers['norm_cell'], axis=0)\n",
    "Xcell.shape, Ycell.shape"
   ]
  },
  {
   "cell_type": "code",
   "execution_count": 8,
   "id": "fb1aca63-34cf-48c4-a3a3-4939b22a1a5b",
   "metadata": {},
   "outputs": [],
   "source": [
    "def get_umap(Xcell, Ycell, \n",
    "             Xidx, Yidx, \n",
    "             Xname, Yname,\n",
    "             **kwargs):\n",
    "    \"\"\"\n",
    "    \"\"\"\n",
    "    # run UMAP\n",
    "    embed = umap.UMAP(**kwargs).fit_transform(\n",
    "        np.vstack([Xcell, Ycell])\n",
    "        )\n",
    "\n",
    "    dfembed = pd.DataFrame(index=np.hstack([Xidx, Yidx])) \n",
    "    dfembed['dataset'] = [Xname]*len(Xidx) + [Yname]*len(Yidx) \n",
    "    dfembed['embed_1'] = embed[:,0]\n",
    "    dfembed['embed_2'] = embed[:,1]\n",
    "    \n",
    "    return dfembed "
   ]
  },
  {
   "cell_type": "code",
   "execution_count": 9,
   "id": "37fbe06b-bf1d-4c36-8c6c-0671136937dc",
   "metadata": {},
   "outputs": [
    {
     "name": "stdout",
     "output_type": "stream",
     "text": [
      "CPU times: user 1h 52min 27s, sys: 2min 18s, total: 1h 54min 45s\n",
      "Wall time: 2min 36s\n"
     ]
    },
    {
     "data": {
      "text/html": [
       "<div>\n",
       "<style scoped>\n",
       "    .dataframe tbody tr th:only-of-type {\n",
       "        vertical-align: middle;\n",
       "    }\n",
       "\n",
       "    .dataframe tbody tr th {\n",
       "        vertical-align: top;\n",
       "    }\n",
       "\n",
       "    .dataframe thead th {\n",
       "        text-align: right;\n",
       "    }\n",
       "</style>\n",
       "<table border=\"1\" class=\"dataframe\">\n",
       "  <thead>\n",
       "    <tr style=\"text-align: right;\">\n",
       "      <th></th>\n",
       "      <th>dataset</th>\n",
       "      <th>embed_1</th>\n",
       "      <th>embed_2</th>\n",
       "    </tr>\n",
       "  </thead>\n",
       "  <tbody>\n",
       "    <tr>\n",
       "      <th>US-1250273_E1_S37</th>\n",
       "      <td>scRNA-seq</td>\n",
       "      <td>1.315079</td>\n",
       "      <td>4.889380</td>\n",
       "    </tr>\n",
       "    <tr>\n",
       "      <th>US-1250273_E2_S01</th>\n",
       "      <td>scRNA-seq</td>\n",
       "      <td>1.374432</td>\n",
       "      <td>4.852757</td>\n",
       "    </tr>\n",
       "    <tr>\n",
       "      <th>US-1250273_E2_S02</th>\n",
       "      <td>scRNA-seq</td>\n",
       "      <td>1.534628</td>\n",
       "      <td>4.848260</td>\n",
       "    </tr>\n",
       "    <tr>\n",
       "      <th>US-1250273_E2_S03</th>\n",
       "      <td>scRNA-seq</td>\n",
       "      <td>5.835956</td>\n",
       "      <td>9.494171</td>\n",
       "    </tr>\n",
       "    <tr>\n",
       "      <th>US-1250273_E2_S04</th>\n",
       "      <td>scRNA-seq</td>\n",
       "      <td>1.454839</td>\n",
       "      <td>5.361958</td>\n",
       "    </tr>\n",
       "    <tr>\n",
       "      <th>...</th>\n",
       "      <td>...</td>\n",
       "      <td>...</td>\n",
       "      <td>...</td>\n",
       "    </tr>\n",
       "    <tr>\n",
       "      <th>DPNMF_PolyA_2021Nov19_Pos102_cell_1351.0</th>\n",
       "      <td>dredFISH</td>\n",
       "      <td>9.511919</td>\n",
       "      <td>0.657250</td>\n",
       "    </tr>\n",
       "    <tr>\n",
       "      <th>DPNMF_PolyA_2021Nov19_Pos102_cell_1352.0</th>\n",
       "      <td>dredFISH</td>\n",
       "      <td>9.212646</td>\n",
       "      <td>-0.400176</td>\n",
       "    </tr>\n",
       "    <tr>\n",
       "      <th>DPNMF_PolyA_2021Nov19_Pos102_cell_1353.0</th>\n",
       "      <td>dredFISH</td>\n",
       "      <td>9.287668</td>\n",
       "      <td>-0.417588</td>\n",
       "    </tr>\n",
       "    <tr>\n",
       "      <th>DPNMF_PolyA_2021Nov19_Pos102_cell_1356.0</th>\n",
       "      <td>dredFISH</td>\n",
       "      <td>8.927868</td>\n",
       "      <td>-0.650035</td>\n",
       "    </tr>\n",
       "    <tr>\n",
       "      <th>DPNMF_PolyA_2021Nov19_Pos102_cell_1358.0</th>\n",
       "      <td>dredFISH</td>\n",
       "      <td>14.207547</td>\n",
       "      <td>5.145537</td>\n",
       "    </tr>\n",
       "  </tbody>\n",
       "</table>\n",
       "<p>117422 rows × 3 columns</p>\n",
       "</div>"
      ],
      "text/plain": [
       "                                            dataset    embed_1   embed_2\n",
       "US-1250273_E1_S37                         scRNA-seq   1.315079  4.889380\n",
       "US-1250273_E2_S01                         scRNA-seq   1.374432  4.852757\n",
       "US-1250273_E2_S02                         scRNA-seq   1.534628  4.848260\n",
       "US-1250273_E2_S03                         scRNA-seq   5.835956  9.494171\n",
       "US-1250273_E2_S04                         scRNA-seq   1.454839  5.361958\n",
       "...                                             ...        ...       ...\n",
       "DPNMF_PolyA_2021Nov19_Pos102_cell_1351.0   dredFISH   9.511919  0.657250\n",
       "DPNMF_PolyA_2021Nov19_Pos102_cell_1352.0   dredFISH   9.212646 -0.400176\n",
       "DPNMF_PolyA_2021Nov19_Pos102_cell_1353.0   dredFISH   9.287668 -0.417588\n",
       "DPNMF_PolyA_2021Nov19_Pos102_cell_1356.0   dredFISH   8.927868 -0.650035\n",
       "DPNMF_PolyA_2021Nov19_Pos102_cell_1358.0   dredFISH  14.207547  5.145537\n",
       "\n",
       "[117422 rows x 3 columns]"
      ]
     },
     "execution_count": 9,
     "metadata": {},
     "output_type": "execute_result"
    }
   ],
   "source": [
    "%%time\n",
    "dfembed = get_umap(Xcell, Ycell, \n",
    "                 ref_data.obs.index.values, data.obs.index.values,\n",
    "                 'scRNA-seq', 'dredFISH',\n",
    "                )\n",
    "dfembed"
   ]
  },
  {
   "cell_type": "code",
   "execution_count": 12,
   "id": "a7822f4b-1ff6-40ba-b733-58f2e111fa48",
   "metadata": {},
   "outputs": [
    {
     "name": "stdout",
     "output_type": "stream",
     "text": [
      "/bigstore/GeneralStorage/fangming/projects/dredfish/data_dump/Joint_UMAP_isocortex_hpf_April1.csv\n"
     ]
    }
   ],
   "source": [
    "print(output_csv)\n",
    "dfembed.to_csv(output_csv, index=True, header=True)"
   ]
  },
  {
   "cell_type": "markdown",
   "id": "ddb795c5-414c-437b-89cf-2d718e6b6cdd",
   "metadata": {},
   "source": [
    "# subsample by class "
   ]
  },
  {
   "cell_type": "code",
   "execution_count": 28,
   "id": "a0b63a68-ff73-4abc-9e2b-c9232b93954b",
   "metadata": {},
   "outputs": [
    {
     "data": {
      "text/plain": [
       "((300, 24), (44075, 24))"
      ]
     },
     "execution_count": 28,
     "metadata": {},
     "output_type": "execute_result"
    }
   ],
   "source": [
    "X = ref_data.X\n",
    "Y = data.layers['norm_cell']\n",
    "level = 'Level_1_class_label'\n",
    "n = 100\n",
    "\n",
    "dfsub, idx = basicu.stratified_sample(ref_data.obs, level, n, return_idx=True)\n",
    "Xcell = basicu.zscore(X[xidx], axis=0)\n",
    "Ycell = basicu.zscore(Y, axis=0)\n",
    "\n",
    "Xcell.shape, Ycell.shape"
   ]
  },
  {
   "cell_type": "code",
   "execution_count": 29,
   "id": "203e1183-b0e8-4dc6-9967-60214657ebf6",
   "metadata": {},
   "outputs": [
    {
     "name": "stdout",
     "output_type": "stream",
     "text": [
      "CPU times: user 39min 16s, sys: 29.1 s, total: 39min 45s\n",
      "Wall time: 48.6 s\n"
     ]
    },
    {
     "data": {
      "text/html": [
       "<div>\n",
       "<style scoped>\n",
       "    .dataframe tbody tr th:only-of-type {\n",
       "        vertical-align: middle;\n",
       "    }\n",
       "\n",
       "    .dataframe tbody tr th {\n",
       "        vertical-align: top;\n",
       "    }\n",
       "\n",
       "    .dataframe thead th {\n",
       "        text-align: right;\n",
       "    }\n",
       "</style>\n",
       "<table border=\"1\" class=\"dataframe\">\n",
       "  <thead>\n",
       "    <tr style=\"text-align: right;\">\n",
       "      <th></th>\n",
       "      <th>dataset</th>\n",
       "      <th>embed_1</th>\n",
       "      <th>embed_2</th>\n",
       "    </tr>\n",
       "  </thead>\n",
       "  <tbody>\n",
       "    <tr>\n",
       "      <th>SM-GE663_S241_E1-50</th>\n",
       "      <td>scRNA-seq</td>\n",
       "      <td>2.522570</td>\n",
       "      <td>7.833708</td>\n",
       "    </tr>\n",
       "    <tr>\n",
       "      <th>SM-GE91H_S016_E1-50</th>\n",
       "      <td>scRNA-seq</td>\n",
       "      <td>2.614495</td>\n",
       "      <td>7.797184</td>\n",
       "    </tr>\n",
       "    <tr>\n",
       "      <th>SM-GE67J_S285_E1-50</th>\n",
       "      <td>scRNA-seq</td>\n",
       "      <td>2.280379</td>\n",
       "      <td>7.798534</td>\n",
       "    </tr>\n",
       "    <tr>\n",
       "      <th>SM-GE5PB_S272_E1-50</th>\n",
       "      <td>scRNA-seq</td>\n",
       "      <td>2.536875</td>\n",
       "      <td>7.974102</td>\n",
       "    </tr>\n",
       "    <tr>\n",
       "      <th>SM-DAIGW_S16_E1-50</th>\n",
       "      <td>scRNA-seq</td>\n",
       "      <td>2.535717</td>\n",
       "      <td>7.825541</td>\n",
       "    </tr>\n",
       "    <tr>\n",
       "      <th>...</th>\n",
       "      <td>...</td>\n",
       "      <td>...</td>\n",
       "      <td>...</td>\n",
       "    </tr>\n",
       "    <tr>\n",
       "      <th>DPNMF_PolyA_2021Nov19_Pos102_cell_1351.0</th>\n",
       "      <td>dredFISH</td>\n",
       "      <td>2.016676</td>\n",
       "      <td>0.087339</td>\n",
       "    </tr>\n",
       "    <tr>\n",
       "      <th>DPNMF_PolyA_2021Nov19_Pos102_cell_1352.0</th>\n",
       "      <td>dredFISH</td>\n",
       "      <td>-3.254255</td>\n",
       "      <td>-0.603610</td>\n",
       "    </tr>\n",
       "    <tr>\n",
       "      <th>DPNMF_PolyA_2021Nov19_Pos102_cell_1353.0</th>\n",
       "      <td>dredFISH</td>\n",
       "      <td>-3.075155</td>\n",
       "      <td>-0.443368</td>\n",
       "    </tr>\n",
       "    <tr>\n",
       "      <th>DPNMF_PolyA_2021Nov19_Pos102_cell_1356.0</th>\n",
       "      <td>dredFISH</td>\n",
       "      <td>-3.887691</td>\n",
       "      <td>-0.799995</td>\n",
       "    </tr>\n",
       "    <tr>\n",
       "      <th>DPNMF_PolyA_2021Nov19_Pos102_cell_1358.0</th>\n",
       "      <td>dredFISH</td>\n",
       "      <td>-3.778336</td>\n",
       "      <td>8.380788</td>\n",
       "    </tr>\n",
       "  </tbody>\n",
       "</table>\n",
       "<p>44375 rows × 3 columns</p>\n",
       "</div>"
      ],
      "text/plain": [
       "                                            dataset   embed_1   embed_2\n",
       "SM-GE663_S241_E1-50                       scRNA-seq  2.522570  7.833708\n",
       "SM-GE91H_S016_E1-50                       scRNA-seq  2.614495  7.797184\n",
       "SM-GE67J_S285_E1-50                       scRNA-seq  2.280379  7.798534\n",
       "SM-GE5PB_S272_E1-50                       scRNA-seq  2.536875  7.974102\n",
       "SM-DAIGW_S16_E1-50                        scRNA-seq  2.535717  7.825541\n",
       "...                                             ...       ...       ...\n",
       "DPNMF_PolyA_2021Nov19_Pos102_cell_1351.0   dredFISH  2.016676  0.087339\n",
       "DPNMF_PolyA_2021Nov19_Pos102_cell_1352.0   dredFISH -3.254255 -0.603610\n",
       "DPNMF_PolyA_2021Nov19_Pos102_cell_1353.0   dredFISH -3.075155 -0.443368\n",
       "DPNMF_PolyA_2021Nov19_Pos102_cell_1356.0   dredFISH -3.887691 -0.799995\n",
       "DPNMF_PolyA_2021Nov19_Pos102_cell_1358.0   dredFISH -3.778336  8.380788\n",
       "\n",
       "[44375 rows x 3 columns]"
      ]
     },
     "execution_count": 29,
     "metadata": {},
     "output_type": "execute_result"
    }
   ],
   "source": [
    "%%time\n",
    "dfembed = get_umap(Xcell, Ycell, \n",
    "                 dfsub.index.values, data.obs.index.values,\n",
    "                 'scRNA-seq', 'dredFISH',\n",
    "                )\n",
    "dfembed"
   ]
  },
  {
   "cell_type": "code",
   "execution_count": 30,
   "id": "16a3cd69-61cc-41b2-92a2-ed14eaff09dc",
   "metadata": {},
   "outputs": [
    {
     "name": "stdout",
     "output_type": "stream",
     "text": [
      "/bigstore/GeneralStorage/fangming/projects/dredfish/data_dump/Joint_UMAP_isocortex_hpf_subsamp100_level1_April1.csv\n"
     ]
    }
   ],
   "source": [
    "print(output2_csv)\n",
    "dfembed.to_csv(output2_csv, index=True, header=True)"
   ]
  },
  {
   "cell_type": "code",
   "execution_count": null,
   "id": "a9d64dc3-6d8c-40ad-b611-1052b25d87de",
   "metadata": {},
   "outputs": [],
   "source": []
  },
  {
   "cell_type": "markdown",
   "id": "684d90b0-1180-477c-bb66-60aa80503d89",
   "metadata": {},
   "source": [
    "# subsample by class (norm then sample)"
   ]
  },
  {
   "cell_type": "code",
   "execution_count": 10,
   "id": "36a3f884-fef7-4ea3-9ade-27f0a46c8863",
   "metadata": {},
   "outputs": [
    {
     "data": {
      "text/plain": [
       "((300, 24), (44075, 24))"
      ]
     },
     "execution_count": 10,
     "metadata": {},
     "output_type": "execute_result"
    }
   ],
   "source": [
    "X = ref_data.X\n",
    "Y = data.layers['norm_cell']\n",
    "\n",
    "Xcell = basicu.zscore(X, axis=0)\n",
    "Ycell = basicu.zscore(Y, axis=0)\n",
    "\n",
    "level = 'Level_1_class_label'\n",
    "n = 100\n",
    "dfsub, idx = basicu.stratified_sample(ref_data.obs, level, n, return_idx=True)\n",
    "Xcell = Xcell[idx]\n",
    "\n",
    "Xcell.shape, Ycell.shape"
   ]
  },
  {
   "cell_type": "code",
   "execution_count": 11,
   "id": "f2db40af-c0ef-4617-a06c-7166f2b26e43",
   "metadata": {},
   "outputs": [
    {
     "name": "stdout",
     "output_type": "stream",
     "text": [
      "CPU times: user 37min 3s, sys: 30.1 s, total: 37min 33s\n",
      "Wall time: 58.5 s\n"
     ]
    },
    {
     "data": {
      "text/html": [
       "<div>\n",
       "<style scoped>\n",
       "    .dataframe tbody tr th:only-of-type {\n",
       "        vertical-align: middle;\n",
       "    }\n",
       "\n",
       "    .dataframe tbody tr th {\n",
       "        vertical-align: top;\n",
       "    }\n",
       "\n",
       "    .dataframe thead th {\n",
       "        text-align: right;\n",
       "    }\n",
       "</style>\n",
       "<table border=\"1\" class=\"dataframe\">\n",
       "  <thead>\n",
       "    <tr style=\"text-align: right;\">\n",
       "      <th></th>\n",
       "      <th>dataset</th>\n",
       "      <th>embed_1</th>\n",
       "      <th>embed_2</th>\n",
       "    </tr>\n",
       "  </thead>\n",
       "  <tbody>\n",
       "    <tr>\n",
       "      <th>SM-GE663_S241_E1-50</th>\n",
       "      <td>scRNA-seq</td>\n",
       "      <td>1.137306</td>\n",
       "      <td>-5.263942</td>\n",
       "    </tr>\n",
       "    <tr>\n",
       "      <th>SM-GE91H_S016_E1-50</th>\n",
       "      <td>scRNA-seq</td>\n",
       "      <td>1.202946</td>\n",
       "      <td>-5.138109</td>\n",
       "    </tr>\n",
       "    <tr>\n",
       "      <th>SM-GE67J_S285_E1-50</th>\n",
       "      <td>scRNA-seq</td>\n",
       "      <td>1.055380</td>\n",
       "      <td>-4.952929</td>\n",
       "    </tr>\n",
       "    <tr>\n",
       "      <th>SM-GE5PB_S272_E1-50</th>\n",
       "      <td>scRNA-seq</td>\n",
       "      <td>-2.274770</td>\n",
       "      <td>-2.757583</td>\n",
       "    </tr>\n",
       "    <tr>\n",
       "      <th>SM-DAIGW_S16_E1-50</th>\n",
       "      <td>scRNA-seq</td>\n",
       "      <td>1.063809</td>\n",
       "      <td>-5.287576</td>\n",
       "    </tr>\n",
       "    <tr>\n",
       "      <th>...</th>\n",
       "      <td>...</td>\n",
       "      <td>...</td>\n",
       "      <td>...</td>\n",
       "    </tr>\n",
       "    <tr>\n",
       "      <th>DPNMF_PolyA_2021Nov19_Pos102_cell_1351.0</th>\n",
       "      <td>dredFISH</td>\n",
       "      <td>5.414304</td>\n",
       "      <td>3.463259</td>\n",
       "    </tr>\n",
       "    <tr>\n",
       "      <th>DPNMF_PolyA_2021Nov19_Pos102_cell_1352.0</th>\n",
       "      <td>dredFISH</td>\n",
       "      <td>0.629213</td>\n",
       "      <td>6.459427</td>\n",
       "    </tr>\n",
       "    <tr>\n",
       "      <th>DPNMF_PolyA_2021Nov19_Pos102_cell_1353.0</th>\n",
       "      <td>dredFISH</td>\n",
       "      <td>0.806486</td>\n",
       "      <td>6.220439</td>\n",
       "    </tr>\n",
       "    <tr>\n",
       "      <th>DPNMF_PolyA_2021Nov19_Pos102_cell_1356.0</th>\n",
       "      <td>dredFISH</td>\n",
       "      <td>0.220999</td>\n",
       "      <td>6.685428</td>\n",
       "    </tr>\n",
       "    <tr>\n",
       "      <th>DPNMF_PolyA_2021Nov19_Pos102_cell_1358.0</th>\n",
       "      <td>dredFISH</td>\n",
       "      <td>0.902937</td>\n",
       "      <td>-5.780327</td>\n",
       "    </tr>\n",
       "  </tbody>\n",
       "</table>\n",
       "<p>44375 rows × 3 columns</p>\n",
       "</div>"
      ],
      "text/plain": [
       "                                            dataset   embed_1   embed_2\n",
       "SM-GE663_S241_E1-50                       scRNA-seq  1.137306 -5.263942\n",
       "SM-GE91H_S016_E1-50                       scRNA-seq  1.202946 -5.138109\n",
       "SM-GE67J_S285_E1-50                       scRNA-seq  1.055380 -4.952929\n",
       "SM-GE5PB_S272_E1-50                       scRNA-seq -2.274770 -2.757583\n",
       "SM-DAIGW_S16_E1-50                        scRNA-seq  1.063809 -5.287576\n",
       "...                                             ...       ...       ...\n",
       "DPNMF_PolyA_2021Nov19_Pos102_cell_1351.0   dredFISH  5.414304  3.463259\n",
       "DPNMF_PolyA_2021Nov19_Pos102_cell_1352.0   dredFISH  0.629213  6.459427\n",
       "DPNMF_PolyA_2021Nov19_Pos102_cell_1353.0   dredFISH  0.806486  6.220439\n",
       "DPNMF_PolyA_2021Nov19_Pos102_cell_1356.0   dredFISH  0.220999  6.685428\n",
       "DPNMF_PolyA_2021Nov19_Pos102_cell_1358.0   dredFISH  0.902937 -5.780327\n",
       "\n",
       "[44375 rows x 3 columns]"
      ]
     },
     "execution_count": 11,
     "metadata": {},
     "output_type": "execute_result"
    }
   ],
   "source": [
    "%%time\n",
    "dfembed = get_umap(Xcell, Ycell, \n",
    "                 dfsub.index.values, data.obs.index.values,\n",
    "                 'scRNA-seq', 'dredFISH',\n",
    "                )\n",
    "dfembed"
   ]
  },
  {
   "cell_type": "code",
   "execution_count": 12,
   "id": "44c34a68-fef2-40d2-9c64-cb4c59f72f39",
   "metadata": {},
   "outputs": [
    {
     "name": "stdout",
     "output_type": "stream",
     "text": [
      "/bigstore/GeneralStorage/fangming/projects/dredfish/data_dump/Joint_UMAP_isocortex_hpf_subsamp100_level1_April1_v2.csv\n"
     ]
    }
   ],
   "source": [
    "print(output3_csv)\n",
    "dfembed.to_csv(output3_csv, index=True, header=True)"
   ]
  },
  {
   "cell_type": "code",
   "execution_count": null,
   "id": "b6d9fd83-a0f4-49d0-a155-a436e21de994",
   "metadata": {},
   "outputs": [],
   "source": []
  }
 ],
 "metadata": {
  "kernelspec": {
   "display_name": "Python 3 (ipykernel)",
   "language": "python",
   "name": "python3"
  },
  "language_info": {
   "codemirror_mode": {
    "name": "ipython",
    "version": 3
   },
   "file_extension": ".py",
   "mimetype": "text/x-python",
   "name": "python",
   "nbconvert_exporter": "python",
   "pygments_lexer": "ipython3",
   "version": "3.10.2"
  }
 },
 "nbformat": 4,
 "nbformat_minor": 5
}
