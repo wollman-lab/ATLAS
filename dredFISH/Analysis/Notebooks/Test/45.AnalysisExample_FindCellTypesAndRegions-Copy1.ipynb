{
 "cells": [
  {
   "cell_type": "markdown",
   "id": "010b6eac-92c9-4ba4-a12f-a27bd4658781",
   "metadata": {},
   "source": [
    "#### Imports"
   ]
  },
  {
   "cell_type": "code",
   "execution_count": 10,
   "id": "099bfeb6-de1f-4f3a-8731-1364ba4c1ff9",
   "metadata": {},
   "outputs": [],
   "source": [
    "from dredFISH.Analysis.TissueGraph import *\n",
    "from dredFISH.Visualization.Viz import *\n",
    "import ipyparallel as ipp\n",
    "\n",
    "import matplotlib.pyplot as plt "
   ]
  },
  {
   "cell_type": "markdown",
   "id": "ccf642a9-a784-4363-a59a-b19bc0a6f682",
   "metadata": {},
   "source": [
    "#### Load data"
   ]
  },
  {
   "cell_type": "code",
   "execution_count": 2,
   "id": "37ac6f93-652b-4498-8ae9-5fd459a2ee86",
   "metadata": {},
   "outputs": [
    {
     "name": "stderr",
     "output_type": "stream",
     "text": [
      "Observation names are not unique. To make them unique, call `.obs_names_make_unique`.\n"
     ]
    },
    {
     "name": "stdout",
     "output_type": "stream",
     "text": [
      "CPU times: user 694 ms, sys: 91 ms, total: 785 ms\n",
      "Wall time: 1.48 s\n"
     ]
    }
   ],
   "source": [
    "# %%time\n",
    "base_path = '/bigstore/Images2021/gaby/dredFISH/DPNMF_PolyA_2021Nov19/'\n",
    "dataset = 'DPNMF_PolyA_2021Nov19'\n",
    "\n",
    "TMG = TissueMultiGraph()\n",
    "XY,PNMF = TMG.load_and_normalize_data(base_path,dataset,norm_bit = 'robustZ-iqr',norm_cell = 'l1')"
   ]
  },
  {
   "cell_type": "markdown",
   "id": "ee51e708-f2aa-42fb-967c-ec6d0dd099be",
   "metadata": {},
   "source": [
    "#### Build layers 1-2: cells and zones"
   ]
  },
  {
   "cell_type": "code",
   "execution_count": 3,
   "id": "fc300bbc-6173-430c-b5dd-f2f75f2bc736",
   "metadata": {},
   "outputs": [
    {
     "name": "stdout",
     "output_type": "stream",
     "text": [
      "Calling initial optimization\n",
      " \n",
      " Func-count     x          f(x)          Procedure\n",
      "    1        11.5208     -7.00489        initial\n",
      "    2        18.5792     -6.85378        golden\n",
      "    3        7.15843      -7.0293        golden\n",
      "    4        7.31977     -7.02693        parabolic\n",
      "    5        4.46235     -6.82289        golden\n",
      "    6        6.12862     -6.88717        golden\n",
      "    7        6.76508      -6.9921        golden\n",
      "    8        7.00819     -6.90388        golden\n",
      "    9        7.22006     -7.02182        golden\n",
      "   10        7.10104     -6.99435        golden\n",
      "   11        7.18197     -7.03216        golden\n",
      "   12        7.19652     -7.05184        golden\n",
      "   13        7.20551     -7.02162        golden\n",
      "   14        7.19096      -7.0014        golden\n",
      "   15        7.19995      -7.0491        golden\n",
      "\n",
      "Optimization terminated successfully;\n",
      "The returned value satisfies the termination criteria\n",
      "(using xtol =  0.01 )\n",
      "Number of types: 98 initial entropy: 7.051839075058888 number of evals: 15\n",
      "CPU times: user 15min 49s, sys: 27.1 s, total: 16min 16s\n",
      "Wall time: 11min 36s\n"
     ]
    },
    {
     "data": {
      "text/plain": [
       "7.196518464904298"
      ]
     },
     "execution_count": 3,
     "metadata": {},
     "output_type": "execute_result"
    }
   ],
   "source": [
    "# %%time\n",
    "TMG.create_cell_and_zone_layers(XY,PNMF)\n"
   ]
  },
  {
   "cell_type": "code",
   "execution_count": 4,
   "id": "6e158498-8e36-4888-bfb1-e119acdbd372",
   "metadata": {},
   "outputs": [
    {
     "name": "stdout",
     "output_type": "stream",
     "text": [
      "CPU times: user 1min 23s, sys: 521 ms, total: 1min 23s\n",
      "Wall time: 1min 23s\n"
     ]
    }
   ],
   "source": [
    "# %%time\n",
    "TMG.add_geoms()"
   ]
  },
  {
   "cell_type": "code",
   "execution_count": 5,
   "id": "625cf2bf-63f0-4964-8c42-0dc2d6a9923d",
   "metadata": {},
   "outputs": [
    {
     "name": "stdout",
     "output_type": "stream",
     "text": [
      "CPU times: user 5min, sys: 2.11 s, total: 5min 2s\n",
      "Wall time: 5min 2s\n"
     ]
    }
   ],
   "source": [
    "# %%time\n",
    "# save Cond entropy values for later plotting\n",
    "TMG.Layers[0].calc_entropy_at_different_Leiden_resolutions()"
   ]
  },
  {
   "cell_type": "markdown",
   "id": "a5673364-d6d2-42e9-a348-6f9c38a42a1f",
   "metadata": {
    "tags": []
   },
   "source": [
    "#### Build layers 3: regions"
   ]
  },
  {
   "cell_type": "code",
   "execution_count": 11,
   "id": "4d05a0f2-e24a-46b8-baa8-fa5f360e4168",
   "metadata": {
    "tags": []
   },
   "outputs": [
    {
     "name": "stdout",
     "output_type": "stream",
     "text": [
      "importing sklearn.decomposition on engine(s)\n"
     ]
    },
    {
     "ename": "TimeoutError",
     "evalue": "Result not ready.",
     "output_type": "error",
     "traceback": [
      "\u001b[0;31m---------------------------------------------------------------------------\u001b[0m",
      "\u001b[0;31mTimeoutError\u001b[0m                              Traceback (most recent call last)",
      "File \u001b[0;32m<timed exec>:1\u001b[0m, in \u001b[0;36m<module>\u001b[0;34m\u001b[0m\n",
      "File \u001b[0;32m/bigstore/GeneralStorage/fangming/projects/dredfish/packages/dredFISH/dredFISH/Analysis/TissueGraph.py:474\u001b[0m, in \u001b[0;36mTissueMultiGraph.find_topics\u001b[0;34m(self, ordr, max_num_of_topics, use_parallel)\u001b[0m\n\u001b[1;32m    472\u001b[0m IDs \u001b[38;5;241m=\u001b[39m np\u001b[38;5;241m.\u001b[39mzeros((\u001b[38;5;28mself\u001b[39m\u001b[38;5;241m.\u001b[39mN[\u001b[38;5;241m0\u001b[39m],\u001b[38;5;28mlen\u001b[39m(result)))\n\u001b[1;32m    473\u001b[0m \u001b[38;5;28;01mfor\u001b[39;00m i \u001b[38;5;129;01min\u001b[39;00m \u001b[38;5;28mrange\u001b[39m(\u001b[38;5;28mlen\u001b[39m(result)):\n\u001b[0;32m--> 474\u001b[0m     IDs[:,i] \u001b[38;5;241m=\u001b[39m np\u001b[38;5;241m.\u001b[39margmax(\u001b[43mresult\u001b[49m\u001b[43m[\u001b[49m\u001b[43mi\u001b[49m\u001b[43m]\u001b[49m,axis\u001b[38;5;241m=\u001b[39m\u001b[38;5;241m1\u001b[39m)\n\u001b[1;32m    475\u001b[0m ID_entropy\u001b[38;5;241m=\u001b[39mnp\u001b[38;5;241m.\u001b[39mzeros(IDs\u001b[38;5;241m.\u001b[39mshape[\u001b[38;5;241m1\u001b[39m])\n\u001b[1;32m    476\u001b[0m Type_entropy \u001b[38;5;241m=\u001b[39m np\u001b[38;5;241m.\u001b[39mzeros(IDs\u001b[38;5;241m.\u001b[39mshape[\u001b[38;5;241m1\u001b[39m])\n",
      "File \u001b[0;32m~/anaconda3/envs/routine/lib/python3.10/site-packages/ipyparallel/client/asyncresult.py:698\u001b[0m, in \u001b[0;36mAsyncResult.__getitem__\u001b[0;34m(self, key)\u001b[0m\n\u001b[1;32m    696\u001b[0m \u001b[38;5;124;03m\"\"\"getitem returns result value(s) if keyed by int/slice, or metadata if key is str.\"\"\"\u001b[39;00m\n\u001b[1;32m    697\u001b[0m \u001b[38;5;28;01mif\u001b[39;00m \u001b[38;5;28misinstance\u001b[39m(key, \u001b[38;5;28mint\u001b[39m):\n\u001b[0;32m--> 698\u001b[0m     \u001b[38;5;28;43mself\u001b[39;49m\u001b[38;5;241;43m.\u001b[39;49m\u001b[43m_check_ready\u001b[49m\u001b[43m(\u001b[49m\u001b[43m)\u001b[49m\n\u001b[1;32m    699\u001b[0m     \u001b[38;5;28;01mreturn\u001b[39;00m \u001b[38;5;28mself\u001b[39m\u001b[38;5;241m.\u001b[39m_collect_exceptions([\u001b[38;5;28mself\u001b[39m\u001b[38;5;241m.\u001b[39mresult()[key]])[\u001b[38;5;241m0\u001b[39m]\n\u001b[1;32m    700\u001b[0m \u001b[38;5;28;01melif\u001b[39;00m \u001b[38;5;28misinstance\u001b[39m(key, \u001b[38;5;28mslice\u001b[39m):\n",
      "File \u001b[0;32m~/anaconda3/envs/routine/lib/python3.10/site-packages/ipyparallel/client/asyncresult.py:381\u001b[0m, in \u001b[0;36mAsyncResult._check_ready\u001b[0;34m(self)\u001b[0m\n\u001b[1;32m    379\u001b[0m \u001b[38;5;28;01mdef\u001b[39;00m \u001b[38;5;21m_check_ready\u001b[39m(\u001b[38;5;28mself\u001b[39m):\n\u001b[1;32m    380\u001b[0m     \u001b[38;5;28;01mif\u001b[39;00m \u001b[38;5;129;01mnot\u001b[39;00m \u001b[38;5;28mself\u001b[39m\u001b[38;5;241m.\u001b[39mready():\n\u001b[0;32m--> 381\u001b[0m         \u001b[38;5;28;01mraise\u001b[39;00m \u001b[38;5;167;01mTimeoutError\u001b[39;00m(\u001b[38;5;124m\"\u001b[39m\u001b[38;5;124mResult not ready.\u001b[39m\u001b[38;5;124m\"\u001b[39m)\n",
      "\u001b[0;31mTimeoutError\u001b[0m: Result not ready."
     ]
    }
   ],
   "source": [
    "# %%time\n",
    "\n",
    "# this takes long....\n",
    "#  ipcluster start -n 4  # to start client\n",
    "topics = TMG.find_topics(use_parallel=True) # need to first start the engine\n",
    "# topics = TMG.find_topics(use_parallel=False) # this take long ~ 4.5 hours/CPU\n",
    "TMG.create_region_layer(topics)\n"
   ]
  },
  {
   "cell_type": "markdown",
   "id": "9aab4088-dc58-4789-8ecd-e64a73585ee9",
   "metadata": {},
   "source": [
    "### Save"
   ]
  },
  {
   "cell_type": "code",
   "execution_count": null,
   "id": "703cd489-5220-40d9-80b9-24be72477c4a",
   "metadata": {},
   "outputs": [],
   "source": [
    "TMG.save('/bigstore/GeneralStorage/fangming/projects/dredfish/data_dump/TMG_example_3.pkl')"
   ]
  },
  {
   "cell_type": "code",
   "execution_count": null,
   "id": "e87d3752-d510-408b-a1db-614f0f16fcbf",
   "metadata": {},
   "outputs": [],
   "source": []
  }
 ],
 "metadata": {
  "interpreter": {
   "hash": "232f8d06215062f61d321fc7446956117d6c46bb7076bf772bcda94cc0361d06"
  },
  "kernelspec": {
   "display_name": "Python 3 (ipykernel)",
   "language": "python",
   "name": "python3"
  },
  "language_info": {
   "codemirror_mode": {
    "name": "ipython",
    "version": 3
   },
   "file_extension": ".py",
   "mimetype": "text/x-python",
   "name": "python",
   "nbconvert_exporter": "python",
   "pygments_lexer": "ipython3",
   "version": "3.10.2"
  }
 },
 "nbformat": 4,
 "nbformat_minor": 5
}
