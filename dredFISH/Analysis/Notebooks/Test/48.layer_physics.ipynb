{
 "cells": [
  {
   "cell_type": "code",
   "execution_count": 1,
   "id": "2e215f73-71a8-4e03-85d6-60eaee439701",
   "metadata": {},
   "outputs": [],
   "source": [
    "import numpy as np"
   ]
  },
  {
   "cell_type": "code",
   "execution_count": 5,
   "id": "8f1e850b-ee51-44c0-ab59-f1e7c7367179",
   "metadata": {},
   "outputs": [
    {
     "data": {
      "text/plain": [
       "(4441.530054644809, 64559.945056585755)"
      ]
     },
     "execution_count": 5,
     "metadata": {},
     "output_type": "execute_result"
    }
   ],
   "source": [
    "k1 = 0.64\n",
    "NA = 0.0915\n",
    "lmd = 635 # nm\n",
    "\n",
    "n = 1.33\n",
    "\n",
    "w = k1*lmd/NA\n",
    "b = k1*lmd*n/(NA**2)\n",
    "w, b"
   ]
  },
  {
   "cell_type": "code",
   "execution_count": 4,
   "id": "2819b186-bd33-49e0-8682-c67c3e90c8e1",
   "metadata": {},
   "outputs": [
    {
     "data": {
      "text/plain": [
       "64559.945056585755"
      ]
     },
     "execution_count": 4,
     "metadata": {},
     "output_type": "execute_result"
    }
   ],
   "source": [
    "b"
   ]
  },
  {
   "cell_type": "code",
   "execution_count": 6,
   "id": "d9f6675b-6ef7-4703-bc71-495cc9ca15b6",
   "metadata": {},
   "outputs": [
    {
     "data": {
      "text/plain": [
       "0.0915"
      ]
     },
     "execution_count": 6,
     "metadata": {},
     "output_type": "execute_result"
    }
   ],
   "source": [
    "irisD = 5\n",
    "EFL = 20\n",
    "NA = 0.366*irisD/EFL\n",
    "NA"
   ]
  },
  {
   "cell_type": "code",
   "execution_count": null,
   "id": "7f7bc766-9b52-445e-9abe-d853f539e27c",
   "metadata": {},
   "outputs": [],
   "source": []
  }
 ],
 "metadata": {
  "kernelspec": {
   "display_name": "Python 3 (ipykernel)",
   "language": "python",
   "name": "python3"
  },
  "language_info": {
   "codemirror_mode": {
    "name": "ipython",
    "version": 3
   },
   "file_extension": ".py",
   "mimetype": "text/x-python",
   "name": "python",
   "nbconvert_exporter": "python",
   "pygments_lexer": "ipython3",
   "version": "3.10.2"
  }
 },
 "nbformat": 4,
 "nbformat_minor": 5
}
