{
 "cells": [
  {
   "cell_type": "code",
   "execution_count": 1,
   "id": "1ff96f6a-670a-40f1-bd5a-47398de60e74",
   "metadata": {
    "tags": []
   },
   "outputs": [
    {
     "data": {
      "text/plain": [
       "<module 'dredFISH.Analysis.basicu' from '/bigstore/GeneralStorage/fangming/projects/dredfish/packages/dredFISH/dredFISH/Analysis/basicu.py'>"
      ]
     },
     "execution_count": 1,
     "metadata": {},
     "output_type": "execute_result"
    }
   ],
   "source": [
    "import json\n",
    "import sys\n",
    "import os\n",
    "import numpy as np\n",
    "from scipy import ndimage\n",
    "from scipy import special\n",
    "from scipy import sparse\n",
    "import anndata\n",
    "import pandas as pd\n",
    "import time\n",
    "from sklearn.decomposition import PCA\n",
    "import collections\n",
    "import pickle as pkl\n",
    "import zarr\n",
    "import h5py\n",
    "import anndata as ad\n",
    "\n",
    "from dredFISH.Analysis.__init__plots import *\n",
    "sns.set_style('white')\n",
    "\n",
    "import importlib\n",
    "from dredFISH.Analysis import basicu\n",
    "importlib.reload(basicu)"
   ]
  },
  {
   "cell_type": "code",
   "execution_count": 2,
   "id": "bc5a8423-3bb4-4371-8378-764cad722ec1",
   "metadata": {},
   "outputs": [],
   "source": [
    "ddir = '/bigstore/binfo/mouse/Brain/Sequencing/Allen_10X_CtxHippo/source/'\n",
    "outdir = '/scratch/10x/'"
   ]
  },
  {
   "cell_type": "markdown",
   "id": "35b87a13-5f5b-4669-8f4e-198252ebabb1",
   "metadata": {
    "tags": []
   },
   "source": [
    "# preload data"
   ]
  },
  {
   "cell_type": "code",
   "execution_count": 3,
   "id": "c8eae700-b728-430e-886c-559489201256",
   "metadata": {},
   "outputs": [
    {
     "name": "stdout",
     "output_type": "stream",
     "text": [
      "<KeysViewHDF5 ['data']>\n",
      "<KeysViewHDF5 ['counts', 'gene', 'samples', 'shape']>\n",
      "<HDF5 dataset \"counts\": shape (31053, 1169320), type \"<i4\">\n",
      "<HDF5 dataset \"gene\": shape (31053,), type \"|S30\">\n",
      "<HDF5 dataset \"samples\": shape (1169320,), type \"|S36\">\n",
      "<HDF5 dataset \"shape\": shape (2,), type \"<i4\">\n",
      "[1169320   31053]\n"
     ]
    }
   ],
   "source": [
    "ti = time.time()\n",
    "f = ddir + 'expression_matrix.hdf5'\n",
    "with h5py.File(f, 'r') as fh:\n",
    "    print(fh.keys())\n",
    "    print(fh['data'].keys())\n",
    "    \n",
    "    print(fh['data']['counts'])\n",
    "    print(fh['data']['gene'])# t is just the transpose\n",
    "    print(fh['data']['samples'])\n",
    "    print(fh['data']['shape'])\n",
    "    \n",
    "    print(fh['data']['shape'][()])\n",
    "    \n",
    "    # mat = fh['data']['counts'][:,:100] # [gene, cell]\n",
    "    \n",
    "    genes = fh['data']['gene'][()]\n",
    "    genes = np.array([gene.decode() for gene in genes])\n",
    "    \n",
    "    cells = fh['data']['samples'][()]\n",
    "    cells = np.array([cell.decode() for cell in cells])\n",
    "    \n",
    "genes_10x = genes.copy()"
   ]
  },
  {
   "cell_type": "markdown",
   "id": "91e644ff-fc1a-4c02-9e46-0ddf943d050f",
   "metadata": {},
   "source": [
    "# load, save"
   ]
  },
  {
   "cell_type": "code",
   "execution_count": 4,
   "id": "c62835dc-7a3d-4c62-a75a-e3ff59c6309d",
   "metadata": {},
   "outputs": [],
   "source": [
    "# %%time\n",
    "\n",
    "# ncells = len(cells)\n",
    "# # chunksize = 100\n",
    "# chunksize = 100000\n",
    "# curr_head = 0\n",
    "# print(ncells)\n",
    "# f = ddir + 'expression_matrix.hdf5'\n",
    "\n",
    "\n",
    "# with h5py.File(f, 'r') as fh:\n",
    "#     while curr_head < ncells:\n",
    "#         l, r = curr_head, curr_head+chunksize\n",
    "#         r = min(ncells, r)\n",
    "#         curr_head += chunksize\n",
    "#         print(l,r)\n",
    "        \n",
    "#         # get matrix\n",
    "#         mat = fh['data']['counts'][:,l:r] # [gene, cell]\n",
    "        \n",
    "#         # process\n",
    "#         Xcell = mat.T\n",
    "#         print(Xcell.shape)\n",
    "\n",
    "# #         # # correct for library size (normalization) and projection \n",
    "# #         libsizes = Xcell.sum(axis=1)\n",
    "# #         medsize = np.median(libsizes)\n",
    "\n",
    "# #         Xcr_norm = (Xcell[:,genes_idx]/libsizes.reshape(-1,1))*medsize\n",
    "# #         Xcr_norm = Xcr_norm.dot(pmat)\n",
    "\n",
    "#         # save to scratch\n",
    "#         # np.save(f'{outdir}{l}.npy', Xcell)\n",
    "        \n",
    "#         break\n"
   ]
  },
  {
   "cell_type": "code",
   "execution_count": 5,
   "id": "062813ce-435b-4fec-9141-fcd57e5bf258",
   "metadata": {},
   "outputs": [
    {
     "name": "stdout",
     "output_type": "stream",
     "text": [
      "(100, 31053)\n",
      "CPU times: user 2.64 s, sys: 564 ms, total: 3.21 s\n",
      "Wall time: 3.2 s\n"
     ]
    }
   ],
   "source": [
    "%%time\n",
    "with h5py.File(f, 'r') as fh:\n",
    "    # get matrix\n",
    "    mat = fh['data']['counts'][:,:100] # [gene, cell]\n",
    "\n",
    "    # process\n",
    "    Xcell = mat.T\n",
    "    print(Xcell.shape)\n"
   ]
  },
  {
   "cell_type": "code",
   "execution_count": 6,
   "id": "b6969c56-1948-4b7c-821b-8ae05c1d5d79",
   "metadata": {},
   "outputs": [
    {
     "name": "stdout",
     "output_type": "stream",
     "text": [
      "/bigstore/GeneralStorage/fangming/projects/dredfish/data/rna/scrna_10x_ctxhippo_a_exon_count_matrix_v2.zarr\n"
     ]
    }
   ],
   "source": [
    "dat_dir = '/bigstore/GeneralStorage/fangming/projects/dredfish/data/'\n",
    "output = os.path.join(dat_dir, 'rna', 'scrna_10x_ctxhippo_a_exon_count_matrix_v2.zarr')\n",
    "print(output)"
   ]
  },
  {
   "cell_type": "code",
   "execution_count": 7,
   "id": "ea692e43-f5c1-4cf9-b90c-0f6dc1674b24",
   "metadata": {},
   "outputs": [
    {
     "name": "stdout",
     "output_type": "stream",
     "text": [
      "1,169,320, 31,053\n",
      "CPU times: user 232 µs, sys: 7.26 ms, total: 7.49 ms\n",
      "Wall time: 40.3 ms\n"
     ]
    },
    {
     "data": {
      "text/plain": [
       "<zarr.hierarchy.Group '/'>"
      ]
     },
     "execution_count": 7,
     "metadata": {},
     "output_type": "execute_result"
    }
   ],
   "source": [
    "%%time\n",
    "chunksize = 100\n",
    "ncells = len(cells)\n",
    "ngenes = len(genes)\n",
    "print(f'{ncells:,}, {ngenes:,}')\n",
    "\n",
    "# create a zarr file (dir)\n",
    "z1 = zarr.open(output, mode='w')\n",
    "z1"
   ]
  },
  {
   "cell_type": "code",
   "execution_count": 8,
   "id": "6dc9e664-ff04-4d26-aaee-fb026f5f1dfa",
   "metadata": {},
   "outputs": [
    {
     "name": "stdout",
     "output_type": "stream",
     "text": [
      "CPU times: user 35.9 ms, sys: 7.19 ms, total: 43.1 ms\n",
      "Wall time: 64.7 ms\n"
     ]
    }
   ],
   "source": [
    "%%time\n",
    "# create count matrix\n",
    "z1.create_dataset('counts', \n",
    "                  shape=(len(Xcell), ngenes), \n",
    "                  chunks=(chunksize, None), \n",
    "                  dtype='i4',\n",
    "                 )\n",
    "z1['counts'][:] = Xcell"
   ]
  },
  {
   "cell_type": "code",
   "execution_count": null,
   "id": "110b02a2-7911-4c78-af21-2c2105a40cb0",
   "metadata": {},
   "outputs": [],
   "source": []
  },
  {
   "cell_type": "code",
   "execution_count": null,
   "id": "94bfe4ee-bbcb-4b1b-954d-ec62bb860bd1",
   "metadata": {},
   "outputs": [],
   "source": []
  }
 ],
 "metadata": {
  "kernelspec": {
   "display_name": "Python 3 (ipykernel)",
   "language": "python",
   "name": "python3"
  },
  "language_info": {
   "codemirror_mode": {
    "name": "ipython",
    "version": 3
   },
   "file_extension": ".py",
   "mimetype": "text/x-python",
   "name": "python",
   "nbconvert_exporter": "python",
   "pygments_lexer": "ipython3",
   "version": "3.9.12"
  }
 },
 "nbformat": 4,
 "nbformat_minor": 5
}
