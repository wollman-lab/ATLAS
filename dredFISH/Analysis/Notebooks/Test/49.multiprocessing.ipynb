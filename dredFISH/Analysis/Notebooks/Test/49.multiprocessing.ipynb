{
 "cells": [
  {
   "cell_type": "code",
   "execution_count": 1,
   "id": "cacbf256-3c1d-4beb-bbb6-2af7d63af068",
   "metadata": {},
   "outputs": [],
   "source": [
    "from multiprocessing import Pool"
   ]
  },
  {
   "cell_type": "code",
   "execution_count": 7,
   "id": "7a391045-e628-4f8c-b8e2-2952591327e6",
   "metadata": {},
   "outputs": [
    {
     "data": {
      "text/plain": [
       "(4, 5)"
      ]
     },
     "execution_count": 7,
     "metadata": {},
     "output_type": "execute_result"
    }
   ],
   "source": [
    "def f(x):\n",
    "    return x**2\n",
    "\n",
    "f(2), (5)"
   ]
  },
  {
   "cell_type": "code",
   "execution_count": 13,
   "id": "95150acc-53de-406a-9942-f76e4ac1f459",
   "metadata": {},
   "outputs": [
    {
     "name": "stdout",
     "output_type": "stream",
     "text": [
      "[1, 4, 9, 16, 1156, 6084, 9216]\n"
     ]
    }
   ],
   "source": [
    "with Pool(4) as pl:\n",
    "    # pl_res = pl.apply_async(f, [1,2,3,4])\n",
    "    pl_res = pl.map(f, [1,2,3,4, 34, 78, 96])\n",
    "    print(pl_res)\n",
    "    # print(pl_res.get())"
   ]
  }
 ],
 "metadata": {
  "kernelspec": {
   "display_name": "Python 3 (ipykernel)",
   "language": "python",
   "name": "python3"
  },
  "language_info": {
   "codemirror_mode": {
    "name": "ipython",
    "version": 3
   },
   "file_extension": ".py",
   "mimetype": "text/x-python",
   "name": "python",
   "nbconvert_exporter": "python",
   "pygments_lexer": "ipython3",
   "version": "3.10.2"
  }
 },
 "nbformat": 4,
 "nbformat_minor": 5
}
