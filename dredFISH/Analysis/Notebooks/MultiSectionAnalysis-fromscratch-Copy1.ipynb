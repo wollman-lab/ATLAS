{
 "cells": [
  {
   "cell_type": "markdown",
   "id": "ee63b890-3f68-4f3f-ada8-c1399c7dcd82",
   "metadata": {},
   "source": [
    "### Import and create an empty TMG"
   ]
  },
  {
   "cell_type": "code",
   "execution_count": 1,
   "id": "680d9789-5d29-415b-88dd-56885dec4690",
   "metadata": {},
   "outputs": [],
   "source": [
    "# import igraph\n",
    "import logging\n",
    "import matplotlib.pyplot as plt \n",
    "\n",
    "from dredFISH.Analysis import TissueGraph\n",
    "from dredFISH.Analysis import Classification\n",
    "from dredFISH.Utils import tmgu\n",
    "\n",
    "import importlib\n",
    "importlib.reload(TissueGraph)\n",
    "importlib.reload(Classification)\n",
    "importlib.reload(tmgu)\n",
    "\n",
    "logging.basicConfig(\n",
    "    format='%(asctime)s %(levelname)-8s %(message)s',\n",
    "    level=logging.INFO,\n",
    "    datefmt='%Y-%m-%d %H:%M:%S')"
   ]
  },
  {
   "cell_type": "code",
   "execution_count": 26,
   "id": "51715c37-e7f4-4d86-845f-62ab364b6d92",
   "metadata": {},
   "outputs": [
    {
     "name": "stdout",
     "output_type": "stream",
     "text": [
      "total 61M\n",
      "drwxrwxrwx 7 zach     wollmanlab 4.0K Jul  8 12:44 ..\n",
      "lrwxrwxrwx 1 fangming wollmanlab   69 Jul  8 12:45 DPNMF_PolyA_2021Nov19_Section_-1850X_270Y_metadata.csv -> ../Dataset1-t1/DPNMF_PolyA_2021Nov19_Section_-1850X_270Y_metadata.csv\n",
      "lrwxrwxrwx 1 fangming wollmanlab   67 Jul  8 12:45 DPNMF_PolyA_2021Nov19_Section_-1850X_270Y_matrix.csv -> ../Dataset1-t1/DPNMF_PolyA_2021Nov19_Section_-1850X_270Y_matrix.csv\n",
      "drwxr-xr-x 2 fangming wollmanlab 4.0K Jul  8 12:52 .\n",
      "-rw-r--r-- 1 fangming wollmanlab  165 Jul 12  2022 TMG.json\n",
      "-rw-r--r-- 1 fangming wollmanlab  54M Jul 12  2022 cell.h5ad\n",
      "-rw-r--r-- 1 fangming wollmanlab 6.8M Jul 12  2022 isozone.h5ad\n",
      "-rw-r--r-- 1 fangming wollmanlab 700K Jul 12  2022 region.h5ad\n",
      "-rw-r--r-- 1 fangming wollmanlab    3 Jul 12  2022 Taxonomy_clusters.csv\n",
      "-rw-r--r-- 1 fangming wollmanlab    3 Jul 12  2022 Taxonomy_topics.csv\n",
      "{\"layers_graph\": [[0, 1], [0, 2]], \"layer_taxonomy_mapping\": {\"0\": 0, \"1\": 0, \"2\": 1}, \"Taxonomies\": [\"clusters\", \"topics\"], \"Layers\": [\"cell\", \"isozone\", \"region\"]}"
     ]
    }
   ],
   "source": [
    "basepth = '/bigstore/GeneralStorage/Data/dredFISH/Dataset1-t4'\n",
    "!ls -alhtr $basepth\n",
    "!head $basepth\"/TMG.json\""
   ]
  },
  {
   "cell_type": "code",
   "execution_count": 3,
   "id": "c6e5fcdd-b7c1-415e-be58-66059bcc8da9",
   "metadata": {},
   "outputs": [],
   "source": [
    "TMG = TissueGraph.TissueMultiGraph(basepath=basepth, \n",
    "                                   redo=True, # create an empty one\n",
    "                                  ) "
   ]
  },
  {
   "cell_type": "markdown",
   "id": "c11e0731-8f55-4f16-a763-18678793982e",
   "metadata": {},
   "source": [
    "### Create a `cell` layer\n",
    "Creating a cell layer, load data from file, normalizes and creates an unclassified tissue graph"
   ]
  },
  {
   "cell_type": "code",
   "execution_count": 4,
   "id": "4a969f11-80fb-40e9-9d57-6cc473379f5b",
   "metadata": {},
   "outputs": [
    {
     "name": "stderr",
     "output_type": "stream",
     "text": [
      "INFO:root:In TMG.create_cell_layer\n",
      "INFO:root:Started reading matrices and metadata\n",
      "INFO:root:done reading files\n",
      "INFO:root:77846 cells, minimum counts = 1872.0\n",
      "INFO:root:building spatial graphs\n",
      "INFO:root:Building spatial graphs for 1 sections\n"
     ]
    },
    {
     "name": "stdout",
     "output_type": "stream",
     "text": [
      "/bigstore/GeneralStorage/Data/dredFISH/Dataset1-t3/cell.h5ad\n"
     ]
    },
    {
     "name": "stderr",
     "output_type": "stream",
     "text": [
      "INFO:root:updating anndata\n",
      "INFO:root:done building spatial graph\n",
      "INFO:root:building feature graphs\n",
      "INFO:root:building feature graph using cosine\n",
      "INFO:root:done with create_cell_layer\n",
      "INFO:root:TMG has 1 Layers\n"
     ]
    },
    {
     "name": "stdout",
     "output_type": "stream",
     "text": [
      "CPU times: user 1min 32s, sys: 1min 21s, total: 2min 53s\n",
      "Wall time: 39.3 s\n"
     ]
    }
   ],
   "source": [
    "%%time\n",
    "TMG.create_cell_layer(metric = 'cosine')\n",
    "logging.info(f\"TMG has {len(TMG.Layers)} Layers\")"
   ]
  },
  {
   "cell_type": "markdown",
   "id": "407c4bf9",
   "metadata": {
    "tags": []
   },
   "source": [
    "### Create Geometries"
   ]
  },
  {
   "cell_type": "code",
   "execution_count": 5,
   "id": "e9848513",
   "metadata": {},
   "outputs": [
    {
     "name": "stdout",
     "output_type": "stream",
     "text": [
      "CPU times: user 3 µs, sys: 3 µs, total: 6 µs\n",
      "Wall time: 13.1 µs\n"
     ]
    }
   ],
   "source": [
    "# %%time\n",
    "# TMG.add_geoms()"
   ]
  },
  {
   "cell_type": "markdown",
   "id": "f6566db2-d0bf-4acc-a7ab-8640e4b03530",
   "metadata": {},
   "source": [
    "### Create cell types using `OptLeiden classifier` applied on the `cell` layer"
   ]
  },
  {
   "cell_type": "code",
   "execution_count": 6,
   "id": "43811884-ad09-4bf3-a01c-386f683f7296",
   "metadata": {},
   "outputs": [
    {
     "name": "stdout",
     "output_type": "stream",
     "text": [
      "/bigstore/GeneralStorage/Data/dredFISH/Dataset1-t3/isozone.h5ad\n",
      "/bigstore/GeneralStorage/Data/dredFISH/Dataset1-t3/isozone.h5ad\n",
      "/bigstore/GeneralStorage/Data/dredFISH/Dataset1-t3/isozone.h5ad\n",
      "/bigstore/GeneralStorage/Data/dredFISH/Dataset1-t3/isozone.h5ad\n",
      "/bigstore/GeneralStorage/Data/dredFISH/Dataset1-t3/isozone.h5ad\n",
      "/bigstore/GeneralStorage/Data/dredFISH/Dataset1-t3/isozone.h5ad\n",
      "/bigstore/GeneralStorage/Data/dredFISH/Dataset1-t3/isozone.h5ad\n",
      "/bigstore/GeneralStorage/Data/dredFISH/Dataset1-t3/isozone.h5ad\n",
      "/bigstore/GeneralStorage/Data/dredFISH/Dataset1-t3/isozone.h5ad\n",
      "/bigstore/GeneralStorage/Data/dredFISH/Dataset1-t3/isozone.h5ad\n",
      "Number of types: 153 initial entropy: -6.770682785610586 number of evals: 0\n",
      "CPU times: user 23 s, sys: 62 ms, total: 23.1 s\n",
      "Wall time: 23 s\n"
     ]
    }
   ],
   "source": [
    "# %%time\n",
    "# # Create the classifier\n",
    "# optleiden = Classification.OptimalLeidenKNNClassifier(TMG.Layers[0])\n",
    "# # train the classifier\n",
    "# optleiden.train(opt_res=11.5, opt_params={'iters':10, 'n_consensus':1})\n",
    "# # use the classifier to create types and add them to TMG using the Taxonomy created on the fly by the classifier\n",
    "# type_vec = optleiden.classify()\n",
    "# TMG.add_type_information(0, type_vec, optleiden.tax)"
   ]
  },
  {
   "cell_type": "markdown",
   "id": "cf3389b7-9e61-4c04-8787-300bcb4509c0",
   "metadata": {},
   "source": [
    "### Create `isozone` layer"
   ]
  },
  {
   "cell_type": "code",
   "execution_count": 7,
   "id": "73cce310-6bd0-40fd-bb2c-cfcb707a1e57",
   "metadata": {},
   "outputs": [
    {
     "name": "stderr",
     "output_type": "stream",
     "text": [
      "INFO:root:TMG has 2 Layers\n"
     ]
    },
    {
     "name": "stdout",
     "output_type": "stream",
     "text": [
      "/bigstore/GeneralStorage/Data/dredFISH/Dataset1-t3/isozone.h5ad\n"
     ]
    }
   ],
   "source": [
    "# TMG.create_isozone_layer()\n",
    "# logging.info(f\"TMG has {len(TMG.Layers)} Layers\")"
   ]
  },
  {
   "cell_type": "markdown",
   "id": "fbfc19ad",
   "metadata": {},
   "source": [
    "### Create `region` layer\n",
    "To create regions, we first create a new classifier that works on local cell environments (local type abundace). Classify cells based on their regions and use this type to create a new layer. "
   ]
  },
  {
   "cell_type": "code",
   "execution_count": 8,
   "id": "13863446",
   "metadata": {},
   "outputs": [
    {
     "name": "stderr",
     "output_type": "stream",
     "text": [
      "INFO:root:Running LDA in parallel with 3 cores\n"
     ]
    },
    {
     "name": "stdout",
     "output_type": "stream",
     "text": [
      "CPU times: user 24.3 s, sys: 3.08 s, total: 27.4 s\n",
      "Wall time: 3min 15s\n"
     ]
    }
   ],
   "source": [
    "# %%time\n",
    "\n",
    "# n_topics_list = [2,5,10]\n",
    "# n_procs = 3 \n",
    "\n",
    "# topic_cls = Classification.TopicClassifier(TMG.Layers[0])\n",
    "# topic_cls.train(n_topics_list=n_topics_list, n_procs=n_procs)\n",
    "# topics = topic_cls.classify(topic_cls.Env)"
   ]
  },
  {
   "cell_type": "code",
   "execution_count": 14,
   "id": "7cc098b2-3b31-4970-a916-dd4c10c299e1",
   "metadata": {},
   "outputs": [],
   "source": [
    "topics\n",
    "import numpy as np"
   ]
  },
  {
   "cell_type": "code",
   "execution_count": 15,
   "id": "367471f5-7b2c-41b6-b435-adbfddda3903",
   "metadata": {},
   "outputs": [
    {
     "data": {
      "text/plain": [
       "(array([0, 1, 2, 3, 4, 5, 6, 7, 8, 9]),\n",
       " array([9209, 5397, 6471, 8152, 9229, 7502, 9462, 5830, 9130, 7464]))"
      ]
     },
     "execution_count": 15,
     "metadata": {},
     "output_type": "execute_result"
    }
   ],
   "source": [
    "np.unique(topics, return_counts=True)"
   ]
  },
  {
   "cell_type": "code",
   "execution_count": 21,
   "id": "5feb4a9b-5781-4e47-8e19-6e0de93c5fb0",
   "metadata": {},
   "outputs": [
    {
     "data": {
      "text/plain": [
       "(77846,)"
      ]
     },
     "execution_count": 21,
     "metadata": {},
     "output_type": "execute_result"
    }
   ],
   "source": [
    "topics.shape"
   ]
  },
  {
   "cell_type": "code",
   "execution_count": 20,
   "id": "69145bb1-1439-4ff6-ba4a-c2f77b3a9002",
   "metadata": {},
   "outputs": [
    {
     "data": {
      "text/plain": [
       "[]"
      ]
     },
     "execution_count": 20,
     "metadata": {},
     "output_type": "execute_result"
    }
   ],
   "source": [
    "topic_cls.tax.Type"
   ]
  },
  {
   "cell_type": "code",
   "execution_count": 30,
   "id": "14f627b3-5264-41c5-87b7-83b2daae408d",
   "metadata": {},
   "outputs": [
    {
     "name": "stdout",
     "output_type": "stream",
     "text": [
      "/bigstore/GeneralStorage/Data/dredFISH/Dataset1-t3/isozone.h5ad\n"
     ]
    }
   ],
   "source": [
    "CG = TMG.Layers[0].contract_graph(topics)"
   ]
  },
  {
   "cell_type": "code",
   "execution_count": 36,
   "id": "5c58dc6b-7b33-492c-8c1b-3e8244a92c36",
   "metadata": {},
   "outputs": [
    {
     "data": {
      "text/plain": [
       "(77846,)"
      ]
     },
     "execution_count": 36,
     "metadata": {},
     "output_type": "execute_result"
    }
   ],
   "source": [
    "CG.Upstream.shape"
   ]
  },
  {
   "cell_type": "code",
   "execution_count": 35,
   "id": "41bf12d7-04d8-4861-9227-c81214546c16",
   "metadata": {},
   "outputs": [
    {
     "data": {
      "text/plain": [
       "(array([  0,   1,   2,   3,   4,   5,   6,   7,   8,   9,  10,  11,  12,\n",
       "         13,  14,  15,  16,  17,  18,  19,  20,  21,  22,  23,  24,  25,\n",
       "         26,  27,  28,  29,  30,  31,  32,  33,  34,  35,  36,  37,  38,\n",
       "         39,  40,  41,  42,  43,  44,  45,  46,  47,  48,  49,  50,  51,\n",
       "         52,  53,  54,  55,  56,  57,  58,  59,  60,  61,  62,  63,  64,\n",
       "         65,  66,  67,  68,  69,  70,  71,  72,  73,  74,  75,  76,  77,\n",
       "         78,  79,  80,  81,  82,  83,  84,  85,  86,  87,  88,  89,  90,\n",
       "         91,  92,  93,  94,  95,  96,  97,  98,  99, 100, 101, 102, 103,\n",
       "        104, 105, 106, 107, 108, 109, 110, 111, 112, 113, 114, 115]),\n",
       " array([3797, 1077, 3787, 8261, 2631, 9203, 2710, 8648, 1658,    1,   57,\n",
       "         360,  382,  318,  429, 5729, 4543,    1,   41,   14, 3575,   27,\n",
       "           1,  146,    1,    3, 1303,    6,   24, 6369, 5488,    6, 1334,\n",
       "         174,  181,    3,  182,    1,    3,   11,    1,    6,    1,   82,\n",
       "          59,    1,    1,    1,  443, 1519,    1,  223,  692, 1002,    2,\n",
       "           8,   84,    2,    2,   24,    3,    1,  398,    1,  131,   85,\n",
       "           3,   54,    6,    1,   12,    1,    1,    1,    1,    3,    1,\n",
       "           1,   10,    1,    2,  135,    8,    1,    1,    1,  136,   14,\n",
       "          24,    3,    1,    1,    3,    1,   54,    7,    1,    1,    2,\n",
       "           1,    1,    2,    1,   10,    1,    2,    1,   24,   18,    1,\n",
       "           2,    1,    7,    2,    8,   14]))"
      ]
     },
     "execution_count": 35,
     "metadata": {},
     "output_type": "execute_result"
    }
   ],
   "source": [
    "np.unique(CG.Upstream, return_counts=True)"
   ]
  },
  {
   "cell_type": "code",
   "execution_count": 23,
   "id": "d18d114e",
   "metadata": {},
   "outputs": [
    {
     "name": "stderr",
     "output_type": "stream",
     "text": [
      "INFO:root:TMG has 3 Layers\n"
     ]
    },
    {
     "name": "stdout",
     "output_type": "stream",
     "text": [
      "!!`region` layer already exists; return...\n",
      "CPU times: user 4.48 ms, sys: 246 µs, total: 4.73 ms\n",
      "Wall time: 3.36 ms\n"
     ]
    }
   ],
   "source": [
    "%%time\n",
    "TMG.create_region_layer(topics, topic_cls.tax)\n",
    "logging.info(f\"TMG has {len(TMG.Layers)} Layers\")"
   ]
  },
  {
   "cell_type": "code",
   "execution_count": 27,
   "id": "316340e4-fd2c-4694-b68c-00e939cddb4a",
   "metadata": {},
   "outputs": [
    {
     "data": {
      "text/plain": [
       "(116,)"
      ]
     },
     "execution_count": 27,
     "metadata": {},
     "output_type": "execute_result"
    }
   ],
   "source": [
    "TMG.Layers[2].Type.shape"
   ]
  },
  {
   "cell_type": "markdown",
   "id": "ca84c824",
   "metadata": {},
   "source": [
    "### Save to files\n",
    "TMG is saved as a config json file, one AnnData file per layer, and one dataframe per taxonomy. "
   ]
  },
  {
   "cell_type": "code",
   "execution_count": 25,
   "id": "b014cefa",
   "metadata": {},
   "outputs": [
    {
     "name": "stderr",
     "output_type": "stream",
     "text": [
      "INFO:root:saved\n"
     ]
    },
    {
     "name": "stdout",
     "output_type": "stream",
     "text": [
      "CPU times: user 154 ms, sys: 119 ms, total: 273 ms\n",
      "Wall time: 815 ms\n"
     ]
    }
   ],
   "source": [
    "%%time\n",
    "TMG.save()"
   ]
  },
  {
   "cell_type": "code",
   "execution_count": null,
   "id": "896ee0b7-f90b-4c5c-a88c-6dffb15fa4a9",
   "metadata": {},
   "outputs": [],
   "source": []
  }
 ],
 "metadata": {
  "interpreter": {
   "hash": "232f8d06215062f61d321fc7446956117d6c46bb7076bf772bcda94cc0361d06"
  },
  "kernelspec": {
   "display_name": "Python 3 (ipykernel)",
   "language": "python",
   "name": "python3"
  },
  "language_info": {
   "codemirror_mode": {
    "name": "ipython",
    "version": 3
   },
   "file_extension": ".py",
   "mimetype": "text/x-python",
   "name": "python",
   "nbconvert_exporter": "python",
   "pygments_lexer": "ipython3",
   "version": "3.10.2"
  }
 },
 "nbformat": 4,
 "nbformat_minor": 5
}
