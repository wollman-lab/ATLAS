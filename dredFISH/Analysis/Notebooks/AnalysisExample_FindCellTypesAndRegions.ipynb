{
 "cells": [
  {
   "cell_type": "markdown",
   "id": "010b6eac-92c9-4ba4-a12f-a27bd4658781",
   "metadata": {},
   "source": [
    "#### Imports"
   ]
  },
  {
   "cell_type": "code",
   "execution_count": 2,
   "id": "099bfeb6-de1f-4f3a-8731-1364ba4c1ff9",
   "metadata": {},
   "outputs": [],
   "source": [
    "import matplotlib.pyplot as plt\n",
    "\n",
    "from dredFISH.Analysis.TissueGraph import *\n",
    "from dredFISH.Visualization.Viz import *"
   ]
  },
  {
   "cell_type": "markdown",
   "id": "ccf642a9-a784-4363-a59a-b19bc0a6f682",
   "metadata": {},
   "source": [
    "#### Load data"
   ]
  },
  {
   "cell_type": "code",
   "execution_count": 3,
   "id": "37ac6f93-652b-4498-8ae9-5fd459a2ee86",
   "metadata": {},
   "outputs": [
    {
     "name": "stderr",
     "output_type": "stream",
     "text": [
      "Observation names are not unique. To make them unique, call `.obs_names_make_unique`.\n"
     ]
    },
    {
     "name": "stdout",
     "output_type": "stream",
     "text": [
      "CPU times: user 1.18 s, sys: 148 ms, total: 1.32 s\n",
      "Wall time: 1.32 s\n"
     ]
    }
   ],
   "source": [
    "%%time\n",
    "base_path = '/bigstore/Images2021/gaby/dredFISH/DPNMF_PolyA_2021Nov19/'\n",
    "dataset = 'DPNMF_PolyA_2021Nov19'\n",
    "\n",
    "TMG = TissueMultiGraph()\n",
    "XY,PNMF = TMG.load_and_normalize_data(base_path,dataset,norm_bit = 'robustZ-iqr',norm_cell = 'l1')"
   ]
  },
  {
   "cell_type": "markdown",
   "id": "ee51e708-f2aa-42fb-967c-ec6d0dd099be",
   "metadata": {},
   "source": [
    "#### Build layers 1-2: cells and zones"
   ]
  },
  {
   "cell_type": "code",
   "execution_count": 4,
   "id": "fc300bbc-6173-430c-b5dd-f2f75f2bc736",
   "metadata": {},
   "outputs": [
    {
     "name": "stdout",
     "output_type": "stream",
     "text": [
      "Calling initial optimization\n",
      " \n",
      " Func-count     x          f(x)          Procedure\n",
      "    1        11.5208     -7.00743        initial\n",
      "    2        18.5792       -6.857        golden\n",
      "    3        7.15843     -6.98314        golden\n",
      "    4        10.5225     -7.03294        parabolic\n",
      "    5        9.64059     -7.04017        parabolic\n",
      "    6        9.63725     -7.05214        parabolic\n",
      "    7        8.69043      -7.0386        golden\n",
      "    8        9.16573     -7.04198        parabolic\n",
      "    9        9.40291     -7.03239        parabolic\n",
      "   10        9.54774      -7.0287        golden\n",
      "   11        9.60306     -7.05634        golden\n",
      "   12        9.58193      -7.0314        golden\n",
      "   13        9.61612     -7.03463        golden\n",
      "   14        9.59499      -7.0606        golden\n",
      "   15           9.59     -7.02551        golden\n",
      "   16        9.59833      -7.0436        golden\n",
      "\n",
      "Optimization terminated successfully;\n",
      "The returned value satisfies the termination criteria\n",
      "(using xtol =  0.01 )\n",
      "Number of types: 130 initial entropy: 7.060604717688941 number of evals: 16\n",
      "CPU times: user 30min 16s, sys: 1min 10s, total: 31min 26s\n",
      "Wall time: 23min 35s\n"
     ]
    }
   ],
   "source": [
    "%%time\n",
    "TMG.create_cell_and_zone_layers(XY,PNMF)\n"
   ]
  },
  {
   "cell_type": "code",
   "execution_count": 5,
   "id": "6e158498-8e36-4888-bfb1-e119acdbd372",
   "metadata": {},
   "outputs": [
    {
     "name": "stdout",
     "output_type": "stream",
     "text": [
      "CPU times: user 2min 14s, sys: 454 ms, total: 2min 14s\n",
      "Wall time: 2min 14s\n"
     ]
    }
   ],
   "source": [
    "%%time\n",
    "TMG.add_geoms()"
   ]
  },
  {
   "cell_type": "code",
   "execution_count": 7,
   "id": "625cf2bf-63f0-4964-8c42-0dc2d6a9923d",
   "metadata": {},
   "outputs": [
    {
     "name": "stdout",
     "output_type": "stream",
     "text": [
      "CPU times: user 8min 22s, sys: 1.71 s, total: 8min 24s\n",
      "Wall time: 8min 22s\n"
     ]
    }
   ],
   "source": [
    "%%time\n",
    "# save Cond entropy values for later plotting\n",
    "TMG.Layers[0].calc_entropy_at_different_Leiden_resolutions()"
   ]
  },
  {
   "cell_type": "markdown",
   "id": "a5673364-d6d2-42e9-a348-6f9c38a42a1f",
   "metadata": {
    "tags": []
   },
   "source": [
    "#### Build layers 3: regions"
   ]
  },
  {
   "cell_type": "code",
   "execution_count": 8,
   "id": "4d05a0f2-e24a-46b8-baa8-fa5f360e4168",
   "metadata": {
    "tags": []
   },
   "outputs": [
    {
     "name": "stdout",
     "output_type": "stream",
     "text": [
      "importing sklearn.decomposition on engine(s)\n",
      "CPU times: user 1min 37s, sys: 11.2 s, total: 1min 48s\n",
      "Wall time: 34min 14s\n"
     ]
    }
   ],
   "source": [
    "%%time\n",
    "topics = TMG.find_topics(use_parallel=True)\n",
    "TMG.create_region_layer(topics)\n"
   ]
  },
  {
   "cell_type": "markdown",
   "id": "9aab4088-dc58-4789-8ecd-e64a73585ee9",
   "metadata": {},
   "source": [
    "### Save"
   ]
  },
  {
   "cell_type": "code",
   "execution_count": 9,
   "id": "703cd489-5220-40d9-80b9-24be72477c4a",
   "metadata": {},
   "outputs": [],
   "source": [
    "TMG.save('TMG_example_2.pkl')"
   ]
  },
  {
   "cell_type": "code",
   "execution_count": null,
   "id": "e87d3752-d510-408b-a1db-614f0f16fcbf",
   "metadata": {},
   "outputs": [],
   "source": []
  }
 ],
 "metadata": {
  "interpreter": {
   "hash": "232f8d06215062f61d321fc7446956117d6c46bb7076bf772bcda94cc0361d06"
  },
  "kernelspec": {
   "display_name": "Python 3 (ipykernel)",
   "language": "python",
   "name": "python3"
  },
  "language_info": {
   "codemirror_mode": {
    "name": "ipython",
    "version": 3
   },
   "file_extension": ".py",
   "mimetype": "text/x-python",
   "name": "python",
   "nbconvert_exporter": "python",
   "pygments_lexer": "ipython3",
   "version": "3.9.7"
  }
 },
 "nbformat": 4,
 "nbformat_minor": 5
}
