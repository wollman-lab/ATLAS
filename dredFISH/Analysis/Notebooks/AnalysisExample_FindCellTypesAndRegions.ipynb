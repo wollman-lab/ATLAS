{
 "cells": [
  {
   "cell_type": "markdown",
   "id": "010b6eac-92c9-4ba4-a12f-a27bd4658781",
   "metadata": {},
   "source": [
    "#### Imports"
   ]
  },
  {
   "cell_type": "code",
   "execution_count": 1,
   "id": "099bfeb6-de1f-4f3a-8731-1364ba4c1ff9",
   "metadata": {},
   "outputs": [],
   "source": [
    "from dredFISH.Analysis.TissueGraph import *\n",
    "from dredFISH.Visualization.Viz import *\n",
    "\n",
    "import matplotlib.pyplot as plt "
   ]
  },
  {
   "cell_type": "markdown",
   "id": "ccf642a9-a784-4363-a59a-b19bc0a6f682",
   "metadata": {},
   "source": [
    "#### Load data"
   ]
  },
  {
   "cell_type": "code",
   "execution_count": 2,
   "id": "37ac6f93-652b-4498-8ae9-5fd459a2ee86",
   "metadata": {},
   "outputs": [
    {
     "name": "stderr",
     "output_type": "stream",
     "text": [
      "Observation names are not unique. To make them unique, call `.obs_names_make_unique`.\n",
      "/home/rwollman/MyProjects/MaximallyInformativeBiocartography/dredFISH/dredFISH/Analysis/TissueGraph.py:241: FutureWarning: Support for multi-dimensional indexing (e.g. `obj[:, None]`) is deprecated and will be removed in a future version.  Convert to a numpy array before indexing instead.\n",
      "  data.X = data.X/data.obs['total_signal'][:,None]\n"
     ]
    },
    {
     "name": "stdout",
     "output_type": "stream",
     "text": [
      "CPU times: user 754 ms, sys: 2.71 s, total: 3.47 s\n",
      "Wall time: 3.47 s\n"
     ]
    }
   ],
   "source": [
    "%%time\n",
    "base_path = '/bigstore/Images2021/gaby/dredFISH/DPNMF_PolyA_2021Nov19/'\n",
    "dataset = 'DPNMF_PolyA_2021Nov19'\n",
    "\n",
    "TMG = TissueMultiGraph()\n",
    "XY,PNMF = TMG.load_and_normalize_data(base_path,dataset)"
   ]
  },
  {
   "cell_type": "markdown",
   "id": "ee51e708-f2aa-42fb-967c-ec6d0dd099be",
   "metadata": {},
   "source": [
    "#### Build layers 1-2: cells and zones"
   ]
  },
  {
   "cell_type": "code",
   "execution_count": 3,
   "id": "fc300bbc-6173-430c-b5dd-f2f75f2bc736",
   "metadata": {},
   "outputs": [
    {
     "name": "stdout",
     "output_type": "stream",
     "text": [
      "Calling initial optimization\n",
      " \n",
      " Func-count     x          f(x)          Procedure\n",
      "    1        11.5208     -7.59447        initial\n",
      "    2        18.5792     -7.33598        golden\n",
      "    3        7.15843     -7.72702        golden\n",
      "    4        4.46235     -7.57012        golden\n",
      "    5        8.12901     -7.66436        parabolic\n",
      "    6        6.12862     -7.60652        golden\n",
      "    7        7.28809     -7.72822        parabolic\n",
      "    8         7.2762     -7.69661        parabolic\n",
      "    9        7.60929     -7.70191        golden\n",
      "   10        7.41078     -7.72226        golden\n",
      "   11        7.33496     -7.70981        golden\n",
      "   12        7.30599     -7.70334        golden\n",
      "   13        7.29493     -7.69387        golden\n",
      "   14        7.28355     -7.70271        golden\n",
      "   15        7.29143     -7.69177        golden\n",
      "\n",
      "Optimization terminated successfully;\n",
      "The returned value satisfies the termination criteria\n",
      "(using xtol =  0.01 )\n",
      "Number of types: 103 initial entropy: 7.728222636171807 number of evals: 15\n",
      "CPU times: user 30min 29s, sys: 1min 13s, total: 31min 42s\n",
      "Wall time: 23min 38s\n"
     ]
    }
   ],
   "source": [
    "%%time\n",
    "TMG.create_cell_and_zone_layers(XY,PNMF)\n"
   ]
  },
  {
   "cell_type": "code",
   "execution_count": 4,
   "id": "6e158498-8e36-4888-bfb1-e119acdbd372",
   "metadata": {},
   "outputs": [
    {
     "name": "stdout",
     "output_type": "stream",
     "text": [
      "CPU times: user 2min 15s, sys: 849 ms, total: 2min 16s\n",
      "Wall time: 2min 16s\n"
     ]
    }
   ],
   "source": [
    "%%time\n",
    "TMG.add_geoms()"
   ]
  },
  {
   "cell_type": "code",
   "execution_count": 6,
   "id": "625cf2bf-63f0-4964-8c42-0dc2d6a9923d",
   "metadata": {},
   "outputs": [
    {
     "name": "stdout",
     "output_type": "stream",
     "text": [
      "CPU times: user 7min 54s, sys: 2.54 s, total: 7min 56s\n",
      "Wall time: 7min 55s\n"
     ]
    }
   ],
   "source": [
    "%%time\n",
    "# save Cond entropy values for later plotting\n",
    "TMG.Layers[0].calc_entropy_at_different_Leiden_resolutions()"
   ]
  },
  {
   "cell_type": "markdown",
   "id": "a5673364-d6d2-42e9-a348-6f9c38a42a1f",
   "metadata": {
    "tags": []
   },
   "source": [
    "#### Build layers 3: regions"
   ]
  },
  {
   "cell_type": "code",
   "execution_count": 7,
   "id": "4d05a0f2-e24a-46b8-baa8-fa5f360e4168",
   "metadata": {
    "tags": []
   },
   "outputs": [
    {
     "name": "stdout",
     "output_type": "stream",
     "text": [
      "CPU times: user 14.3 s, sys: 24.1 ms, total: 14.3 s\n",
      "Wall time: 14.3 s\n"
     ]
    }
   ],
   "source": [
    "%%time\n",
    "topics = TMG.find_topics(use_parallel=True)\n",
    "TMG.create_region_layer(topics)\n"
   ]
  },
  {
   "cell_type": "markdown",
   "id": "9aab4088-dc58-4789-8ecd-e64a73585ee9",
   "metadata": {},
   "source": [
    "### Save"
   ]
  },
  {
   "cell_type": "code",
   "execution_count": 8,
   "id": "703cd489-5220-40d9-80b9-24be72477c4a",
   "metadata": {},
   "outputs": [],
   "source": [
    "TMG.save('TMG_example.pkl')"
   ]
  }
 ],
 "metadata": {
  "interpreter": {
   "hash": "232f8d06215062f61d321fc7446956117d6c46bb7076bf772bcda94cc0361d06"
  },
  "kernelspec": {
   "display_name": "Python [conda env:dredFISH]",
   "language": "python",
   "name": "conda-env-dredFISH-py"
  },
  "language_info": {
   "codemirror_mode": {
    "name": "ipython",
    "version": 3
   },
   "file_extension": ".py",
   "mimetype": "text/x-python",
   "name": "python",
   "nbconvert_exporter": "python",
   "pygments_lexer": "ipython3",
   "version": "3.9.7"
  }
 },
 "nbformat": 4,
 "nbformat_minor": 5
}
