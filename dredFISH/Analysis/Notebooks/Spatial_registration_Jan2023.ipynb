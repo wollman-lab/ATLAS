{
 "cells": [
  {
   "cell_type": "markdown",
   "metadata": {},
   "source": [
    "### Check Spatial Registration to Allen V3"
   ]
  },
  {
   "cell_type": "code",
   "execution_count": 1,
   "metadata": {},
   "outputs": [],
   "source": [
    "import numpy as np\n",
    "import pandas as pd\n",
    "import matplotlib.pyplot as plt \n",
    "import nrrd\n",
    "import os\n",
    "\n",
    "import anndata\n",
    "\n",
    "from dredFISH.Utils import regu\n",
    "\n",
    "# import importlib\n",
    "# importlib.reload(regu)"
   ]
  },
  {
   "cell_type": "code",
   "execution_count": 2,
   "metadata": {},
   "outputs": [
    {
     "name": "stdout",
     "output_type": "stream",
     "text": [
      "CPU times: user 14.1 s, sys: 10.3 s, total: 24.4 s\n",
      "Wall time: 24.4 s\n"
     ]
    }
   ],
   "source": [
    "%%time\n",
    "# allen data\n",
    "allen_template_path= '/greendata/binfo/mouse/Brain/average_template.npy'\n",
    "allen_tree_path    = '/greendata/GeneralStorage/fangming/reference/allen_ccf/structures.json'\n",
    "allen_annot_path   = '/greendata/GeneralStorage/fangming/reference/allen_ccf/annotation_10.nrrd'\n",
    "\n",
    "allen_template = regu.load_allen_template(allen_template_path)\n",
    "allen_tree, allen_maps = regu.load_allen_tree(allen_tree_path)\n",
    "allen_annot = regu.load_allen_annot(allen_annot_path) # takes about 30 seconds"
   ]
  },
  {
   "cell_type": "code",
   "execution_count": 3,
   "metadata": {},
   "outputs": [],
   "source": [
    "# # plot alen average template front -> back\n",
    "# rows = 10\n",
    "# columns = 10\n",
    "# fig, axs = plt.subplots(columns,rows,figsize=[25,22],)\n",
    "# nbins = columns*rows\n",
    "# bins = np.linspace(10,allen_template.shape[0]-10,nbins).astype(int)\n",
    "# i = 0\n",
    "# for ax in axs.ravel():\n",
    "#     bin = bins[i]\n",
    "#     img = allen_template[bin,:,:]\n",
    "#     if img.max()==0:\n",
    "#         continue\n",
    "#     vmin,vmax=np.percentile(img[img>0].ravel(),[5,95])\n",
    "#     ax.imshow(img,vmin=vmin,vmax=vmax,cmap='jet')\n",
    "#     ax.set_title(bin)\n",
    "#     ax.set_axis_off()\n",
    "#     i+=1\n",
    "# plt.subplots_adjust(wspace=0, \n",
    "#                     hspace=0.1)"
   ]
  },
  {
   "cell_type": "code",
   "execution_count": 5,
   "metadata": {},
   "outputs": [
    {
     "name": "stdout",
     "output_type": "stream",
     "text": [
      "/greendata/GeneralStorage/fangming/projects/dredfish/data_dump/DPNMF_PolyA_2021Nov19_v3_spatialreg_\n"
     ]
    }
   ],
   "source": [
    "# dredFISH data input\n",
    "dataset   = 'DPNMF_PolyA_2021Nov19' # dataset tag\n",
    "data_path = f'/greendata/Images2021/gaby/dredFISH/DPNMF_PolyA_2021Nov19/results/raw_fishdata_Mar30.h5ad'\n",
    "\n",
    "# ## output\n",
    "version = 'v3'\n",
    "outdir  = '/greendata/GeneralStorage/fangming/projects/dredfish/data_dump/'\n",
    "reg_output_prefix = os.path.join(outdir, f\"{dataset}_{version}_spatialreg_\")\n",
    "print(reg_output_prefix)\n",
    "reg_force_overwrite = True"
   ]
  },
  {
   "cell_type": "code",
   "execution_count": null,
   "metadata": {},
   "outputs": [],
   "source": [
    "df = anndata.read(data_path, backed='r').obs\n",
    "XY = df[['stage_x', 'stage_y']].values\n",
    "XY"
   ]
  },
  {
   "cell_type": "code",
   "execution_count": null,
   "metadata": {},
   "outputs": [],
   "source": [
    "registration_idx  = 720 # 916\n",
    "registration_flip = False # True\n",
    "regu.check_run(XY, \n",
    "                allen_template, \n",
    "                allen_annot, \n",
    "                allen_maps,\n",
    "                registration_idx, \n",
    "                flip=registration_flip)"
   ]
  },
  {
   "cell_type": "code",
   "execution_count": null,
   "metadata": {},
   "outputs": [],
   "source": [
    "spatial_data = regu.real_run(XY, \n",
    "                            allen_template, \n",
    "                            allen_annot, \n",
    "                            allen_maps,\n",
    "                            registration_idx, \n",
    "                            flip=registration_flip,\n",
    "                            name=\"\", \n",
    "                            outprefix=registration_output_prefix, # CHECK THIS\n",
    "                            force=registration_force_overwrite,\n",
    "                            )\n",
    "# update results to anndata (cell level atrributes)\n",
    "df_res = pd.DataFrame()\n",
    "df_res['coord_x']        = np.array(spatial_data.points_rot[:,0])\n",
    "df_res['coord_y']        = np.array(spatial_data.points_rot[:,1])\n",
    "df_res['region_id']      = np.array(spatial_data.region_id)\n",
    "df_res['region_color']   = np.array(spatial_data.region_color) \n",
    "df_res['region_acronym'] = np.array(spatial_data.region_acronym)\n",
    "# self.save_data()"
   ]
  },
  {
   "cell_type": "code",
   "execution_count": null,
   "metadata": {},
   "outputs": [],
   "source": [
    "df_res"
   ]
  },
  {
   "cell_type": "code",
   "execution_count": null,
   "metadata": {},
   "outputs": [],
   "source": [
    "# check results -- plot all cells\n",
    "def plot_spatial(df_res):\n",
    "    \"\"\"\n",
    "    \"\"\"\n",
    "    fig, ax = plt.subplots(1, 1, figsize=(8,6))\n",
    "    ax.scatter(df_res['coord_x'], \n",
    "               df_res['coord_y'],\n",
    "               c=df_res['region_color'],\n",
    "               s=0.05,\n",
    "               rasterized=True,\n",
    "              )\n",
    "    ax.invert_yaxis()\n",
    "    ax.set_aspect('equal')\n",
    "    ax.set_title('Cells colored by brain regions (moved ABA)')\n",
    "    ax.axis('off')\n",
    "    plt.show()"
   ]
  },
  {
   "cell_type": "code",
   "execution_count": null,
   "metadata": {},
   "outputs": [],
   "source": [
    "plot_spatial(df_res)"
   ]
  }
 ],
 "metadata": {
  "kernelspec": {
   "display_name": "Python 3 (ipykernel)",
   "language": "python",
   "name": "python3"
  },
  "language_info": {
   "codemirror_mode": {
    "name": "ipython",
    "version": 3
   },
   "file_extension": ".py",
   "mimetype": "text/x-python",
   "name": "python",
   "nbconvert_exporter": "python",
   "pygments_lexer": "ipython3",
   "version": "3.10.2"
  },
  "vscode": {
   "interpreter": {
    "hash": "0f32205452304de1703f4920855749f2c38d40a01dd822a6d60d8fec94a4da8f"
   }
  }
 },
 "nbformat": 4,
 "nbformat_minor": 4
}
