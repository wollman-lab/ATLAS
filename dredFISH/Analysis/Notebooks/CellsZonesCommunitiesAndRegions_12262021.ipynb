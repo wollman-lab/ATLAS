{
 "cells": [
  {
   "cell_type": "markdown",
   "id": "010b6eac-92c9-4ba4-a12f-a27bd4658781",
   "metadata": {},
   "source": [
    "#### Imports"
   ]
  },
  {
   "cell_type": "code",
   "execution_count": 1,
   "id": "099bfeb6-de1f-4f3a-8731-1364ba4c1ff9",
   "metadata": {},
   "outputs": [],
   "source": [
    "from dredFISH.Analysis.TissueGraph import *\n",
    "from dredFISH.Visualization.Viz import *\n",
    "\n",
    "from MERFISH_Objects.FISHData import *\n",
    "\n",
    "from sklearn.preprocessing import normalize\n",
    "\n",
    "import matplotlib.pyplot as plt "
   ]
  },
  {
   "cell_type": "markdown",
   "id": "ccf642a9-a784-4363-a59a-b19bc0a6f682",
   "metadata": {},
   "source": [
    "#### Load data"
   ]
  },
  {
   "cell_type": "raw",
   "id": "e18ee667-e729-4694-8e07-61cec557ea81",
   "metadata": {},
   "source": [
    "base_path = '/bigstore/Images2021/gaby/dredFISH/DPNMF_PolyA_2021Nov19/'\n",
    "dataset = 'DPNMF_PolyA_2021Nov19'\n",
    "fishdata = FISHData(os.path.join(base_path,'fishdata'))\n",
    "data = fishdata.load_data('h5ad',dataset=dataset)\n",
    "data.obs_names_make_unique()\n",
    "\n",
    "data.X = data.layers['total_vectors']\n",
    "data = data[np.isnan(data.X.max(1))==False]\n",
    "\n",
    "data.X = data.X/data.obs['total_signal'][:,None]\n",
    "data.X = data.X - np.array([np.percentile(data.X[:,i],25) for i in range(data.X.shape[1])])\n",
    "data.X = data.X / np.array([np.percentile(data.X[:,i],75) for i in range(data.X.shape[1])])\n",
    "data.X = normalize(data.X)\n",
    "\n",
    "XY = np.asarray([data.obs['stage_y'], data.obs['stage_x']])\n",
    "XY = np.transpose(XY)\n",
    "data.obsm['stage'] = XY"
   ]
  },
  {
   "cell_type": "markdown",
   "id": "ee51e708-f2aa-42fb-967c-ec6d0dd099be",
   "metadata": {},
   "source": [
    "#### Build layers 1-2: cells and zones"
   ]
  },
  {
   "cell_type": "raw",
   "id": "fba15eb8-de90-4dd4-bdd8-56681b25d322",
   "metadata": {},
   "source": [
    "TMG = TissueMultiGraph()\n",
    "TMG.create_cell_and_zone_layers(XY,data.X)\n",
    "TMG.add_geoms()"
   ]
  },
  {
   "cell_type": "code",
   "execution_count": 2,
   "id": "eea88da0-618b-4f15-b1eb-8253867d1266",
   "metadata": {},
   "outputs": [],
   "source": [
    "TMG = TissueMultiGraph('TMG_dev7.pkl')\n",
    "TMG.Layers=TMG.Layers[0:2]"
   ]
  },
  {
   "cell_type": "markdown",
   "id": "a5673364-d6d2-42e9-a348-6f9c38a42a1f",
   "metadata": {
    "tags": []
   },
   "source": [
    "#### Build layers 3-4: communities and regions "
   ]
  },
  {
   "cell_type": "code",
   "execution_count": 3,
   "id": "4d05a0f2-e24a-46b8-baa8-fa5f360e4168",
   "metadata": {},
   "outputs": [
    {
     "name": "stderr",
     "output_type": "stream",
     "text": [
      "/home/rwollman/miniconda3/envs/dredFISH/lib/python3.9/site-packages/scipy/spatial/distance.py:1290: RuntimeWarning: invalid value encountered in true_divide\n",
      "  p = p / np.sum(p, axis=axis, keepdims=True)\n",
      "/home/rwollman/miniconda3/envs/dredFISH/lib/python3.9/site-packages/scipy/spatial/distance.py:1291: RuntimeWarning: invalid value encountered in true_divide\n",
      "  q = q / np.sum(q, axis=axis, keepdims=True)\n",
      "/home/rwollman/MyProjects/MaximallyInformativeBiocartography/dredFISH/dredFISH/Analysis/TissueGraph.py:883: RuntimeWarning: Mean of empty slice\n",
      "  Smoothed[j,i+1] = np.nanmean(VecToSmooth[ix])\n"
     ]
    },
    {
     "name": "stdout",
     "output_type": "stream",
     "text": [
      "Calling initial optimization\n",
      " \n",
      " Func-count     x          f(x)          Procedure\n",
      "    1        11.5208     -1.28394        initial\n",
      "    2        18.5792     -1.36404        golden\n",
      "    3        22.9416     -1.36269        golden\n",
      "    4        20.6089     -1.40418        parabolic\n",
      "    5        20.7424      -1.3733        parabolic\n",
      "    6        19.6793      -1.3406        parabolic\n",
      "    7        20.2538     -1.37771        golden\n",
      "    8        20.4909     -1.38672        parabolic\n",
      "    9        20.6599     -1.33532        golden\n",
      "   10        20.5638     -1.33865        golden\n",
      "   11        20.6283     -1.34424        golden\n",
      "   12        20.5916      -1.3136        golden\n",
      "   13        20.6163     -1.36303        golden\n",
      "   14        20.6023     -1.34367        golden\n",
      "   15        20.6122     -1.30492        golden\n",
      "\n",
      "Optimization terminated successfully;\n",
      "The returned value satisfies the termination criteria\n",
      "(using xtol =  0.01 )\n",
      "Number of types: 130 initial entropy: 1.4041761493535878 number of evals: 15\n"
     ]
    }
   ],
   "source": [
    "TMG.create_communities_and_region_layers(min_neigh_size = 10)\n"
   ]
  },
  {
   "cell_type": "code",
   "execution_count": 4,
   "id": "5a5bf151-2230-4d1c-b49c-b063ab954743",
   "metadata": {},
   "outputs": [],
   "source": [
    "TMG.save('TMG_dev8.pkl')"
   ]
  }
 ],
 "metadata": {
  "kernelspec": {
   "display_name": "Python [conda env:dredFISH]",
   "language": "python",
   "name": "conda-env-dredFISH-py"
  },
  "language_info": {
   "codemirror_mode": {
    "name": "ipython",
    "version": 3
   },
   "file_extension": ".py",
   "mimetype": "text/x-python",
   "name": "python",
   "nbconvert_exporter": "python",
   "pygments_lexer": "ipython3",
   "version": "3.9.7"
  }
 },
 "nbformat": 4,
 "nbformat_minor": 5
}
