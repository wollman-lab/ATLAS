{
 "cells": [
  {
   "cell_type": "markdown",
   "id": "010b6eac-92c9-4ba4-a12f-a27bd4658781",
   "metadata": {},
   "source": [
    "#### Imports"
   ]
  },
  {
   "cell_type": "code",
   "execution_count": 1,
   "id": "099bfeb6-de1f-4f3a-8731-1364ba4c1ff9",
   "metadata": {},
   "outputs": [],
   "source": [
    "import sys\n",
    "sys.path.insert(0, '/home/fangming/projects/dredfish/packages/dredFISH')\n",
    "sys.path.insert(0, '/home/fangming/projects/dredfish/packages/PySpots')\n",
    "from dredFISH.Analysis.TissueGraph import *\n",
    "from dredFISH.Visualization.Viz import *\n",
    "\n",
    "import matplotlib.pyplot as plt "
   ]
  },
  {
   "cell_type": "markdown",
   "id": "ccf642a9-a784-4363-a59a-b19bc0a6f682",
   "metadata": {},
   "source": [
    "#### Load data"
   ]
  },
  {
   "cell_type": "code",
   "execution_count": 2,
   "id": "37ac6f93-652b-4498-8ae9-5fd459a2ee86",
   "metadata": {},
   "outputs": [
    {
     "name": "stderr",
     "output_type": "stream",
     "text": [
      "Observation names are not unique. To make them unique, call `.obs_names_make_unique`.\n",
      "/home/fangming/projects/dredfish/packages/dredFISH/dredFISH/Analysis/TissueGraph.py:243: FutureWarning: Support for multi-dimensional indexing (e.g. `obj[:, None]`) is deprecated and will be removed in a future version.  Convert to a numpy array before indexing instead.\n",
      "  data.X = data.X/data.obs['total_signal'][:,None]\n"
     ]
    },
    {
     "name": "stdout",
     "output_type": "stream",
     "text": [
      "CPU times: user 1.13 s, sys: 817 ms, total: 1.95 s\n",
      "Wall time: 1.95 s\n"
     ]
    }
   ],
   "source": [
    "%%time\n",
    "base_path = '/bigstore/Images2021/gaby/dredFISH/DPNMF_PolyA_2021Nov19/'\n",
    "dataset = 'DPNMF_PolyA_2021Nov19'\n",
    "\n",
    "TMG = TissueMultiGraph()\n",
    "XY,PNMF = TMG.load_and_normalize_data(base_path,dataset)"
   ]
  },
  {
   "cell_type": "markdown",
   "id": "ee51e708-f2aa-42fb-967c-ec6d0dd099be",
   "metadata": {},
   "source": [
    "#### Build layers 1-2: cells and zones"
   ]
  },
  {
   "cell_type": "code",
   "execution_count": 3,
   "id": "fc300bbc-6173-430c-b5dd-f2f75f2bc736",
   "metadata": {},
   "outputs": [
    {
     "name": "stdout",
     "output_type": "stream",
     "text": [
      "Calling initial optimization\n",
      " \n",
      " Func-count     x          f(x)          Procedure\n",
      "    1        11.5208     -7.60178        initial\n",
      "    2        18.5792     -7.35321        golden\n",
      "    3        7.15843     -7.70148        golden\n",
      "    4        4.46235     -7.49562        golden\n",
      "    5        8.52661     -7.69949        parabolic\n",
      "    6        7.74081     -7.73794        parabolic\n",
      "    7         7.8336     -7.69651        parabolic\n",
      "    8        7.51836     -7.69433        golden\n",
      "    9        7.65584     -7.70754        golden\n",
      "   10        7.77625     -7.71905        golden\n",
      "   11        7.72251     -7.70388        parabolic\n",
      "   12        7.75435      -7.7035        golden\n",
      "   13        7.73382     -7.68911        golden\n",
      "   14        7.74598     -7.70269        golden\n",
      "   15        7.73748     -7.67691        golden\n",
      "\n",
      "Optimization terminated successfully;\n",
      "The returned value satisfies the termination criteria\n",
      "(using xtol =  0.01 )\n",
      "Number of types: 107 initial entropy: 7.737944071953079 number of evals: 15\n",
      "CPU times: user 25min 13s, sys: 57.7 s, total: 26min 11s\n",
      "Wall time: 17min 12s\n"
     ]
    }
   ],
   "source": [
    "%%time\n",
    "TMG.create_cell_and_zone_layers(XY,PNMF)\n"
   ]
  },
  {
   "cell_type": "code",
   "execution_count": 4,
   "id": "6e158498-8e36-4888-bfb1-e119acdbd372",
   "metadata": {},
   "outputs": [
    {
     "name": "stdout",
     "output_type": "stream",
     "text": [
      "CPU times: user 2min 4s, sys: 1.09 s, total: 2min 5s\n",
      "Wall time: 2min 5s\n"
     ]
    }
   ],
   "source": [
    "%%time\n",
    "TMG.add_geoms()"
   ]
  },
  {
   "cell_type": "code",
   "execution_count": 5,
   "id": "625cf2bf-63f0-4964-8c42-0dc2d6a9923d",
   "metadata": {},
   "outputs": [
    {
     "name": "stdout",
     "output_type": "stream",
     "text": [
      "CPU times: user 8min 21s, sys: 4.31 s, total: 8min 25s\n",
      "Wall time: 8min 23s\n"
     ]
    }
   ],
   "source": [
    "%%time\n",
    "# save Cond entropy values for later plotting\n",
    "TMG.Layers[0].calc_entropy_at_different_Leiden_resolutions()"
   ]
  },
  {
   "cell_type": "markdown",
   "id": "a5673364-d6d2-42e9-a348-6f9c38a42a1f",
   "metadata": {
    "tags": []
   },
   "source": [
    "#### Build layers 3: regions"
   ]
  },
  {
   "cell_type": "code",
   "execution_count": 6,
   "id": "4d05a0f2-e24a-46b8-baa8-fa5f360e4168",
   "metadata": {
    "tags": []
   },
   "outputs": [
    {
     "name": "stdout",
     "output_type": "stream",
     "text": [
      "Waiting for connection file: ~/.ipython/profile_default/security/ipcontroller-client.json\n"
     ]
    },
    {
     "ename": "OSError",
     "evalue": "Connection file '~/.ipython/profile_default/security/ipcontroller-client.json' not found.\nYou have attempted to connect to an IPython Cluster but no Controller could be found.\nPlease double-check your configuration and ensure that a cluster is running.",
     "output_type": "error",
     "traceback": [
      "\u001b[0;31m---------------------------------------------------------------------------\u001b[0m",
      "\u001b[0;31mOSError\u001b[0m                                   Traceback (most recent call last)",
      "File \u001b[0;32m<timed exec>:1\u001b[0m, in \u001b[0;36m<module>\u001b[0;34m\u001b[0m\n",
      "File \u001b[0;32m~/projects/dredfish/packages/dredFISH/dredFISH/Analysis/TissueGraph.py:312\u001b[0m, in \u001b[0;36mTissueMultiGraph.find_topics\u001b[0;34m(self, ordr, max_num_of_topics, use_parallel)\u001b[0m\n\u001b[1;32m    308\u001b[0m Ntopics \u001b[38;5;241m=\u001b[39m np\u001b[38;5;241m.\u001b[39marange(\u001b[38;5;241m2\u001b[39m,max_num_of_topics)  \n\u001b[1;32m    310\u001b[0m \u001b[38;5;28;01mif\u001b[39;00m use_parallel: \n\u001b[1;32m    311\u001b[0m     \u001b[38;5;66;03m# start parallel engine\u001b[39;00m\n\u001b[0;32m--> 312\u001b[0m     rc \u001b[38;5;241m=\u001b[39m \u001b[43mipp\u001b[49m\u001b[38;5;241;43m.\u001b[39;49m\u001b[43mClient\u001b[49m\u001b[43m(\u001b[49m\u001b[43m)\u001b[49m\n\u001b[1;32m    313\u001b[0m     \u001b[38;5;28mself\u001b[39m\u001b[38;5;241m.\u001b[39mdview \u001b[38;5;241m=\u001b[39m rc[:]\n\u001b[1;32m    314\u001b[0m     \u001b[38;5;28mself\u001b[39m\u001b[38;5;241m.\u001b[39mdview\u001b[38;5;241m.\u001b[39mpush({\u001b[38;5;124m'\u001b[39m\u001b[38;5;124mEnv\u001b[39m\u001b[38;5;124m'\u001b[39m: Env})\n",
      "File \u001b[0;32m~/anaconda3/envs/routine/lib/python3.10/site-packages/ipyparallel/client/client.py:462\u001b[0m, in \u001b[0;36mClient.__init__\u001b[0;34m(self, connection_info, url_file, profile, profile_dir, ipython_dir, context, debug, sshserver, sshkey, password, paramiko, timeout, cluster_id, cluster, **extra_args)\u001b[0m\n\u001b[1;32m    460\u001b[0m \u001b[38;5;28;01mif\u001b[39;00m \u001b[38;5;129;01mnot\u001b[39;00m os\u001b[38;5;241m.\u001b[39mpath\u001b[38;5;241m.\u001b[39mexists(connection_file):\n\u001b[1;32m    461\u001b[0m     msg \u001b[38;5;241m=\u001b[39m \u001b[38;5;124m'\u001b[39m\u001b[38;5;130;01m\\n\u001b[39;00m\u001b[38;5;124m'\u001b[39m\u001b[38;5;241m.\u001b[39mjoin([\u001b[38;5;124mf\u001b[39m\u001b[38;5;124m\"\u001b[39m\u001b[38;5;124mConnection file \u001b[39m\u001b[38;5;132;01m{\u001b[39;00mshort\u001b[38;5;132;01m!r}\u001b[39;00m\u001b[38;5;124m not found.\u001b[39m\u001b[38;5;124m\"\u001b[39m, no_file_msg])\n\u001b[0;32m--> 462\u001b[0m     \u001b[38;5;28;01mraise\u001b[39;00m \u001b[38;5;167;01mOSError\u001b[39;00m(msg)\n\u001b[1;32m    464\u001b[0m \u001b[38;5;28;01mwith\u001b[39;00m \u001b[38;5;28mopen\u001b[39m(connection_file) \u001b[38;5;28;01mas\u001b[39;00m f:\n\u001b[1;32m    465\u001b[0m     connection_info \u001b[38;5;241m=\u001b[39m json\u001b[38;5;241m.\u001b[39mload(f)\n",
      "\u001b[0;31mOSError\u001b[0m: Connection file '~/.ipython/profile_default/security/ipcontroller-client.json' not found.\nYou have attempted to connect to an IPython Cluster but no Controller could be found.\nPlease double-check your configuration and ensure that a cluster is running."
     ]
    }
   ],
   "source": [
    "%%time\n",
    "topics = TMG.find_topics(use_parallel=True)\n",
    "TMG.create_region_layer(topics)\n"
   ]
  },
  {
   "cell_type": "markdown",
   "id": "9aab4088-dc58-4789-8ecd-e64a73585ee9",
   "metadata": {},
   "source": [
    "### Save"
   ]
  },
  {
   "cell_type": "code",
   "execution_count": 7,
   "id": "703cd489-5220-40d9-80b9-24be72477c4a",
   "metadata": {},
   "outputs": [],
   "source": [
    "TMG.save('TMG_example_fx_v1.pkl')"
   ]
  },
  {
   "cell_type": "code",
   "execution_count": 10,
   "id": "b9f7d2ce-a9be-4ff1-b9d5-24f1f8233949",
   "metadata": {},
   "outputs": [
    {
     "data": {
      "text/plain": [
       "['Geoms',\n",
       " 'Layers',\n",
       " 'N',\n",
       " 'Ntypes',\n",
       " 'Views',\n",
       " '__class__',\n",
       " '__delattr__',\n",
       " '__dict__',\n",
       " '__dir__',\n",
       " '__doc__',\n",
       " '__eq__',\n",
       " '__format__',\n",
       " '__ge__',\n",
       " '__getattribute__',\n",
       " '__gt__',\n",
       " '__hash__',\n",
       " '__init__',\n",
       " '__init_subclass__',\n",
       " '__le__',\n",
       " '__lt__',\n",
       " '__module__',\n",
       " '__ne__',\n",
       " '__new__',\n",
       " '__reduce__',\n",
       " '__reduce_ex__',\n",
       " '__repr__',\n",
       " '__setattr__',\n",
       " '__sizeof__',\n",
       " '__slotnames__',\n",
       " '__str__',\n",
       " '__subclasshook__',\n",
       " '__weakref__',\n",
       " 'add_geoms',\n",
       " 'add_view',\n",
       " 'cell_attributes',\n",
       " 'cond_entropy',\n",
       " 'create_cell_and_zone_layers',\n",
       " 'create_region_layer',\n",
       " 'dview',\n",
       " 'fill_holes',\n",
       " 'find_regions_edge_level',\n",
       " 'find_topics',\n",
       " 'find_upstream_layer',\n",
       " 'get_raster',\n",
       " 'layers_graph',\n",
       " 'load_and_normalize_data',\n",
       " 'map_to_cell_level',\n",
       " 'save']"
      ]
     },
     "execution_count": 10,
     "metadata": {},
     "output_type": "execute_result"
    }
   ],
   "source": [
    "dir(TMG)"
   ]
  },
  {
   "cell_type": "code",
   "execution_count": 11,
   "id": "e4075e01-3e7c-479d-9c05-eb4d1167635f",
   "metadata": {},
   "outputs": [
    {
     "data": {
      "text/html": [
       "<div>\n",
       "<style scoped>\n",
       "    .dataframe tbody tr th:only-of-type {\n",
       "        vertical-align: middle;\n",
       "    }\n",
       "\n",
       "    .dataframe tbody tr th {\n",
       "        vertical-align: top;\n",
       "    }\n",
       "\n",
       "    .dataframe thead th {\n",
       "        text-align: right;\n",
       "    }\n",
       "</style>\n",
       "<table border=\"1\" class=\"dataframe\">\n",
       "  <thead>\n",
       "    <tr style=\"text-align: right;\">\n",
       "      <th></th>\n",
       "    </tr>\n",
       "  </thead>\n",
       "  <tbody>\n",
       "  </tbody>\n",
       "</table>\n",
       "</div>"
      ],
      "text/plain": [
       "Empty DataFrame\n",
       "Columns: []\n",
       "Index: []"
      ]
     },
     "execution_count": 11,
     "metadata": {},
     "output_type": "execute_result"
    }
   ],
   "source": [
    "TMG.cell_attributes"
   ]
  },
  {
   "cell_type": "code",
   "execution_count": 14,
   "id": "b9d55394-79a6-4cf8-ad1d-ce22222eb49e",
   "metadata": {},
   "outputs": [],
   "source": [
    "TG = TMG.Layers[0]"
   ]
  },
  {
   "cell_type": "code",
   "execution_count": 16,
   "id": "5e8be648-1e71-4588-9be3-7f25f437a5c7",
   "metadata": {},
   "outputs": [
    {
     "data": {
      "text/plain": [
       "['Dtype',\n",
       " 'FG',\n",
       " 'N',\n",
       " 'Ntypes',\n",
       " 'SG',\n",
       " 'Type',\n",
       " 'Type2',\n",
       " 'UpstreamMap',\n",
       " 'X',\n",
       " 'XY',\n",
       " 'Y',\n",
       " '__class__',\n",
       " '__delattr__',\n",
       " '__dict__',\n",
       " '__dir__',\n",
       " '__doc__',\n",
       " '__eq__',\n",
       " '__format__',\n",
       " '__ge__',\n",
       " '__getattribute__',\n",
       " '__gt__',\n",
       " '__hash__',\n",
       " '__init__',\n",
       " '__init_subclass__',\n",
       " '__le__',\n",
       " '__lt__',\n",
       " '__module__',\n",
       " '__ne__',\n",
       " '__new__',\n",
       " '__reduce__',\n",
       " '__reduce_ex__',\n",
       " '__repr__',\n",
       " '__setattr__',\n",
       " '__sizeof__',\n",
       " '__slotnames__',\n",
       " '__str__',\n",
       " '__subclasshook__',\n",
       " '__weakref__',\n",
       " 'build_spatial_graph',\n",
       " 'calc_entropy_at_different_Leiden_resolutions',\n",
       " 'calc_type2',\n",
       " 'cond_entropy',\n",
       " 'cond_entropy_df',\n",
       " 'contract_graph',\n",
       " 'extract_environments',\n",
       " 'feature_mat',\n",
       " 'feature_type_mat',\n",
       " 'gradient_magnitude',\n",
       " 'graph_local_avg',\n",
       " 'graph_local_median',\n",
       " 'layer_type',\n",
       " 'multilayer_Leiden_with_cond_entropy',\n",
       " 'node_size',\n",
       " 'type_freq',\n",
       " 'watershed']"
      ]
     },
     "execution_count": 16,
     "metadata": {},
     "output_type": "execute_result"
    }
   ],
   "source": [
    "dir(TG)"
   ]
  },
  {
   "cell_type": "code",
   "execution_count": 18,
   "id": "f45b3192-534a-47e8-96f1-11ff7636729a",
   "metadata": {},
   "outputs": [
    {
     "data": {
      "text/plain": [
       "<igraph.Graph at 0x7fd374419210>"
      ]
     },
     "execution_count": 18,
     "metadata": {},
     "output_type": "execute_result"
    }
   ],
   "source": [
    "TG.SG"
   ]
  },
  {
   "cell_type": "code",
   "execution_count": 21,
   "id": "d1ace433-c312-47ef-9588-100dcaa18253",
   "metadata": {},
   "outputs": [
    {
     "data": {
      "text/plain": [
       "array([[-3747.98193262, -3741.71205264],\n",
       "       [-3531.0757215 , -3742.43823527],\n",
       "       [-3691.03543921, -3743.11154249],\n",
       "       ...,\n",
       "       [ 3037.9403606 , -2410.89280518],\n",
       "       [ 2986.14603613, -2411.23177832],\n",
       "       [ 3183.07582324, -2411.71982324]])"
      ]
     },
     "execution_count": 21,
     "metadata": {},
     "output_type": "execute_result"
    }
   ],
   "source": [
    "TG.XY"
   ]
  },
  {
   "cell_type": "code",
   "execution_count": 23,
   "id": "e81829fa-f6bb-4980-8923-90804b227312",
   "metadata": {},
   "outputs": [
    {
     "data": {
      "text/plain": [
       "ArrayView([[ 0.31305954,  0.16653173,  0.14215192, ...,  0.07231783,\n",
       "             0.20829885,  0.18233976],\n",
       "           [ 0.1240568 ,  0.37784585,  0.47153735, ...,  0.07814332,\n",
       "             0.15456934,  0.21423572],\n",
       "           [ 0.285935  ,  0.18951494,  0.14308624, ...,  0.20446725,\n",
       "             0.21409354,  0.13887455],\n",
       "           ...,\n",
       "           [-0.08419434, -0.05871325, -0.04663565, ...,  0.02263566,\n",
       "            -0.04005145, -0.0105409 ],\n",
       "           [ 0.01110965,  0.01287316,  0.0361967 , ...,  0.9144609 ,\n",
       "             0.04108392,  0.04593695],\n",
       "           [ 0.20274548,  0.19979024,  0.18276827, ...,  0.22843441,\n",
       "             0.15715098,  0.18876259]], dtype=float32)"
      ]
     },
     "execution_count": 23,
     "metadata": {},
     "output_type": "execute_result"
    }
   ],
   "source": [
    "TG.feature_mat"
   ]
  },
  {
   "cell_type": "code",
   "execution_count": 24,
   "id": "2fd35411-d802-4629-b6ff-7ac4f7932e12",
   "metadata": {},
   "outputs": [
    {
     "data": {
      "text/plain": [
       "'cells'"
      ]
     },
     "execution_count": 24,
     "metadata": {},
     "output_type": "execute_result"
    }
   ],
   "source": [
    "TG.layer_type"
   ]
  },
  {
   "cell_type": "code",
   "execution_count": 25,
   "id": "cce65254-d064-4ba5-8cb9-cf812db83311",
   "metadata": {},
   "outputs": [
    {
     "data": {
      "text/plain": [
       "array([ 0.,  1.,  0., ..., 68., 22., 86.])"
      ]
     },
     "execution_count": 25,
     "metadata": {},
     "output_type": "execute_result"
    }
   ],
   "source": [
    "TG.Type"
   ]
  },
  {
   "cell_type": "code",
   "execution_count": 26,
   "id": "bd2173e6-ae4f-4ec3-b323-a74122da75dc",
   "metadata": {},
   "outputs": [
    {
     "data": {
      "text/plain": [
       "array([  0.,   1.,   2.,   3.,   4.,   5.,   6.,   7.,   8.,   9.,  10.,\n",
       "        11.,  12.,  13.,  14.,  15.,  16.,  17.,  18.,  19.,  20.,  21.,\n",
       "        22.,  23.,  24.,  25.,  26.,  27.,  28.,  29.,  30.,  31.,  32.,\n",
       "        33.,  34.,  35.,  36.,  37.,  38.,  39.,  40.,  41.,  42.,  43.,\n",
       "        44.,  45.,  46.,  47.,  48.,  49.,  50.,  51.,  52.,  53.,  54.,\n",
       "        55.,  56.,  57.,  58.,  59.,  60.,  61.,  62.,  63.,  64.,  65.,\n",
       "        66.,  67.,  68.,  69.,  70.,  71.,  72.,  73.,  74.,  75.,  76.,\n",
       "        77.,  78.,  79.,  80.,  81.,  82.,  83.,  84.,  85.,  86.,  87.,\n",
       "        88.,  89.,  90.,  91.,  92.,  93.,  94.,  95.,  96.,  97.,  98.,\n",
       "        99., 100., 101., 102., 103., 104., 105., 106.])"
      ]
     },
     "execution_count": 26,
     "metadata": {},
     "output_type": "execute_result"
    }
   ],
   "source": [
    "np.unique(TG.Type)"
   ]
  },
  {
   "cell_type": "code",
   "execution_count": 27,
   "id": "7fd97107-4e8b-40a0-8f0f-07bbf80a8342",
   "metadata": {},
   "outputs": [],
   "source": []
  },
  {
   "cell_type": "code",
   "execution_count": null,
   "id": "f864cbe4-d3d0-4fef-8a2d-59977e55870f",
   "metadata": {},
   "outputs": [],
   "source": []
  }
 ],
 "metadata": {
  "interpreter": {
   "hash": "232f8d06215062f61d321fc7446956117d6c46bb7076bf772bcda94cc0361d06"
  },
  "kernelspec": {
   "display_name": "Python 3 (ipykernel)",
   "language": "python",
   "name": "python3"
  },
  "language_info": {
   "codemirror_mode": {
    "name": "ipython",
    "version": 3
   },
   "file_extension": ".py",
   "mimetype": "text/x-python",
   "name": "python",
   "nbconvert_exporter": "python",
   "pygments_lexer": "ipython3",
   "version": "3.10.2"
  }
 },
 "nbformat": 4,
 "nbformat_minor": 5
}
