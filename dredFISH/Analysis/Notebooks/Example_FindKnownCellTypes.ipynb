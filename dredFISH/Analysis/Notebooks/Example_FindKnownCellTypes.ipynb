{
 "cells": [
  {
   "cell_type": "markdown",
   "id": "ee63b890-3f68-4f3f-ada8-c1399c7dcd82",
   "metadata": {
    "tags": []
   },
   "source": [
    "### Known cell type identification\n",
    "- use Allen Brain Institute SMART-seq data from the mouse isocortex and HPF (Yao et al. 2021 Cell) as the reference\n",
    "- TODO: subselect cell types based on brain regions"
   ]
  },
  {
   "cell_type": "code",
   "execution_count": 1,
   "id": "680d9789-5d29-415b-88dd-56885dec4690",
   "metadata": {},
   "outputs": [],
   "source": [
    "# import igraph\n",
    "import logging\n",
    "import matplotlib.pyplot as plt \n",
    "\n",
    "from dredFISH.Analysis import TissueGraph\n",
    "from dredFISH.Analysis import Classification\n",
    "from dredFISH.Utils import tmgu\n",
    "\n",
    "import importlib\n",
    "importlib.reload(TissueGraph)\n",
    "importlib.reload(Classification)\n",
    "importlib.reload(tmgu)\n",
    "\n",
    "logging.basicConfig(\n",
    "    format='%(asctime)s %(levelname)-8s %(message)s',\n",
    "    level=logging.INFO,\n",
    "    datefmt='%Y-%m-%d %H:%M:%S')"
   ]
  },
  {
   "cell_type": "code",
   "execution_count": 2,
   "id": "51715c37-e7f4-4d86-845f-62ab364b6d92",
   "metadata": {},
   "outputs": [
    {
     "name": "stdout",
     "output_type": "stream",
     "text": [
      "total 60M\n",
      "drwxrwxrwx 6 zach     wollmanlab   92 Jul  8  2022 ..\n",
      "lrwxrwxrwx 1 fangming wollmanlab   67 Jul  8  2022 DPNMF_PolyA_2021Nov19_Section_-1850X_270Y_matrix.csv -> ../Dataset1-t1/DPNMF_PolyA_2021Nov19_Section_-1850X_270Y_matrix.csv\n",
      "lrwxrwxrwx 1 fangming wollmanlab   69 Jul  8  2022 DPNMF_PolyA_2021Nov19_Section_-1850X_270Y_metadata.csv -> ../Dataset1-t1/DPNMF_PolyA_2021Nov19_Section_-1850X_270Y_metadata.csv\n",
      "-rw-r--r-- 1 fangming wollmanlab  132 Jul  8  2022 TMG.json\n",
      "-rw-r--r-- 1 fangming wollmanlab  53M Jul  8  2022 cell.h5ad\n",
      "-rw-r--r-- 1 fangming wollmanlab 6.8M Jul  8  2022 isozone.h5ad\n",
      "-rw-r--r-- 1 fangming wollmanlab    3 Jul  8  2022 Taxonomy_Allen_types.csv\n",
      "drwxr-xr-x 2 fangming wollmanlab 4.0K Jul  8  2022 .\n"
     ]
    }
   ],
   "source": [
    "basepth = '/bigstore/GeneralStorage/Data/dredFISH/Dataset1-t2'\n",
    "!ls -alhtr $basepth"
   ]
  },
  {
   "cell_type": "code",
   "execution_count": 3,
   "id": "4a969f11-80fb-40e9-9d57-6cc473379f5b",
   "metadata": {},
   "outputs": [
    {
     "name": "stderr",
     "output_type": "stream",
     "text": [
      "INFO:root:In TMG.create_cell_layer\n",
      "INFO:root:Started reading matrices and metadata\n",
      "INFO:root:done reading files\n",
      "INFO:root:77846 cells, minimum counts = 1872.0\n",
      "INFO:root:building spatial graphs\n",
      "INFO:root:Building spatial graphs for 1 sections\n"
     ]
    },
    {
     "name": "stdout",
     "output_type": "stream",
     "text": [
      "/bigstore/GeneralStorage/Data/dredFISH/Dataset1-t2/cell.h5ad\n"
     ]
    },
    {
     "name": "stderr",
     "output_type": "stream",
     "text": [
      "INFO:root:updating anndata\n",
      "INFO:root:done building spatial graph\n",
      "INFO:root:building feature graphs\n",
      "INFO:root:building feature graph using cosine\n",
      "INFO:root:done with create_cell_layer\n",
      "INFO:root:TMG has 1 Layers\n"
     ]
    },
    {
     "name": "stdout",
     "output_type": "stream",
     "text": [
      "CPU times: user 1min 32s, sys: 1min 21s, total: 2min 53s\n",
      "Wall time: 37.1 s\n"
     ]
    }
   ],
   "source": [
    "%%time\n",
    "# TMG object from scratch\n",
    "TMG = TissueGraph.TissueMultiGraph(basepath=basepth, \n",
    "                                   redo=True, # create an empty one\n",
    "                                  ) \n",
    "# add cell layer\n",
    "TMG.create_cell_layer(metric='cosine')\n",
    "logging.info(f\"TMG has {len(TMG.Layers)} Layers\")"
   ]
  },
  {
   "cell_type": "code",
   "execution_count": 4,
   "id": "b70ada40-8afe-45dc-9e1c-73a45c47a976",
   "metadata": {},
   "outputs": [
    {
     "name": "stderr",
     "output_type": "stream",
     "text": [
      "INFO:root:Loading and preprocessing data\n",
      "INFO:root:77846 cells, minimum counts = 1872.0\n",
      "INFO:root:iteration 1/3\n",
      "INFO:root:Current round: level_0\n",
      "INFO:root:iteration 2/3\n",
      "INFO:root:Current round: level_1_cluster_GABAergic\n",
      "INFO:root:Current round: level_1_cluster_Glutamatergic\n",
      "INFO:root:Current round: level_1_cluster_Non-Neuronal\n",
      "INFO:root:iteration 3/3\n",
      "INFO:root:Current round: level_2_cluster_CGE\n",
      "INFO:root:Current round: level_2_cluster_MGE\n",
      "INFO:root:Current round: level_2_cluster_Other\n",
      "INFO:root:Current round: level_2_cluster_DG/SUB/CA\n",
      "INFO:root:Current round: level_2_cluster_L2/3 IT\n",
      "INFO:root:Current round: level_2_cluster_L4/5/6 IT Car3\n",
      "INFO:root:Current round: level_2_cluster_NP/CT/L6b\n",
      "INFO:root:Current round: level_2_cluster_Other\n",
      "INFO:root:Current round: level_2_cluster_PT\n",
      "INFO:root:Current round: level_2_cluster_Other\n"
     ]
    },
    {
     "data": {
      "text/plain": [
       "((77846, 3),\n",
       " array([['GABAergic', 'MGE', 'Sst Chodl'],\n",
       "        ['GABAergic', 'MGE', 'Sst Chodl'],\n",
       "        ['GABAergic', 'MGE', 'Pvalb'],\n",
       "        ...,\n",
       "        ['Glutamatergic', 'NP/CT/L6b', 'L5/6 NP CTX'],\n",
       "        ['GABAergic', 'CGE', 'Lamp5'],\n",
       "        ['Glutamatergic', 'PT', 'L4 RSP-ACA']], dtype=object))"
      ]
     },
     "execution_count": 4,
     "metadata": {},
     "output_type": "execute_result"
    }
   ],
   "source": [
    "# create known cell type classifier and train and predict\n",
    "allen_classifier = Classification.KnownCellTypeClassifier(\n",
    "    TMG.Layers[0], \n",
    "    tax_name='Allen_types',\n",
    "    ref='allen_smrt_dpnmf',\n",
    "    ref_levels=['class_label', 'neighborhood_label', 'subclass_label'], #, 'cluster_label'], \n",
    "    model='knn',\n",
    ")\n",
    "allen_classifier.train(verbose=True)\n",
    "type_mat = allen_classifier.classify()\n",
    "\n",
    "type_mat.shape, type_mat"
   ]
  },
  {
   "cell_type": "code",
   "execution_count": 5,
   "id": "3d155a06-80be-4c43-bc57-a58b92740b70",
   "metadata": {},
   "outputs": [
    {
     "name": "stderr",
     "output_type": "stream",
     "text": [
      "INFO:root:TMG has 2 Layers\n"
     ]
    },
    {
     "name": "stdout",
     "output_type": "stream",
     "text": [
      "/bigstore/GeneralStorage/Data/dredFISH/Dataset1-t2/isozone.h5ad\n"
     ]
    }
   ],
   "source": [
    "# register results in TMG and create Isozones\n",
    "TMG.add_type_information(0, \n",
    "                         type_mat[:,-1], # only record the finest level of cell types\n",
    "                         allen_classifier.tax) # not exactly sure what .tax does\n",
    "TMG.create_isozone_layer()\n",
    "logging.info(f\"TMG has {len(TMG.Layers)} Layers\")"
   ]
  },
  {
   "cell_type": "markdown",
   "id": "ca84c824",
   "metadata": {},
   "source": [
    "### Save to files\n",
    "TMG is saved as a config json file, one AnnData file per layer, and one dataframe per taxonomy. "
   ]
  },
  {
   "cell_type": "code",
   "execution_count": 6,
   "id": "b014cefa",
   "metadata": {},
   "outputs": [
    {
     "name": "stderr",
     "output_type": "stream",
     "text": [
      "/home/fangming/anaconda3/envs/routine/lib/python3.10/site-packages/anndata/_core/anndata.py:1228: FutureWarning: The `inplace` parameter in pandas.Categorical.reorder_categories is deprecated and will be removed in a future version. Reordering categories will always return a new Categorical object.\n",
      "  c.reorder_categories(natsorted(c.categories), inplace=True)\n",
      "... storing 'Type' as categorical\n",
      "/home/fangming/anaconda3/envs/routine/lib/python3.10/site-packages/anndata/_core/anndata.py:1228: FutureWarning: The `inplace` parameter in pandas.Categorical.reorder_categories is deprecated and will be removed in a future version. Reordering categories will always return a new Categorical object.\n",
      "  c.reorder_categories(natsorted(c.categories), inplace=True)\n",
      "... storing 'Type' as categorical\n",
      "INFO:root:saved\n"
     ]
    },
    {
     "name": "stdout",
     "output_type": "stream",
     "text": [
      "CPU times: user 376 ms, sys: 150 ms, total: 526 ms\n",
      "Wall time: 649 ms\n"
     ]
    }
   ],
   "source": [
    "%%time\n",
    "TMG.save()"
   ]
  },
  {
   "cell_type": "markdown",
   "id": "0a7188d0-35a1-4137-8b25-37dd61769233",
   "metadata": {},
   "source": [
    "## check results"
   ]
  },
  {
   "cell_type": "code",
   "execution_count": 7,
   "id": "d463b564-3343-4d8b-b87a-8a6ee5dccf20",
   "metadata": {},
   "outputs": [
    {
     "name": "stdout",
     "output_type": "stream",
     "text": [
      "{\"layers_graph\": [[0, 1]], \"layer_taxonomy_mapping\": {\"0\": 0, \"1\": 0}, \"Taxonomies\": [\"Allen_types\"], \"Layers\": [\"cell\", \"isozone\"]}"
     ]
    }
   ],
   "source": [
    "!head $basepth\"/TMG.json\""
   ]
  }
 ],
 "metadata": {
  "interpreter": {
   "hash": "232f8d06215062f61d321fc7446956117d6c46bb7076bf772bcda94cc0361d06"
  },
  "kernelspec": {
   "display_name": "Python 3 (ipykernel)",
   "language": "python",
   "name": "python3"
  },
  "language_info": {
   "codemirror_mode": {
    "name": "ipython",
    "version": 3
   },
   "file_extension": ".py",
   "mimetype": "text/x-python",
   "name": "python",
   "nbconvert_exporter": "python",
   "pygments_lexer": "ipython3",
   "version": "3.10.2"
  }
 },
 "nbformat": 4,
 "nbformat_minor": 5
}
