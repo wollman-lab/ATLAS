{
 "cells": [
  {
   "cell_type": "code",
   "execution_count": 1,
   "id": "1ff96f6a-670a-40f1-bd5a-47398de60e74",
   "metadata": {},
   "outputs": [],
   "source": [
    "import time\n",
    "import numpy as np\n",
    "from scipy import sparse\n",
    "import pandas as pd\n",
    "import h5py\n",
    "import anndata\n",
    "\n",
    "from dredFISH.Analysis import basicu"
   ]
  },
  {
   "cell_type": "code",
   "execution_count": 10,
   "id": "3bcef6d1-0855-47f9-9c3d-0791ec7c3f16",
   "metadata": {},
   "outputs": [],
   "source": [
    "res_dir = '/bigstore/GeneralStorage/fangming/projects/dredfish/data/rna/'"
   ]
  },
  {
   "cell_type": "code",
   "execution_count": 3,
   "id": "bc5a8423-3bb4-4371-8378-764cad722ec1",
   "metadata": {},
   "outputs": [],
   "source": [
    "# ddir = '/bigstore/binfo/mouse/Brain/Sequencing/Allen_10X_CtxHippo/source/'\n",
    "ddir = '/bigstore/binfo/mouse/Brain/Sequencing/Allen_SmartSeq_CtxHippo/source/'"
   ]
  },
  {
   "cell_type": "markdown",
   "id": "f23f982e-f31f-40fe-83ec-f5bf3fa868fd",
   "metadata": {},
   "source": [
    "# load metadata"
   ]
  },
  {
   "cell_type": "code",
   "execution_count": 4,
   "id": "322a3be5-ac91-49dc-8dbf-b8886c488daa",
   "metadata": {},
   "outputs": [],
   "source": [
    "f = ddir + 'metadata.csv'\n",
    "df1 = pd.read_csv(f, low_memory=False).set_index('sample_name')\n",
    "f = ddir + 'tsne.csv'\n",
    "df2 = pd.read_csv(f, low_memory=False).set_index('sample_name')\n",
    "df = df1.join(df2) #.astype({'cluster_order': str})"
   ]
  },
  {
   "cell_type": "markdown",
   "id": "35b87a13-5f5b-4669-8f4e-198252ebabb1",
   "metadata": {},
   "source": [
    "# load data matrix \n",
    "Unpack the `hdf5` file:\n",
    "- `data` \n",
    "    - `exon` (csc_matrix)\n",
    "    - `t_exon` (csc_matrix)\n",
    "    - `total_exon_counts` (1d array)\n",
    "- `gene_names`  (1d array)\n",
    "- `sample_names`  (1d array)\n",
    "\n",
    "\n",
    "csc_matrix: dims, i, p, x\n",
    "scipy\n",
    "`csc_matrix((data, indices, indptr), [shape=(M, N)])`"
   ]
  },
  {
   "cell_type": "code",
   "execution_count": 5,
   "id": "c8eae700-b728-430e-886c-559489201256",
   "metadata": {},
   "outputs": [
    {
     "name": "stdout",
     "output_type": "stream",
     "text": [
      "<KeysViewHDF5 ['data', 'gene_names', 'sample_names']>\n",
      "<KeysViewHDF5 ['exon', 't_exon', 'total_exon_counts']>\n",
      "<KeysViewHDF5 ['dims', 'i', 'p', 'x']>\n",
      "[73363 45768]\n",
      "(73363, 45768)\n"
     ]
    }
   ],
   "source": [
    "ti = time.time()\n",
    "f = ddir + 'expression_matrix.hdf5'\n",
    "with h5py.File(f, 'r') as fh:\n",
    "    print(fh.keys())\n",
    "    print(fh['data'].keys())\n",
    "    print(fh['data']['exon'].keys())\n",
    "    \n",
    "    dat = fh['data']['exon']\n",
    "    dims = dat['dims'][()]\n",
    "    print(dims)\n",
    "\n",
    "    i = dat['i'][()]\n",
    "    p = dat['p'][()]\n",
    "    x = dat['x'][()]\n",
    "    mat = sparse.csc_matrix((x,i,p), shape=dims)\n",
    "    print(mat.shape)\n",
    "    \n",
    "    genes = fh['gene_names'][()]\n",
    "    genes = np.array([gene.decode() for gene in genes])\n",
    "    \n",
    "    cells = fh['sample_names'][()] \n",
    "    cells = np.array([cell.decode() for cell in cells])"
   ]
  },
  {
   "cell_type": "code",
   "execution_count": 6,
   "id": "d88a4f6c-2337-401e-b99f-f328cc1413e5",
   "metadata": {},
   "outputs": [
    {
     "data": {
      "text/plain": [
       "((73363,), (73347, 58), (73347,))"
      ]
     },
     "execution_count": 6,
     "metadata": {},
     "output_type": "execute_result"
    }
   ],
   "source": [
    "cells.shape, df.shape, np.intersect1d(cells, df.index.values).shape"
   ]
  },
  {
   "cell_type": "code",
   "execution_count": 7,
   "id": "a9f5a610-e7ee-489f-abc7-7c0170a3a8c9",
   "metadata": {},
   "outputs": [
    {
     "data": {
      "text/plain": [
       "0"
      ]
     },
     "execution_count": 7,
     "metadata": {},
     "output_type": "execute_result"
    }
   ],
   "source": [
    "# for each cell in meta, where it is in the matrix\n",
    "cell_idx = basicu.get_index_from_array(cells, df.index.values)\n",
    "(cell_idx == -1).sum()"
   ]
  },
  {
   "cell_type": "code",
   "execution_count": 8,
   "id": "b9ba419b-8dc2-48ba-8554-e31961c37b04",
   "metadata": {},
   "outputs": [
    {
     "name": "stderr",
     "output_type": "stream",
     "text": [
      "/tmp/ipykernel_1270/104210243.py:1: FutureWarning: X.dtype being converted to np.float32 from float64. In the next version of anndata (0.9) conversion will not be automatic. Pass dtype explicitly to avoid this warning. Pass `AnnData(X, dtype=X.dtype, ...)` to get the future behavour.\n",
      "  adata = anndata.AnnData(mat.tocsr()[cell_idx,:],  # mat -- csr: easy for row(cell) selection\n"
     ]
    },
    {
     "data": {
      "text/plain": [
       "AnnData object with n_obs × n_vars = 73347 × 45768\n",
       "    obs: 'donor_sex_id', 'donor_sex_label', 'donor_sex_color', 'region_id', 'region_label', 'region_color', 'platform_label', 'cluster_order', 'cluster_label', 'cluster_color', 'subclass_order', 'subclass_label', 'subclass_color', 'neighborhood_id', 'neighborhood_label', 'neighborhood_color', 'class_order', 'class_label', 'class_color', 'exp_component_name', 'external_donor_name_label', 'full_genotype_label', 'facs_population_plan_label', 'injection_roi_label', 'injection_materials_label', 'injection_method_label', 'injection_type_label', 'full_genotype_id', 'full_genotype_color', 'external_donor_name_id', 'external_donor_name_color', 'facs_population_plan_id', 'facs_population_plan_color', 'injection_materials_id', 'injection_materials_color', 'injection_method_id', 'injection_method_color', 'injection_roi_id', 'injection_roi_color', 'injection_type_id', 'injection_type_color', 'cell_type_accession_label', 'cell_type_alias_label', 'cell_type_alt_alias_label', 'cell_type_designation_label', 'cell_type_designation_id', 'cell_type_alt_alias_id', 'cell_type_alias_id', 'cell_type_accession_id', 'cell_type_designation_color', 'cell_type_alt_alias_color', 'cell_type_alias_color', 'cell_type_accession_color', 'cortical_layer_label', 'cortical_layer_order', 'cortical_layer_color', 'Lim1', 'Lim2'"
      ]
     },
     "execution_count": 8,
     "metadata": {},
     "output_type": "execute_result"
    }
   ],
   "source": [
    "adata = anndata.AnnData(mat.tocsr()[cell_idx,:],  # mat -- csr: easy for row(cell) selection\n",
    "                   var=pd.DataFrame(index=genes), \n",
    "                   obs=df)\n",
    "adata"
   ]
  },
  {
   "cell_type": "code",
   "execution_count": 11,
   "id": "e8a06404-9712-46d3-91eb-05bf166e6fa4",
   "metadata": {},
   "outputs": [
    {
     "name": "stdout",
     "output_type": "stream",
     "text": [
      "/bigstore/GeneralStorage/fangming/projects/dredfish/data/rna/scrna_ss_ctxhippo_a_exon_count_matrix_v5.h5ad\n"
     ]
    }
   ],
   "source": [
    "dataid = 'scrna_ss_ctxhippo_a'\n",
    "output = f'{res_dir}{dataid}_exon_count_matrix_v5.h5ad'\n",
    "print(output)\n",
    "adata.write(output)\n",
    "!chmod 444 $output"
   ]
  },
  {
   "cell_type": "markdown",
   "id": "f5cad6c3-e460-461a-8004-a62e4f0e53f9",
   "metadata": {},
   "source": [
    "# Done and check"
   ]
  },
  {
   "cell_type": "code",
   "execution_count": 12,
   "id": "3a0f0003-9dc1-4a30-a9d1-e9491dfeffa1",
   "metadata": {},
   "outputs": [
    {
     "data": {
      "text/plain": [
       "AnnData object with n_obs × n_vars = 73347 × 45768 backed at '/bigstore/GeneralStorage/fangming/projects/dredfish/data/rna/scrna_ss_ctxhippo_a_exon_count_matrix_v5.h5ad'\n",
       "    obs: 'donor_sex_id', 'donor_sex_label', 'donor_sex_color', 'region_id', 'region_label', 'region_color', 'platform_label', 'cluster_order', 'cluster_label', 'cluster_color', 'subclass_order', 'subclass_label', 'subclass_color', 'neighborhood_id', 'neighborhood_label', 'neighborhood_color', 'class_order', 'class_label', 'class_color', 'exp_component_name', 'external_donor_name_label', 'full_genotype_label', 'facs_population_plan_label', 'injection_roi_label', 'injection_materials_label', 'injection_method_label', 'injection_type_label', 'full_genotype_id', 'full_genotype_color', 'external_donor_name_id', 'external_donor_name_color', 'facs_population_plan_id', 'facs_population_plan_color', 'injection_materials_id', 'injection_materials_color', 'injection_method_id', 'injection_method_color', 'injection_roi_id', 'injection_roi_color', 'injection_type_id', 'injection_type_color', 'cell_type_accession_label', 'cell_type_alias_label', 'cell_type_alt_alias_label', 'cell_type_designation_label', 'cell_type_designation_id', 'cell_type_alt_alias_id', 'cell_type_alias_id', 'cell_type_accession_id', 'cell_type_designation_color', 'cell_type_alt_alias_color', 'cell_type_alias_color', 'cell_type_accession_color', 'cortical_layer_label', 'cortical_layer_order', 'cortical_layer_color', 'Lim1', 'Lim2'"
      ]
     },
     "execution_count": 12,
     "metadata": {},
     "output_type": "execute_result"
    }
   ],
   "source": [
    "# file = f'{res_dir}{dataid}_exon_count_matrix_v5.h5ad'\n",
    "file = output\n",
    "adata2 = anndata.read(file, backed='r')\n",
    "adata2"
   ]
  }
 ],
 "metadata": {
  "kernelspec": {
   "display_name": "Python 3 (ipykernel)",
   "language": "python",
   "name": "python3"
  },
  "language_info": {
   "codemirror_mode": {
    "name": "ipython",
    "version": 3
   },
   "file_extension": ".py",
   "mimetype": "text/x-python",
   "name": "python",
   "nbconvert_exporter": "python",
   "pygments_lexer": "ipython3",
   "version": "3.9.12"
  }
 },
 "nbformat": 4,
 "nbformat_minor": 5
}
