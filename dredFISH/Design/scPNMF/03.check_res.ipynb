{
 "cells": [
  {
   "cell_type": "code",
   "execution_count": 1,
   "id": "da0e2c2f-2af9-4d48-ad1d-29d7ee4de0ba",
   "metadata": {},
   "outputs": [],
   "source": [
    "# check res\n"
   ]
  },
  {
   "cell_type": "code",
   "execution_count": 2,
   "id": "8a571093-c03f-4be0-b02e-1a147bea4526",
   "metadata": {},
   "outputs": [],
   "source": [
    "import numpy as np\n",
    "import pandas as pd\n",
    "import glob\n",
    "import os\n",
    "\n",
    "import matplotlib.pyplot as plt\n",
    "import seaborn as sns\n",
    "\n",
    "from dredFISH.Analysis.__init__plots import *"
   ]
  },
  {
   "cell_type": "code",
   "execution_count": 3,
   "id": "7a734617-bf53-4108-8209-197652dfab3e",
   "metadata": {},
   "outputs": [
    {
     "name": "stdout",
     "output_type": "stream",
     "text": [
      "smrt_X_all_cells.csv\t       smrt_X_subL3n10_pnmfW_k24.csv\n",
      "smrt_X_all.npy\t\t       smrt_X_subL3n10_y_L3_dpnmfS_mu1_k24.csv\n",
      "smrt_X_all_y_L3.npy\t       smrt_X_subL3n10_y_L3_dpnmfW_mu1_k24.csv\n",
      "smrt_X_all_y_L5.npy\t       smrt_X_subL3n10_y_L3.npy\n",
      "smrt_X_subL3n1000_cells.csv    smrt_X_subL5n1000_cells.csv\n",
      "smrt_X_subL3n1000.npy\t       smrt_X_subL5n1000.npy\n",
      "smrt_X_subL3n1000_y_L3.npy     smrt_X_subL5n1000_y_L5.npy\n",
      "smrt_X_subL3n100_cells.csv     smrt_X_subL5n100_cells.csv\n",
      "smrt_X_subL3n100.npy\t       smrt_X_subL5n100.npy\n",
      "smrt_X_subL3n100_y_L3.npy      smrt_X_subL5n100_y_L5.npy\n",
      "smrt_X_subL3n10_cells.csv      smrt_X_subL5n10_cells.csv\n",
      "smrt_X_subL3n10.npy\t       smrt_X_subL5n10.npy\n",
      "smrt_X_subL3n10_pnmfS_k24.csv  smrt_X_subL5n10_y_L5.npy\n"
     ]
    }
   ],
   "source": [
    "ddir = \"/bigstore/GeneralStorage/fangming/projects/dredfish/res_dpnmf/\"\n",
    "!ls $ddir"
   ]
  },
  {
   "cell_type": "code",
   "execution_count": 4,
   "id": "72867f2a-ab45-4b85-99be-7c3fabddcfae",
   "metadata": {},
   "outputs": [
    {
     "name": "stdout",
     "output_type": "stream",
     "text": [
      "(420, 24) (10861, 24)\n",
      "CPU times: user 41.6 ms, sys: 20.6 ms, total: 62.1 ms\n",
      "Wall time: 123 ms\n"
     ]
    }
   ],
   "source": [
    "%%time\n",
    "f = os.path.join(ddir, 'smrt_X_subL3n10_pnmfS_k24.csv')\n",
    "s = pd.read_csv(f, index_col=0)\n",
    "\n",
    "f = os.path.join(ddir, 'smrt_X_subL3n10_pnmfW_k24.csv')\n",
    "w = pd.read_csv(f, index_col=0)\n",
    "\n",
    "print(s.shape, w.shape)"
   ]
  },
  {
   "cell_type": "code",
   "execution_count": 5,
   "id": "bf24f1de-fcda-42f8-89a8-6e15f466d789",
   "metadata": {},
   "outputs": [],
   "source": [
    "# scale and integerize and evaluate\n"
   ]
  },
  {
   "cell_type": "code",
   "execution_count": null,
   "id": "19f66321-2532-4e4e-b793-9c42348d2b11",
   "metadata": {},
   "outputs": [],
   "source": []
  }
 ],
 "metadata": {
  "kernelspec": {
   "display_name": "Python 3 (ipykernel)",
   "language": "python",
   "name": "python3"
  },
  "language_info": {
   "codemirror_mode": {
    "name": "ipython",
    "version": 3
   },
   "file_extension": ".py",
   "mimetype": "text/x-python",
   "name": "python",
   "nbconvert_exporter": "python",
   "pygments_lexer": "ipython3",
   "version": "3.9.12"
  }
 },
 "nbformat": 4,
 "nbformat_minor": 5
}
