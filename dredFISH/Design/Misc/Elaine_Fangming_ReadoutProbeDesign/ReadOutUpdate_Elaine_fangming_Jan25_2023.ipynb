{
 "cells": [
  {
   "cell_type": "code",
   "execution_count": 1,
   "metadata": {},
   "outputs": [],
   "source": [
    "import random \n",
    "import math\n",
    "import numpy as np\n",
    "import matplotlib.pyplot as plt\n",
    "from Bio.Seq import Seq"
   ]
  },
  {
   "cell_type": "code",
   "execution_count": 2,
   "metadata": {},
   "outputs": [],
   "source": [
    "def sampleSeq(length):\n",
    "    DNA = \"\"\n",
    "    for index in range(length):\n",
    "        DNA += random.choice(\"ATGC\")\n",
    "    return DNA\n",
    "\n",
    "def countACTG(seq):\n",
    "    aCount = 0\n",
    "    cCount = 0\n",
    "    tCount = 0\n",
    "    gCount = 0\n",
    "\n",
    "    for bp in seq:\n",
    "        if bp == \"A\":\n",
    "            aCount = aCount + 1\n",
    "        elif bp == \"C\":\n",
    "            cCount = cCount + 1\n",
    "        elif bp == \"T\":\n",
    "            tCount = tCount + 1\n",
    "        elif bp == \"G\":\n",
    "            gCount = gCount + 1\n",
    "\n",
    "    sequenceLength = len(seq)\n",
    "    \n",
    "    if (gCount+cCount)/sequenceLength >= 0.5 and (gCount+cCount)/sequenceLength <= 0.55 and cCount/sequenceLength >= 0.2 and cCount/sequenceLength <= 0.3 and aCount/sequenceLength <= 0.3:\n",
    "        return True\n",
    "    else:\n",
    "        return False\n",
    "\n",
    "def longruns(newSeq):\n",
    "    if (\"AAAA\" in newSeq) or (\"CCCC\" in newSeq) or (\"TTTTT\" in newSeq) or (\"GGGGG\" in newSeq):\n",
    "        return False\n",
    "    else: \n",
    "        return True \n",
    "\n",
    "def slideComparison(seq1, seq2):\n",
    "    maxOverlap = 0 \n",
    "    #print(seq1)\n",
    "    #print(seq2)\n",
    "    for x in range(2*len(seq1)-1):\n",
    "        overlap = 0\n",
    "        #comparing from the start of seq1 and the end of seq2\n",
    "        if x < len(seq1):  \n",
    "            temp1 = seq1[0:x+1]\n",
    "            temp2 = seq2[(-1-x):]\n",
    "        #now sliding seq2 forward against seq1 after they're lined up\n",
    "        else:\n",
    "            temp1 = seq1[x-(len(seq1)-1):]\n",
    "            temp2 = seq2[0:(len(seq2)-(x-(len(seq2)-1)))]\n",
    "        #each alignment stored in temps to check whether overlap is greeatre than the current max\n",
    "        for y in range(len(temp1)):\n",
    "            if temp1[y] == temp2[y]:\n",
    "                overlap += 1\n",
    "        if overlap > maxOverlap:\n",
    "            maxOverlap = overlap\n",
    "    return maxOverlap\n",
    "\n",
    "def slideComparison_debug(seq1, seq2):\n",
    "    \"\"\"\n",
    "    \"\"\"  \n",
    "    maxOverlap = 0 \n",
    "    maxSlide = 0 \n",
    "    #print(seq1)\n",
    "    #print(seq2)\n",
    "    for x in range(2*len(seq1)-1):\n",
    "        overlap = 0\n",
    "        #comparing from the start of seq1 and the end of seq2\n",
    "        if x < len(seq1):  \n",
    "            temp1 = seq1[0:x+1]\n",
    "            temp2 = seq2[(-1-x):]\n",
    "        #now sliding seq2 forward against seq1 after they're lined up\n",
    "        else:\n",
    "            temp1 = seq1[x-(len(seq1)-1):]\n",
    "            temp2 = seq2[0:(len(seq2)-(x-(len(seq2)-1)))]\n",
    "        #each alignment stored in temps to check whether overlap is greeatre than the current max\n",
    "        for y in range(len(temp1)):\n",
    "            if temp1[y] == temp2[y]:\n",
    "                overlap += 1\n",
    "        if overlap > maxOverlap:\n",
    "            maxOverlap = overlap\n",
    "            maxSlide = x\n",
    "        \n",
    "    return maxOverlap, maxSlide\n",
    "\n",
    "def allPossComp(seq1, seq2):\n",
    "    maxComp = slideComparison(seq1, seq2)\n",
    "    \n",
    "    seq1rev = str((Seq(seq1)).reverse_complement())\n",
    "    seq2rev = str((Seq(seq2)).reverse_complement())\n",
    "\n",
    "    f1r1 = slideComparison(seq1, seq1rev)\n",
    "    r1f2 = slideComparison(seq1rev, seq2)\n",
    "    f1r2 = slideComparison(seq1, seq2rev)\n",
    "    \n",
    "    if f1r1 > maxComp:\n",
    "        maxComp = r1f2\n",
    "    if r1f2> maxComp:\n",
    "        maxComp = r1f2\n",
    "    if f1r2 > maxComp:\n",
    "        maxComp = f1r2\n",
    "        \n",
    "    return maxComp\n",
    "\n",
    "def allPossComp_debug(seq1, seq2):\n",
    "    maxComp = slideComparison(seq1, seq2)\n",
    "    seqtypes = \"f1f2\"\n",
    "    \n",
    "    seq1rev = str((Seq(seq1)).reverse_complement())\n",
    "    seq2rev = str((Seq(seq2)).reverse_complement())\n",
    "\n",
    "    # f1r1 = slideComparison(seq1, seq1rev)\n",
    "    r1f2 = slideComparison(seq1rev, seq2)\n",
    "    f1r2 = slideComparison(seq1, seq2rev)\n",
    "    r1r2 = slideComparison(seq1rev, seq2rev)\n",
    "    \n",
    "    # if f1r1 > maxComp:\n",
    "    #     maxComp = f1r1\n",
    "    #     seqtypes = \"f1r1\"\n",
    "    if r1f2 > maxComp:\n",
    "        maxComp = r1f2\n",
    "        seqtypes = \"r1f2\"\n",
    "    if f1r2 > maxComp:\n",
    "        maxComp = f1r2\n",
    "        seqtypes = \"f1r2\"\n",
    "    if r1r2 > maxComp:\n",
    "        maxComp = r1r2\n",
    "        seqtypes = \"r1r2\"\n",
    "        \n",
    "    return maxComp, seqtypes\n",
    "\n",
    "def makeMatrix(seqList):\n",
    "    matrix = np.zeros((len(seqList), len(seqList)))\n",
    "    for curSeq in range(len(seqList)):\n",
    "        for seq in range(len(seqList)):\n",
    "            if seq > curSeq:\n",
    "                matrix[curSeq][seq] = allPossComp(seqList[curSeq], seqList[seq])\n",
    "                \n",
    "    return(matrix)"
   ]
  },
  {
   "cell_type": "code",
   "execution_count": 3,
   "metadata": {},
   "outputs": [],
   "source": [
    "def elimination(numSeq, length=20, length_overlap=10):\n",
    "    initial = sampleSeq(length)\n",
    "    while ((countACTG(initial) and longruns(initial))) == False:\n",
    "        initial = sampleSeq(length)\n",
    "    fullSeqList = [initial]\n",
    "    \n",
    "    while len(fullSeqList) < numSeq:\n",
    "        # print(len(fullSeqList))\n",
    "        \n",
    "        # generate random sequences\n",
    "        curSeq = sampleSeq(length)\n",
    "        # make sure they pass the ACTG and longruns thresholds \n",
    "        while ((countACTG(curSeq) and longruns(curSeq))) == False:\n",
    "            curSeq = sampleSeq(length)\n",
    "            \n",
    "        # make sure they don't cross hybridize\n",
    "        qualified = True # qualified\n",
    "        overlaps = []\n",
    "        for indivSeq in range(len(fullSeqList)):\n",
    "            overlap = allPossComp(curSeq, fullSeqList[indivSeq])\n",
    "            overlap_shadow = allPossComp(fullSeqList[indivSeq], curSeq)\n",
    "            \n",
    "            if overlap != overlap_shadow:\n",
    "                print(overlap, overlap_shadow)\n",
    "                print(fullSeqList[indivSeq], curSeq)\n",
    "                raise ValueError(\"something wrong\")\n",
    "                # break\n",
    "            \n",
    "            overlaps.append(overlap)\n",
    "            \n",
    "            if overlap >= length_overlap: \n",
    "                qualified = False  # not \n",
    "                # continue\n",
    "            \n",
    "        if qualified: \n",
    "            print(overlaps)\n",
    "            fullSeqList.append(curSeq)\n",
    "            \n",
    "    return fullSeqList"
   ]
  },
  {
   "cell_type": "code",
   "execution_count": 4,
   "metadata": {},
   "outputs": [],
   "source": [
    "def plot_mat(mat1):\n",
    "    fig, ax = plt.subplots()\n",
    "    minnum = np.min(mat1[mat1!=0])\n",
    "    g = ax.imshow(mat1, cmap='summer', vmin=minnum)\n",
    "    fig.colorbar(g)\n",
    "    plt.show()"
   ]
  },
  {
   "cell_type": "code",
   "execution_count": 5,
   "metadata": {},
   "outputs": [
    {
     "name": "stdout",
     "output_type": "stream",
     "text": [
      "[7]\n",
      "7 8\n",
      "GACGATTGGCACTCAGACCT ACAGTAGCACGGTGGTCATA\n"
     ]
    },
    {
     "ename": "ValueError",
     "evalue": "something wrong",
     "output_type": "error",
     "traceback": [
      "\u001b[0;31m---------------------------------------------------------------------------\u001b[0m",
      "\u001b[0;31mValueError\u001b[0m                                Traceback (most recent call last)",
      "Cell \u001b[0;32mIn [5], line 7\u001b[0m\n\u001b[1;32m      3\u001b[0m length \u001b[38;5;241m=\u001b[39m \u001b[38;5;241m20\u001b[39m\n\u001b[1;32m      4\u001b[0m length_overlap \u001b[38;5;241m=\u001b[39m \u001b[38;5;241m8\u001b[39m\n\u001b[0;32m----> 7\u001b[0m elimList \u001b[38;5;241m=\u001b[39m \u001b[43melimination\u001b[49m\u001b[43m(\u001b[49m\u001b[43mnum\u001b[49m\u001b[43m,\u001b[49m\u001b[43m \u001b[49m\u001b[43mlength\u001b[49m\u001b[38;5;241;43m=\u001b[39;49m\u001b[43mlength\u001b[49m\u001b[43m,\u001b[49m\u001b[43m \u001b[49m\u001b[43mlength_overlap\u001b[49m\u001b[38;5;241;43m=\u001b[39;49m\u001b[43mlength_overlap\u001b[49m\u001b[43m)\u001b[49m\n\u001b[1;32m      8\u001b[0m mat2 \u001b[38;5;241m=\u001b[39m makeMatrix(elimList)\n\u001b[1;32m      9\u001b[0m plot_mat(mat2)\n",
      "Cell \u001b[0;32mIn [3], line 26\u001b[0m, in \u001b[0;36melimination\u001b[0;34m(numSeq, length, length_overlap)\u001b[0m\n\u001b[1;32m     24\u001b[0m     \u001b[38;5;28mprint\u001b[39m(overlap, overlap_shadow)\n\u001b[1;32m     25\u001b[0m     \u001b[38;5;28mprint\u001b[39m(fullSeqList[indivSeq], curSeq)\n\u001b[0;32m---> 26\u001b[0m     \u001b[38;5;28;01mraise\u001b[39;00m \u001b[38;5;167;01mValueError\u001b[39;00m(\u001b[38;5;124m\"\u001b[39m\u001b[38;5;124msomething wrong\u001b[39m\u001b[38;5;124m\"\u001b[39m)\n\u001b[1;32m     27\u001b[0m     \u001b[38;5;66;03m# break\u001b[39;00m\n\u001b[1;32m     29\u001b[0m overlaps\u001b[38;5;241m.\u001b[39mappend(overlap)\n",
      "\u001b[0;31mValueError\u001b[0m: something wrong"
     ]
    }
   ],
   "source": [
    "\n",
    "\n",
    "# \n",
    "num = 10\n",
    "length = 20\n",
    "length_overlap = 8\n",
    "\n",
    "\n",
    "elimList = elimination(num, length=length, length_overlap=length_overlap)\n",
    "mat2 = makeMatrix(elimList)\n",
    "plot_mat(mat2)\n",
    "\n",
    "print(np.max(mat2))\n",
    "# print(elimList)"
   ]
  },
  {
   "cell_type": "code",
   "execution_count": 6,
   "metadata": {},
   "outputs": [
    {
     "data": {
      "text/plain": [
       "8"
      ]
     },
     "execution_count": 6,
     "metadata": {},
     "output_type": "execute_result"
    }
   ],
   "source": [
    "seq1 = \"GTCCTTAGGTCCGTCCTGTT\"\n",
    "seq2 = \"CTACAGACACTGTCGTGTTC\"\n",
    "allPossComp(seq1, seq2)"
   ]
  },
  {
   "cell_type": "code",
   "execution_count": 7,
   "metadata": {},
   "outputs": [
    {
     "data": {
      "text/plain": [
       "6"
      ]
     },
     "execution_count": 7,
     "metadata": {},
     "output_type": "execute_result"
    }
   ],
   "source": [
    "allPossComp(seq2, seq1)"
   ]
  }
 ],
 "metadata": {
  "kernelspec": {
   "display_name": "Python 3 (ipykernel)",
   "language": "python",
   "name": "python3"
  },
  "language_info": {
   "codemirror_mode": {
    "name": "ipython",
    "version": 3
   },
   "file_extension": ".py",
   "mimetype": "text/x-python",
   "name": "python",
   "nbconvert_exporter": "python",
   "pygments_lexer": "ipython3",
   "version": "3.10.2"
  }
 },
 "nbformat": 4,
 "nbformat_minor": 4
}
