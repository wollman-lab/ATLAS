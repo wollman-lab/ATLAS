{
 "cells": [
  {
   "cell_type": "code",
   "execution_count": 28,
   "metadata": {},
   "outputs": [
    {
     "name": "stdout",
     "output_type": "stream",
     "text": [
      "4\n",
      "['AGCAGAAGACTTAATCATGA', 'CTAAGAGAGTAAATATATAC', 'GCGTGAATTCAAGAGACGGG', 'CTTACGTGTCTCTATTATGA', 'ATCACTATTATACCGAGCCC', 'TGATCCAAGTTTCTTGATAG', 'GTGAGTTAACTACGTAGAAC', 'GGAACCACATGTCGGCAGTC', 'CAGCTGTATTCAGACCCAAA', 'GCGGACACCCCGGGGACTGG']\n",
      "[[ 0.  9.  6. 10.  7.  7.  8.  7.  9.  6.]\n",
      " [ 0.  0.  7.  8.  7.  8.  7.  7.  6.  5.]\n",
      " [ 0.  0.  0.  7.  6.  8.  9.  8.  7. 11.]\n",
      " [ 0.  0.  0.  0.  9.  8.  8.  8.  8.  5.]\n",
      " [ 0.  0.  0.  0.  0.  7.  9.  7. 10.  7.]\n",
      " [ 0.  0.  0.  0.  0.  0.  9.  9.  8.  7.]\n",
      " [ 0.  0.  0.  0.  0.  0.  0.  6.  7.  8.]\n",
      " [ 0.  0.  0.  0.  0.  0.  0.  0.  9.  8.]\n",
      " [ 0.  0.  0.  0.  0.  0.  0.  0.  0.  5.]\n",
      " [ 0.  0.  0.  0.  0.  0.  0.  0.  0.  0.]]\n"
     ]
    },
    {
     "data": {
      "image/png": "[encoded data removed]",
      "text/plain": [
       "<Figure size 640x480 with 1 Axes>"
      ]
     },
     "metadata": {},
     "output_type": "display_data"
    }
   ],
   "source": [
    "import random \n",
    "import math\n",
    "import numpy as np\n",
    "import matplotlib.pyplot as plt\n",
    "# import biopython\n",
    "\n",
    "#Generate a random sequence\n",
    "\n",
    "\n",
    "def sampleSeq(length):\n",
    "    DNA = \"\"\n",
    "    for index in range(length):\n",
    "        DNA += random.choice(\"ATGC\")\n",
    "    return DNA\n",
    "\n",
    "\n",
    "def slideComparison(seq1, seq2):\n",
    "    maxOverlap = 0 \n",
    "    #print(seq1)\n",
    "    #print(seq2)\n",
    "    for x in range(2*len(seq1)-1):\n",
    "        overlap = 0\n",
    "        #comparing from the start of seq1 and the end of seq2\n",
    "        if x < len(seq1):  \n",
    "            temp1 = seq1[0:x+1]\n",
    "            temp2 = seq2[(-1-x):]\n",
    "        #now sliding seq2 forward against seq1 after they're lined up\n",
    "        else:\n",
    "            temp1 = seq1[x-(len(seq1)-1):]\n",
    "            temp2 = seq2[0:(len(seq2)-(x-(len(seq2)-1)))]\n",
    "        #each alignment stored in temps to check whether overlap is greeatre than the current max\n",
    "        for y in range(len(temp1)):\n",
    "            if temp1[y] == temp2[y]:\n",
    "                overlap += 1\n",
    "        if overlap > maxOverlap:\n",
    "            maxOverlap = overlap\n",
    "    return maxOverlap\n",
    "\n",
    "def slideComparison_debug(seq1, seq2):\n",
    "    \"\"\"\n",
    "    \"\"\"\n",
    "    \n",
    "    maxOverlap = 0 \n",
    "    maxSlide = 0 \n",
    "    #print(seq1)\n",
    "    #print(seq2)\n",
    "    for x in range(2*len(seq1)-1):\n",
    "        overlap = 0\n",
    "        #comparing from the start of seq1 and the end of seq2\n",
    "        if x < len(seq1):  \n",
    "            temp1 = seq1[0:x+1]\n",
    "            temp2 = seq2[(-1-x):]\n",
    "        #now sliding seq2 forward against seq1 after they're lined up\n",
    "        else:\n",
    "            temp1 = seq1[x-(len(seq1)-1):]\n",
    "            temp2 = seq2[0:(len(seq2)-(x-(len(seq2)-1)))]\n",
    "        #each alignment stored in temps to check whether overlap is greeatre than the current max\n",
    "        for y in range(len(temp1)):\n",
    "            if temp1[y] == temp2[y]:\n",
    "                overlap += 1\n",
    "        if overlap > maxOverlap:\n",
    "            maxOverlap = overlap\n",
    "            maxSlide = x\n",
    "        \n",
    "    return maxOverlap, maxSlide\n",
    "\n",
    "\n",
    "#slideComparison(sampleSeq(15), sampleSeq(15))\n",
    "print(slideComparison(\"TATCCGT\",\"ACCTCCG\"))\n",
    "\n",
    "\n",
    "#with repeats\n",
    "def make2DarrayRepeats(seqList):\n",
    "    comparray = []\n",
    "    for curSeq in seqList:\n",
    "        for seq in seqList:\n",
    "            comparray.append(slideComparison(curSeq, seq))\n",
    "    return comparray\n",
    "\n",
    "#without repeats\n",
    "def make2Darray(seqList):\n",
    "    comparray = []\n",
    "    for curSeq in range(len(seqList)):\n",
    "        for seq in range(len(seqList)):\n",
    "            if seq <= curSeq:\n",
    "                comparray.append(\"n/a\")\n",
    "            else:\n",
    "                comparray.append(slideComparison(seqList[curSeq], seqList[seq]))\n",
    "    return comparray\n",
    "\n",
    "#with numpy matrix\n",
    "def makeMatrix(seqList):\n",
    "    matrix = np.zeros((len(seqList), len(seqList)))\n",
    "    for curSeq in range(len(seqList)):\n",
    "        for seq in range(len(seqList)):\n",
    "            if seq > curSeq:\n",
    "                matrix[curSeq][seq] = slideComparison(seqList[curSeq], seqList[seq])\n",
    "            # else:\n",
    "            #     matrix[curSeq][seq] = np.nan #slideComparison(seqList[curSeq], seqList[seq])\n",
    "                \n",
    "    return(matrix)\n",
    "           \n",
    "\n",
    "#TESTING   \n",
    "#sample List (no constraints)\n",
    "fullList = []\n",
    "for _ in range (10):\n",
    "    fullList.append(sampleSeq(20))   \n",
    "print(fullList)\n",
    "\n",
    "#print(make2DarrayRepeats(fullList))\n",
    "#print(make2Darray(fullList))\n",
    "\n",
    "mat1 = makeMatrix(fullList)\n",
    "print(mat1)\n",
    "\n",
    "\n",
    "plt.imshow(mat1, cmap='summer')\n",
    "plt.show()\n",
    "\n",
    "\n",
    "#def list_constraints(numSeqs, lengthSeqs):\n",
    "   # countSeq = 0\n",
    "   # while countSeq < numSeq:\n",
    "      #  candidate = sampleSeq(lengthSeqs)\n",
    "    #send to ATGCs + percent GCs, meltingtemp, secondary structure, eliminate if no good\n",
    "    #then send to comparison to others -- check against reverse of itself, forward against all othres, \n",
    "                                                        #reverse against all others, and reverse of all others against forward?\n",
    "        \n",
    "        \n",
    "        "
   ]
  },
  {
   "cell_type": "code",
   "execution_count": 26,
   "metadata": {},
   "outputs": [
    {
     "data": {
      "text/plain": [
       "['AAGATGGTGGCCAACATCCT',\n",
       " 'TCAAACACGGATTCATGTAG',\n",
       " 'AGGAACTTGAAGAGGTATCG',\n",
       " 'AGGAACGCCGTACGAAGGCG',\n",
       " 'CTATCTTCCATAGCGCAGTC',\n",
       " 'AAGGTTCTGTAACACCCACA',\n",
       " 'CCGGGAAAGGACGAAACCTT',\n",
       " 'CCGTGAGGCCATAGGCCATA',\n",
       " 'TGCCGCAAACCTGCACACCA',\n",
       " 'GTCAATTCTAAACGGCGTAT']"
      ]
     },
     "execution_count": 26,
     "metadata": {},
     "output_type": "execute_result"
    }
   ],
   "source": [
    "\n",
    "fullList"
   ]
  },
  {
   "cell_type": "code",
   "execution_count": 7,
   "metadata": {},
   "outputs": [
    {
     "data": {
      "text/plain": [
       "7"
      ]
     },
     "execution_count": 7,
     "metadata": {},
     "output_type": "execute_result"
    }
   ],
   "source": [
    "seq1 = fullList[0]\n",
    "seq2 = fullList[1]\n",
    "slideComparison(seq1, seq2)"
   ]
  },
  {
   "cell_type": "code",
   "execution_count": 10,
   "metadata": {},
   "outputs": [
    {
     "data": {
      "text/plain": [
       "(7, 13)"
      ]
     },
     "execution_count": 10,
     "metadata": {},
     "output_type": "execute_result"
    }
   ],
   "source": [
    "slideComparison_debug(seq1, seq2)"
   ]
  },
  {
   "cell_type": "code",
   "execution_count": 13,
   "metadata": {},
   "outputs": [
    {
     "data": {
      "text/plain": [
       "Seq('TCGCTCAGGCCCTCACTCGA')"
      ]
     },
     "execution_count": 13,
     "metadata": {},
     "output_type": "execute_result"
    }
   ],
   "source": [
    "from Bio.Seq import Seq\n",
    "\n",
    "seq1 = Seq(fullList[0])\n",
    "seq1"
   ]
  },
  {
   "cell_type": "code",
   "execution_count": 16,
   "metadata": {},
   "outputs": [
    {
     "data": {
      "text/plain": [
       "Seq('TCGAGTGAGGGCCTGAGCGA')"
      ]
     },
     "execution_count": 16,
     "metadata": {},
     "output_type": "execute_result"
    }
   ],
   "source": [
    "seq1.reverse_complement()"
   ]
  },
  {
   "cell_type": "code",
   "execution_count": 18,
   "metadata": {},
   "outputs": [
    {
     "data": {
      "text/plain": [
       "8"
      ]
     },
     "execution_count": 18,
     "metadata": {},
     "output_type": "execute_result"
    }
   ],
   "source": [
    "slideComparison(str(seq1), str(seq1.reverse_complement()))"
   ]
  },
  {
   "cell_type": "code",
   "execution_count": 31,
   "metadata": {},
   "outputs": [
    {
     "data": {
      "text/plain": [
       "5.0"
      ]
     },
     "execution_count": 31,
     "metadata": {},
     "output_type": "execute_result"
    }
   ],
   "source": []
  },
  {
   "cell_type": "code",
   "execution_count": 33,
   "metadata": {},
   "outputs": [
    {
     "data": {
      "image/png": "[encoded data removed]",
      "text/plain": [
       "<Figure size 640x480 with 2 Axes>"
      ]
     },
     "metadata": {},
     "output_type": "display_data"
    }
   ],
   "source": [
    "fig, ax = plt.subplots()\n",
    "\n",
    "minnum = np.min(mat1[mat1!=0])\n",
    "g = ax.imshow(mat1, cmap='summer', vmin=minnum)\n",
    "fig.colorbar(g)\n",
    "plt.show()"
   ]
  },
  {
   "cell_type": "code",
   "execution_count": null,
   "metadata": {},
   "outputs": [],
   "source": []
  }
 ],
 "metadata": {
  "kernelspec": {
   "display_name": "Python 3 (ipykernel)",
   "language": "python",
   "name": "python3"
  },
  "language_info": {
   "codemirror_mode": {
    "name": "ipython",
    "version": 3
   },
   "file_extension": ".py",
   "mimetype": "text/x-python",
   "name": "python",
   "nbconvert_exporter": "python",
   "pygments_lexer": "ipython3",
   "version": "3.9.15"
  }
 },
 "nbformat": 4,
 "nbformat_minor": 4
}
