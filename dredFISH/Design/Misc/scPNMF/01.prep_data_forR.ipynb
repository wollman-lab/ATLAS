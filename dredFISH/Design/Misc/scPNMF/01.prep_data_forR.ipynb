{
 "cells": [
  {
   "cell_type": "code",
   "execution_count": 1,
   "id": "1ff96f6a-670a-40f1-bd5a-47398de60e74",
   "metadata": {},
   "outputs": [],
   "source": [
    "import time\n",
    "import os \n",
    "import numpy as np\n",
    "from scipy import sparse\n",
    "import pandas as pd\n",
    "import h5py\n",
    "import anndata\n",
    "\n",
    "\n",
    "from dredFISH.Analysis import basicu"
   ]
  },
  {
   "cell_type": "code",
   "execution_count": 2,
   "id": "3bcef6d1-0855-47f9-9c3d-0791ec7c3f16",
   "metadata": {},
   "outputs": [],
   "source": [
    "ddir = '/bigstore/GeneralStorage/fangming/projects/dredfish/data/rna/'\n",
    "res_dir = '/bigstore/GeneralStorage/fangming/projects/dredfish/res_dpnmf/'"
   ]
  },
  {
   "cell_type": "code",
   "execution_count": 3,
   "id": "3a0f0003-9dc1-4a30-a9d1-e9491dfeffa1",
   "metadata": {},
   "outputs": [
    {
     "name": "stdout",
     "output_type": "stream",
     "text": [
      "CPU times: user 1.36 s, sys: 3.98 s, total: 5.34 s\n",
      "Wall time: 5.34 s\n"
     ]
    },
    {
     "data": {
      "text/plain": [
       "AnnData object with n_obs × n_vars = 73347 × 45768\n",
       "    obs: 'donor_sex_id', 'donor_sex_label', 'donor_sex_color', 'region_id', 'region_label', 'region_color', 'platform_label', 'cluster_order', 'cluster_label', 'cluster_color', 'subclass_order', 'subclass_label', 'subclass_color', 'neighborhood_id', 'neighborhood_label', 'neighborhood_color', 'class_order', 'class_label', 'class_color', 'exp_component_name', 'external_donor_name_label', 'full_genotype_label', 'facs_population_plan_label', 'injection_roi_label', 'injection_materials_label', 'injection_method_label', 'injection_type_label', 'full_genotype_id', 'full_genotype_color', 'external_donor_name_id', 'external_donor_name_color', 'facs_population_plan_id', 'facs_population_plan_color', 'injection_materials_id', 'injection_materials_color', 'injection_method_id', 'injection_method_color', 'injection_roi_id', 'injection_roi_color', 'injection_type_id', 'injection_type_color', 'cell_type_accession_label', 'cell_type_alias_label', 'cell_type_alt_alias_label', 'cell_type_designation_label', 'cell_type_designation_id', 'cell_type_alt_alias_id', 'cell_type_alias_id', 'cell_type_accession_id', 'cell_type_designation_color', 'cell_type_alt_alias_color', 'cell_type_alias_color', 'cell_type_accession_color', 'cortical_layer_label', 'cortical_layer_order', 'cortical_layer_color', 'Lim1', 'Lim2'"
      ]
     },
     "execution_count": 3,
     "metadata": {},
     "output_type": "execute_result"
    }
   ],
   "source": [
    "%%time\n",
    "# read in data\n",
    "f = os.path.join(ddir, 'scrna_ss_ctxhippo_a_exon_count_matrix_v5.h5ad')\n",
    "adata = anndata.read(f,\n",
    "                     # backed='r',\n",
    "                    )\n",
    "adata"
   ]
  },
  {
   "cell_type": "code",
   "execution_count": 4,
   "id": "bc38cc40-df4b-472c-b5c2-d6f81ad7a04c",
   "metadata": {},
   "outputs": [
    {
     "data": {
      "text/plain": [
       "(10861,)"
      ]
     },
     "execution_count": 4,
     "metadata": {},
     "output_type": "execute_result"
    }
   ],
   "source": [
    "# get the NN genes\n",
    "f = '/bigstore/binfo/mouse/Brain/DRedFISH/Allen_V3_Reference/10X/genes.npy' \n",
    "tenx_genes = np.load(f)\n",
    "f = '/bigstore/binfo/mouse/Brain/DRedFISH/Allen_V3_Reference/SmartSeq/genes.npy' \n",
    "smrt_genes = np.load(f)\n",
    "assert np.all(tenx_genes == smrt_genes)\n",
    "nn_genes = tenx_genes\n",
    "nn_genes.shape"
   ]
  },
  {
   "cell_type": "markdown",
   "id": "f96e5700-a9df-475f-b912-a5a9e1df7406",
   "metadata": {},
   "source": [
    "# prep\n",
    "- select relevant genes only\n",
    "- subsample cells\n",
    "- dense matrix\n",
    "- numpy format\n"
   ]
  },
  {
   "cell_type": "code",
   "execution_count": 5,
   "id": "8a1b9ee9-4b37-440f-98ff-e37c1cfc3f24",
   "metadata": {},
   "outputs": [
    {
     "data": {
      "text/plain": [
       "0"
      ]
     },
     "execution_count": 5,
     "metadata": {},
     "output_type": "execute_result"
    }
   ],
   "source": [
    "nn_genes_idx = basicu.get_index_from_array(adata.var.index.values, nn_genes)\n",
    "(nn_genes_idx == -1).sum()"
   ]
  },
  {
   "cell_type": "code",
   "execution_count": 6,
   "id": "6e6db63e-b790-47cb-b1cb-6e6cb2053991",
   "metadata": {},
   "outputs": [
    {
     "name": "stdout",
     "output_type": "stream",
     "text": [
      "CPU times: user 9.74 s, sys: 1.91 s, total: 11.7 s\n",
      "Wall time: 11.7 s\n"
     ]
    },
    {
     "data": {
      "text/plain": [
       "AnnData object with n_obs × n_vars = 73347 × 10861\n",
       "    obs: 'donor_sex_id', 'donor_sex_label', 'donor_sex_color', 'region_id', 'region_label', 'region_color', 'platform_label', 'cluster_order', 'cluster_label', 'cluster_color', 'subclass_order', 'subclass_label', 'subclass_color', 'neighborhood_id', 'neighborhood_label', 'neighborhood_color', 'class_order', 'class_label', 'class_color', 'exp_component_name', 'external_donor_name_label', 'full_genotype_label', 'facs_population_plan_label', 'injection_roi_label', 'injection_materials_label', 'injection_method_label', 'injection_type_label', 'full_genotype_id', 'full_genotype_color', 'external_donor_name_id', 'external_donor_name_color', 'facs_population_plan_id', 'facs_population_plan_color', 'injection_materials_id', 'injection_materials_color', 'injection_method_id', 'injection_method_color', 'injection_roi_id', 'injection_roi_color', 'injection_type_id', 'injection_type_color', 'cell_type_accession_label', 'cell_type_alias_label', 'cell_type_alt_alias_label', 'cell_type_designation_label', 'cell_type_designation_id', 'cell_type_alt_alias_id', 'cell_type_alias_id', 'cell_type_accession_id', 'cell_type_designation_color', 'cell_type_alt_alias_color', 'cell_type_alias_color', 'cell_type_accession_color', 'cortical_layer_label', 'cortical_layer_order', 'cortical_layer_color', 'Lim1', 'Lim2'"
      ]
     },
     "execution_count": 6,
     "metadata": {},
     "output_type": "execute_result"
    }
   ],
   "source": [
    "%%time\n",
    "adata_nng = adata[:,adata.var.iloc[nn_genes_idx].index].copy()\n",
    "adata_nng"
   ]
  },
  {
   "cell_type": "code",
   "execution_count": 7,
   "id": "8eb7f5c6-105c-42e1-8409-5afb25d72aa8",
   "metadata": {},
   "outputs": [
    {
     "data": {
      "text/plain": [
       "AnnData object with n_obs × n_vars = 3926 × 10861\n",
       "    obs: 'donor_sex_id', 'donor_sex_label', 'donor_sex_color', 'region_id', 'region_label', 'region_color', 'platform_label', 'cluster_order', 'cluster_label', 'cluster_color', 'subclass_order', 'subclass_label', 'subclass_color', 'neighborhood_id', 'neighborhood_label', 'neighborhood_color', 'class_order', 'class_label', 'class_color', 'exp_component_name', 'external_donor_name_label', 'full_genotype_label', 'facs_population_plan_label', 'injection_roi_label', 'injection_materials_label', 'injection_method_label', 'injection_type_label', 'full_genotype_id', 'full_genotype_color', 'external_donor_name_id', 'external_donor_name_color', 'facs_population_plan_id', 'facs_population_plan_color', 'injection_materials_id', 'injection_materials_color', 'injection_method_id', 'injection_method_color', 'injection_roi_id', 'injection_roi_color', 'injection_type_id', 'injection_type_color', 'cell_type_accession_label', 'cell_type_alias_label', 'cell_type_alt_alias_label', 'cell_type_designation_label', 'cell_type_designation_id', 'cell_type_alt_alias_id', 'cell_type_alias_id', 'cell_type_accession_id', 'cell_type_designation_color', 'cell_type_alt_alias_color', 'cell_type_alias_color', 'cell_type_accession_color', 'cortical_layer_label', 'cortical_layer_order', 'cortical_layer_color', 'Lim1', 'Lim2'"
      ]
     },
     "execution_count": 7,
     "metadata": {},
     "output_type": "execute_result"
    }
   ],
   "source": [
    "# all cells\n",
    "# randomly select cells L5 (allow oversample)\n",
    "\n",
    "# randomly select cells L3 (does not allow oversamp)\n",
    "clstcol = 'subclass_label'\n",
    "n = 100\n",
    "dfsub, idxsub = basicu.stratified_sample(adata_nng.obs, clstcol, n, \n",
    "                                         return_idx=True, group_keys=False, sort=False, \n",
    "                                         random_state=0, \n",
    "                                        )\n",
    "\n",
    "adatasub = adata_nng[adata_nng.obs.iloc[idxsub].index].copy()\n",
    "adatasub"
   ]
  },
  {
   "cell_type": "code",
   "execution_count": 8,
   "id": "8edb9360-8ebe-4aee-a17b-67d51a27b885",
   "metadata": {},
   "outputs": [
    {
     "data": {
      "text/plain": [
       "subclass_label\n",
       "Astro              100\n",
       "CA1-ProS           100\n",
       "CA2-IG-FC           19\n",
       "CA3                100\n",
       "CR                  38\n",
       "CT SUB             100\n",
       "Car3               100\n",
       "DG                 100\n",
       "Endo               100\n",
       "L2 IT ENTl         100\n",
       "L2 IT ENTm          42\n",
       "L2/3 IT CTX        100\n",
       "L2/3 IT ENTl       100\n",
       "L2/3 IT PPP        100\n",
       "L2/3 IT RHP        100\n",
       "L3 IT ENT          100\n",
       "L4 RSP-ACA         100\n",
       "L4/5 IT CTX        100\n",
       "L5 IT CTX          100\n",
       "L5 PPP              49\n",
       "L5 PT CTX          100\n",
       "L5/6 IT TPE-ENT    100\n",
       "L5/6 NP CTX        100\n",
       "L6 CT CTX          100\n",
       "L6 IT CTX          100\n",
       "L6 IT ENTl          78\n",
       "L6b CTX            100\n",
       "L6b/CT ENT         100\n",
       "Lamp5              100\n",
       "Meis2              100\n",
       "Micro-PVM          100\n",
       "NP PPP             100\n",
       "NP SUB             100\n",
       "Oligo              100\n",
       "Pvalb              100\n",
       "SMC-Peri           100\n",
       "SUB-ProS           100\n",
       "Sncg               100\n",
       "Sst                100\n",
       "Sst Chodl          100\n",
       "VLMC               100\n",
       "Vip                100\n",
       "dtype: int64"
      ]
     },
     "execution_count": 8,
     "metadata": {},
     "output_type": "execute_result"
    }
   ],
   "source": [
    "adatasub.obs.groupby(clstcol).size()"
   ]
  },
  {
   "cell_type": "code",
   "execution_count": 9,
   "id": "a0add0b6-776c-44e9-ab0e-cfcb45b09536",
   "metadata": {},
   "outputs": [
    {
     "data": {
      "text/plain": [
       "['L5 PT CTX', 'L5 PT CTX', 'L5 PT CTX', 'L5 PT CTX', 'L5 PT CTX', ..., 'NP SUB', 'NP SUB', 'NP SUB', 'NP SUB', 'NP SUB']\n",
       "Length: 3926\n",
       "Categories (42, object): ['Astro', 'CA1-ProS', 'CA2-IG-FC', 'CA3', ..., 'Sst', 'Sst Chodl', 'VLMC', 'Vip']"
      ]
     },
     "execution_count": 9,
     "metadata": {},
     "output_type": "execute_result"
    }
   ],
   "source": [
    "# convert to dense and format it; need the matrix and the labels\n",
    "X = adatasub.X.toarray().T # gene by cell\n",
    "y = adatasub.obs[clstcol].values\n",
    "X.shape, y.shape\n",
    "y"
   ]
  },
  {
   "cell_type": "code",
   "execution_count": 10,
   "id": "243ebd74-4362-458e-83ad-05d8ff9adb01",
   "metadata": {},
   "outputs": [],
   "source": [
    "out_X = os.path.join(res_dir, 'test_X.npy') \n",
    "out_y = os.path.join(res_dir, 'test_y.npy') \n",
    "np.save(out_X, X)\n",
    "np.save(out_y, y)"
   ]
  },
  {
   "cell_type": "code",
   "execution_count": 11,
   "id": "aef8b1cb-69b4-4222-9a09-0b3e66c27b63",
   "metadata": {},
   "outputs": [
    {
     "name": "stdout",
     "output_type": "stream",
     "text": [
      "/bigstore/GeneralStorage/fangming/projects/dredfish/res_dpnmf/test_X.npy\n"
     ]
    }
   ],
   "source": [
    "print(out_X)"
   ]
  },
  {
   "cell_type": "code",
   "execution_count": null,
   "id": "63736412-7202-4e76-89ba-573488de6e8f",
   "metadata": {},
   "outputs": [],
   "source": []
  }
 ],
 "metadata": {
  "kernelspec": {
   "display_name": "Python 3 (ipykernel)",
   "language": "python",
   "name": "python3"
  },
  "language_info": {
   "codemirror_mode": {
    "name": "ipython",
    "version": 3
   },
   "file_extension": ".py",
   "mimetype": "text/x-python",
   "name": "python",
   "nbconvert_exporter": "python",
   "pygments_lexer": "ipython3",
   "version": "3.9.12"
  }
 },
 "nbformat": 4,
 "nbformat_minor": 5
}
