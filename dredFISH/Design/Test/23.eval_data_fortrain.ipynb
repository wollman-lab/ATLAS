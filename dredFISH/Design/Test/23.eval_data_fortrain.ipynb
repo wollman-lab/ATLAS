{
 "cells": [
  {
   "cell_type": "code",
   "execution_count": 1,
   "id": "926a3197-c648-4258-93fa-ffa7345b370d",
   "metadata": {},
   "outputs": [],
   "source": [
    "import json\n",
    "import numpy as np\n",
    "import glob\n",
    "import os\n",
    "\n",
    "import matplotlib.pyplot as plt\n",
    "import seaborn as sns\n",
    "\n",
    "from dredFISH.Analysis.__init__plots import *\n",
    "from dredFISH.Analysis import basicu "
   ]
  },
  {
   "cell_type": "code",
   "execution_count": 2,
   "id": "f7ed5a67-9ce9-4583-a3dc-ac1901da2d83",
   "metadata": {},
   "outputs": [
    {
     "name": "stdout",
     "output_type": "stream",
     "text": [
      "00_test_recon\n",
      "01_test_recon\n",
      "02-2_reduced_class_longiter\n",
      "02_reduced_class\n",
      "03-1_gpu\n",
      "03-2_cpu\n",
      "04-1_gpu\n",
      "04-2_cpu\n",
      "05-1_drprt0.0\n",
      "05-1_drprt0.1\n",
      "05-1_drprt0.2\n",
      "05-1_drprt0.3\n",
      "05-1_drprt0.4\n",
      "05-1_drprt0.5\n",
      "05-1_drprt0.6\n",
      "05-1_drprt0.7\n",
      "05-1_drprt0.8\n",
      "05-1_drprt0.9\n",
      "06-gene140\n",
      "06-gene140_lmd01.00e-01\n",
      "06-gene140_lmd01.00e+01\n",
      "06-gene140_lmd01.00e-03\n",
      "06-gene140_lmd01.00e+03\n",
      "06-gene140_lmd01.00e-05\n",
      "06-gene140_lmd01.00e+05\n",
      "06-v3-simple-gene140_1.00e+00\n",
      "06-v3-simple-gene140_1.00e-05\n",
      "06-v3-simple-gene140_1.00e+05\n",
      "06-v4-gene140_lmd01.00e+00\n",
      "06-v4-gene140_lmd01.00e-05\n",
      "06-v4-gene140_lmd01.00e+05\n",
      "06-v5-gene140_lmd01.00e+05\n",
      "06-v6-simple-gene140_lmd01.00e+05_nbit100\n",
      "06-v6-simple-gene140_lmd01.00e+05_nbit50\n",
      "06-v6-simple-gene140_lmd01.00e+05_nbit70\n",
      "06-v7-simple-gene140_lmd01.00e+05_nbit70_nrcn1\n",
      "06-v7-simple-gene140_lmd01.00e+05_nbit70_nrcn1_lr0.001\n",
      "06-v7-simple-gene140_lmd01.00e+05_nbit70_nrcn1_lr0.01\n",
      "06-v7-simple-gene140_lmd01.00e+05_nbit70_nrcn1_lr0.1\n",
      "06-v7-simple-gene140_lmd01.00e+05_nbit70_nrcn1_lr1\n",
      "06-v7-simple-gene140_lmd01.00e+05_nbit70_nrcn1_lr1e+01\n",
      "06-v7-simple-gene140_lmd01.00e+05_nbit70_nrcn1_lr1e+02\n",
      "06-v7-simple-gene140_lmd01.00e+05_nbit70_nrcn2\n",
      "06-v7-simple-gene140_lmd01.00e+05_nbit70_nrcn3\n",
      "06-v8-smrt-simple-gene140_lmd01.00e+05_nbit70_nrcn1_lr0.1\n",
      "06-v8-tenx-simple-gene140_lmd01.00e+05_nbit70_nrcn1_lr0.1\n",
      "07-crse\n",
      "07-fine\n",
      "07-v2-crse-drprt0.0\n",
      "07-v2-crse-drprt0.1\n",
      "07-v2-crse-drprt0.2\n",
      "07-v2-crse-drprt0.3\n",
      "07-v2-crse-drprt0.4\n",
      "07-v2-crse-drprt0.5\n",
      "07-v2-crse-drprt0.6\n",
      "07-v2-crse-drprt0.7\n",
      "07-v2-crse-drprt0.8\n",
      "07-v2-crse-drprt0.9\n",
      "07-v2-fine-drprt0.0\n",
      "07-v2-fine-drprt0.1\n",
      "07-v2-fine-drprt0.2\n",
      "07-v2-fine-drprt0.3\n",
      "07-v2-fine-drprt0.4\n",
      "07-v2-fine-drprt0.5\n",
      "07-v2-fine-drprt0.6\n",
      "07-v2-fine-drprt0.7\n",
      "07-v2-fine-drprt0.8\n",
      "07-v2-fine-drprt0.9\n",
      "09-test-newdatastream-smrt-simple-gene140_lmd01.00e+05_nbit70_nrcn1_lr0.1\n",
      "/bigstore/GeneralStorage/fangming/projects/dredfish/res_nn/09-test-newdatastream-smrt-simple-gene140_lmd01.00e+05_nbit70_nrcn1_lr0.1\n",
      "True\n"
     ]
    }
   ],
   "source": [
    "rootdat_dir = '/bigstore/GeneralStorage/fangming/projects/dredfish/res_nn/' #02_reduced_class_longiter/'\n",
    "!ls $rootdat_dir\n",
    "\n",
    "# dat_dir = rootdat_dir + '06-v6-simple-gene140_lmd01.00e+05_nbit50'\n",
    "nrcn = 1\n",
    "lr = 0.1\n",
    "# dat_dir = rootdat_dir + f'06-v8-smrt-simple-gene140_lmd01.00e+05_nbit70_nrcn{nrcn}_lr{lr:.1g}'\n",
    "dat_dir = rootdat_dir + f'09-test-newdatastream-smrt-simple-gene140_lmd01.00e+05_nbit70_nrcn1_lr0.1'\n",
    "print(dat_dir)\n",
    "print(os.path.isdir(dat_dir))\n",
    "# dat_dir = dat_dir + '06-v3-simple-gene140_1.00e+00'\n",
    "# fig_dir = '/bigstore/GeneralStorage/fangming/projects/dredfish/figures'"
   ]
  },
  {
   "cell_type": "code",
   "execution_count": 3,
   "id": "cc17d7c1-488b-4dfa-ada8-2d7979063c76",
   "metadata": {},
   "outputs": [
    {
     "data": {
      "text/plain": [
       "(10861,)"
      ]
     },
     "execution_count": 3,
     "metadata": {},
     "output_type": "execute_result"
    }
   ],
   "source": [
    "f = '/bigstore/binfo/mouse/Brain/DRedFISH/Allen_V3_Reference' + '/10X/genes.npy' \n",
    "tenx_genes = np.load(f)\n",
    "f = '/bigstore/binfo/mouse/Brain/DRedFISH/Allen_V3_Reference' + '/SmartSeq/genes.npy' \n",
    "smrt_genes = np.load(f)\n",
    "\n",
    "np.all(tenx_genes == smrt_genes)\n",
    "\n",
    "genes = tenx_genes\n",
    "genes.shape"
   ]
  },
  {
   "cell_type": "markdown",
   "id": "5187b7b4-fb83-44e9-8529-89e3471bdabe",
   "metadata": {},
   "source": [
    "# outputs\n",
    "- embmat - a (ncell, nbit (24)) matrix\n",
    "- model - a pytorch format\n",
    "- results -- some summary statistics\n",
    "\n",
    "- meta (what are these parameters?)\n",
    "    - max-half_nrml-90000.0-1.27E+05-24-0-2.60E-09-0.01-1.0\n",
    "    - max-half_nrml-90000.0-1.32E+05-24-0-3.40E-09-0.01-1.0\n",
    "    \n",
    "# input\n",
    "- allen_data_iterator\n",
    "    - original: `/bigstore/binfo/mouse/Brain/DRedFISH/Allen_V3_Reference`\n",
    "    - cached: `/bigstore/binfo/mouse/Brain/DRedFISH/Allen_V3_Reference/cache/_2`"
   ]
  },
  {
   "cell_type": "markdown",
   "id": "7e8a269d-03be-4252-aa30-6835b472039b",
   "metadata": {},
   "source": [
    "# the embmat"
   ]
  },
  {
   "cell_type": "code",
   "execution_count": 4,
   "id": "ee1af83a-6346-4ee2-a0b6-dab11390fda3",
   "metadata": {},
   "outputs": [
    {
     "name": "stdout",
     "output_type": "stream",
     "text": [
      "'embmat=xxx-xxx-90000.0-2.00E+05-70-0-1.00E-10-0.01-1.0.json'\n",
      "'model=xxx-xxx-90000.0-2.00E+05-70-0-1.00E-10-0.01-1.0.pt'\n",
      "'result=xxx-xxx-90000.0-2.00E+05-70-0-1.00E-10-0.01-1.0.json'\n"
     ]
    }
   ],
   "source": [
    "!ls $dat_dir"
   ]
  },
  {
   "cell_type": "code",
   "execution_count": 5,
   "id": "d5435177-205c-4db0-9194-d17b9c4a56ad",
   "metadata": {},
   "outputs": [
    {
     "name": "stdout",
     "output_type": "stream",
     "text": [
      "/bigstore/GeneralStorage/fangming/projects/dredfish/res_nn/09-test-newdatastream-smrt-simple-gene140_lmd01.00e+05_nbit70_nrcn1_lr0.1/embmat=xxx-xxx-90000.0-2.00E+05-70-0-1.00E-10-0.01-1.0.json\n",
      "(45768, 70)\n"
     ]
    }
   ],
   "source": [
    "# f = os.path.join(dat_dir, 'embmat=max-half_nrml-90000.0-2.00E+05-24-0-1.00E-10-0.01-1.0.json')\n",
    "f = glob.glob(os.path.join(dat_dir, 'embmat*'))[0]\n",
    "print(f)\n",
    "              \n",
    "with open(f, 'r') as fh:\n",
    "    embmat = json.load(fh)\n",
    "    embmat = np.array(embmat)\n",
    "    print(embmat.shape)"
   ]
  },
  {
   "cell_type": "markdown",
   "id": "32e08e64-4f86-4825-b577-7ba254d751ef",
   "metadata": {
    "tags": []
   },
   "source": [
    "# the results (statistics)"
   ]
  },
  {
   "cell_type": "code",
   "execution_count": 6,
   "id": "4d6209a1-d05c-41dc-b330-cb697fc8c12a",
   "metadata": {},
   "outputs": [
    {
     "name": "stdout",
     "output_type": "stream",
     "text": [
      "/bigstore/GeneralStorage/fangming/projects/dredfish/res_nn/09-test-newdatastream-smrt-simple-gene140_lmd01.00e+05_nbit70_nrcn1_lr0.1/result=xxx-xxx-90000.0-2.00E+05-70-0-1.00E-10-0.01-1.0.json\n"
     ]
    },
    {
     "data": {
      "text/plain": [
       "['smrt_rcn_lss']"
      ]
     },
     "execution_count": 6,
     "metadata": {},
     "output_type": "execute_result"
    }
   ],
   "source": [
    "f = glob.glob(os.path.join(dat_dir, 'result*'))[0]\n",
    "print(f)\n",
    "\n",
    "with open(f, 'r') as fh:\n",
    "    res = json.load(fh)\n",
    "    # res = np.array(res)\n",
    "    # print(res.shape)\n",
    "list(res.keys())\n",
    "list(res['0'].keys())"
   ]
  },
  {
   "cell_type": "code",
   "execution_count": null,
   "id": "72c37d26-dd0e-4a85-ba25-d8e88e9ec159",
   "metadata": {},
   "outputs": [],
   "source": [
    "res"
   ]
  },
  {
   "cell_type": "code",
   "execution_count": 7,
   "id": "bf772a8f-3017-423e-bb6e-72c16663908c",
   "metadata": {},
   "outputs": [],
   "source": [
    "# res['0']['smrt_rcn_lss']\n",
    "# res['0']['smrt_fine_acc']"
   ]
  },
  {
   "cell_type": "code",
   "execution_count": 12,
   "id": "c5af1604-834e-4ba6-ab53-ce12db9da06a",
   "metadata": {},
   "outputs": [],
   "source": [
    "_x = []\n",
    "_y1 = []\n",
    "_y2 = []\n",
    "_y3 = []\n",
    "_y4 = []\n",
    "\n",
    "_y5 = []\n",
    "_y6 = []\n",
    "\n",
    "_y7 = []\n",
    "_y8 = []\n",
    "\n",
    "_y9 = []\n",
    "_y10 = []\n",
    "for _iter in res.keys():\n",
    "    _x.append(_iter)\n",
    "#     _y1.append(np.mean([val for key, val in res[_iter]['smrt_crse_acc'].items()]))\n",
    "#     _y2.append(np.mean([val for key, val in res[_iter]['tenx_crse_acc'].items()]))\n",
    "#     _y3.append(np.mean([val for key, val in res[_iter]['smrt_fine_acc'].items()]))\n",
    "#     _y4.append(np.mean([val for key, val in res[_iter]['tenx_fine_acc'].items()]))\n",
    "    \n",
    "#     _y5.append(res[_iter]['dsc_lss'])\n",
    "#     _y6.append(res[_iter]['row_cnst'])\n",
    "    \n",
    "    # _y7.append(np.mean([val for key, val in res[_iter]['smrt_mrgn_lss'].items()]))\n",
    "    # _y8.append(np.mean([val for key, val in res[_iter]['tenx_mrgn_lss'].items()]))\n",
    "    \n",
    "    _y9.append(res[_iter]['smrt_rcn_lss'])\n",
    "    # _y10.append(np.mean([val for key, val in res[_iter]['tenx_rcn_lss'].items()]))\n",
    "\n",
    "_x = np.array(_x).astype(int)"
   ]
  },
  {
   "cell_type": "code",
   "execution_count": 13,
   "id": "227046d0-945c-4874-900a-71013b2597b3",
   "metadata": {},
   "outputs": [],
   "source": [
    "# fig, ax = plt.subplots()\n",
    "# ax.plot(_x, _y1, '-o', color='k', label='SMART-seq L3')\n",
    "# ax.plot(_x, _y2, '-o', color='C1', label='10X L3' )\n",
    "# ax.plot(_x, _y3, '-s', color='k', label='SMART-seq L5')\n",
    "# ax.plot(_x, _y4, '-s', color='C1', label='10X L5' )\n",
    "# ax.set_xlabel('Iteration')\n",
    "# ax.set_ylabel('Classification accuracy\\n(validation set)')\n",
    "# ax.legend(bbox_to_anchor=(1,1))\n",
    "# sns.despine(ax=ax)\n",
    "# # powerplots.savefig_autodate(fig, os.path.join(fig_dir, \"NN_classification_acc.pdf\"))\n",
    "# plt.show()"
   ]
  },
  {
   "cell_type": "code",
   "execution_count": 14,
   "id": "c1f74653-be13-4ad5-b88f-8ddb4a3c543c",
   "metadata": {},
   "outputs": [
    {
     "data": {
      "image/png": "[encoded data removed]",
      "text/plain": [
       "<Figure size 720x288 with 2 Axes>"
      ]
     },
     "metadata": {
      "image/png": {
       "height": 301,
       "width": 676
      }
     },
     "output_type": "display_data"
    }
   ],
   "source": [
    "fig, axs = plt.subplots(1,2,figsize=(2*5,1*4))\n",
    "ax = axs[0]\n",
    "ax.plot(_x, _y9, '-')\n",
    "ax.set_title('SMART-seq')\n",
    "ax.set_xlabel('Iteration')\n",
    "ax.set_ylabel('MSE recon\\n(140 genes log expression)')\n",
    "ax.set_yscale('log')\n",
    "ax.set_ylim(1e-1)\n",
    "\n",
    "# ax = axs[1]\n",
    "# ax.plot(_x, _y10, '-')\n",
    "# ax.set_title('10x')\n",
    "# ax.set_yscale('log')\n",
    "# ax.set_ylim(1e-1)\n",
    "\n",
    "plt.show()\n"
   ]
  },
  {
   "cell_type": "code",
   "execution_count": 15,
   "id": "ac0dc9d8-c103-42da-a50e-a07da0465b7b",
   "metadata": {},
   "outputs": [],
   "source": [
    "\n",
    "# fig, axs = plt.subplots(1,2,figsize=(2*5,1*4))\n",
    "# ax = axs[0]\n",
    "# ax.plot(_x, _y9, '-')\n",
    "# ax.set_title('SMART-seq')\n",
    "# ax.set_xlabel('Iteration')\n",
    "# ax.set_ylabel('MSE recon\\n(140 genes log expression)')\n",
    "\n",
    "# ax = axs[1]\n",
    "# ax.plot(_x, _y10, '-')\n",
    "# ax.set_title('10x')\n",
    "\n",
    "# plt.show()"
   ]
  },
  {
   "cell_type": "markdown",
   "id": "816ea4e4-bab8-4019-8d0a-af4a5d39c9f1",
   "metadata": {},
   "source": [
    "## Calculate R2 per gene \n",
    "- on any data\n",
    "- on validation data only"
   ]
  },
  {
   "cell_type": "code",
   "execution_count": 16,
   "id": "c27aa9c3-db41-4224-9fd0-3358a27b8cfe",
   "metadata": {},
   "outputs": [
    {
     "name": "stderr",
     "output_type": "stream",
     "text": [
      "/home/fangming/anaconda3/envs/torchgpu/lib/python3.9/site-packages/torch/cuda/__init__.py:82: UserWarning: CUDA initialization: Unexpected error from cudaGetDeviceCount(). Did you run some cuda functions before calling NumCudaDevices() that might have already set an error? Error 803: system has unsupported display driver / cuda driver combination (Triggered internally at  /opt/conda/conda-bld/pytorch_1646756402876/work/c10/cuda/CUDAFunctions.cpp:112.)\n",
      "  return torch._C._cuda_getDeviceCount() > 0\n"
     ]
    }
   ],
   "source": [
    "import torch\n",
    "from dredFISH.Design.model_gene_recon_partial_simple_v3 import CellTypeNet\n",
    "from dredFISH.Design.allen_data_iterators_subgenes import DataIterCached\n",
    "\n",
    "def get_mse_torch(tnsr_true, tnsr_pred=[]):\n",
    "    \"\"\"Mean (over rows) squared error\n",
    "    if no pred, returns the variance.\n",
    "    \"\"\"\n",
    "    if len(tnsr_pred):\n",
    "        mse = (tnsr_true - tnsr_pred).square().mean(axis=0)\n",
    "    else:\n",
    "        mse = (tnsr_true - tnsr_true.mean(axis=0)).square().mean(axis=0)\n",
    "    return mse\n",
    "        \n",
    "def get_r2_torch(tnsr_true, tnsr_pred, zero_tol=1e-10):\n",
    "    \"\"\"\n",
    "    \"\"\"\n",
    "    mse = get_mse_torch(tnsr_true, tnsr_pred)\n",
    "    var = get_mse_torch(tnsr_true)\n",
    "    r2 = 1-mse/torch.clamp(var, min=zero_tol)\n",
    "    return r2\n",
    "\n",
    "device = torch.device('cuda:0' if torch.cuda.is_available() else 'cpu')"
   ]
  },
  {
   "cell_type": "code",
   "execution_count": 17,
   "id": "9b9bc070-7ae9-482a-9aee-6843463372bf",
   "metadata": {},
   "outputs": [],
   "source": [
    "# # get the model\n",
    "# # run validation data through it\n",
    "# # compare\n",
    "# rootdat_dir = '/bigstore/GeneralStorage/fangming/projects/dredfish/res_nn/' #02_reduced_class_longiter/'\n",
    "# !ls $rootdat_dir"
   ]
  },
  {
   "cell_type": "code",
   "execution_count": 18,
   "id": "46d47236-4f35-405d-b721-26c91df14bb3",
   "metadata": {},
   "outputs": [
    {
     "name": "stdout",
     "output_type": "stream",
     "text": [
      "/bigstore/GeneralStorage/fangming/projects/dredfish/res_nn/09-test-newdatastream-smrt-simple-gene140_lmd01.00e+05_nbit70_nrcn1_lr0.1/model=xxx-xxx-90000.0-2.00E+05-70-0-1.00E-10-0.01-1.0.pt\n"
     ]
    },
    {
     "data": {
      "text/plain": [
       "('xxx', 'xxx', 90000.0, 200000.0, 70, 0.0, 1e-10, 0.01, 1.0)"
      ]
     },
     "execution_count": 18,
     "metadata": {},
     "output_type": "execute_result"
    }
   ],
   "source": [
    "# dat_dir = rootdat_dir + '06-v4-gene140_lmd01.00e-05'\n",
    "# dat_dir = rootdat_dir + '06-v4-gene140_lmd01.00e+00'\n",
    "# dat_dir = rootdat_dir + '06-v4-gene140_lmd01.00e+05'\n",
    "\n",
    "# prep the model\n",
    "f = glob.glob(os.path.join(dat_dir, 'model*'))[0]\n",
    "print(f)\n",
    "\n",
    "reduction, cnst, mxpr, min_pos, n_bit, drprt, lmd1, lmd2, lmd3 = (os.path.basename(f)\n",
    "                                                                        [len('model='):-len('.pt')]\n",
    "                                                                        .replace('E-', 'expn').split('-')\n",
    "                                                                 )\n",
    "lmd0 = 1\n",
    "min_pos = np.float64(min_pos)\n",
    "mxpr = np.float64(mxpr)\n",
    "min_pos = np.float64(min_pos)\n",
    "n_bit = int(n_bit)\n",
    "drprt = np.float64(drprt)\n",
    "lmd1 = np.float64(lmd1.replace('expn', 'E-'))\n",
    "lmd2 = np.float64(lmd2)\n",
    "lmd3 = np.float64(lmd3)\n",
    "reduction, cnst, mxpr, min_pos, n_bit, drprt, lmd1, lmd2, lmd3"
   ]
  },
  {
   "cell_type": "code",
   "execution_count": 19,
   "id": "47c5aa9d-8917-4b0f-b518-bc92ae4fa92f",
   "metadata": {},
   "outputs": [
    {
     "ename": "RuntimeError",
     "evalue": "Error(s) in loading state_dict for CellTypeNet:\n\tsize mismatch for enc.weight: copying a param with shape torch.Size([45768, 70]) from checkpoint, the shape in current model is torch.Size([10861, 70]).\n\tsize mismatch for rcn.0.weight: copying a param with shape torch.Size([45768, 70]) from checkpoint, the shape in current model is torch.Size([140, 70]).\n\tsize mismatch for rcn.0.bias: copying a param with shape torch.Size([45768]) from checkpoint, the shape in current model is torch.Size([140]).",
     "output_type": "error",
     "traceback": [
      "\u001b[0;31m---------------------------------------------------------------------------\u001b[0m",
      "\u001b[0;31mRuntimeError\u001b[0m                              Traceback (most recent call last)",
      "Input \u001b[0;32mIn [19]\u001b[0m, in \u001b[0;36m<cell line: 20>\u001b[0;34m()\u001b[0m\n\u001b[1;32m      4\u001b[0m \u001b[38;5;66;03m# load the model\u001b[39;00m\n\u001b[1;32m      5\u001b[0m model\u001b[38;5;241m=\u001b[39m CellTypeNet(n_gns\u001b[38;5;241m=\u001b[39m     data_iter\u001b[38;5;241m.\u001b[39mcurrent[\u001b[38;5;124m'\u001b[39m\u001b[38;5;124mtenx_ftrs\u001b[39m\u001b[38;5;124m'\u001b[39m]\u001b[38;5;241m.\u001b[39mshape[\u001b[38;5;241m1\u001b[39m],                      \u001b[38;5;66;03m# fixed\u001b[39;00m\n\u001b[1;32m      6\u001b[0m                    n_cat\u001b[38;5;241m=\u001b[39m     data_iter\u001b[38;5;241m.\u001b[39mlabl_map\u001b[38;5;241m.\u001b[39mshape[\u001b[38;5;241m1\u001b[39m],                                  \u001b[38;5;66;03m# fixed\u001b[39;00m\n\u001b[1;32m      7\u001b[0m                    lab_map\u001b[38;5;241m=\u001b[39m   data_iter\u001b[38;5;241m.\u001b[39mlabl_map,                                           \u001b[38;5;66;03m# reasonable val\u001b[39;00m\n\u001b[0;32m   (...)\u001b[0m\n\u001b[1;32m     18\u001b[0m                    drprt\u001b[38;5;241m=\u001b[39m     drprt,                                                             \u001b[38;5;66;03m# reasonable val (dropout applied at the gene level)\u001b[39;00m\n\u001b[1;32m     19\u001b[0m                   )\n\u001b[0;32m---> 20\u001b[0m \u001b[43mmodel\u001b[49m\u001b[38;5;241;43m.\u001b[39;49m\u001b[43mload_state_dict\u001b[49m\u001b[43m(\u001b[49m\u001b[43mtorch\u001b[49m\u001b[38;5;241;43m.\u001b[39;49m\u001b[43mload\u001b[49m\u001b[43m(\u001b[49m\u001b[43mf\u001b[49m\u001b[43m,\u001b[49m\u001b[43m \u001b[49m\u001b[43mmap_location\u001b[49m\u001b[38;5;241;43m=\u001b[39;49m\u001b[43mdevice\u001b[49m\u001b[43m)\u001b[49m\u001b[43m)\u001b[49m\n",
      "File \u001b[0;32m~/anaconda3/envs/torchgpu/lib/python3.9/site-packages/torch/nn/modules/module.py:1497\u001b[0m, in \u001b[0;36mModule.load_state_dict\u001b[0;34m(self, state_dict, strict)\u001b[0m\n\u001b[1;32m   1492\u001b[0m         error_msgs\u001b[38;5;241m.\u001b[39minsert(\n\u001b[1;32m   1493\u001b[0m             \u001b[38;5;241m0\u001b[39m, \u001b[38;5;124m'\u001b[39m\u001b[38;5;124mMissing key(s) in state_dict: \u001b[39m\u001b[38;5;132;01m{}\u001b[39;00m\u001b[38;5;124m. \u001b[39m\u001b[38;5;124m'\u001b[39m\u001b[38;5;241m.\u001b[39mformat(\n\u001b[1;32m   1494\u001b[0m                 \u001b[38;5;124m'\u001b[39m\u001b[38;5;124m, \u001b[39m\u001b[38;5;124m'\u001b[39m\u001b[38;5;241m.\u001b[39mjoin(\u001b[38;5;124m'\u001b[39m\u001b[38;5;124m\"\u001b[39m\u001b[38;5;132;01m{}\u001b[39;00m\u001b[38;5;124m\"\u001b[39m\u001b[38;5;124m'\u001b[39m\u001b[38;5;241m.\u001b[39mformat(k) \u001b[38;5;28;01mfor\u001b[39;00m k \u001b[38;5;129;01min\u001b[39;00m missing_keys)))\n\u001b[1;32m   1496\u001b[0m \u001b[38;5;28;01mif\u001b[39;00m \u001b[38;5;28mlen\u001b[39m(error_msgs) \u001b[38;5;241m>\u001b[39m \u001b[38;5;241m0\u001b[39m:\n\u001b[0;32m-> 1497\u001b[0m     \u001b[38;5;28;01mraise\u001b[39;00m \u001b[38;5;167;01mRuntimeError\u001b[39;00m(\u001b[38;5;124m'\u001b[39m\u001b[38;5;124mError(s) in loading state_dict for \u001b[39m\u001b[38;5;132;01m{}\u001b[39;00m\u001b[38;5;124m:\u001b[39m\u001b[38;5;130;01m\\n\u001b[39;00m\u001b[38;5;130;01m\\t\u001b[39;00m\u001b[38;5;132;01m{}\u001b[39;00m\u001b[38;5;124m'\u001b[39m\u001b[38;5;241m.\u001b[39mformat(\n\u001b[1;32m   1498\u001b[0m                        \u001b[38;5;28mself\u001b[39m\u001b[38;5;241m.\u001b[39m\u001b[38;5;18m__class__\u001b[39m\u001b[38;5;241m.\u001b[39m\u001b[38;5;18m__name__\u001b[39m, \u001b[38;5;124m\"\u001b[39m\u001b[38;5;130;01m\\n\u001b[39;00m\u001b[38;5;130;01m\\t\u001b[39;00m\u001b[38;5;124m\"\u001b[39m\u001b[38;5;241m.\u001b[39mjoin(error_msgs)))\n\u001b[1;32m   1499\u001b[0m \u001b[38;5;28;01mreturn\u001b[39;00m _IncompatibleKeys(missing_keys, unexpected_keys)\n",
      "\u001b[0;31mRuntimeError\u001b[0m: Error(s) in loading state_dict for CellTypeNet:\n\tsize mismatch for enc.weight: copying a param with shape torch.Size([45768, 70]) from checkpoint, the shape in current model is torch.Size([10861, 70]).\n\tsize mismatch for rcn.0.weight: copying a param with shape torch.Size([45768, 70]) from checkpoint, the shape in current model is torch.Size([140, 70]).\n\tsize mismatch for rcn.0.bias: copying a param with shape torch.Size([45768]) from checkpoint, the shape in current model is torch.Size([140])."
     ]
    }
   ],
   "source": [
    "# load the data\n",
    "data_iter= DataIterCached(n_iter= 2000)\n",
    "\n",
    "# load the model\n",
    "model= CellTypeNet(n_gns=     data_iter.current['tenx_ftrs'].shape[1],                      # fixed\n",
    "                   n_cat=     data_iter.labl_map.shape[1],                                  # fixed\n",
    "                   lab_map=   data_iter.labl_map,                                           # reasonable val\n",
    "                   gsubidx=   data_iter.gsubidx,\n",
    "                   cnst=      'half_nrml',                                                  # reasonable val\n",
    "                   reduction= 'max',                                                        # reasonable val\n",
    "                   n_rcn_layers=nrcn,\n",
    "                   n_bit=     n_bit,                                                           # fixed\n",
    "                   min_pos=   min_pos,                                                      # -- tune\n",
    "                   lmd0=      lmd0,\n",
    "                   lmd1=      lmd1,                                                         # -- tune\n",
    "                   lmd2=      lmd2,                                                         # reasonable val\n",
    "                   lmd3=      lmd3,                                                         # reasonable val\n",
    "                   drprt=     drprt,                                                             # reasonable val (dropout applied at the gene level)\n",
    "                  )\n",
    "model.load_state_dict(torch.load(f, map_location=device))\n",
    "# model.eval()\n"
   ]
  },
  {
   "cell_type": "code",
   "execution_count": null,
   "id": "5e5fb3f8-fc32-4982-8a65-d83154fa8dae",
   "metadata": {},
   "outputs": [],
   "source": [
    "model.eval()\n",
    "\n",
    "# evaluate\n",
    "i = 0\n",
    "data= data_iter.validation()\n",
    "with torch.no_grad():\n",
    "    # print(list(data['tenx'].keys()))\n",
    "    tenx_ftrs = []\n",
    "    tenx_ftrs_gsub = []\n",
    "    for l in data['tenx']:\n",
    "        if l != -1 and len(data['tenx'][l]): # what is -1 cluster? might just avoid it...\n",
    "            _tenx_ftrs= data['tenx'][l]['tenx_ftrs'].to(device)\n",
    "            _tenx_ftrs_gsub= (_tenx_ftrs[:,model.gsubidx]+1).log() # log(x+1) norm\n",
    "            tenx_ftrs.append(_tenx_ftrs)\n",
    "            tenx_ftrs_gsub.append(_tenx_ftrs_gsub)\n",
    "            \n",
    "    tenx_ftrs = torch.cat(tenx_ftrs, 0)\n",
    "    tenx_ftrs_gsub = torch.cat(tenx_ftrs_gsub, 0)\n",
    "    tenx_ftrs_rcn, tenx_emb, tenx_mrgn= model.forward(tenx_ftrs, rnd=True)\n",
    "    \n",
    "    smrt_ftrs = []\n",
    "    smrt_ftrs_gsub = []\n",
    "    for l in data['smrt']:\n",
    "        if l != -1 and len(data['smrt'][l]): # what is -1 cluster? might just avoid it...\n",
    "            _smrt_ftrs= data['smrt'][l]['smrt_ftrs'].to(device)\n",
    "            _smrt_ftrs_gsub= (_smrt_ftrs[:,model.gsubidx]+1).log() # log(x+1) norm\n",
    "            smrt_ftrs.append(_smrt_ftrs)\n",
    "            smrt_ftrs_gsub.append(_smrt_ftrs_gsub)\n",
    "            \n",
    "    smrt_ftrs = torch.cat(smrt_ftrs, 0)\n",
    "    smrt_ftrs_gsub = torch.cat(smrt_ftrs_gsub, 0)\n",
    "    smrt_ftrs_rcn, smrt_emb, smrt_mrgn= model.forward(smrt_ftrs, rnd=True)\n",
    "    \n",
    "    tenx_r2 = get_r2_torch(tenx_ftrs_gsub, tenx_ftrs_rcn)\n",
    "    smrt_r2 = get_r2_torch(smrt_ftrs_gsub, smrt_ftrs_rcn)"
   ]
  },
  {
   "cell_type": "code",
   "execution_count": 21,
   "id": "47242d80-a220-4e1c-9add-3dac69a33776",
   "metadata": {},
   "outputs": [
    {
     "ename": "NameError",
     "evalue": "name 'smrt_r2' is not defined",
     "output_type": "error",
     "traceback": [
      "\u001b[0;31m---------------------------------------------------------------------------\u001b[0m",
      "\u001b[0;31mNameError\u001b[0m                                 Traceback (most recent call last)",
      "Input \u001b[0;32mIn [21]\u001b[0m, in \u001b[0;36m<cell line: 3>\u001b[0;34m()\u001b[0m\n\u001b[1;32m      1\u001b[0m fig, ax \u001b[38;5;241m=\u001b[39m plt\u001b[38;5;241m.\u001b[39msubplots()\n\u001b[1;32m      2\u001b[0m \u001b[38;5;66;03m# ax.plot(tenx_r2, label='10X')\u001b[39;00m\n\u001b[0;32m----> 3\u001b[0m ax\u001b[38;5;241m.\u001b[39mplot(\u001b[43msmrt_r2\u001b[49m, label\u001b[38;5;241m=\u001b[39m\u001b[38;5;124m'\u001b[39m\u001b[38;5;124mSMART-seq\u001b[39m\u001b[38;5;124m'\u001b[39m)\n\u001b[1;32m      4\u001b[0m ax\u001b[38;5;241m.\u001b[39mset_ylim([\u001b[38;5;241m0\u001b[39m,\u001b[38;5;241m1\u001b[39m])\n\u001b[1;32m      5\u001b[0m ax\u001b[38;5;241m.\u001b[39mset_ylabel(\u001b[38;5;124m'\u001b[39m\u001b[38;5;124mRecon r2\u001b[39m\u001b[38;5;124m'\u001b[39m)\n",
      "\u001b[0;31mNameError\u001b[0m: name 'smrt_r2' is not defined"
     ]
    },
    {
     "data": {
      "image/png": "[encoded data removed]",
      "text/plain": [
       "<Figure size 432x288 with 1 Axes>"
      ]
     },
     "metadata": {
      "image/png": {
       "height": 267,
       "width": 400
      }
     },
     "output_type": "display_data"
    }
   ],
   "source": [
    "fig, ax = plt.subplots()\n",
    "# ax.plot(tenx_r2, label='10X')\n",
    "ax.plot(smrt_r2, label='SMART-seq')\n",
    "ax.set_ylim([0,1])\n",
    "ax.set_ylabel('Recon r2')\n",
    "ax.set_xlabel(f'genes (n={len(tenx_r2)})')\n",
    "ax.legend()\n",
    "plt.show()"
   ]
  },
  {
   "cell_type": "code",
   "execution_count": null,
   "id": "9944f9cd-a59b-4300-bedd-bbd71ba6c0f5",
   "metadata": {},
   "outputs": [],
   "source": [
    "fig, ax = plt.subplots()\n",
    "ax.plot(np.sort(tenx_r2)[::-1], label='10X')\n",
    "ax.plot(np.sort(smrt_r2)[::-1], label='SMART-seq')\n",
    "ax.set_ylim([0,1])\n",
    "ax.set_ylabel('Recon r2')\n",
    "ax.set_xlabel(f'genes (n={len(tenx_r2)})')\n",
    "ax.legend()\n",
    "plt.show()"
   ]
  },
  {
   "cell_type": "code",
   "execution_count": null,
   "id": "d8fce4dd-28e7-4b8b-8370-687bc567795b",
   "metadata": {},
   "outputs": [],
   "source": []
  },
  {
   "cell_type": "code",
   "execution_count": null,
   "id": "95e5f1f6-1d53-4cd7-9015-d2c98d02bdf4",
   "metadata": {},
   "outputs": [],
   "source": []
  },
  {
   "cell_type": "code",
   "execution_count": null,
   "id": "0769cee6-bc7f-46bd-9375-dcefa812dc35",
   "metadata": {},
   "outputs": [],
   "source": []
  },
  {
   "cell_type": "code",
   "execution_count": null,
   "id": "7a9a9abc-74a8-4846-8268-b533b4271206",
   "metadata": {},
   "outputs": [],
   "source": []
  },
  {
   "cell_type": "code",
   "execution_count": null,
   "id": "1cd5e4ff-b4bf-46fd-a4e5-aba191f4efe1",
   "metadata": {},
   "outputs": [],
   "source": []
  },
  {
   "cell_type": "code",
   "execution_count": null,
   "id": "f0eee812-132b-4d85-a93e-aad4ecbc869e",
   "metadata": {},
   "outputs": [],
   "source": []
  }
 ],
 "metadata": {
  "kernelspec": {
   "display_name": "Python 3 (ipykernel)",
   "language": "python",
   "name": "python3"
  },
  "language_info": {
   "codemirror_mode": {
    "name": "ipython",
    "version": 3
   },
   "file_extension": ".py",
   "mimetype": "text/x-python",
   "name": "python",
   "nbconvert_exporter": "python",
   "pygments_lexer": "ipython3",
   "version": "3.9.12"
  }
 },
 "nbformat": 4,
 "nbformat_minor": 5
}
