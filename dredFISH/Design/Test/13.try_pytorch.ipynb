{
 "cells": [
  {
   "cell_type": "code",
   "execution_count": 3,
   "id": "d6d5780f-1cb1-4a86-ac77-ca5340a0877a",
   "metadata": {},
   "outputs": [
    {
     "data": {
      "text/plain": [
       "False"
      ]
     },
     "execution_count": 3,
     "metadata": {},
     "output_type": "execute_result"
    }
   ],
   "source": [
    "import torch\n",
    "torch.cuda.is_available() # routine env not available; torchgpu is"
   ]
  },
  {
   "cell_type": "code",
   "execution_count": 9,
   "id": "b4dc0245-b168-426b-b101-c10a6dff84b4",
   "metadata": {},
   "outputs": [
    {
     "data": {
      "text/plain": [
       "tensor([[ 0.4217,  2.5621, -0.1559,  0.2582],\n",
       "        [-0.8521,  1.2065, -0.3532, -0.8034],\n",
       "        [-0.3574,  0.2499, -0.1427,  0.1053]])"
      ]
     },
     "execution_count": 9,
     "metadata": {},
     "output_type": "execute_result"
    }
   ],
   "source": [
    "a = torch.empty(3,4).normal_(0,1)\n",
    "a"
   ]
  },
  {
   "cell_type": "code",
   "execution_count": 14,
   "id": "36b2f10b-e279-4589-9f4d-86366199f85f",
   "metadata": {},
   "outputs": [],
   "source": [
    "x, y = a.sort(1)"
   ]
  },
  {
   "cell_type": "code",
   "execution_count": 15,
   "id": "f3bc49d6-9b48-42f4-b761-b40477540cd8",
   "metadata": {},
   "outputs": [
    {
     "data": {
      "text/plain": [
       "tensor([[-0.1559,  0.2582,  0.4217,  2.5621],\n",
       "        [-0.8521, -0.8034, -0.3532,  1.2065],\n",
       "        [-0.3574, -0.1427,  0.1053,  0.2499]])"
      ]
     },
     "execution_count": 15,
     "metadata": {},
     "output_type": "execute_result"
    }
   ],
   "source": [
    "x"
   ]
  },
  {
   "cell_type": "code",
   "execution_count": 17,
   "id": "62c6db1d-3971-4f60-973f-163f67ebe480",
   "metadata": {},
   "outputs": [
    {
     "data": {
      "text/plain": [
       "tensor([[2, 3, 0, 1],\n",
       "        [0, 3, 2, 1],\n",
       "        [0, 2, 3, 1]])"
      ]
     },
     "execution_count": 17,
     "metadata": {},
     "output_type": "execute_result"
    }
   ],
   "source": [
    "y"
   ]
  },
  {
   "cell_type": "code",
   "execution_count": 21,
   "id": "5a800e0a-781a-4f3b-b213-50de786aa5ed",
   "metadata": {},
   "outputs": [
    {
     "data": {
      "text/plain": [
       "1"
      ]
     },
     "execution_count": 21,
     "metadata": {},
     "output_type": "execute_result"
    }
   ],
   "source": [
    "4//3"
   ]
  },
  {
   "cell_type": "code",
   "execution_count": 23,
   "id": "0792411b-08c0-48b8-9218-35a8346a722b",
   "metadata": {},
   "outputs": [
    {
     "data": {
      "text/plain": [
       "(tensor([[-0.1559,  0.2582],\n",
       "         [-0.8521, -0.8034],\n",
       "         [-0.3574, -0.1427]]),\n",
       " tensor([[ 0.4217,  2.5621],\n",
       "         [-0.3532,  1.2065],\n",
       "         [ 0.1053,  0.2499]]))"
      ]
     },
     "execution_count": 23,
     "metadata": {},
     "output_type": "execute_result"
    }
   ],
   "source": [
    "a = x[:,:2]\n",
    "b = x[:,2:]\n",
    "a, b"
   ]
  },
  {
   "cell_type": "code",
   "execution_count": 27,
   "id": "874fd05d-9cc9-4eec-8081-7694305dee77",
   "metadata": {},
   "outputs": [
    {
     "data": {
      "text/plain": [
       "tensor([[ 0.4217],\n",
       "        [-0.3532],\n",
       "        [ 0.1053]])"
      ]
     },
     "execution_count": 27,
     "metadata": {},
     "output_type": "execute_result"
    }
   ],
   "source": [
    "a[:,-1:]\n",
    "b[:,:1]"
   ]
  },
  {
   "cell_type": "code",
   "execution_count": null,
   "id": "980ef9d0-d6bb-488f-8441-3d4b766c5a8d",
   "metadata": {},
   "outputs": [],
   "source": []
  }
 ],
 "metadata": {
  "kernelspec": {
   "display_name": "Python 3 (ipykernel)",
   "language": "python",
   "name": "python3"
  },
  "language_info": {
   "codemirror_mode": {
    "name": "ipython",
    "version": 3
   },
   "file_extension": ".py",
   "mimetype": "text/x-python",
   "name": "python",
   "nbconvert_exporter": "python",
   "pygments_lexer": "ipython3",
   "version": "3.10.2"
  }
 },
 "nbformat": 4,
 "nbformat_minor": 5
}
