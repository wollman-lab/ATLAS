{
 "cells": [
  {
   "cell_type": "code",
   "execution_count": null,
   "id": "91edd951-c4d2-4fbf-9c44-52b9d0ba5750",
   "metadata": {},
   "outputs": [],
   "source": [
    "import numpy as np \n",
    "\n",
    "from copy import copy\n",
    "from collections import Counter, defaultdict\n",
    "\n",
    "import matplotlib.pyplot as plt \n",
    "from scipy.spatial import Delaunay,Voronoi\n",
    "\n",
    "from sklearn.manifold import TSNE\n",
    "from sklearn.decomposition import PCA\n",
    "from sklearn.preprocessing import normalize\n",
    "\n",
    "from igraph import *\n",
    "\n",
    "import TissueGraph as tg\n",
    "\n",
    "from MERFISH_Objects.FISHData import *\n",
    "\n",
    "import scanpy as sc"
   ]
  },
  {
   "cell_type": "code",
   "execution_count": null,
   "id": "2c5ee79f-834c-4350-8df8-7556d4f1e1b8",
   "metadata": {},
   "outputs": [],
   "source": [
    "base_path = '/bigstore/Images2021/gaby/dredFISH/DPNMF_PolyA_2021Nov19/'\n",
    "dataset = 'DPNMF_PolyA_2021Nov19'\n",
    "fishdata = FISHData(os.path.join(base_path,'fishdata'))\n",
    "data = fishdata.load_data('h5ad',dataset=dataset)\n",
    "data.obs_names_make_unique()"
   ]
  },
  {
   "cell_type": "code",
   "execution_count": null,
   "id": "3aa3d117-7376-4d1e-8675-861e967e6a85",
   "metadata": {},
   "outputs": [],
   "source": [
    "data.X = data.layers['total_vectors']\n",
    "data = data[np.isnan(data.X.max(1))==False]\n",
    "\n",
    "data.X = data.X/data.obs['total_signal'][:,None]\n",
    "data.X = data.X - np.array([np.percentile(data.X[:,i],25) for i in range(data.X.shape[1])])\n",
    "data.X = data.X / np.array([np.percentile(data.X[:,i],75) for i in range(data.X.shape[1])])\n",
    "data.X = normalize(data.X)\n",
    "\n",
    "XY = np.asarray([data.obs['stage_y'], data.obs['stage_x']])\n",
    "XY = np.transpose(XY)\n",
    "data.obsm['stage'] = XY"
   ]
  },
  {
   "cell_type": "code",
   "execution_count": null,
   "id": "02c7795e-9f8e-4764-bae3-692ed47b1591",
   "metadata": {},
   "outputs": [],
   "source": [
    "TG = tg.TissueGraph()\n",
    "TG.BuildSpatialGraph(XY)"
   ]
  }
 ],
 "metadata": {
  "kernelspec": {
   "display_name": "Python [conda env:dredFISH]",
   "language": "python",
   "name": "conda-env-dredFISH-py"
  },
  "language_info": {
   "codemirror_mode": {
    "name": "ipython",
    "version": 3
   },
   "file_extension": ".py",
   "mimetype": "text/x-python",
   "name": "python",
   "nbconvert_exporter": "python",
   "pygments_lexer": "ipython3",
   "version": "3.9.7"
  }
 },
 "nbformat": 4,
 "nbformat_minor": 5
}
