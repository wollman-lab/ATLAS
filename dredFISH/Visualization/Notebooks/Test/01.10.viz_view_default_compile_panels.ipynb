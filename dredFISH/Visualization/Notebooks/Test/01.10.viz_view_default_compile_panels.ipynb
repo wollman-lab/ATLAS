{
 "cells": [
  {
   "cell_type": "code",
   "execution_count": 1,
   "id": "4e8dc9ed-82b0-40c3-a75e-75bf53f31adc",
   "metadata": {},
   "outputs": [],
   "source": [
    "import os\n",
    "import glob"
   ]
  },
  {
   "cell_type": "code",
   "execution_count": 2,
   "id": "07f36014-98ee-409d-8788-a873bf33b3af",
   "metadata": {},
   "outputs": [],
   "source": [
    "def generate_figure_text(respth, cmplpth):\n",
    "    \"\"\"get all figures from respth\n",
    "    respth: figure inputs\n",
    "    cmplpth: compiled results output\n",
    "    \"\"\"\n",
    "    # input\n",
    "    figures = glob.glob(\"fig*.pdf\", dir_fd=respth) \n",
    "        \n",
    "    # rename\n",
    "    for i, fig in enumerate(figures):\n",
    "        # remove extra .\n",
    "        fignew = fig\n",
    "        while fignew.count('.') > 1:\n",
    "            fignew = fignew.replace('.', 'p', 1)\n",
    "\n",
    "        # update name (using symlink)\n",
    "        src = os.path.join(respth, fig)\n",
    "        dst = os.path.join(cmplpth, fignew)\n",
    "        if not os.path.isfile(dst):\n",
    "            os.symlink(src, dst) \n",
    "        figures[i] = fignew\n",
    "\n",
    "    # prep figure text\n",
    "    figuretext = \"\"\n",
    "    for fig in figures:\n",
    "        figuretext += f\"\\\\includepdf[pages=-]{{{fig}}}\\n\"\n",
    "        \n",
    "    return figuretext\n",
    "\n",
    "def generate_tex(title, author, figuretext):\n",
    "    \"\"\"\n",
    "    \"\"\"\n",
    "    latex_letter = f\"\"\"\\\\documentclass[11pt]{{article}}\n",
    "    \\\\usepackage{{pdfpages}}\n",
    "    \\\\usepackage[utf8]{{inputenc}}\n",
    "    \\\\usepackage[legalpaper, margin=0.5in]{{geometry}}\n",
    "    \\\\begin{{document}}\n",
    "    \\\\title{{{title}}}\n",
    "    \\\\author{{{author}}}\n",
    "    \\\\maketitle\n",
    "    {figuretext} % \\\\includepdf[pages=-]{{fig1-2_basis_space_righthalf_2022-07-20.pdf}}\n",
    "    \\\\end{{document}}\n",
    "    \"\"\" \n",
    "    return latex_letter\n"
   ]
  },
  {
   "cell_type": "code",
   "execution_count": 3,
   "id": "3035f3a8-06a6-4d65-913c-862d0024ad10",
   "metadata": {},
   "outputs": [],
   "source": [
    "basepth = '/bigstore/GeneralStorage/Data/dredFISH/Dataset1-t5'\n",
    "respth = os.path.join(basepth, 'figures')\n",
    "# output\n",
    "cmplpth = os.path.join(respth, 'compiled')\n",
    "if not os.path.isdir(cmplpth):\n",
    "    os.mkdir(cmplpth)\n",
    "\n",
    "title = 'dredFISH default analysis'\n",
    "author = 'Fangming'\n",
    "figuretext = generate_figure_text(respth, cmplpth)\n",
    "latex_letter = generate_tex(title, author, figuretext)\n",
    "# print(figuretext)\n",
    "# print(latex_letter)\n",
    "\n",
    "texpth = os.path.join(cmplpth, 'compiled.tex')\n",
    "with open(texpth, 'w') as fh:\n",
    "    fh.write(latex_letter)"
   ]
  },
  {
   "cell_type": "code",
   "execution_count": null,
   "id": "813a4849-efc6-4f81-a189-206bb3da8e1e",
   "metadata": {},
   "outputs": [],
   "source": []
  }
 ],
 "metadata": {
  "kernelspec": {
   "display_name": "Python 3 (ipykernel)",
   "language": "python",
   "name": "python3"
  },
  "language_info": {
   "codemirror_mode": {
    "name": "ipython",
    "version": 3
   },
   "file_extension": ".py",
   "mimetype": "text/x-python",
   "name": "python",
   "nbconvert_exporter": "python",
   "pygments_lexer": "ipython3",
   "version": "3.10.2"
  }
 },
 "nbformat": 4,
 "nbformat_minor": 5
}
