{
 "cells": [
  {
   "cell_type": "code",
   "execution_count": 1,
   "id": "4e8dc9ed-82b0-40c3-a75e-75bf53f31adc",
   "metadata": {},
   "outputs": [],
   "source": [
    "import os\n",
    "import glob"
   ]
  },
  {
   "cell_type": "code",
   "execution_count": 2,
   "id": "8e5a41ee-6825-4596-8924-8b4a390a3216",
   "metadata": {},
   "outputs": [
    {
     "data": {
      "text/plain": [
       "'/bigstore/GeneralStorage/Data/dredFISH/Dataset1-t5/figures/compiled'"
      ]
     },
     "execution_count": 2,
     "metadata": {},
     "output_type": "execute_result"
    }
   ],
   "source": [
    "basepth = '/bigstore/GeneralStorage/Data/dredFISH/Dataset1-t5'\n",
    "respth = os.path.join(basepth, 'figures')\n",
    "cmplpth = os.path.join(respth, 'compiled')\n",
    "if not os.path.isdir(cmplpth):\n",
    "    os.mkdir(cmplpth)\n",
    "cmplpth"
   ]
  },
  {
   "cell_type": "code",
   "execution_count": 3,
   "id": "62ccf23e-235a-4edf-a7ed-abe0cd5a3429",
   "metadata": {},
   "outputs": [
    {
     "name": "stdout",
     "output_type": "stream",
     "text": [
      "compiled\t\t\t\t     fig3-3_type_r0.1_2022-07-20.pdf\n",
      "fig1-2_basis_space_righthalf_2022-07-20.pdf  fig3-4_type_r0.2_2022-07-20.pdf\n",
      "fig1_basis_space_2022-07-20.pdf\t\t     fig3-5_type_r0.5_2022-07-20.pdf\n",
      "fig2_basis_umap_2022-07-20.pdf\t\t     fig3-6_type_r1_2022-07-20.pdf\n",
      "fig3-0_type_r0.01_2022-07-20.pdf\t     fig3-7_type_r2_2022-07-20.pdf\n",
      "fig3-1_type_r0.02_2022-07-20.pdf\t     fig3-8_type_r5_2022-07-20.pdf\n",
      "fig3-2_type_r0.05_2022-07-20.pdf\t     fig3-9_type_r10_2022-07-20.pdf\n"
     ]
    }
   ],
   "source": [
    "!ls $respth"
   ]
  },
  {
   "cell_type": "code",
   "execution_count": 4,
   "id": "07f36014-98ee-409d-8788-a873bf33b3af",
   "metadata": {},
   "outputs": [
    {
     "data": {
      "text/plain": [
       "['fig1_basis_space_2022-07-20.pdf',\n",
       " 'fig1-2_basis_space_righthalf_2022-07-20.pdf',\n",
       " 'fig2_basis_umap_2022-07-20.pdf',\n",
       " 'fig3-0_type_r0p01_2022-07-20.pdf',\n",
       " 'fig3-1_type_r0p02_2022-07-20.pdf',\n",
       " 'fig3-2_type_r0p05_2022-07-20.pdf',\n",
       " 'fig3-3_type_r0p1_2022-07-20.pdf',\n",
       " 'fig3-4_type_r0p2_2022-07-20.pdf',\n",
       " 'fig3-5_type_r0p5_2022-07-20.pdf',\n",
       " 'fig3-6_type_r1_2022-07-20.pdf',\n",
       " 'fig3-7_type_r2_2022-07-20.pdf',\n",
       " 'fig3-8_type_r5_2022-07-20.pdf',\n",
       " 'fig3-9_type_r10_2022-07-20.pdf']"
      ]
     },
     "execution_count": 4,
     "metadata": {},
     "output_type": "execute_result"
    }
   ],
   "source": [
    "figures = glob.glob(\"fig*.pdf\", dir_fd=respth) \n",
    "for i, fig in enumerate(figures):\n",
    "    # remove extra .\n",
    "    fignew = fig\n",
    "    while fignew.count('.') > 1:\n",
    "        fignew = fignew.replace('.', 'p', 1)\n",
    "    \n",
    "    # update name (using symlink)\n",
    "    src = os.path.join(respth, fig)\n",
    "    dst = os.path.join(cmplpth, fignew)\n",
    "    if not os.path.isfile(dst):\n",
    "        os.symlink(src, dst) \n",
    "    figures[i] = fignew\n",
    "        \n",
    "figures"
   ]
  },
  {
   "cell_type": "code",
   "execution_count": 5,
   "id": "3035f3a8-06a6-4d65-913c-862d0024ad10",
   "metadata": {},
   "outputs": [
    {
     "name": "stdout",
     "output_type": "stream",
     "text": [
      "\\includepdf[pages=-]{fig1_basis_space_2022-07-20.pdf}\n",
      "\\includepdf[pages=-]{fig1-2_basis_space_righthalf_2022-07-20.pdf}\n",
      "\\includepdf[pages=-]{fig2_basis_umap_2022-07-20.pdf}\n",
      "\\includepdf[pages=-]{fig3-0_type_r0p01_2022-07-20.pdf}\n",
      "\\includepdf[pages=-]{fig3-1_type_r0p02_2022-07-20.pdf}\n",
      "\\includepdf[pages=-]{fig3-2_type_r0p05_2022-07-20.pdf}\n",
      "\\includepdf[pages=-]{fig3-3_type_r0p1_2022-07-20.pdf}\n",
      "\\includepdf[pages=-]{fig3-4_type_r0p2_2022-07-20.pdf}\n",
      "\\includepdf[pages=-]{fig3-5_type_r0p5_2022-07-20.pdf}\n",
      "\\includepdf[pages=-]{fig3-6_type_r1_2022-07-20.pdf}\n",
      "\\includepdf[pages=-]{fig3-7_type_r2_2022-07-20.pdf}\n",
      "\\includepdf[pages=-]{fig3-8_type_r5_2022-07-20.pdf}\n",
      "\\includepdf[pages=-]{fig3-9_type_r10_2022-07-20.pdf}\n",
      "\n"
     ]
    }
   ],
   "source": [
    "title = 'dredFISH default analysis'\n",
    "author = 'Fangming'\n",
    "# figures = [\n",
    "#     'fig1_basis_space_2022-07-20.pdf',\n",
    "#     'fig1-2_basis_space_righthalf_2022-07-20.pdf',\n",
    "# ]\n",
    "    \n",
    "figuretext = \"\"\n",
    "for fig in figures:\n",
    "    figuretext += f\"\\\\includepdf[pages=-]{{{fig}}}\\n\"\n",
    "print(figuretext)"
   ]
  },
  {
   "cell_type": "code",
   "execution_count": 6,
   "id": "480bf266-84b3-4b0d-8bc9-0857e9dd56e2",
   "metadata": {},
   "outputs": [
    {
     "name": "stdout",
     "output_type": "stream",
     "text": [
      "\\documentclass[11pt]{article}\n",
      "\\usepackage{pdfpages}\n",
      "\\usepackage[utf8]{inputenc}\n",
      "\\usepackage[legalpaper, margin=0.5in]{geometry}\n",
      "\\begin{document}\n",
      "\\title{dredFISH default analysis}\n",
      "\\author{Fangming}\n",
      "\\maketitle\n",
      "\\includepdf[pages=-]{fig1_basis_space_2022-07-20.pdf}\n",
      "\\includepdf[pages=-]{fig1-2_basis_space_righthalf_2022-07-20.pdf}\n",
      "\\includepdf[pages=-]{fig2_basis_umap_2022-07-20.pdf}\n",
      "\\includepdf[pages=-]{fig3-0_type_r0p01_2022-07-20.pdf}\n",
      "\\includepdf[pages=-]{fig3-1_type_r0p02_2022-07-20.pdf}\n",
      "\\includepdf[pages=-]{fig3-2_type_r0p05_2022-07-20.pdf}\n",
      "\\includepdf[pages=-]{fig3-3_type_r0p1_2022-07-20.pdf}\n",
      "\\includepdf[pages=-]{fig3-4_type_r0p2_2022-07-20.pdf}\n",
      "\\includepdf[pages=-]{fig3-5_type_r0p5_2022-07-20.pdf}\n",
      "\\includepdf[pages=-]{fig3-6_type_r1_2022-07-20.pdf}\n",
      "\\includepdf[pages=-]{fig3-7_type_r2_2022-07-20.pdf}\n",
      "\\includepdf[pages=-]{fig3-8_type_r5_2022-07-20.pdf}\n",
      "\\includepdf[pages=-]{fig3-9_type_r10_2022-07-20.pdf}\n",
      " % \\includepdf[pages=-]{fig1-2_basis_space_righthalf_2022-07-20.pdf}\n",
      "\\end{document}\n",
      "\n"
     ]
    }
   ],
   "source": [
    "latex_letter = f\"\"\"\\\\documentclass[11pt]{{article}}\n",
    "\\\\usepackage{{pdfpages}}\n",
    "\\\\usepackage[utf8]{{inputenc}}\n",
    "\\\\usepackage[legalpaper, margin=0.5in]{{geometry}}\n",
    "\\\\begin{{document}}\n",
    "\\\\title{{{title}}}\n",
    "\\\\author{{{author}}}\n",
    "\\\\maketitle\n",
    "{figuretext} % \\\\includepdf[pages=-]{{fig1-2_basis_space_righthalf_2022-07-20.pdf}}\n",
    "\\\\end{{document}}\n",
    "\"\"\" \n",
    "\n",
    "print(latex_letter)"
   ]
  },
  {
   "cell_type": "code",
   "execution_count": 7,
   "id": "1b9d17a9-d523-4c7f-bb04-92f659592402",
   "metadata": {},
   "outputs": [],
   "source": [
    "texpth = os.path.join(cmplpth, 'compiled.tex')\n",
    "with open(texpth, 'w') as fh:\n",
    "    fh.write(latex_letter)"
   ]
  }
 ],
 "metadata": {
  "kernelspec": {
   "display_name": "Python 3 (ipykernel)",
   "language": "python",
   "name": "python3"
  },
  "language_info": {
   "codemirror_mode": {
    "name": "ipython",
    "version": 3
   },
   "file_extension": ".py",
   "mimetype": "text/x-python",
   "name": "python",
   "nbconvert_exporter": "python",
   "pygments_lexer": "ipython3",
   "version": "3.10.2"
  }
 },
 "nbformat": 4,
 "nbformat_minor": 5
}
