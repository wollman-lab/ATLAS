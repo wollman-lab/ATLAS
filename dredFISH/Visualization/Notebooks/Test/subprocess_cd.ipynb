{
 "cells": [
  {
   "cell_type": "code",
   "execution_count": 5,
   "id": "9adf60e6-0116-4fe3-a10f-88ce9a3880c4",
   "metadata": {},
   "outputs": [],
   "source": [
    "import subprocess as sp\n",
    "import os"
   ]
  },
  {
   "cell_type": "code",
   "execution_count": 9,
   "id": "8d73aa7c-3d4a-497f-ba55-4ada8f209863",
   "metadata": {},
   "outputs": [
    {
     "name": "stdout",
     "output_type": "stream",
     "text": [
      "/bigstore/GeneralStorage/Data/dredFISH/Dataset1-t5/ /bigstore/GeneralStorage/Data/dredFISH/Dataset1-t5/figures /bigstore/GeneralStorage/Data/dredFISH/Dataset1-t5/figures/compiled\n",
      "compiled.aux\t\t\t\t     fig3-2_type_r0p05_2022-07-20.pdf\n",
      "compiled.log\t\t\t\t     fig3-3_type_r0p1_2022-07-20.pdf\n",
      "compiled.pdf\t\t\t\t     fig3-4_type_r0p2_2022-07-20.pdf\n",
      "compiled.tex\t\t\t\t     fig3-5_type_r0p5_2022-07-20.pdf\n",
      "fig1-2_basis_space_righthalf_2022-07-20.pdf  fig3-6_type_r1_2022-07-20.pdf\n",
      "fig1_basis_space_2022-07-20.pdf\t\t     fig3-7_type_r2_2022-07-20.pdf\n",
      "fig2_basis_umap_2022-07-20.pdf\t\t     fig3-8_type_r5_2022-07-20.pdf\n",
      "fig3-0_type_r0p01_2022-07-20.pdf\t     fig3-9_type_r10_2022-07-20.pdf\n",
      "fig3-1_type_r0p02_2022-07-20.pdf\n"
     ]
    }
   ],
   "source": [
    "basepth = \"/bigstore/GeneralStorage/Data/dredFISH/Dataset1-t5/\"\n",
    "respth = os.path.join(basepth, 'figures')\n",
    "cmplpth = os.path.join(respth, 'compiled')\n",
    "print(basepth, respth, cmplpth)\n",
    "!ls $cmplpth"
   ]
  },
  {
   "cell_type": "code",
   "execution_count": 10,
   "id": "842a56e8-d962-422a-b52b-c33b4b0ff19c",
   "metadata": {},
   "outputs": [
    {
     "name": "stdout",
     "output_type": "stream",
     "text": [
      "This is pdfTeX, Version 3.14159265-2.6-1.40.18 (TeX Live 2017/Debian) (preloaded format=pdflatex)\n",
      " restricted \\write18 enabled.\n",
      "entering extended mode\n",
      "(./compiled.tex\n",
      "LaTeX2e <2017-04-15>\n",
      "Babel <3.18> and hyphenation patterns for 3 language(s) loaded.\n",
      "(/usr/share/texlive/texmf-dist/tex/latex/base/article.cls\n",
      "Document Class: article 2014/09/29 v1.4h Standard LaTeX document class\n",
      "(/usr/share/texlive/texmf-dist/tex/latex/base/size11.clo))\n",
      "(/home/fangming/texmf/tex/latex/pdfpages/pdfpages.sty\n",
      "(/usr/share/texlive/texmf-dist/tex/latex/base/ifthen.sty)\n",
      "(/usr/share/texlive/texmf-dist/tex/latex/tools/calc.sty)\n",
      "(/home/fangming/texmf/tex/latex/eso-pic/eso-pic.sty\n",
      "(/usr/share/texlive/texmf-dist/tex/generic/oberdiek/atbegshi.sty\n",
      "(/usr/share/texlive/texmf-dist/tex/generic/oberdiek/infwarerr.sty)\n",
      "(/usr/share/texlive/texmf-dist/tex/generic/oberdiek/ltxcmds.sty)\n",
      "(/usr/share/texlive/texmf-dist/tex/generic/oberdiek/ifpdf.sty))\n",
      "(/usr/share/texlive/texmf-dist/tex/latex/graphics/keyval.sty)\n",
      "(/usr/share/texlive/texmf-dist/tex/latex/graphics/color.sty\n",
      "(/usr/share/texlive/texmf-dist/tex/latex/graphics-cfg/color.cfg)\n",
      "(/usr/share/texlive/texmf-dist/tex/latex/graphics-def/pdftex.def)))\n",
      "(/usr/share/texlive/texmf-dist/tex/latex/graphics/graphicx.sty\n",
      "(/usr/share/texlive/texmf-dist/tex/latex/graphics/graphics.sty\n",
      "(/usr/share/texlive/texmf-dist/tex/latex/graphics/trig.sty)\n",
      "(/usr/share/texlive/texmf-dist/tex/latex/graphics-cfg/graphics.cfg)))\n",
      "(/home/fangming/texmf/tex/latex/pdfpages/pppdftex.def))\n",
      "(/usr/share/texlive/texmf-dist/tex/latex/base/inputenc.sty\n",
      "(/usr/share/texlive/texmf-dist/tex/latex/base/utf8.def\n",
      "(/usr/share/texlive/texmf-dist/tex/latex/base/t1enc.dfu)\n",
      "(/usr/share/texlive/texmf-dist/tex/latex/base/ot1enc.dfu)\n",
      "(/usr/share/texlive/texmf-dist/tex/latex/base/omsenc.dfu)))\n",
      "(/usr/share/texlive/texmf-dist/tex/latex/geometry/geometry.sty\n",
      "(/usr/share/texlive/texmf-dist/tex/generic/oberdiek/ifvtex.sty)\n",
      "(/usr/share/texlive/texmf-dist/tex/generic/ifxetex/ifxetex.sty))\n",
      "(./compiled.aux)\n",
      "(/usr/share/texlive/texmf-dist/tex/context/base/mkii/supp-pdf.mkii\n",
      "[Loading MPS to PDF converter (version 2006.09.02).]\n",
      ") (/usr/share/texlive/texmf-dist/tex/latex/oberdiek/epstopdf-base.sty\n",
      "(/usr/share/texlive/texmf-dist/tex/latex/oberdiek/grfext.sty\n",
      "(/usr/share/texlive/texmf-dist/tex/generic/oberdiek/kvdefinekeys.sty))\n",
      "(/usr/share/texlive/texmf-dist/tex/latex/oberdiek/kvoptions.sty\n",
      "(/usr/share/texlive/texmf-dist/tex/generic/oberdiek/kvsetkeys.sty\n",
      "(/usr/share/texlive/texmf-dist/tex/generic/oberdiek/etexcmds.sty\n",
      "(/usr/share/texlive/texmf-dist/tex/generic/oberdiek/ifluatex.sty))))\n",
      "(/usr/share/texlive/texmf-dist/tex/generic/oberdiek/pdftexcmds.sty)\n",
      "(/usr/share/texlive/texmf-dist/tex/latex/latexconfig/epstopdf-sys.cfg))\n",
      "(/usr/share/texlive/texmf-dist/tex/latex/oberdiek/pdflscape.sty\n",
      "(/usr/share/texlive/texmf-dist/tex/latex/graphics/lscape.sty))\n",
      "*geometry* driver: auto-detecting\n",
      "*geometry* detected driver: pdftex\n",
      "[1{/var/lib/texmf/fonts/map/pdftex/updmap/pdftex.map}] [2 <./fig1_basis_space_2\n",
      "022-07-20.pdf>] [3 <./fig1-2_basis_space_righthalf_2022-07-20.pdf>] [4 <./fig2_\n",
      "basis_umap_2022-07-20.pdf>] [5 <./fig3-0_type_r0p01_2022-07-20.pdf>] [6 <./fig3\n",
      "-1_type_r0p02_2022-07-20.pdf>] [7 <./fig3-2_type_r0p05_2022-07-20.pdf>]\n",
      "[8 <./fig3-3_type_r0p1_2022-07-20.pdf>] [9 <./fig3-4_type_r0p2_2022-07-20.pdf>]\n",
      "[10 <./fig3-5_type_r0p5_2022-07-20.pdf>] [11 <./fig3-6_type_r1_2022-07-20.pdf>]\n",
      "[12 <./fig3-7_type_r2_2022-07-20.pdf>] [13 <./fig3-8_type_r5_2022-07-20.pdf>]\n",
      "[14 <./fig3-9_type_r10_2022-07-20.pdf>] (./compiled.aux) )</usr/share/texlive/t\n",
      "exmf-dist/fonts/type1/public/amsfonts/cm/cmr10.pfb></usr/share/texlive/texmf-di\n",
      "st/fonts/type1/public/amsfonts/cm/cmr12.pfb></usr/share/texlive/texmf-dist/font\n",
      "s/type1/public/amsfonts/cm/cmr17.pfb>\n",
      "Output written on compiled.pdf (14 pages, 27378781 bytes).\n",
      "Transcript written on compiled.log.\n"
     ]
    },
    {
     "data": {
      "text/plain": [
       "CompletedProcess(args=['pdflatex', 'compiled.tex'], returncode=0)"
      ]
     },
     "execution_count": 10,
     "metadata": {},
     "output_type": "execute_result"
    }
   ],
   "source": [
    "sp.run(['pdflatex', 'compiled.tex'], cwd=cmplpth)"
   ]
  },
  {
   "cell_type": "code",
   "execution_count": null,
   "id": "ee86f38d-013a-4c75-b481-5c53575c0a80",
   "metadata": {},
   "outputs": [],
   "source": []
  }
 ],
 "metadata": {
  "kernelspec": {
   "display_name": "Python 3 (ipykernel)",
   "language": "python",
   "name": "python3"
  },
  "language_info": {
   "codemirror_mode": {
    "name": "ipython",
    "version": 3
   },
   "file_extension": ".py",
   "mimetype": "text/x-python",
   "name": "python",
   "nbconvert_exporter": "python",
   "pygments_lexer": "ipython3",
   "version": "3.10.2"
  }
 },
 "nbformat": 4,
 "nbformat_minor": 5
}
