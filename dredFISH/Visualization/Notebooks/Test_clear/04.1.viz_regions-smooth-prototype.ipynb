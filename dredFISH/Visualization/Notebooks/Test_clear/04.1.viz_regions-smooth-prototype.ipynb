{
 "cells": [
  {
   "cell_type": "code",
   "execution_count": null,
   "id": "b6b73bd4-0ecc-4811-9a80-53090a45dce5",
   "metadata": {},
   "outputs": [],
   "source": [
    "import matplotlib\n",
    "import matplotlib.pyplot as plt \n",
    "import numpy as np\n",
    "import pandas as pd\n",
    "import os\n",
    "import umap\n",
    "import datashader as ds\n",
    "import colorcet as cc\n",
    "import igraph\n",
    "import tqdm\n",
    "from scipy import sparse\n",
    "import pandas as pd\n",
    "from sklearn.neighbors import NearestNeighbors\n",
    "from sklearn.decomposition import LatentDirichletAllocation\n",
    "from sklearn.cluster import KMeans\n",
    "\n",
    "from matplotlib.collections import PolyCollection\n",
    "from matplotlib.colors import ListedColormap\n",
    "\n",
    "from dredFISH.Analysis import TissueGraph\n",
    "from dredFISH.Visualization import Viz\n",
    "from dredFISH.Utils.__init__plots import * \n",
    "from dredFISH.Utils import powerplots\n",
    "from dredFISH.Utils import miscu\n",
    "from dredFISH.Utils import tmgu\n",
    "\n",
    "import importlib\n",
    "importlib.reload(Viz)\n",
    "importlib.reload(TissueGraph)"
   ]
  },
  {
   "cell_type": "markdown",
   "id": "7128fcc3-ec0c-46cb-a0fb-6fc7ad1e2303",
   "metadata": {
    "tags": []
   },
   "source": [
    "#### Load data"
   ]
  },
  {
   "cell_type": "code",
   "execution_count": null,
   "id": "41a21828-7123-41ff-90f1-ccf15e7e1f70",
   "metadata": {},
   "outputs": [],
   "source": [
    "respath = '/bigstore/GeneralStorage/fangming/projects/dredfish/figures/'"
   ]
  },
  {
   "cell_type": "code",
   "execution_count": null,
   "id": "a3e34f5d-eb05-4bee-a092-3515a72a3f55",
   "metadata": {},
   "outputs": [],
   "source": [
    "basepth = '/bigstore/GeneralStorage/Data/dredFISH/Dataset1'\n",
    "!ls -alhtr $basepth\n",
    "!head $basepth\"/TMG.json\""
   ]
  },
  {
   "cell_type": "code",
   "execution_count": null,
   "id": "cfe2e9d5-b693-46f6-a5af-d99e5c2884c4",
   "metadata": {},
   "outputs": [],
   "source": [
    "df = pd.read_csv(\n",
    "    os.path.join(basepth, \"analysis_dev.csv\"))\n",
    "df"
   ]
  },
  {
   "cell_type": "code",
   "execution_count": null,
   "id": "58e329f8-3630-4ad4-989f-7a1ced4d71e7",
   "metadata": {},
   "outputs": [],
   "source": [
    "TMG = TissueGraph.TissueMultiGraph(basepath=basepth, \n",
    "                                   redo=False, # load existing \n",
    "                                  )\n",
    "TMG"
   ]
  },
  {
   "cell_type": "code",
   "execution_count": null,
   "id": "4b86cb23-bf8b-401f-905f-dd40dd8e8ee8",
   "metadata": {},
   "outputs": [],
   "source": [
    "# spatial coordinates\n",
    "layer = TMG.Layers[0]\n",
    "XY = layer.XY\n",
    "x, y = XY[:,0], XY[:,1]\n",
    "###\n",
    "x, y = y, x # a temporary hack\n",
    "###\n",
    "\n",
    "cells = layer.adata.obs.index.values\n",
    "\n",
    "N = layer.N\n",
    "print(N)\n",
    "# measured basis\n",
    "ftrs_mat = layer.feature_mat\n",
    "\n",
    "# umap_mat = umap.UMAP(n_neighbors=30, min_dist=0.1).fit_transform(ftrs_mat)\n",
    "\n",
    "# types\n",
    "\n",
    "# regions"
   ]
  },
  {
   "cell_type": "code",
   "execution_count": null,
   "id": "a21e813b-c39f-4347-ad92-5533b38af35a",
   "metadata": {},
   "outputs": [],
   "source": [
    "labels = df['type_r0.1'].values\n",
    "edges = np.asarray(layer.SG.get_edgelist()) \n",
    "ctg, ctg_idx = np.unique(labels, return_inverse=True) \n",
    "print(ctg)\n",
    "\n",
    "i = edges[:,0] # cells\n",
    "j = ctg_idx[edges[:,1]] # types it connects\n",
    "dat = np.repeat(1, len(i))\n",
    "\n",
    "env_mat = sparse.coo_matrix((dat, (i,j)), shape=(N, len(ctg))).toarray() # dense\n",
    "env_mat = env_mat/env_mat.sum(axis=1).reshape(-1,1)\n",
    "env_mat = np.nan_to_num(env_mat, 0)\n",
    "env_mat"
   ]
  },
  {
   "cell_type": "code",
   "execution_count": null,
   "id": "d7e0c1e4-2570-4260-9edc-b47ebeb559c9",
   "metadata": {},
   "outputs": [],
   "source": [
    "%%time\n",
    "k_kms = [5, 10] #[2,5,10,20,50,100]\n",
    "for k_km in tqdm.tqdm(k_kms):\n",
    "    kmeans = KMeans(n_clusters=k_km, random_state=1)\n",
    "    reg_clsts = kmeans.fit_predict(env_mat)\n",
    "    df[f'type_reg_k{k_km}'] = np.char.add('t', np.array(reg_clsts).astype(str))"
   ]
  },
  {
   "cell_type": "code",
   "execution_count": null,
   "id": "93aaa5b5-468b-4a67-bb4f-f5f1b12c92d3",
   "metadata": {},
   "outputs": [],
   "source": [
    "for k_km in k_kms:\n",
    "    hue = f'type_reg_k{k_km}'\n",
    "    hue_order = np.sort(np.unique(df[hue]))\n",
    "    ntypes = len(hue_order)\n",
    "\n",
    "    fig, axs = plt.subplots(1, 2, figsize=(8*2,6))\n",
    "    fig.suptitle(f\"{hue}; n={ntypes}\")\n",
    "    ax = axs[0]\n",
    "    sns.scatterplot(data=df, x='x', y='y', \n",
    "                    hue=hue, hue_order=hue_order, \n",
    "                    s=0.5, edgecolor=None, \n",
    "                    legend=False,\n",
    "                    ax=ax)\n",
    "    # ax.legend(loc='upper left', bbox_to_anchor=(0, -0.1), ncol=5)\n",
    "    ax.set_aspect('equal')\n",
    "    ax.axis('off')\n",
    "\n",
    "    ax = axs[1]\n",
    "    sns.scatterplot(data=df, x='umap_x', y='umap_y', \n",
    "                    hue=hue, hue_order=hue_order, \n",
    "                    s=0.5, edgecolor=None, \n",
    "                    legend=False,\n",
    "                    ax=ax)\n",
    "    # ax.legend(loc='upper left', bbox_to_anchor=(0, -0.1), ncol=5)\n",
    "    ax.set_aspect('equal')\n",
    "    ax.axis('off')\n",
    "    fig.subplots_adjust(wspace=0)\n",
    "    plt.show()"
   ]
  },
  {
   "cell_type": "markdown",
   "id": "d0f02a0a-3974-4698-807f-949952c3eb05",
   "metadata": {
    "tags": []
   },
   "source": [
    "# Get from region types to regions; and visualize region boundaries "
   ]
  },
  {
   "cell_type": "code",
   "execution_count": null,
   "id": "744525a9-1e65-4451-846d-cfa0181a5933",
   "metadata": {},
   "outputs": [],
   "source": [
    "k_km = 10 \n",
    "region_types = df[f'type_reg_k{k_km}'].values\n",
    "region_types"
   ]
  },
  {
   "cell_type": "code",
   "execution_count": null,
   "id": "4e88e9ce-45b3-4f4e-8e97-a1f3909f5aed",
   "metadata": {},
   "outputs": [],
   "source": [
    "polys = TMG.Geoms[0]['poly'] #) #) #[0]\n",
    "bdbox = np.array(TMG.Geoms[0]['BoundingBox'].exterior.xy).T\n",
    "\n",
    "# a hack\n",
    "polys = [np.vstack([poly[:,1], poly[:,0]]).T for poly in polys]\n",
    "bdbox = np.array(np.vstack([bdbox[:,1], bdbox[:,0]])).T\n",
    "# end of the hack\n",
    "\n",
    "mx = np.max(bdbox,axis=0)\n",
    "mn = np.min(bdbox,axis=0)\n",
    "\n",
    "ctg, idx = np.unique(region_types, return_inverse=True)\n",
    "colors = sns.color_palette(\"Set2\", len(ctg))\n",
    "colors"
   ]
  },
  {
   "cell_type": "code",
   "execution_count": null,
   "id": "a3908921-9308-4228-927e-cd565b14df78",
   "metadata": {},
   "outputs": [],
   "source": [
    "fig, ax = plt.subplots(figsize=(12,10))\n",
    "p = PolyCollection(polys, edgecolors=('none'), cmap=ListedColormap(colors)) # cmap=self.clrmp)\n",
    "p.set_array(idx)\n",
    "\n",
    "ax.add_collection(p)\n",
    "ax.set_aspect('equal') #, 'box')\n",
    "ax.set_xlim([mn[0],mx[0]])\n",
    "ax.set_ylim([mn[1],mx[1]])\n",
    "ax.axis('off')\n",
    "ax.set_title(f\"n={len(colors)} region types\")\n",
    "\n",
    "plt.show()"
   ]
  },
  {
   "cell_type": "markdown",
   "id": "f7d1bcf4-84e2-4ab1-a601-0701704c0835",
   "metadata": {
    "tags": []
   },
   "source": [
    "# get regions (region type zones) "
   ]
  },
  {
   "cell_type": "code",
   "execution_count": null,
   "id": "89bfd2ae-a07a-41eb-bbca-c57f101a9938",
   "metadata": {},
   "outputs": [],
   "source": [
    "def get_cell_zones(SG, cell_types):\n",
    "    \"\"\"\n",
    "    \"\"\"\n",
    "    N = len(cell_types)\n",
    "    \n",
    "    # trim edges -- remove connects from diffent types\n",
    "    edges = np.asarray(SG.get_edgelist())\n",
    "    edges_bytype = cell_types[edges]\n",
    "    edges_sametype = edges[edges_bytype[:,0]==edges_bytype[:,1]]\n",
    "\n",
    "    # get components (same type and spatially connected); each component is assigned an index\n",
    "    zones = igraph.Graph(n=N, edges=edges_sametype, directed=False)\n",
    "    zone_types = np.asarray(zones.components().membership)\n",
    "\n",
    "    return zone_types"
   ]
  },
  {
   "cell_type": "code",
   "execution_count": null,
   "id": "a5b660d3-63d2-4fce-b81e-537d867bf3b2",
   "metadata": {},
   "outputs": [],
   "source": [
    "# region_types.\n",
    "np.unique(region_types)"
   ]
  },
  {
   "cell_type": "code",
   "execution_count": null,
   "id": "e3970cd3-3614-41fb-bd0d-4bd3f889ed21",
   "metadata": {},
   "outputs": [],
   "source": [
    "SG = layer.SG\n",
    "# cell -> type (clustering)\n",
    "cell_types = region_types\n",
    "# cell -> zone (continuity)\n",
    "cell_zones = get_cell_zones(layer.SG, cell_types)\n",
    "# zone -> types (reindexing)\n",
    "unqs, idx, invs, cnts, = np.unique(cell_zones, return_index=True, return_inverse=True, return_counts=True)\n",
    "print(unqs.shape, idx.shape, invs.shape, cnts.shape)\n",
    "print(np.all(unqs[invs] == cell_zones)) # use invs to recover the original\n",
    "zone_types = cell_types[idx]\n",
    "\n",
    "# sanity check\n",
    "print(np.all(zone_types[cell_zones] == cell_types))\n",
    "print(cell_types.shape, cell_zones.shape, zone_types.shape)"
   ]
  },
  {
   "cell_type": "code",
   "execution_count": null,
   "id": "578cff68-79e7-4d5e-867b-c7226f4ad1df",
   "metadata": {},
   "outputs": [],
   "source": [
    "# unqs.shape, invs.shape, cnts.shape, \n",
    "th = 2\n",
    "cond = cnts[invs] > th\n",
    "\n",
    "fig, ax = plt.subplots()\n",
    "ax.plot(np.log10(np.sort(cnts)))\n",
    "ax.axhline(np.log10(th), linestyle='--', color='k')\n",
    "ax.text(0, np.log10(th*1.3), f\"n={th}\")\n",
    "ax.set_xlabel('zones')\n",
    "ax.set_ylabel('log10(# cells in zone)')"
   ]
  },
  {
   "cell_type": "code",
   "execution_count": null,
   "id": "ad33a57f-569b-4629-8771-6c5406445284",
   "metadata": {},
   "outputs": [],
   "source": [
    "# k_km = 10\n",
    "# region_types = df[f'type_reg_k{k_km}'].values\n",
    "region_types = cond"
   ]
  },
  {
   "cell_type": "code",
   "execution_count": null,
   "id": "aaa3f249-fbdb-4b58-a8af-126793d172ad",
   "metadata": {},
   "outputs": [],
   "source": [
    "polys = TMG.Geoms[0]['poly'] #) #) #[0]\n",
    "bdbox = np.array(TMG.Geoms[0]['BoundingBox'].exterior.xy).T\n",
    "\n",
    "# a hack\n",
    "polys = [np.vstack([poly[:,1], poly[:,0]]).T for poly in polys]\n",
    "bdbox = np.array(np.vstack([bdbox[:,1], bdbox[:,0]])).T\n",
    "# end of the hack\n",
    "\n",
    "mx = np.max(bdbox,axis=0)\n",
    "mn = np.min(bdbox,axis=0)\n",
    "\n",
    "ctg, idx = np.unique(region_types, return_inverse=True)\n",
    "colors = sns.color_palette(\"tab10\", len(ctg))\n",
    "colors"
   ]
  },
  {
   "cell_type": "code",
   "execution_count": null,
   "id": "98000d51-d3c9-47eb-9951-7d651b88304d",
   "metadata": {},
   "outputs": [],
   "source": [
    "fig, ax = plt.subplots(figsize=(12,10))\n",
    "p = PolyCollection(polys, edgecolors=('none'), cmap=ListedColormap(colors)) # cmap=self.clrmp)\n",
    "p.set_array(idx)\n",
    "\n",
    "ax.add_collection(p)\n",
    "ax.set_aspect('equal') #, 'box')\n",
    "ax.set_xlim([mn[0],mx[0]])\n",
    "ax.set_ylim([mn[1],mx[1]])\n",
    "ax.axis('off')\n",
    "\n",
    "ax.set_title(f'region zones with > {th} cells')\n",
    "plt.show()"
   ]
  },
  {
   "cell_type": "code",
   "execution_count": null,
   "id": "2acebd82-c700-4f80-9c77-87df1c43b260",
   "metadata": {},
   "outputs": [],
   "source": [
    "# zone graph \n",
    "ZSG = SG.copy()\n",
    "# comb = {'X': 'mean', 'Y': 'mean'}\n",
    "ZSG.contract_vertices(cell_zones) # , combine_attrs=comb)\n",
    "ZSG.simplify()"
   ]
  },
  {
   "cell_type": "code",
   "execution_count": null,
   "id": "ea2df6bf-a287-413a-abf7-99bd7e7fbde2",
   "metadata": {},
   "outputs": [],
   "source": [
    "zsg_edges = np.asarray(ZSG.get_edgelist())"
   ]
  },
  {
   "cell_type": "code",
   "execution_count": null,
   "id": "7f2331dc-3990-4f88-8bf8-eeb0f7b787f6",
   "metadata": {},
   "outputs": [],
   "source": [
    "zsg_edges_bytype = cnts[zsg_edges] <= th\n",
    "zsg_edges_difftype = zsg_edges[np.logical_xor(zsg_edges_bytype[:,0], zsg_edges_bytype[:,1])]\n",
    "\n",
    "# sanity check\n",
    "print(np.all(np.sum(cnts[zsg_edges_difftype] <= th, axis=1) == 1))\n",
    "\n",
    "# edges with the second node bad are swapped to the first\n",
    "e1, e2 = zsg_edges_difftype[:,0].copy(), zsg_edges_difftype[:,1].copy()\n",
    "cond = cnts[e2]<=th # e2 is bad\n",
    "e1sub, e2sub = e1[cond], e2[cond]\n",
    "idxsub = np.arange(len(e1))[cond]\n",
    "np.put(e1, idxsub, e2sub)\n",
    "np.put(e2, idxsub, e1sub)\n",
    "# sanity check\n",
    "print(np.all(cnts[e1]<=th), np.sum(cnts[e2]<=th))\n",
    "\n",
    "# uniq\n",
    "e1u, e1ui = np.unique(e1, return_index=True)\n",
    "e2u = e2[e1ui]\n",
    "\n",
    "zone_remap = pd.Series(e2u, index=e1u)\n",
    "print(zone_remap.shape)\n"
   ]
  },
  {
   "cell_type": "code",
   "execution_count": null,
   "id": "2c41ef91-19b4-433b-b925-09bc4691c7d9",
   "metadata": {},
   "outputs": [],
   "source": [
    "zones_u = zone_remap.reindex(unqs).fillna(pd.Series(unqs)).astype(int)\n",
    "zones_u"
   ]
  },
  {
   "cell_type": "code",
   "execution_count": null,
   "id": "76515feb-ebae-44e9-a640-3541ed3ec1e1",
   "metadata": {},
   "outputs": [],
   "source": [
    "zone_types_u = zone_types[zones_u.values]\n",
    "cell_types_u = zone_types_u[cell_zones]\n"
   ]
  },
  {
   "cell_type": "code",
   "execution_count": null,
   "id": "7eeb3480-5419-4e13-9cc6-9cc7feca0cbc",
   "metadata": {},
   "outputs": [],
   "source": [
    "# k_km = 10 \n",
    "region_types = cell_types_u# df[f'type_reg_k{k_km}'].values\n",
    "region_types"
   ]
  },
  {
   "cell_type": "code",
   "execution_count": null,
   "id": "1cc2317c-4598-4073-9b61-df2ddee7db68",
   "metadata": {},
   "outputs": [],
   "source": [
    "polys = TMG.Geoms[0]['poly'] #) #) #[0]\n",
    "bdbox = np.array(TMG.Geoms[0]['BoundingBox'].exterior.xy).T\n",
    "\n",
    "# a hack\n",
    "polys = [np.vstack([poly[:,1], poly[:,0]]).T for poly in polys]\n",
    "bdbox = np.array(np.vstack([bdbox[:,1], bdbox[:,0]])).T\n",
    "# end of the hack\n",
    "\n",
    "mx = np.max(bdbox,axis=0)\n",
    "mn = np.min(bdbox,axis=0)\n",
    "\n",
    "ctg, idx = np.unique(region_types, return_inverse=True)\n",
    "colors = sns.color_palette(\"Set2\", len(ctg))\n",
    "colors"
   ]
  },
  {
   "cell_type": "code",
   "execution_count": null,
   "id": "e53a4034-0fe5-4748-89f8-ed1ae32f30b1",
   "metadata": {},
   "outputs": [],
   "source": [
    "fig, ax = plt.subplots(figsize=(12,10))\n",
    "p = PolyCollection(polys, edgecolors=('none'), cmap=ListedColormap(colors)) # cmap=self.clrmp)\n",
    "p.set_array(idx)\n",
    "\n",
    "ax.add_collection(p)\n",
    "ax.set_aspect('equal') #, 'box')\n",
    "ax.set_xlim([mn[0],mx[0]])\n",
    "ax.set_ylim([mn[1],mx[1]])\n",
    "ax.axis('off')\n",
    "ax.set_title(f\"n={len(colors)} region types\")\n",
    "\n",
    "plt.show()"
   ]
  },
  {
   "cell_type": "code",
   "execution_count": null,
   "id": "384ef7c5-18a1-49e2-8b35-869973e50fe8",
   "metadata": {},
   "outputs": [],
   "source": [
    "SG = layer.SG\n",
    "# cell -> type (clustering)\n",
    "cell_types = region_types\n",
    "# cell -> zone (continuity)\n",
    "cell_zones = get_cell_zones(layer.SG, cell_types)\n",
    "# zone -> types (reindexing)\n",
    "unqs, idx, invs, cnts, = np.unique(cell_zones, return_index=True, return_inverse=True, return_counts=True)\n",
    "print(unqs.shape, idx.shape, invs.shape, cnts.shape)\n",
    "print(np.all(unqs[invs] == cell_zones)) # use invs to recover the original\n",
    "zone_types = cell_types[idx]\n",
    "\n",
    "# sanity check\n",
    "print(np.all(zone_types[cell_zones] == cell_types))\n",
    "print(cell_types.shape, cell_zones.shape, zone_types.shape)"
   ]
  },
  {
   "cell_type": "code",
   "execution_count": null,
   "id": "2f5cced7-117e-44ef-8a13-16aad3f5c625",
   "metadata": {},
   "outputs": [],
   "source": [
    "# unqs.shape, invs.shape, cnts.shape, \n",
    "th = 2\n",
    "cond = cnts[invs] > th\n",
    "\n",
    "fig, ax = plt.subplots()\n",
    "ax.plot(np.log10(np.sort(cnts)))\n",
    "ax.axhline(np.log10(th), linestyle='--', color='k')\n",
    "ax.text(0, np.log10(th*1.3), f\"n={th}\")\n",
    "ax.set_xlabel('zones')\n",
    "ax.set_ylabel('log10(# cells in zone)')"
   ]
  },
  {
   "cell_type": "code",
   "execution_count": null,
   "id": "bb900c07-36c4-4087-8c6f-6d018e56742c",
   "metadata": {},
   "outputs": [],
   "source": []
  },
  {
   "cell_type": "code",
   "execution_count": null,
   "id": "f6a23f4f-b683-444b-81bc-8cf170af987a",
   "metadata": {},
   "outputs": [],
   "source": []
  }
 ],
 "metadata": {
  "kernelspec": {
   "display_name": "Python 3 (ipykernel)",
   "language": "python",
   "name": "python3"
  },
  "language_info": {
   "codemirror_mode": {
    "name": "ipython",
    "version": 3
   },
   "file_extension": ".py",
   "mimetype": "text/x-python",
   "name": "python",
   "nbconvert_exporter": "python",
   "pygments_lexer": "ipython3",
   "version": "3.10.2"
  }
 },
 "nbformat": 4,
 "nbformat_minor": 5
}
