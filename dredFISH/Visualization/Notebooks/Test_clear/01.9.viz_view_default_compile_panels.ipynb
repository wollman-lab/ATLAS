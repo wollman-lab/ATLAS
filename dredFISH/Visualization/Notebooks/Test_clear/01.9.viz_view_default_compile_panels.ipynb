{
 "cells": [
  {
   "cell_type": "code",
   "execution_count": null,
   "id": "4e8dc9ed-82b0-40c3-a75e-75bf53f31adc",
   "metadata": {},
   "outputs": [],
   "source": [
    "import os\n",
    "import glob"
   ]
  },
  {
   "cell_type": "code",
   "execution_count": null,
   "id": "8e5a41ee-6825-4596-8924-8b4a390a3216",
   "metadata": {},
   "outputs": [],
   "source": [
    "basepth = '/bigstore/GeneralStorage/Data/dredFISH/Dataset1-t5'\n",
    "respth = os.path.join(basepth, 'figures')\n",
    "cmplpth = os.path.join(respth, 'compiled')\n",
    "if not os.path.isdir(cmplpth):\n",
    "    os.mkdir(cmplpth)\n",
    "cmplpth"
   ]
  },
  {
   "cell_type": "code",
   "execution_count": null,
   "id": "62ccf23e-235a-4edf-a7ed-abe0cd5a3429",
   "metadata": {},
   "outputs": [],
   "source": [
    "!ls $respth"
   ]
  },
  {
   "cell_type": "code",
   "execution_count": null,
   "id": "07f36014-98ee-409d-8788-a873bf33b3af",
   "metadata": {},
   "outputs": [],
   "source": [
    "figures = glob.glob(\"fig*.pdf\", dir_fd=respth) \n",
    "for i, fig in enumerate(figures):\n",
    "    # remove extra .\n",
    "    fignew = fig\n",
    "    while fignew.count('.') > 1:\n",
    "        fignew = fignew.replace('.', 'p', 1)\n",
    "    \n",
    "    # update name (using symlink)\n",
    "    src = os.path.join(respth, fig)\n",
    "    dst = os.path.join(cmplpth, fignew)\n",
    "    if not os.path.isfile(dst):\n",
    "        os.symlink(src, dst) \n",
    "    figures[i] = fignew\n",
    "        \n",
    "figures"
   ]
  },
  {
   "cell_type": "code",
   "execution_count": null,
   "id": "3035f3a8-06a6-4d65-913c-862d0024ad10",
   "metadata": {},
   "outputs": [],
   "source": [
    "title = 'dredFISH default analysis'\n",
    "author = 'Fangming'\n",
    "# figures = [\n",
    "#     'fig1_basis_space_2022-07-20.pdf',\n",
    "#     'fig1-2_basis_space_righthalf_2022-07-20.pdf',\n",
    "# ]\n",
    "    \n",
    "figuretext = \"\"\n",
    "for fig in figures:\n",
    "    figuretext += f\"\\\\includepdf[pages=-]{{{fig}}}\\n\"\n",
    "print(figuretext)"
   ]
  },
  {
   "cell_type": "code",
   "execution_count": null,
   "id": "480bf266-84b3-4b0d-8bc9-0857e9dd56e2",
   "metadata": {},
   "outputs": [],
   "source": [
    "latex_letter = f\"\"\"\\\\documentclass[11pt]{{article}}\n",
    "\\\\usepackage{{pdfpages}}\n",
    "\\\\usepackage[utf8]{{inputenc}}\n",
    "\\\\usepackage[legalpaper, margin=0.5in]{{geometry}}\n",
    "\\\\begin{{document}}\n",
    "\\\\title{{{title}}}\n",
    "\\\\author{{{author}}}\n",
    "\\\\maketitle\n",
    "{figuretext} % \\\\includepdf[pages=-]{{fig1-2_basis_space_righthalf_2022-07-20.pdf}}\n",
    "\\\\end{{document}}\n",
    "\"\"\" \n",
    "\n",
    "print(latex_letter)"
   ]
  },
  {
   "cell_type": "code",
   "execution_count": null,
   "id": "1b9d17a9-d523-4c7f-bb04-92f659592402",
   "metadata": {},
   "outputs": [],
   "source": [
    "texpth = os.path.join(cmplpth, 'compiled.tex')\n",
    "with open(texpth, 'w') as fh:\n",
    "    fh.write(latex_letter)"
   ]
  }
 ],
 "metadata": {
  "kernelspec": {
   "display_name": "Python 3 (ipykernel)",
   "language": "python",
   "name": "python3"
  },
  "language_info": {
   "codemirror_mode": {
    "name": "ipython",
    "version": 3
   },
   "file_extension": ".py",
   "mimetype": "text/x-python",
   "name": "python",
   "nbconvert_exporter": "python",
   "pygments_lexer": "ipython3",
   "version": "3.10.2"
  }
 },
 "nbformat": 4,
 "nbformat_minor": 5
}
