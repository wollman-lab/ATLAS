{
 "cells": [
  {
   "cell_type": "code",
   "execution_count": null,
   "id": "b6b73bd4-0ecc-4811-9a80-53090a45dce5",
   "metadata": {},
   "outputs": [],
   "source": [
    "import matplotlib\n",
    "import matplotlib.pyplot as plt \n",
    "import numpy as np\n",
    "import pandas as pd\n",
    "import os\n",
    "import umap\n",
    "import datashader as ds\n",
    "import colorcet as cc\n",
    "import igraph\n",
    "import tqdm\n",
    "from scipy import sparse\n",
    "import pandas as pd\n",
    "from sklearn.neighbors import NearestNeighbors\n",
    "from sklearn.decomposition import LatentDirichletAllocation\n",
    "from sklearn.cluster import KMeans\n",
    "\n",
    "from dredFISH.Analysis import TissueGraph\n",
    "from dredFISH.Visualization import Viz\n",
    "# from dredFISH.Utils.__init__plots import * \n",
    "import seaborn as sns\n",
    "from dredFISH.Utils import powerplots\n",
    "from dredFISH.Utils import miscu\n",
    "from dredFISH.Utils import tmgu\n",
    "\n",
    "import importlib\n",
    "importlib.reload(Viz)\n",
    "importlib.reload(TissueGraph)"
   ]
  },
  {
   "cell_type": "code",
   "execution_count": null,
   "id": "490cbf45-9389-4b20-9621-cb0f43fd84a0",
   "metadata": {},
   "outputs": [],
   "source": [
    "# %%time\n",
    "# # slow for 24 bits; fast for 2D\n",
    "# k = 30 \n",
    "# NN = NearestNeighbors(n_neighbors=k)\n",
    "# NN.fit(XY)\n",
    "# knn = NN.kneighbors(XY, return_distance=False)\n",
    "\n",
    "# knn\n",
    "# # use pynndescent\n"
   ]
  },
  {
   "cell_type": "code",
   "execution_count": null,
   "id": "8510a639-8ffe-4a04-bb0f-4a81a2b9980d",
   "metadata": {},
   "outputs": [],
   "source": [
    "# %%time\n",
    "# n_topics_list = [2,5,10]\n",
    "# n_procs = 3 \n",
    "\n",
    "# topic_cls = Classification.TopicClassifier(TMG.Layers[0])\n",
    "# topic_cls.train(n_topics_list=n_topics_list, n_procs=n_procs)\n",
    "# topics = topic_cls.classify(topic_cls.Env)\n",
    "\n",
    "# Key lines\n",
    "# n_topics = 10\n",
    "# lda = LatentDirichletAllocation(n_components=n_topics)\n",
    "# B = lda.fit(env)\n",
    "# T = lda.transform(Env)"
   ]
  },
  {
   "cell_type": "markdown",
   "id": "7128fcc3-ec0c-46cb-a0fb-6fc7ad1e2303",
   "metadata": {
    "tags": []
   },
   "source": [
    "#### Load data"
   ]
  },
  {
   "cell_type": "code",
   "execution_count": null,
   "id": "41a21828-7123-41ff-90f1-ccf15e7e1f70",
   "metadata": {},
   "outputs": [],
   "source": [
    "respath = '/bigstore/GeneralStorage/fangming/projects/dredfish/figures/'"
   ]
  },
  {
   "cell_type": "code",
   "execution_count": null,
   "id": "a3e34f5d-eb05-4bee-a092-3515a72a3f55",
   "metadata": {},
   "outputs": [],
   "source": [
    "basepth = '/bigstore/GeneralStorage/Data/dredFISH/Dataset1-t5'\n",
    "!ls -alhtr $basepth\n",
    "!head $basepth\"/TMG.json\""
   ]
  },
  {
   "cell_type": "code",
   "execution_count": null,
   "id": "cfe2e9d5-b693-46f6-a5af-d99e5c2884c4",
   "metadata": {},
   "outputs": [],
   "source": [
    "df = pd.read_csv(\n",
    "    os.path.join(basepth, \"default_analysis.csv\"), index_col=0)\n",
    "df"
   ]
  },
  {
   "cell_type": "code",
   "execution_count": null,
   "id": "02dcedc3-4d1d-4a64-a70d-9119566e5ad4",
   "metadata": {},
   "outputs": [],
   "source": [
    "df.iloc[0]"
   ]
  },
  {
   "cell_type": "code",
   "execution_count": null,
   "id": "58e329f8-3630-4ad4-989f-7a1ced4d71e7",
   "metadata": {},
   "outputs": [],
   "source": [
    "TMG = TissueGraph.TissueMultiGraph(basepath=basepth, \n",
    "                                   redo=False, # load existing \n",
    "                                  )\n",
    "TMG"
   ]
  },
  {
   "cell_type": "code",
   "execution_count": null,
   "id": "4b86cb23-bf8b-401f-905f-dd40dd8e8ee8",
   "metadata": {},
   "outputs": [],
   "source": [
    "# spatial coordinates\n",
    "layer = TMG.Layers[0]\n",
    "XY = layer.XY\n",
    "x, y = XY[:,0], XY[:,1]\n",
    "###\n",
    "x, y = y, x # a temporary hack\n",
    "###\n",
    "\n",
    "cells = layer.adata.obs.index.values\n",
    "\n",
    "N = layer.N\n",
    "print(N)\n",
    "# measured basis\n",
    "ftrs_mat = layer.feature_mat\n",
    "\n",
    "# umap_mat = umap.UMAP(n_neighbors=30, min_dist=0.1).fit_transform(ftrs_mat)\n",
    "\n",
    "# types\n",
    "\n",
    "# regions"
   ]
  },
  {
   "cell_type": "code",
   "execution_count": null,
   "id": "a21e813b-c39f-4347-ad92-5533b38af35a",
   "metadata": {},
   "outputs": [],
   "source": [
    "# labels = df['type_r0.1'].values\n",
    "labels = df['ktype_L3'].values\n",
    "\n",
    "ctg, ctg_idx = np.unique(labels, return_inverse=True) \n",
    "print(ctg)\n",
    "\n",
    "k_spatial = 30 \n",
    "NN = NearestNeighbors(n_neighbors=k_spatial)\n",
    "NN.fit(XY)\n",
    "knn = NN.kneighbors(XY, return_distance=False)\n",
    "\n",
    "i = np.repeat(knn[:,0], k_spatial-1) # cells\n",
    "j = ctg_idx[knn[:,1:]].reshape(-1,) # types it connects\n",
    "dat = np.repeat(1, len(i))\n",
    "\n",
    "env_mat = sparse.coo_matrix((dat, (i,j)), shape=(N, len(ctg))).toarray() # dense\n",
    "env_mat = env_mat/env_mat.sum(axis=1).reshape(-1,1)\n",
    "env_mat = np.nan_to_num(env_mat, 0)\n",
    "env_mat"
   ]
  },
  {
   "cell_type": "code",
   "execution_count": null,
   "id": "d7e0c1e4-2570-4260-9edc-b47ebeb559c9",
   "metadata": {},
   "outputs": [],
   "source": [
    "%%time\n",
    "cols = ['ktype_L1', 'ktype_L2', 'ktype_L3']\n",
    "k_kms = [2,5,10,20,50,100]\n",
    "\n",
    "for col in cols: \n",
    "    labels = df[col].values\n",
    "    env_mat = tmgu.get_local_type_abundance(labels, XY=XY, k_spatial=30)\n",
    "    for k_km in tqdm.tqdm(k_kms):\n",
    "        kmeans = KMeans(n_clusters=k_km)\n",
    "        reg_clsts = kmeans.fit_predict(env_mat)\n",
    "        df[f'regtype_{col}_k{k_km}'] = np.char.add('t', np.array(reg_clsts).astype(str))"
   ]
  },
  {
   "cell_type": "code",
   "execution_count": null,
   "id": "93aaa5b5-468b-4a67-bb4f-f5f1b12c92d3",
   "metadata": {},
   "outputs": [],
   "source": [
    "hues = cols.copy()\n",
    "for col in cols: \n",
    "    for k_km in k_kms:\n",
    "        hue = f'regtype_{col}_k{k_km}'\n",
    "        hues.append(hue)\n",
    "print(hues)\n",
    "    \n",
    "for hue in hues:\n",
    "    hue_order = np.sort(np.unique(df[hue]))\n",
    "    ntypes = len(hue_order)\n",
    "\n",
    "    fig, axs = plt.subplots(1, 2, figsize=(8*2,6))\n",
    "    fig.suptitle(f\"{hue}; n={ntypes}\")\n",
    "    ax = axs[0]\n",
    "    sns.scatterplot(data=df, x='x', y='y', \n",
    "                    hue=hue, hue_order=hue_order, \n",
    "                    s=0.5, edgecolor=None, \n",
    "                    legend=False,\n",
    "                    rasterized=True,\n",
    "                    ax=ax)\n",
    "    # ax.legend(loc='upper left', bbox_to_anchor=(0, -0.1), ncol=5)\n",
    "    ax.set_aspect('equal')\n",
    "    ax.axis('off')\n",
    "\n",
    "    ax = axs[1]\n",
    "    sns.scatterplot(data=df, x='umap_x', y='umap_y', \n",
    "                    hue=hue, hue_order=hue_order, \n",
    "                    s=0.5, edgecolor=None, \n",
    "                    legend=False,\n",
    "                    rasterized=True,\n",
    "                    ax=ax)\n",
    "    # ax.legend(loc='upper left', bbox_to_anchor=(0, -0.1), ncol=5)\n",
    "    ax.set_aspect('equal')\n",
    "    ax.axis('off')\n",
    "    fig.subplots_adjust(wspace=0)\n",
    "    plt.show()"
   ]
  },
  {
   "cell_type": "code",
   "execution_count": null,
   "id": "794051dc-2dac-4e45-a744-0a680adf4684",
   "metadata": {},
   "outputs": [],
   "source": [
    "# np.array(hues).reshape(-1,3)\n",
    "\n",
    "newhues = np.vstack([hues[:3], np.array(hues[3:]).reshape(3,-1).T])\n",
    "newhues\n"
   ]
  },
  {
   "cell_type": "code",
   "execution_count": null,
   "id": "b4862813-138f-4041-a415-1f8f128032d2",
   "metadata": {},
   "outputs": [],
   "source": [
    "\n",
    "fig, axs = plt.subplots(1*7, 2*3, figsize=(8*2*3,6*7))\n",
    "axs = axs.flatten()\n",
    "for i, hue in enumerate(newhues.flatten()):\n",
    "    hue_order = np.sort(np.unique(df[hue]))\n",
    "    ntypes = len(hue_order)\n",
    "\n",
    "    ax = axs[2*i]\n",
    "    ax.set_title(f\"{hue}; n={ntypes}\")\n",
    "    sns.scatterplot(data=df, x='x', y='y', \n",
    "                    hue=hue, hue_order=hue_order, \n",
    "                    s=0.5, edgecolor=None, \n",
    "                    legend=False,\n",
    "                    rasterized=True,\n",
    "                    ax=ax)\n",
    "    # ax.legend(loc='upper left', bbox_to_anchor=(0, -0.1), ncol=5)\n",
    "    ax.set_aspect('equal')\n",
    "    ax.axis('off')\n",
    "\n",
    "    ax = axs[2*i+1]\n",
    "    sns.scatterplot(data=df, x='umap_x', y='umap_y', \n",
    "                    hue=hue, hue_order=hue_order, \n",
    "                    s=0.5, edgecolor=None, \n",
    "                    legend=False,\n",
    "                    rasterized=True,\n",
    "                    ax=ax)\n",
    "    # ax.legend(loc='upper left', bbox_to_anchor=(0, -0.1), ncol=5)\n",
    "    ax.set_aspect('equal')\n",
    "    ax.axis('off')\n",
    "    \n",
    "fig.subplots_adjust(wspace=0)\n",
    "powerplots.savefig(fig, '/home/fangming/figures/ctype_rtype_v1.pdf')\n",
    "plt.show()"
   ]
  },
  {
   "cell_type": "code",
   "execution_count": null,
   "id": "f3f8ce79-53b7-43e2-ac73-343a8cb083e7",
   "metadata": {},
   "outputs": [],
   "source": []
  }
 ],
 "metadata": {
  "kernelspec": {
   "display_name": "Python 3 (ipykernel)",
   "language": "python",
   "name": "python3"
  },
  "language_info": {
   "codemirror_mode": {
    "name": "ipython",
    "version": 3
   },
   "file_extension": ".py",
   "mimetype": "text/x-python",
   "name": "python",
   "nbconvert_exporter": "python",
   "pygments_lexer": "ipython3",
   "version": "3.10.2"
  }
 },
 "nbformat": 4,
 "nbformat_minor": 5
}
