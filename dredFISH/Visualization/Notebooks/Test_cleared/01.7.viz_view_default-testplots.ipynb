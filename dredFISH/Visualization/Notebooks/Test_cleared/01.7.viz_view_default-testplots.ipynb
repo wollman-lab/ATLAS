{
 "cells": [
  {
   "cell_type": "code",
   "execution_count": null,
   "id": "b6b73bd4-0ecc-4811-9a80-53090a45dce5",
   "metadata": {},
   "outputs": [],
   "source": [
    "import os\n",
    "import sys\n",
    "import logging\n",
    "import numpy as np\n",
    "import pandas as pd\n",
    "import matplotlib.pyplot as plt\n",
    "\n",
    "from dredFISH.Analysis import TissueGraph\n",
    "from dredFISH.Visualization import viz_cell_layer\n",
    "# from dredFISH.Utils.__init__plots import *  # import one of the two; but not both\n",
    "from dredFISH.Utils import powerplots\n",
    "\n",
    "# import importlib\n",
    "# importlib.reload(viz_cell_layer)"
   ]
  },
  {
   "cell_type": "code",
   "execution_count": null,
   "id": "c37bd495-4b01-4204-b8e0-e1df24e00c7b",
   "metadata": {},
   "outputs": [],
   "source": [
    "# plt.plot(np.arange(4))\n",
    "# plt.savefig('foo.pdf')"
   ]
  },
  {
   "cell_type": "code",
   "execution_count": null,
   "id": "ae37301b-0f02-45f2-a354-0ef5f43ee931",
   "metadata": {},
   "outputs": [],
   "source": [
    "logging.basicConfig(format='%(asctime)s - %(message)s', \n",
    "                datefmt='%m-%d %H:%M:%S', \n",
    "                level=logging.INFO,\n",
    "                )\n",
    "\n",
    "# Path\n",
    "basepth = '/bigstore/GeneralStorage/Data/dredFISH/Dataset1-t3'"
   ]
  },
  {
   "cell_type": "code",
   "execution_count": null,
   "id": "41a21828-7123-41ff-90f1-ccf15e7e1f70",
   "metadata": {},
   "outputs": [],
   "source": [
    "\n",
    "# load TMG - with cell layer obs only\n",
    "TMG = TissueGraph.TissueMultiGraph(basepath=basepth, \n",
    "                                   redo=False, # load existing \n",
    "                                   quick_load_cell_obs=True,\n",
    "                                  )\n",
    "\n",
    "# spatial coordinates\n",
    "layer = TMG.Layers[0]\n",
    "XY = layer.XY\n",
    "x, y = XY[:,0], XY[:,1]\n",
    "\n",
    "#### a temporary hack\n",
    "x, y = y, x \n",
    "XY = np.vstack([x,y]).T\n",
    "###"
   ]
  },
  {
   "cell_type": "code",
   "execution_count": null,
   "id": "9675f4ea-ba90-4fc1-8569-044a50846dc1",
   "metadata": {},
   "outputs": [],
   "source": [
    "# define a line to split things into hemi-coronal sections\n",
    "split_lines = [\n",
    "    # [(0,0),(1,1)],\n",
    "    [(550, -6000), (200, 2000)],\n",
    "    [(200, 2000), (550, -6000)],\n",
    "    # [(300, 2000), (550, -6000)],\n",
    "]\n",
    "cond, isinpoly, XYnew = viz_cell_layer.preview_hemisphere(split_lines, XY=XY)"
   ]
  },
  {
   "cell_type": "code",
   "execution_count": null,
   "id": "b5540f0c-0a84-424e-9844-e12a495fae0f",
   "metadata": {},
   "outputs": [],
   "source": [
    "%%time\n",
    "df = viz_cell_layer.generate_default_analysis(split_lines, basepth, XY=XY) \n",
    "df"
   ]
  },
  {
   "cell_type": "markdown",
   "id": "8145d551-cb04-4a2e-a38e-f3be6c2c7891",
   "metadata": {
    "tags": []
   },
   "source": [
    "# Viz"
   ]
  },
  {
   "cell_type": "code",
   "execution_count": null,
   "id": "0478cd74-596d-44db-bd22-07d0b090c08b",
   "metadata": {},
   "outputs": [],
   "source": [
    "dfpth = os.path.join(basepth, 'default_analysis.csv')\n",
    "df = pd.read_csv(dfpth, index_col=0)\n",
    "df"
   ]
  },
  {
   "cell_type": "code",
   "execution_count": null,
   "id": "fe167d0c-6f9b-45ac-a24e-b447997c842d",
   "metadata": {},
   "outputs": [],
   "source": [
    "respth = os.path.join(basepth, 'figures')\n",
    "if not os.path.isdir(respth):\n",
    "    os.mkdir(respth)"
   ]
  },
  {
   "cell_type": "code",
   "execution_count": null,
   "id": "1df4ad8c-acd9-45ec-b230-8580918f920d",
   "metadata": {},
   "outputs": [],
   "source": [
    "%%time\n",
    "output = os.path.join(respth, 'fig1_basis_space.pdf')\n",
    "# output = None\n",
    "powerplots.plot_basis_spatial(df, output=output)\n"
   ]
  },
  {
   "cell_type": "code",
   "execution_count": null,
   "id": "7ff65161-b1ad-4f52-a74e-6830f71eb6ca",
   "metadata": {},
   "outputs": [],
   "source": [
    "%%time\n",
    "dfsub = df[df['hemi']==1]\n",
    "output = os.path.join(respth, 'fig1-2_basis_space_righthalf.pdf')\n",
    "# output = None\n",
    "powerplots.plot_basis_spatial(dfsub, pmode='right_half', xcol='x2', ycol='y2', output=output)"
   ]
  },
  {
   "cell_type": "code",
   "execution_count": null,
   "id": "b15234ef-d622-42f6-b251-2e18707597e3",
   "metadata": {},
   "outputs": [],
   "source": [
    "%%time\n",
    "output = os.path.join(respth, 'fig2_basis_umap.pdf')\n",
    "# output = None\n",
    "powerplots.plot_basis_umap(df, output=output)"
   ]
  },
  {
   "cell_type": "code",
   "execution_count": null,
   "id": "18b94379-ef34-49c0-86ec-a8de8d764583",
   "metadata": {},
   "outputs": [],
   "source": [
    "%%time\n",
    "# # resolutions = np.sort([ for col in typecols])\n",
    "#     r = float(col[len(\"type_r\"):])\n",
    "\n",
    "typecols = df.filter(regex='^type_r', axis=1).columns\n",
    "for i, col in enumerate(typecols):\n",
    "    hue = col\n",
    "    output = os.path.join(respth, f'fig3-{i}_{col}.pdf')\n",
    "    # output = None\n",
    "    powerplots.plot_type_spatial_umap(df, hue, output=output)"
   ]
  },
  {
   "cell_type": "code",
   "execution_count": null,
   "id": "30685e68-d3ce-4151-95c7-d98a25778d94",
   "metadata": {},
   "outputs": [],
   "source": [
    "ktypecols = df.filter(regex='^ktype_L', axis=1).columns\n",
    "for i, col in enumerate(ktypecols):\n",
    "    hue = col\n",
    "    output = os.path.join(respth, f'fig4-{i}_{col}.pdf')\n",
    "    # output = None\n",
    "    powerplots.plot_type_spatial_umap(df, hue, output=output)"
   ]
  },
  {
   "cell_type": "code",
   "execution_count": null,
   "id": "d00d6ff9-b372-40aa-9082-6778319908c0",
   "metadata": {},
   "outputs": [],
   "source": []
  }
 ],
 "metadata": {
  "kernelspec": {
   "display_name": "Python 3 (ipykernel)",
   "language": "python",
   "name": "python3"
  },
  "language_info": {
   "codemirror_mode": {
    "name": "ipython",
    "version": 3
   },
   "file_extension": ".py",
   "mimetype": "text/x-python",
   "name": "python",
   "nbconvert_exporter": "python",
   "pygments_lexer": "ipython3",
   "version": "3.10.2"
  }
 },
 "nbformat": 4,
 "nbformat_minor": 5
}
