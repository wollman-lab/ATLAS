{
 "cells": [
  {
   "cell_type": "code",
   "execution_count": null,
   "id": "b6b73bd4-0ecc-4811-9a80-53090a45dce5",
   "metadata": {},
   "outputs": [],
   "source": [
    "import tqdm\n",
    "import os\n",
    "import logging \n",
    "\n",
    "import numpy as np\n",
    "import pandas as pd\n",
    "from sklearn.neighbors import NearestNeighbors\n",
    "import igraph\n",
    "import umap\n",
    "import leidenalg as la\n",
    "\n",
    "from dredFISH.Analysis import TissueGraph\n",
    "from dredFISH.Analysis import Classification\n",
    "# from dredFISH.Utils.__init__plots import * \n",
    "from dredFISH.Utils import powerplots\n",
    "from dredFISH.Utils.miscu import leiden\n",
    "from dredFISH.Visualization.viz_cell_layer import *\n",
    "import datashader as ds\n",
    "from dredFISH.Utils import tmgu\n",
    "\n",
    "\n",
    "from sklearn.cluster import KMeans\n",
    "\n",
    "# import importlib\n",
    "# importlib.reload(powerplots)\n",
    "# importlib.reload(Viz)\n",
    "# importlib.reload(Classification)\n",
    "# importlib.reload(TissueGraph)"
   ]
  },
  {
   "cell_type": "code",
   "execution_count": null,
   "id": "b2c61339-a75b-47b2-b03b-8b4a6dd158ae",
   "metadata": {},
   "outputs": [],
   "source": [
    "# plt.plot(np.arange(4))\n",
    "# plt.savefig('foo.pdf')"
   ]
  },
  {
   "cell_type": "markdown",
   "id": "7128fcc3-ec0c-46cb-a0fb-6fc7ad1e2303",
   "metadata": {
    "tags": []
   },
   "source": [
    "#### Load data"
   ]
  },
  {
   "cell_type": "code",
   "execution_count": null,
   "id": "121fb083-e8ac-4c57-8d23-a5d721b4cb77",
   "metadata": {},
   "outputs": [],
   "source": [
    "logging.basicConfig(format='%(asctime)s - %(message)s', \n",
    "                    datefmt='%m-%d %H:%M:%S', \n",
    "                    level=logging.INFO,\n",
    "                    )"
   ]
  },
  {
   "cell_type": "code",
   "execution_count": null,
   "id": "41a21828-7123-41ff-90f1-ccf15e7e1f70",
   "metadata": {},
   "outputs": [],
   "source": [
    "# build on top of basepth\n",
    "basepth = '/bigstore/GeneralStorage/Data/dredFISH/Dataset1-t3'\n",
    "output_df = os.path.join(basepth, \"analysis_dev_v3.csv\")\n",
    "respth = os.path.join(basepth, 'figures')\n",
    "if not os.path.isdir(respth):\n",
    "    os.mkdir(respth)\n",
    "\n",
    "!ls -alhtr $basepth\n",
    "!head $basepth\"/TMG.json\""
   ]
  },
  {
   "cell_type": "code",
   "execution_count": null,
   "id": "7b6a4f4e-e6ef-4289-8864-1e5a8a081f81",
   "metadata": {},
   "outputs": [],
   "source": [
    "# setting\n",
    "split_lines = [\n",
    "    [(550, -6000), (200, 2000)],\n",
    "]"
   ]
  },
  {
   "cell_type": "code",
   "execution_count": null,
   "id": "58e329f8-3630-4ad4-989f-7a1ced4d71e7",
   "metadata": {},
   "outputs": [],
   "source": [
    "# load TMG - with a cell layer\n",
    "logging.info(f\"Load TMG from {basepth}\")\n",
    "TMG = TissueGraph.TissueMultiGraph(basepath=basepth, \n",
    "                                   redo=False, # load existing \n",
    "                                  )\n",
    "# unpack relevant stuff\n",
    "layer = TMG.Layers[0]\n",
    "N = layer.N\n",
    "XY = layer.XY\n",
    "x, y = XY[:,0], XY[:,1]\n",
    "\n",
    "# measured basis\n",
    "ftrs_mat = layer.feature_mat\n",
    "G = layer.FG\n",
    "cells = layer.adata.obs.index.values\n",
    "\n",
    "###\n",
    "x, y = y, x # a temporary hack\n",
    "XY = np.vstack([x,y]).T\n",
    "###\n",
    "\n",
    "logging.info(f\"split hemisphere...\")\n",
    "# split hemisphere\n",
    "cond, isinpoly, XYnew = preview_hemisphere(split_lines, XY=XY, no_plot=True)\n",
    "\n",
    "# UMAP\n",
    "logging.info(f\"generate UMAP...\")\n",
    "umap_mat = umap.UMAP(n_neighbors=30, min_dist=0.1, random_state=0).fit_transform(ftrs_mat)\n",
    "\n",
    "# known cell types\n",
    "logging.info(f\"identify known cell types...\")\n",
    "allen_classifier = Classification.KnownCellTypeClassifier(\n",
    "    layer, \n",
    "    tax_name='Allen_types',\n",
    "    ref='allen_smrt_dpnmf',\n",
    "    ref_levels=['class_label', 'neighborhood_label', 'subclass_label'], #, 'cluster_label'], \n",
    "    model='knn',\n",
    ")\n",
    "allen_classifier.train(verbose=True)\n",
    "type_mat = allen_classifier.classify()\n",
    "\n",
    "# clustering\n",
    "logging.info(f\"cell clustering (unsupervised types)...\")\n",
    "resolutions = [0.01, 0.02, 0.05, 0.1, 0.2, 0.5, 1,2,5,10]\n",
    "clst_mat = []\n",
    "for i, r in tqdm.tqdm(enumerate(resolutions)):\n",
    "    types = leiden(G, cells, resolution=r)\n",
    "    # add to a df \n",
    "    clst_mat.append(types)\n",
    "\n",
    "# region types\n",
    "SG = layer.SG\n",
    "\n",
    "typebasis = type_mat[:,1] # known cell types Level 2\n",
    "env_mat = tmgu.get_local_type_abundance(typebasis, SG=SG)\n",
    "k_kms = [5, 10, 20, 50] \n",
    "reg_mat = []\n",
    "for k_km in tqdm.tqdm(k_kms):\n",
    "    kmeans = KMeans(n_clusters=k_km, random_state=1)\n",
    "    reg_clsts = kmeans.fit_predict(env_mat)\n",
    "    reg_mat.append(reg_clsts)"
   ]
  },
  {
   "cell_type": "code",
   "execution_count": null,
   "id": "4b86cb23-bf8b-401f-905f-dd40dd8e8ee8",
   "metadata": {},
   "outputs": [],
   "source": [
    "logging.info(f\"organizing results...\")\n",
    "# add results to a df \n",
    "# basics\n",
    "df = pd.DataFrame()\n",
    "df['x'] = x\n",
    "df['y'] = y\n",
    "df['x2'] = XYnew[:,0]\n",
    "df['y2'] = XYnew[:,1]\n",
    "df['hemi'] = cond.astype(int)\n",
    "\n",
    "# basis\n",
    "for i in range(24):\n",
    "    df[f'b{i}'] = ftrs_mat[:,i]\n",
    "\n",
    "# umap\n",
    "df['umap_x'] = umap_mat[:,0]\n",
    "df['umap_y'] = umap_mat[:,1]\n",
    "\n",
    "# ktype\n",
    "for i in range(3):\n",
    "    df[f'ktype_L{i+1}'] = type_mat[:,i]\n",
    "    \n",
    "# type\n",
    "for i, r in enumerate(resolutions):\n",
    "    types = clst_mat[i]\n",
    "    df[f'type_r{r}'] = np.char.add('t', np.array(types).astype(str))\n",
    "\n",
    "# region\n",
    "for i, k_km in enumerate(k_kms):\n",
    "    df[f'regtype_allenL1basis_k{k_km}'] = np.char.add('reg', np.array(reg_mat[i]).astype(str))\n",
    "    \n",
    "# save\n",
    "df.to_csv(output_df, header=True, index=True)\n",
    "logging.info(f\"saved results to: {output_df}\")\n",
    "df"
   ]
  },
  {
   "cell_type": "markdown",
   "id": "327192b4-7b38-4edd-a5a9-93f7c9c636e9",
   "metadata": {
    "tags": []
   },
   "source": [
    "# Viz"
   ]
  },
  {
   "cell_type": "code",
   "execution_count": null,
   "id": "1df4ad8c-acd9-45ec-b230-8580918f920d",
   "metadata": {},
   "outputs": [],
   "source": [
    "%%time\n",
    "output = os.path.join(respth, 'fig1_basis_space.pdf')\n",
    "output = None\n",
    "powerplots.plot_basis_spatial(df, output=output)\n"
   ]
  },
  {
   "cell_type": "code",
   "execution_count": null,
   "id": "7ff65161-b1ad-4f52-a74e-6830f71eb6ca",
   "metadata": {},
   "outputs": [],
   "source": [
    "%%time\n",
    "dfsub = df[df['hemi']==1]\n",
    "output = os.path.join(respth, 'fig1-2_basis_space_righthalf.pdf')\n",
    "output = None\n",
    "powerplots.plot_basis_spatial(dfsub, pmode='right_half', output=output)"
   ]
  },
  {
   "cell_type": "code",
   "execution_count": null,
   "id": "b15234ef-d622-42f6-b251-2e18707597e3",
   "metadata": {},
   "outputs": [],
   "source": [
    "%%time\n",
    "output = os.path.join(respth, 'fig2_basis_umap.pdf')\n",
    "output = None\n",
    "powerplots.plot_basis_umap(df, output=output)"
   ]
  },
  {
   "cell_type": "code",
   "execution_count": null,
   "id": "18b94379-ef34-49c0-86ec-a8de8d764583",
   "metadata": {},
   "outputs": [],
   "source": [
    "%%time\n",
    "for i, r in enumerate(resolutions):\n",
    "    hue = f'type_r{r}'\n",
    "    output = os.path.join(respth, f'fig3-{i}_celltypes_r{r}.pdf')\n",
    "    output = None\n",
    "    powerplots.plot_type_spatial_umap(df, hue, output=output)"
   ]
  },
  {
   "cell_type": "code",
   "execution_count": null,
   "id": "4ded3805-4757-4e05-ac01-f89495c4d2d5",
   "metadata": {},
   "outputs": [],
   "source": [
    "# known types\n",
    "ktypecols = df.filter(regex='^ktype_L', axis=1).columns\n",
    "for i, col in enumerate(ktypecols):\n",
    "    hue = col\n",
    "    output = os.path.join(respth, f'fig4-{i}_{col}.pdf')\n",
    "    powerplots.plot_type_spatial_umap(df, hue, output=output)"
   ]
  },
  {
   "cell_type": "code",
   "execution_count": null,
   "id": "1382ff82-5db5-4c59-89bf-4c14d2a9abd2",
   "metadata": {},
   "outputs": [],
   "source": [
    "# region\n",
    "regtypecols = df.filter(regex='^regtype_allenL1basis_k', axis=1).columns\n",
    "for i, col in enumerate(regtypecols):\n",
    "    hue = col\n",
    "    output = os.path.join(respth, f'fig5-{i}_{col}.pdf')\n",
    "    powerplots.plot_type_spatial_umap(df, hue, output=output)"
   ]
  },
  {
   "cell_type": "code",
   "execution_count": null,
   "id": "65827625-5d25-4edf-a0e2-7319b6cc1f31",
   "metadata": {},
   "outputs": [],
   "source": []
  }
 ],
 "metadata": {
  "kernelspec": {
   "display_name": "Python 3 (ipykernel)",
   "language": "python",
   "name": "python3"
  },
  "language_info": {
   "codemirror_mode": {
    "name": "ipython",
    "version": 3
   },
   "file_extension": ".py",
   "mimetype": "text/x-python",
   "name": "python",
   "nbconvert_exporter": "python",
   "pygments_lexer": "ipython3",
   "version": "3.10.2"
  }
 },
 "nbformat": 4,
 "nbformat_minor": 5
}
