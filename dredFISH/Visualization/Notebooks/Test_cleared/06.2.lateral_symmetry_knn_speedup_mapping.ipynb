{
 "cells": [
  {
   "cell_type": "code",
   "execution_count": null,
   "id": "b6b73bd4-0ecc-4811-9a80-53090a45dce5",
   "metadata": {},
   "outputs": [],
   "source": [
    "import matplotlib\n",
    "import matplotlib.pyplot as plt \n",
    "import numpy as np\n",
    "import pandas as pd\n",
    "import os\n",
    "import umap\n",
    "import datashader as ds\n",
    "import colorcet as cc\n",
    "import igraph\n",
    "import tqdm\n",
    "from scipy import sparse\n",
    "from scipy import stats\n",
    "import pandas as pd\n",
    "from sklearn.neighbors import NearestNeighbors\n",
    "from sklearn.decomposition import LatentDirichletAllocation\n",
    "from statsmodels.stats.multitest import multipletests\n",
    "from sklearn.cluster import KMeans\n",
    "from scipy.spatial import Delaunay\n",
    "import json\n",
    "import itertools\n",
    "import pynndescent\n",
    "import time\n",
    "from sklearn.svm import SVC\n",
    "\n",
    "from matplotlib.collections import PolyCollection\n",
    "from matplotlib.colors import ListedColormap\n",
    "\n",
    "from dredFISH.Analysis import TissueGraph\n",
    "from dredFISH.Visualization import Viz\n",
    "from dredFISH.Utils.__init__plots import * \n",
    "from dredFISH.Utils import powerplots\n",
    "from dredFISH.Utils import miscu\n",
    "from dredFISH.Utils import tmgu\n",
    "\n",
    "import importlib\n",
    "importlib.reload(Viz)\n",
    "importlib.reload(TissueGraph)\n",
    "importlib.reload(powerplots)"
   ]
  },
  {
   "cell_type": "markdown",
   "id": "7128fcc3-ec0c-46cb-a0fb-6fc7ad1e2303",
   "metadata": {
    "tags": []
   },
   "source": [
    "#### Load data"
   ]
  },
  {
   "cell_type": "code",
   "execution_count": null,
   "id": "41a21828-7123-41ff-90f1-ccf15e7e1f70",
   "metadata": {},
   "outputs": [],
   "source": [
    "respath = '/bigstore/GeneralStorage/fangming/projects/dredfish/figures/'"
   ]
  },
  {
   "cell_type": "code",
   "execution_count": null,
   "id": "a3e34f5d-eb05-4bee-a092-3515a72a3f55",
   "metadata": {},
   "outputs": [],
   "source": [
    "basepth = '/bigstore/GeneralStorage/Data/dredFISH/Dataset1-t5'\n",
    "!ls -alhtr $basepth\n",
    "!head $basepth\"/TMG.json\""
   ]
  },
  {
   "cell_type": "code",
   "execution_count": null,
   "id": "cfe2e9d5-b693-46f6-a5af-d99e5c2884c4",
   "metadata": {},
   "outputs": [],
   "source": [
    "df = pd.read_csv(\n",
    "    os.path.join(basepth, \"default_analysis.csv\"), index_col=0)\n",
    "df"
   ]
  },
  {
   "cell_type": "code",
   "execution_count": null,
   "id": "58e329f8-3630-4ad4-989f-7a1ced4d71e7",
   "metadata": {},
   "outputs": [],
   "source": [
    "TMG = TissueGraph.TissueMultiGraph(basepath=basepth, \n",
    "                                   redo=False, # load existing \n",
    "                                  )"
   ]
  },
  {
   "cell_type": "code",
   "execution_count": null,
   "id": "4b86cb23-bf8b-401f-905f-dd40dd8e8ee8",
   "metadata": {},
   "outputs": [],
   "source": [
    "# spatial coordinates\n",
    "layer = TMG.Layers[0]\n",
    "XY = layer.XY\n",
    "x, y = XY[:,0], XY[:,1]\n",
    "###\n",
    "x, y = y, x # a temporary hack\n",
    "###\n",
    "\n",
    "cells = layer.adata.obs.index.values\n",
    "\n",
    "N = layer.N\n",
    "# measured basis\n",
    "ftrs_mat = layer.feature_mat\n",
    "\n",
    "# umap_mat = umap.UMAP(n_neighbors=30, min_dist=0.1).fit_transform(ftrs_mat)\n",
    "\n",
    "\n"
   ]
  },
  {
   "cell_type": "markdown",
   "id": "6d038844-f180-474b-9b4d-b16ad4d89068",
   "metadata": {
    "tags": []
   },
   "source": [
    "# Lateral symmetry measure"
   ]
  },
  {
   "cell_type": "code",
   "execution_count": null,
   "id": "ac04aff7-3cd5-45b4-bcc9-7d4fa271c94b",
   "metadata": {},
   "outputs": [],
   "source": [
    "def build_feature_graph_knnlite(ftrs_mat, k=15, metric='cosine'):\n",
    "    \"\"\"\n",
    "    \"\"\"\n",
    "    N = len(ftrs_mat)\n",
    "    \n",
    "    # kNN graph\n",
    "    knn = pynndescent.NNDescent(ftrs_mat,\n",
    "                                n_neighbors=k,\n",
    "                                metric=metric,\n",
    "                                diversify_prob=1,\n",
    "                                pruning_degree_multiplier=1.5,\n",
    "                                )\n",
    "    idx, _ = knn.neighbor_graph\n",
    "\n",
    "    # to adj and to graph\n",
    "    i = np.repeat(np.arange(N), k-1)\n",
    "    j = idx[:,1:].reshape(-1,)\n",
    "    adj_mat = sparse.coo_matrix((np.repeat(1, len(i)), (i,j)), shape=(N,N))\n",
    "    G = tmgu.adjacency_to_igraph(adj_mat, directed=False, simplify=True)\n",
    "    \n",
    "    return G"
   ]
  },
  {
   "cell_type": "code",
   "execution_count": null,
   "id": "e0b0aeab-daf2-4496-8a10-70759aef600c",
   "metadata": {},
   "outputs": [],
   "source": [
    "# from meta\n",
    "f = '/bigstore/GeneralStorage/fangming/projects/dredfish/data_dump/analysis_meta_Mar31.json'\n",
    "with open(f, 'r') as fh:\n",
    "    meta = json.load(fh)"
   ]
  },
  {
   "cell_type": "code",
   "execution_count": null,
   "id": "90b48500-4e56-41da-9aea-39da5dd77910",
   "metadata": {},
   "outputs": [],
   "source": [
    "df_h1 = df[df['hemi']==0].copy()\n",
    "df_h2 = df[df['hemi']==1].copy()\n",
    "\n",
    "# separate cells h1 and h2\n",
    "cells_h1 = df.index[df['hemi'] == 0].values\n",
    "cells_h2 = df.index[df['hemi'] == 1].values"
   ]
  },
  {
   "cell_type": "code",
   "execution_count": null,
   "id": "13dd2e47-3e17-4737-9e71-5716cac91692",
   "metadata": {},
   "outputs": [],
   "source": [
    "%%time\n",
    "ftrs_mat_h1 = ftrs_mat[cells_h1]\n",
    "G_h1 = build_feature_graph_knnlite(ftrs_mat_h1, k=15, metric='cosine')\n",
    "\n",
    "ftrs_mat_h2 = ftrs_mat[cells_h2]\n",
    "G_h2 = build_feature_graph_knnlite(ftrs_mat_h2, k=15, metric='cosine')"
   ]
  },
  {
   "cell_type": "code",
   "execution_count": null,
   "id": "ff9bde0d-a2d2-4817-a693-757ccc3e12e0",
   "metadata": {},
   "outputs": [],
   "source": [
    "# clustering half-and-half\n",
    "resolutions = [0.01, 0.02, 0.05, 0.1, 0.2, 0.5, 1,2,5,10]\n",
    "clst_mat_h1 = []\n",
    "clst_mat_h2 = []\n",
    "for i, r in tqdm.tqdm(enumerate(resolutions)):\n",
    "    #\n",
    "    types_h1 = miscu.leiden(G_h1, cells_h1, resolution=r)\n",
    "    types_h2 = miscu.leiden(G_h2, cells_h2, resolution=r)\n",
    "    \n",
    "    # add to a df \n",
    "    df_h1[f'type_r{r}'] = np.char.add('t', np.array(types_h1).astype(str))\n",
    "    df_h2[f'type_r{r}'] = np.char.add('t', np.array(types_h2).astype(str))\n",
    "    clst_mat_h1.append(types_h1)\n",
    "    clst_mat_h2.append(types_h2)\n",
    "    \n",
    "    \n",
    "clst_mat_h1 = np.array(clst_mat_h1)\n",
    "clst_mat_h2 = np.array(clst_mat_h2)"
   ]
  },
  {
   "cell_type": "code",
   "execution_count": null,
   "id": "17686401-09c2-4687-b93a-54b1ff9d6999",
   "metadata": {},
   "outputs": [],
   "source": [
    "# for i, r in enumerate(resolutions):\n",
    "#     hue = f'type_r{r}'\n",
    "#     output = None\n",
    "#     powerplots.plot_type_spatial_umap(df_h1, hue, output=output)\n",
    "#     powerplots.plot_type_spatial_umap(df_h2, hue, output=output)\n",
    "    \n",
    "#     # break"
   ]
  },
  {
   "cell_type": "code",
   "execution_count": null,
   "id": "9a6315f1-9c42-4136-a06e-a643d262324e",
   "metadata": {},
   "outputs": [],
   "source": [
    "# matching the other half (across modality)\n",
    "\n",
    "\n",
    "# N = len(ftrs_mat)\n",
    "\n",
    "# # kNN graph\n",
    "# knn = pynndescent.NNDescent(ftrs_mat_h1,\n",
    "#                             n_neighbors=15,\n",
    "#                             # metric='cosine',\n",
    "#                             metric='euclidean',\n",
    "#                             diversify_prob=1,\n",
    "#                             pruning_degree_multiplier=1.5,\n",
    "#                             )\n",
    "# idx, _ = knn.neighbor_graph\n",
    "\n",
    "# # to adj and to graph\n",
    "# i = np.repeat(np.arange(N), k-1)\n",
    "# j = idx[:,1:].reshape(-1,)\n",
    "# adj_mat = sparse.coo_matrix((np.repeat(1, len(i)), (i,j)), shape=(N,N))\n",
    "# G = tmgu.adjacency_to_igraph(adj_mat, directed=False, simplify=True)\n"
   ]
  },
  {
   "cell_type": "code",
   "execution_count": null,
   "id": "07f59326-818f-48b3-b411-69ec233ab855",
   "metadata": {},
   "outputs": [],
   "source": []
  },
  {
   "cell_type": "code",
   "execution_count": null,
   "id": "729015b3-e7d0-4984-a822-e57465e33e53",
   "metadata": {},
   "outputs": [],
   "source": []
  },
  {
   "cell_type": "code",
   "execution_count": null,
   "id": "b5e6df79-b835-48c6-b888-e0c5c2adddfa",
   "metadata": {},
   "outputs": [],
   "source": []
  },
  {
   "cell_type": "code",
   "execution_count": null,
   "id": "4bd11fb3-e07a-4156-b2c7-6a515f129359",
   "metadata": {},
   "outputs": [],
   "source": [
    "def mapping_types(\n",
    "    ftrs_source,  \n",
    "    types_source,\n",
    "    ftrs_target,\n",
    "    ):\n",
    "    \"\"\"\n",
    "    Uses SVM -- a bit slow\n",
    "    can we get faster implementation using bi-partite graph?\n",
    "    \"\"\"\n",
    "    if len(np.unique(types_source)) == 1:\n",
    "        return np.repeat(np.unique(types_source), len(ftrs_target))\n",
    "    \n",
    "    model = SVC(C=1, kernel='rbf')\n",
    "    model.fit(ftrs_source, types_source)\n",
    "    types_target = model.predict(ftrs_target)\n",
    "    \n",
    "    return types_target"
   ]
  },
  {
   "cell_type": "code",
   "execution_count": null,
   "id": "d8961721-255e-4714-8470-6c5521c1e54f",
   "metadata": {},
   "outputs": [],
   "source": [
    "%%time\n",
    "for r in tqdm.tqdm(resolutions):\n",
    "    # predict paired labels for h2 cells using h1 labels\n",
    "    types_h1 = df_h1[f'type_r{r}'].values\n",
    "    ptypes_h2 = mapping_types(ftrs_mat_h1, types_h1, ftrs_mat_h2)\n",
    "    df_h2[f'ptype_r{r}'] = ptypes_h2\n",
    "    \n",
    "    # reverse case\n",
    "    types_h2 = df_h2[f'type_r{r}'].values\n",
    "    ptypes_h1 = mapping_types(ftrs_mat_h2, types_h2, ftrs_mat_h1)\n",
    "    df_h1[f'ptype_r{r}'] = ptypes_h1\n",
    "    "
   ]
  },
  {
   "cell_type": "code",
   "execution_count": null,
   "id": "74e1c8b3-ad12-4280-b7f4-6edecdb5d7b4",
   "metadata": {},
   "outputs": [],
   "source": [
    "for i, r in enumerate(resolutions):\n",
    "    output = None\n",
    "    hue = f'type_r{r}'\n",
    "    powerplots.plot_type_spatial_umap(df_h1, hue, output=output)\n",
    "    hue = f'ptype_r{r}'\n",
    "    powerplots.plot_type_spatial_umap(df_h2, hue, output=output)\n",
    "    \n",
    "    # break"
   ]
  },
  {
   "cell_type": "code",
   "execution_count": null,
   "id": "405809fd-89bf-4add-9c58-297651c58e25",
   "metadata": {},
   "outputs": [],
   "source": [
    "# save the df temporarily so we can develop off of it"
   ]
  },
  {
   "cell_type": "code",
   "execution_count": null,
   "id": "cf02fb8f-62b0-4d25-afce-8f82ec2b48f9",
   "metadata": {},
   "outputs": [],
   "source": [
    "# generate conf mats and accuracy stats "
   ]
  },
  {
   "cell_type": "code",
   "execution_count": null,
   "id": "88957e64-7df2-4447-9530-cee4188cd60d",
   "metadata": {},
   "outputs": [],
   "source": [
    "# iterate"
   ]
  }
 ],
 "metadata": {
  "kernelspec": {
   "display_name": "Python 3 (ipykernel)",
   "language": "python",
   "name": "python3"
  },
  "language_info": {
   "codemirror_mode": {
    "name": "ipython",
    "version": 3
   },
   "file_extension": ".py",
   "mimetype": "text/x-python",
   "name": "python",
   "nbconvert_exporter": "python",
   "pygments_lexer": "ipython3",
   "version": "3.10.2"
  }
 },
 "nbformat": 4,
 "nbformat_minor": 5
}
