{
 "cells": [
  {
   "cell_type": "code",
   "execution_count": null,
   "id": "b6b73bd4-0ecc-4811-9a80-53090a45dce5",
   "metadata": {},
   "outputs": [],
   "source": [
    "import matplotlib\n",
    "import matplotlib.pyplot as plt \n",
    "import numpy as np\n",
    "import pandas as pd\n",
    "import os\n",
    "import umap\n",
    "import datashader as ds\n",
    "import colorcet as cc\n",
    "import igraph\n",
    "import tqdm\n",
    "from scipy import sparse\n",
    "import pandas as pd\n",
    "from sklearn.neighbors import NearestNeighbors\n",
    "from sklearn.decomposition import LatentDirichletAllocation\n",
    "from sklearn.cluster import KMeans\n",
    "\n",
    "from matplotlib.collections import PolyCollection\n",
    "from matplotlib.colors import ListedColormap\n",
    "\n",
    "from dredFISH.Analysis import TissueGraph\n",
    "from dredFISH.Visualization import Viz\n",
    "from dredFISH.Utils.__init__plots import * \n",
    "from dredFISH.Utils import powerplots\n",
    "from dredFISH.Utils import miscu\n",
    "from dredFISH.Utils import imageu\n",
    "from dredFISH.Utils import tmgu\n",
    "from dredFISH.Utils import AmbrosioTortorelliMinimizer\n",
    "\n",
    "import importlib\n",
    "importlib.reload(Viz)\n",
    "importlib.reload(TissueGraph)\n",
    "importlib.reload(imageu)"
   ]
  },
  {
   "cell_type": "markdown",
   "id": "0c124513-89cb-4380-a4b7-dbb00ac6200e",
   "metadata": {},
   "source": [
    "https://github.com/jacobgil/Ambrosio-Tortorelli-Minimizer"
   ]
  },
  {
   "cell_type": "code",
   "execution_count": null,
   "id": "e1f101fc-58ba-407a-948d-2c46572a3bf7",
   "metadata": {},
   "outputs": [],
   "source": [
    "img = np.random.randn(50,50)\n",
    "for i in range(50):\n",
    "    for j in range(50):\n",
    "        img[i,j] += 10*((i-20)**2+(j-20)**2>15**2)\n",
    "plt.imshow(img)"
   ]
  },
  {
   "cell_type": "code",
   "execution_count": null,
   "id": "a6710538-1d84-4259-ab9a-5b93b8389dda",
   "metadata": {},
   "outputs": [],
   "source": [
    "# img = np.random.randn# a matrix\n",
    "solver = AmbrosioTortorelliMinimizer.AmbrosioTortorelliMinimizer(img, iterations=300)\n",
    "img2, edges = solver.minimize()"
   ]
  },
  {
   "cell_type": "code",
   "execution_count": null,
   "id": "8ca7b778-d375-4b20-8a0c-208fda150643",
   "metadata": {},
   "outputs": [],
   "source": [
    "fig, axs = plt.subplots(1,3,figsize=(3*4,1*4))\n",
    "ax = axs[0]\n",
    "ax.imshow(img)\n",
    "ax.set_title('orig')\n",
    "ax = axs[1]\n",
    "ax.imshow(img2)\n",
    "ax.set_title('model')\n",
    "ax = axs[2]\n",
    "ax.imshow(edges)\n",
    "ax.set_title('edges')\n",
    "plt.show()"
   ]
  },
  {
   "cell_type": "code",
   "execution_count": null,
   "id": "b94a65bf-7f80-41e3-85bc-abd101049a4d",
   "metadata": {},
   "outputs": [],
   "source": [
    "sns.histplot(img.reshape(-1,))"
   ]
  },
  {
   "cell_type": "code",
   "execution_count": null,
   "id": "cbaba824-1c9a-4c1c-a3a0-8f267464506e",
   "metadata": {},
   "outputs": [],
   "source": [
    "sns.histplot(img2.reshape(-1,))"
   ]
  },
  {
   "cell_type": "code",
   "execution_count": null,
   "id": "edf7de09-bd51-41b4-8681-c8172d944bd6",
   "metadata": {},
   "outputs": [],
   "source": [
    "sns.histplot(edges.reshape(-1,))"
   ]
  },
  {
   "cell_type": "code",
   "execution_count": null,
   "id": "7ed49421-d2d0-40c0-a18b-79f46f73f04f",
   "metadata": {},
   "outputs": [],
   "source": [
    "edges"
   ]
  },
  {
   "cell_type": "markdown",
   "id": "200562de-b61f-48a9-90e9-b2b9ff2d6933",
   "metadata": {},
   "source": [
    "# Can this be extended to multi-channel problem? \n",
    "Yes:\n",
    "```python\n",
    "\timg = cv2.imread(sys.argv[1], 1)\n",
    "\tresult, edges = [], []\n",
    "\tfor channel in cv2.split(img):\n",
    "\t\tsolver = AmbrosioTortorelliMinimizer(channel, iterations = 1, tol = 0.1, solver_maxiterations = 6)\n",
    "\t\tf, v = solver.minimize()\n",
    "\t\tresult.append(f)\n",
    "\t\tedges.append(v)\n",
    "\n",
    "\tf = cv2.merge(result) # concatenate channels\n",
    "\tv = np.maximum(*edges) # get the maximum edges\n",
    "```"
   ]
  },
  {
   "cell_type": "code",
   "execution_count": null,
   "id": "a3edb74b-35ee-4052-9e6f-bb173f9461fd",
   "metadata": {},
   "outputs": [],
   "source": []
  },
  {
   "cell_type": "code",
   "execution_count": null,
   "id": "806ebb1e-dd57-4d59-a31a-9b3672a06baa",
   "metadata": {},
   "outputs": [],
   "source": []
  },
  {
   "cell_type": "markdown",
   "id": "7128fcc3-ec0c-46cb-a0fb-6fc7ad1e2303",
   "metadata": {
    "tags": []
   },
   "source": [
    "#### Load data"
   ]
  },
  {
   "cell_type": "code",
   "execution_count": null,
   "id": "41a21828-7123-41ff-90f1-ccf15e7e1f70",
   "metadata": {},
   "outputs": [],
   "source": [
    "respath = '/bigstore/GeneralStorage/fangming/projects/dredfish/figures/'"
   ]
  },
  {
   "cell_type": "code",
   "execution_count": null,
   "id": "a3e34f5d-eb05-4bee-a092-3515a72a3f55",
   "metadata": {},
   "outputs": [],
   "source": [
    "basepth = '/bigstore/GeneralStorage/Data/dredFISH/Dataset1-t5'\n",
    "!ls -alhtr $basepth\n",
    "!head $basepth\"/TMG.json\""
   ]
  },
  {
   "cell_type": "code",
   "execution_count": null,
   "id": "cfe2e9d5-b693-46f6-a5af-d99e5c2884c4",
   "metadata": {},
   "outputs": [],
   "source": [
    "df = pd.read_csv(\n",
    "    os.path.join(basepth, \"default_analysis.csv\"))\n",
    "df"
   ]
  },
  {
   "cell_type": "code",
   "execution_count": null,
   "id": "58e329f8-3630-4ad4-989f-7a1ced4d71e7",
   "metadata": {},
   "outputs": [],
   "source": [
    "TMG = TissueGraph.TissueMultiGraph(basepath=basepth, \n",
    "                                   redo=False, # load existing \n",
    "                                  )"
   ]
  },
  {
   "cell_type": "code",
   "execution_count": null,
   "id": "4b86cb23-bf8b-401f-905f-dd40dd8e8ee8",
   "metadata": {
    "tags": []
   },
   "outputs": [],
   "source": [
    "# spatial coordinates\n",
    "layer = TMG.Layers[0]\n",
    "XY = layer.XY\n",
    "x, y = XY[:,0], XY[:,1]\n",
    "\n",
    "cells = layer.adata.obs.index.values\n",
    "\n",
    "N = layer.N\n",
    "# measured basis\n",
    "ftrs_mat = layer.feature_mat\n",
    "\n",
    "# umap_mat = umap.UMAP(n_neighbors=30, min_dist=0.1).fit_transform(ftrs_mat)\n",
    "\n",
    "# types\n",
    "types = df['type_r0.1'].values\n",
    "# local env\n",
    "env_mat = tmgu.get_local_type_abundance(types, SG=layer.SG)"
   ]
  },
  {
   "cell_type": "code",
   "execution_count": null,
   "id": "c23f5711-4bf1-4ab6-a5eb-1d7ac9ec7d44",
   "metadata": {},
   "outputs": [],
   "source": [
    "env_mat"
   ]
  },
  {
   "cell_type": "code",
   "execution_count": null,
   "id": "bf5e2eb1-bc7d-4389-a586-f9af36202984",
   "metadata": {},
   "outputs": [],
   "source": [
    "tmp = pd.DataFrame(np.hstack([XY, env_mat])).rename({0:'x', 1:'y'}, axis=1)\n",
    "tmp"
   ]
  },
  {
   "cell_type": "code",
   "execution_count": null,
   "id": "ec174ab2-1221-4587-91e0-c3c689e1aef0",
   "metadata": {},
   "outputs": [],
   "source": [
    "imgmat = imageu.valued_pointset_to_image(np.hstack([XY, env_mat[:,[0]]]), resolution=100)\n",
    "imgmat.shape"
   ]
  },
  {
   "cell_type": "code",
   "execution_count": null,
   "id": "0a3a4e09-fe66-48a4-b4b8-8fb43b156186",
   "metadata": {},
   "outputs": [],
   "source": [
    "plt.imshow(imgmat, cmap='rocket_r')"
   ]
  },
  {
   "cell_type": "code",
   "execution_count": null,
   "id": "744ef7ac-c367-4d54-b99f-e53397570e01",
   "metadata": {},
   "outputs": [],
   "source": [
    "# result, edges = [], []\n",
    "# for channel in cv2.split(img):\n",
    "#     solver = AmbrosioTortorelliMinimizer(channel, iterations = 1, tol = 0.1, solver_maxiterations = 6)\n",
    "#     f, v = solver.minimize()\n",
    "#     result.append(f)\n",
    "#     edges.append(v)\n",
    "    \n",
    "# f = cv2.merge(result)\n",
    "# v = np.maximum(*edges)"
   ]
  },
  {
   "cell_type": "code",
   "execution_count": null,
   "id": "9c6cea02-67c5-4a08-8875-ed62569713c7",
   "metadata": {},
   "outputs": [],
   "source": [
    "imgs, models, alledges = [], [], []\n",
    "for i in range(env_mat.shape[1]):\n",
    "    imgmat = imageu.valued_pointset_to_image(np.hstack([XY, env_mat[:,[i]]]), resolution=50)\n",
    "    channel = np.nan_to_num(imgmat, 0) #.fillna(0)\n",
    "    solver = AmbrosioTortorelliMinimizer.AmbrosioTortorelliMinimizer(channel, iterations=1000, tol=0.1,)\n",
    "    model, edges = solver.minimize()\n",
    "    imgs.append(channel)\n",
    "    models.append(model)\n",
    "    alledges.append(edges)\n",
    "\n",
    "    fig, axs = plt.subplots(1,3,figsize=(3*4,1*4))\n",
    "    ax = axs[0]\n",
    "    ax.imshow(channel, origin='lower', aspect='equal',)\n",
    "    ax.set_title('orig')\n",
    "    ax.axis('off')\n",
    "    ax = axs[1]\n",
    "    ax.imshow(model, origin='lower', aspect='equal',)\n",
    "    ax.set_title('model')\n",
    "    ax.axis('off')\n",
    "    ax = axs[2]\n",
    "    ax.imshow(edges, origin='lower', aspect='equal',)\n",
    "    ax.set_title('edges')\n",
    "    ax.axis('off')\n",
    "    fig.subplots_adjust(wspace=0.01)\n",
    "    plt.show()"
   ]
  },
  {
   "cell_type": "code",
   "execution_count": null,
   "id": "49c17040-1a9f-4356-aa4c-a7dba95a5a41",
   "metadata": {},
   "outputs": [],
   "source": [
    "combimg = np.argmax(np.stack(imgs), axis=0)\n",
    "combmodel = np.argmax(np.stack(models), axis=0)\n",
    "combedges = np.maximum.reduce(alledges)"
   ]
  },
  {
   "cell_type": "code",
   "execution_count": null,
   "id": "5d4a8e30-ef3c-4de3-94c0-1d72ad9f0ea0",
   "metadata": {},
   "outputs": [],
   "source": [
    "fig, axs = plt.subplots(1,3,figsize=(3*10,1*10))\n",
    "ax = axs[0]\n",
    "ax.imshow(combimg, origin='lower', aspect='equal',)\n",
    "ax.set_title('orig')\n",
    "ax.axis('off')\n",
    "\n",
    "ax = axs[1]\n",
    "ax.imshow(combmodel, origin='lower', aspect='equal',)\n",
    "ax.set_title('model')\n",
    "ax.axis('off')\n",
    "\n",
    "ax = axs[2]\n",
    "ax.imshow(combedges, origin='lower', aspect='equal',)\n",
    "ax.set_title('edges')\n",
    "ax.axis('off')\n",
    "fig.subplots_adjust(wspace=0.01)\n",
    "plt.show()"
   ]
  },
  {
   "cell_type": "code",
   "execution_count": null,
   "id": "22a2a309-8449-4c7a-a2f9-bd01fe16c165",
   "metadata": {},
   "outputs": [],
   "source": [
    "n = len(imgs)\n",
    "fig, axss = plt.subplots(n,3,figsize=(3*4,n*4))\n",
    "for axs, channel, model, edges in zip(axss, imgs, models, alledges):\n",
    "    ax = axs[0]\n",
    "    ax.imshow(channel, origin='lower', aspect='equal',)\n",
    "    ax.set_title('orig')\n",
    "    ax.axis('off')\n",
    "    ax = axs[1]\n",
    "    ax.imshow(model, origin='lower', aspect='equal',)\n",
    "    ax.set_title('model')\n",
    "    ax.axis('off')\n",
    "    ax = axs[2]\n",
    "    ax.imshow(edges, origin='lower', aspect='equal',)\n",
    "    ax.set_title('edges')\n",
    "    ax.axis('off')\n",
    "    fig.subplots_adjust(wspace=0.01)\n",
    "plt.show()"
   ]
  },
  {
   "cell_type": "code",
   "execution_count": null,
   "id": "3b24fae4-6364-4883-b6f7-dd935f52bc53",
   "metadata": {},
   "outputs": [],
   "source": []
  },
  {
   "cell_type": "code",
   "execution_count": null,
   "id": "ef8199ec-8944-4f21-9236-a1d7841e34c2",
   "metadata": {},
   "outputs": [],
   "source": []
  },
  {
   "cell_type": "code",
   "execution_count": null,
   "id": "27f3e77a-15d7-41ec-ab94-8fb53cbe258e",
   "metadata": {},
   "outputs": [],
   "source": [
    "# improvement -- to add the hull -- np.nan from 0\n",
    "# parameters to tune?\n",
    "# problem: this turns cell type abundance into cell type dominance (not necessarily the best we want -- we want unique combinations of cell type abundances)"
   ]
  },
  {
   "cell_type": "code",
   "execution_count": null,
   "id": "6d3341f5-79f6-4509-a839-58812b5c1142",
   "metadata": {},
   "outputs": [],
   "source": []
  }
 ],
 "metadata": {
  "kernelspec": {
   "display_name": "Python 3 (ipykernel)",
   "language": "python",
   "name": "python3"
  },
  "language_info": {
   "codemirror_mode": {
    "name": "ipython",
    "version": 3
   },
   "file_extension": ".py",
   "mimetype": "text/x-python",
   "name": "python",
   "nbconvert_exporter": "python",
   "pygments_lexer": "ipython3",
   "version": "3.10.2"
  }
 },
 "nbformat": 4,
 "nbformat_minor": 5
}
