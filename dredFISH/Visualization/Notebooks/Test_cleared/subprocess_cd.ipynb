{
 "cells": [
  {
   "cell_type": "code",
   "execution_count": null,
   "id": "9adf60e6-0116-4fe3-a10f-88ce9a3880c4",
   "metadata": {},
   "outputs": [],
   "source": [
    "import subprocess as sp\n",
    "import os"
   ]
  },
  {
   "cell_type": "code",
   "execution_count": null,
   "id": "8d73aa7c-3d4a-497f-ba55-4ada8f209863",
   "metadata": {},
   "outputs": [],
   "source": [
    "basepth = \"/bigstore/GeneralStorage/Data/dredFISH/Dataset1-t5/\"\n",
    "respth = os.path.join(basepth, 'figures')\n",
    "cmplpth = os.path.join(respth, 'compiled')\n",
    "print(basepth, respth, cmplpth)\n",
    "!ls $cmplpth"
   ]
  },
  {
   "cell_type": "code",
   "execution_count": null,
   "id": "842a56e8-d962-422a-b52b-c33b4b0ff19c",
   "metadata": {},
   "outputs": [],
   "source": [
    "sp.run(['pdflatex', 'compiled.tex'], cwd=cmplpth)"
   ]
  },
  {
   "cell_type": "code",
   "execution_count": null,
   "id": "ee86f38d-013a-4c75-b481-5c53575c0a80",
   "metadata": {},
   "outputs": [],
   "source": []
  }
 ],
 "metadata": {
  "kernelspec": {
   "display_name": "Python 3 (ipykernel)",
   "language": "python",
   "name": "python3"
  },
  "language_info": {
   "codemirror_mode": {
    "name": "ipython",
    "version": 3
   },
   "file_extension": ".py",
   "mimetype": "text/x-python",
   "name": "python",
   "nbconvert_exporter": "python",
   "pygments_lexer": "ipython3",
   "version": "3.10.2"
  }
 },
 "nbformat": 4,
 "nbformat_minor": 5
}
