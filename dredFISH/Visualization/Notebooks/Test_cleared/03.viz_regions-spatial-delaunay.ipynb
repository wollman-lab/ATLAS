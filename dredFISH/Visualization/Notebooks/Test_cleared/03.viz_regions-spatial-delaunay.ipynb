{
 "cells": [
  {
   "cell_type": "code",
   "execution_count": null,
   "id": "b6b73bd4-0ecc-4811-9a80-53090a45dce5",
   "metadata": {},
   "outputs": [],
   "source": [
    "import matplotlib\n",
    "import matplotlib.pyplot as plt \n",
    "import numpy as np\n",
    "import pandas as pd\n",
    "import os\n",
    "import umap\n",
    "import datashader as ds\n",
    "import colorcet as cc\n",
    "import igraph\n",
    "import tqdm\n",
    "from scipy import sparse\n",
    "import pandas as pd\n",
    "from sklearn.neighbors import NearestNeighbors\n",
    "from sklearn.decomposition import LatentDirichletAllocation\n",
    "from sklearn.cluster import KMeans\n",
    "\n",
    "from matplotlib.collections import PolyCollection\n",
    "from matplotlib.colors import ListedColormap\n",
    "\n",
    "from dredFISH.Analysis import TissueGraph\n",
    "from dredFISH.Visualization import Viz\n",
    "from dredFISH.Utils.__init__plots import * \n",
    "from dredFISH.Utils import powerplots\n",
    "from dredFISH.Utils import miscu\n",
    "from dredFISH.Utils import tmgu\n",
    "\n",
    "import importlib\n",
    "importlib.reload(Viz)\n",
    "importlib.reload(TissueGraph)"
   ]
  },
  {
   "cell_type": "code",
   "execution_count": null,
   "id": "490cbf45-9389-4b20-9621-cb0f43fd84a0",
   "metadata": {},
   "outputs": [],
   "source": [
    "# %%time\n",
    "# # slow for 24 bits; fast for 2D\n",
    "# k = 30 \n",
    "# NN = NearestNeighbors(n_neighbors=k)\n",
    "# NN.fit(XY)\n",
    "# knn = NN.kneighbors(XY, return_distance=False)\n",
    "\n",
    "# knn\n",
    "# # use pynndescent\n"
   ]
  },
  {
   "cell_type": "code",
   "execution_count": null,
   "id": "8510a639-8ffe-4a04-bb0f-4a81a2b9980d",
   "metadata": {},
   "outputs": [],
   "source": [
    "# %%time\n",
    "# n_topics_list = [2,5,10]\n",
    "# n_procs = 3 \n",
    "\n",
    "# topic_cls = Classification.TopicClassifier(TMG.Layers[0])\n",
    "# topic_cls.train(n_topics_list=n_topics_list, n_procs=n_procs)\n",
    "# topics = topic_cls.classify(topic_cls.Env)\n",
    "\n",
    "# Key lines\n",
    "# n_topics = 10\n",
    "# lda = LatentDirichletAllocation(n_components=n_topics)\n",
    "# B = lda.fit(env)\n",
    "# T = lda.transform(Env)"
   ]
  },
  {
   "cell_type": "markdown",
   "id": "7128fcc3-ec0c-46cb-a0fb-6fc7ad1e2303",
   "metadata": {
    "tags": []
   },
   "source": [
    "#### Load data"
   ]
  },
  {
   "cell_type": "code",
   "execution_count": null,
   "id": "41a21828-7123-41ff-90f1-ccf15e7e1f70",
   "metadata": {},
   "outputs": [],
   "source": [
    "respath = '/bigstore/GeneralStorage/fangming/projects/dredfish/figures/'"
   ]
  },
  {
   "cell_type": "code",
   "execution_count": null,
   "id": "a3e34f5d-eb05-4bee-a092-3515a72a3f55",
   "metadata": {},
   "outputs": [],
   "source": [
    "basepth = '/bigstore/GeneralStorage/Data/dredFISH/Dataset1'\n",
    "!ls -alhtr $basepth\n",
    "!head $basepth\"/TMG.json\""
   ]
  },
  {
   "cell_type": "code",
   "execution_count": null,
   "id": "cfe2e9d5-b693-46f6-a5af-d99e5c2884c4",
   "metadata": {},
   "outputs": [],
   "source": [
    "df = pd.read_csv(\n",
    "    os.path.join(basepth, \"analysis_dev.csv\"))\n",
    "df"
   ]
  },
  {
   "cell_type": "code",
   "execution_count": null,
   "id": "58e329f8-3630-4ad4-989f-7a1ced4d71e7",
   "metadata": {},
   "outputs": [],
   "source": [
    "TMG = TissueGraph.TissueMultiGraph(basepath=basepth, \n",
    "                                   redo=False, # load existing \n",
    "                                  )\n",
    "TMG"
   ]
  },
  {
   "cell_type": "code",
   "execution_count": null,
   "id": "4b86cb23-bf8b-401f-905f-dd40dd8e8ee8",
   "metadata": {},
   "outputs": [],
   "source": [
    "# spatial coordinates\n",
    "layer = TMG.Layers[0]\n",
    "XY = layer.XY\n",
    "x, y = XY[:,0], XY[:,1]\n",
    "###\n",
    "x, y = y, x # a temporary hack\n",
    "###\n",
    "\n",
    "cells = layer.adata.obs.index.values\n",
    "\n",
    "N = layer.N\n",
    "print(N)\n",
    "# measured basis\n",
    "ftrs_mat = layer.feature_mat\n",
    "\n",
    "# umap_mat = umap.UMAP(n_neighbors=30, min_dist=0.1).fit_transform(ftrs_mat)\n",
    "\n",
    "# types\n",
    "\n",
    "# regions"
   ]
  },
  {
   "cell_type": "code",
   "execution_count": null,
   "id": "a21e813b-c39f-4347-ad92-5533b38af35a",
   "metadata": {},
   "outputs": [],
   "source": [
    "labels = df['type_r0.1'].values\n",
    "edges = np.asarray(layer.SG.get_edgelist()) \n",
    "ctg, ctg_idx = np.unique(labels, return_inverse=True) \n",
    "print(ctg)\n",
    "\n",
    "i = edges[:,0] # cells\n",
    "j = ctg_idx[edges[:,1]] # types it connects\n",
    "dat = np.repeat(1, len(i))\n",
    "\n",
    "env_mat = sparse.coo_matrix((dat, (i,j)), shape=(N, len(ctg))).toarray() # dense\n",
    "env_mat = env_mat/env_mat.sum(axis=1).reshape(-1,1)\n",
    "env_mat = np.nan_to_num(env_mat, 0)\n",
    "env_mat"
   ]
  },
  {
   "cell_type": "code",
   "execution_count": null,
   "id": "d7e0c1e4-2570-4260-9edc-b47ebeb559c9",
   "metadata": {},
   "outputs": [],
   "source": [
    "%%time\n",
    "k_kms = [2,5,10,20,50,100]\n",
    "for k_km in tqdm.tqdm(k_kms):\n",
    "    kmeans = KMeans(n_clusters=k_km)\n",
    "    reg_clsts = kmeans.fit_predict(env_mat)\n",
    "    df[f'type_reg_k{k_km}'] = np.char.add('t', np.array(reg_clsts).astype(str))"
   ]
  },
  {
   "cell_type": "code",
   "execution_count": null,
   "id": "93aaa5b5-468b-4a67-bb4f-f5f1b12c92d3",
   "metadata": {},
   "outputs": [],
   "source": [
    "for k_km in k_kms:\n",
    "    hue = f'type_reg_k{k_km}'\n",
    "    hue_order = np.sort(np.unique(df[hue]))\n",
    "    ntypes = len(hue_order)\n",
    "\n",
    "    fig, axs = plt.subplots(1, 2, figsize=(8*2,6))\n",
    "    fig.suptitle(f\"{hue}; n={ntypes}\")\n",
    "    ax = axs[0]\n",
    "    sns.scatterplot(data=df, x='x', y='y', \n",
    "                    hue=hue, hue_order=hue_order, \n",
    "                    s=0.5, edgecolor=None, \n",
    "                    legend=False,\n",
    "                    ax=ax)\n",
    "    # ax.legend(loc='upper left', bbox_to_anchor=(0, -0.1), ncol=5)\n",
    "    ax.set_aspect('equal')\n",
    "    ax.axis('off')\n",
    "\n",
    "    ax = axs[1]\n",
    "    sns.scatterplot(data=df, x='umap_x', y='umap_y', \n",
    "                    hue=hue, hue_order=hue_order, \n",
    "                    s=0.5, edgecolor=None, \n",
    "                    legend=False,\n",
    "                    ax=ax)\n",
    "    # ax.legend(loc='upper left', bbox_to_anchor=(0, -0.1), ncol=5)\n",
    "    ax.set_aspect('equal')\n",
    "    ax.axis('off')\n",
    "    fig.subplots_adjust(wspace=0)\n",
    "    plt.show()"
   ]
  },
  {
   "cell_type": "markdown",
   "id": "80d17831-48ac-4e9c-b1ac-bfb1f07a6786",
   "metadata": {},
   "source": [
    "# Delaunay k neighbor analysis"
   ]
  },
  {
   "cell_type": "code",
   "execution_count": null,
   "id": "e9e70ba9-c5ff-42cb-b371-24a89195fa5f",
   "metadata": {},
   "outputs": [],
   "source": [
    "dgr = layer.SG.indegree() # same as out"
   ]
  },
  {
   "cell_type": "code",
   "execution_count": null,
   "id": "f2073087-fe41-4807-8657-b66f39e43577",
   "metadata": {},
   "outputs": [],
   "source": [
    "sns.histplot(dgr)\n",
    "plt.xlabel('Number of Delaunay neighbors')\n",
    "plt.ylabel('PDF')"
   ]
  },
  {
   "cell_type": "code",
   "execution_count": null,
   "id": "238999df-f463-468d-a913-f98905f31f8d",
   "metadata": {},
   "outputs": [],
   "source": [
    "plt.plot(np.sort(dgr), np.linspace(0,1,len(dgr)))\n",
    "plt.xlabel('Number of Delaunay neighbors')\n",
    "plt.ylabel('CDF')"
   ]
  },
  {
   "cell_type": "markdown",
   "id": "d0f02a0a-3974-4698-807f-949952c3eb05",
   "metadata": {},
   "source": [
    "# Get from region types to regions; and visualize region boundaries "
   ]
  },
  {
   "cell_type": "code",
   "execution_count": null,
   "id": "744525a9-1e65-4451-846d-cfa0181a5933",
   "metadata": {},
   "outputs": [],
   "source": [
    "k_km = 10\n",
    "region_types = df[f'type_reg_k{k_km}'].values\n",
    "region_types"
   ]
  },
  {
   "cell_type": "code",
   "execution_count": null,
   "id": "4e88e9ce-45b3-4f4e-8e97-a1f3909f5aed",
   "metadata": {},
   "outputs": [],
   "source": [
    "polys = TMG.Geoms[0]['poly'] #) #) #[0]\n",
    "bdbox = np.array(TMG.Geoms[0]['BoundingBox'].exterior.xy).T\n",
    "\n",
    "# a hack\n",
    "polys = [np.vstack([poly[:,1], poly[:,0]]).T for poly in polys]\n",
    "bdbox = np.array(np.vstack([bdbox[:,1], bdbox[:,0]])).T\n",
    "# end of the hack\n",
    "\n",
    "mx = np.max(bdbox,axis=0)\n",
    "mn = np.min(bdbox,axis=0)\n",
    "\n",
    "ctg, idx = np.unique(region_types, return_inverse=True)\n",
    "colors = sns.color_palette(\"tab10\", len(ctg))\n",
    "colors"
   ]
  },
  {
   "cell_type": "code",
   "execution_count": null,
   "id": "a3908921-9308-4228-927e-cd565b14df78",
   "metadata": {},
   "outputs": [],
   "source": [
    "fig, ax = plt.subplots(figsize=(12,10))\n",
    "p = PolyCollection(polys, edgecolors=('none'), cmap=ListedColormap(colors)) # cmap=self.clrmp)\n",
    "p.set_array(idx)\n",
    "\n",
    "ax.add_collection(p)\n",
    "ax.set_aspect('equal') #, 'box')\n",
    "ax.set_xlim([mn[0],mx[0]])\n",
    "ax.set_ylim([mn[1],mx[1]])\n",
    "ax.axis('off')\n",
    "\n",
    "plt.show()"
   ]
  },
  {
   "cell_type": "markdown",
   "id": "f7d1bcf4-84e2-4ab1-a601-0701704c0835",
   "metadata": {},
   "source": [
    "# get regions (region type zones) "
   ]
  },
  {
   "cell_type": "code",
   "execution_count": null,
   "id": "e3970cd3-3614-41fb-bd0d-4bd3f889ed21",
   "metadata": {},
   "outputs": [],
   "source": [
    "# # get SG\n",
    "# SG = layer.SG\n",
    "\n",
    "# # trim edges -- remove connects from diffent types\n",
    "# edges = np.asarray(SG.get_edgelist())\n",
    "# edges_bytype = region_types[edges]\n",
    "# edges_sametype = edges[edges_bytype[:,0]==edges_bytype[:,1]]\n",
    "    \n",
    "# # get components (same type and spatially connected); each component is assigned an index\n",
    "# zones = igraph.Graph(n=N, edges=edges_sametype, directed = False)\n",
    "# zone_ids = np.asarray(zones.components().membership)\n",
    "# zone_ids\n",
    "\n",
    "# # how do you visualize it?"
   ]
  },
  {
   "cell_type": "markdown",
   "id": "b5a3bd2a-df99-4fb6-8167-270865dce466",
   "metadata": {},
   "source": [
    "# LDA"
   ]
  },
  {
   "cell_type": "code",
   "execution_count": null,
   "id": "80ec4e56-2c93-4b10-af1f-c55fbef43d93",
   "metadata": {},
   "outputs": [],
   "source": [
    "%%time\n",
    "lda = LatentDirichletAllocation(n_components=5)\n",
    "y5 = lda.fit_transform(env_mat)\n",
    "y5"
   ]
  },
  {
   "cell_type": "code",
   "execution_count": null,
   "id": "e9cbadff-f02a-46cc-9ce0-1130f5502112",
   "metadata": {},
   "outputs": [],
   "source": [
    "%%time\n",
    "lda = LatentDirichletAllocation(n_components=10)\n",
    "y10 = lda.fit_transform(env_mat)\n",
    "y10"
   ]
  },
  {
   "cell_type": "code",
   "execution_count": null,
   "id": "fde0357f-68ca-4ca9-b5bf-9c0afa87d5cf",
   "metadata": {},
   "outputs": [],
   "source": [
    "y10d = np.argmax(y10, axis=1)\n",
    "y5d = np.argmax(y5, axis=1)\n",
    "np.unique(y10d)"
   ]
  },
  {
   "cell_type": "code",
   "execution_count": null,
   "id": "56e8f459-bf5d-4380-addf-7445ffff6a72",
   "metadata": {},
   "outputs": [],
   "source": [
    "region_types = y5d\n",
    "polys = TMG.Geoms[0]['poly'] #) #) #[0]\n",
    "bdbox = np.array(TMG.Geoms[0]['BoundingBox'].exterior.xy).T\n",
    "\n",
    "# a hack\n",
    "polys = [np.vstack([poly[:,1], poly[:,0]]).T for poly in polys]\n",
    "bdbox = np.array(np.vstack([bdbox[:,1], bdbox[:,0]])).T\n",
    "# end of the hack\n",
    "\n",
    "mx = np.max(bdbox,axis=0)\n",
    "mn = np.min(bdbox,axis=0)\n",
    "\n",
    "ctg, idx = np.unique(region_types, return_inverse=True)\n",
    "colors = sns.color_palette(\"tab10\", len(ctg))\n",
    "colors"
   ]
  },
  {
   "cell_type": "code",
   "execution_count": null,
   "id": "ac55b0e2-a550-421c-a579-7fc31d963366",
   "metadata": {},
   "outputs": [],
   "source": [
    "fig, ax = plt.subplots(figsize=(12,10))\n",
    "p = PolyCollection(polys, edgecolors=('none'), cmap=ListedColormap(colors)) # cmap=self.clrmp)\n",
    "p.set_array(idx)\n",
    "\n",
    "ax.add_collection(p)\n",
    "ax.set_aspect('equal') #, 'box')\n",
    "ax.set_xlim([mn[0],mx[0]])\n",
    "ax.set_ylim([mn[1],mx[1]])\n",
    "ax.axis('off')\n",
    "\n",
    "plt.show()"
   ]
  },
  {
   "cell_type": "code",
   "execution_count": null,
   "id": "89647014-8b72-468a-bd45-e031e4abc4c5",
   "metadata": {},
   "outputs": [],
   "source": []
  },
  {
   "cell_type": "code",
   "execution_count": null,
   "id": "ba82dd6e-3b1a-4475-a37e-6d4cdbf3c65d",
   "metadata": {},
   "outputs": [],
   "source": []
  },
  {
   "cell_type": "code",
   "execution_count": null,
   "id": "884609e5-6d05-4041-9f32-1652b87af03c",
   "metadata": {},
   "outputs": [],
   "source": []
  },
  {
   "cell_type": "code",
   "execution_count": null,
   "id": "93124b98-a85a-48ee-a384-406047cd9ade",
   "metadata": {},
   "outputs": [],
   "source": []
  },
  {
   "cell_type": "code",
   "execution_count": null,
   "id": "9287318f-d5fa-4d87-9b68-df643d0c9484",
   "metadata": {},
   "outputs": [],
   "source": []
  },
  {
   "cell_type": "markdown",
   "id": "458288bf-2071-4b92-8a23-15b39b5c58d7",
   "metadata": {},
   "source": [
    "# TMG related stuff (can't run; ref only)"
   ]
  },
  {
   "cell_type": "code",
   "execution_count": null,
   "id": "9a97aa42-86f6-4f11-a184-022d963a4883",
   "metadata": {},
   "outputs": [],
   "source": [
    "def contract_graph(self, TypeVec=None):\n",
    "    \"\"\"find zones/region, i.e. spatially continous areas in the graph the same (cell/microenvironment) type\n",
    "\n",
    "    reduce graph size by merging spatial neighbors of same type. \n",
    "    Given a vector of types, will contract the graph to merge vertices that are both next to each other and of the same type. \n",
    "\n",
    "    Parameters\n",
    "    ----------\n",
    "    TypeVec : 1D numpy array with dtype int (default value is self.Type)\n",
    "        a vector of Types for each node. If None, will use self.Type\n",
    "\n",
    "    Note\n",
    "    ----\n",
    "    Default behavior is to assign the contracted TG the same taxonomy as the original graph. \n",
    "\n",
    "    Returns\n",
    "    -------\n",
    "    TissueGraph \n",
    "        A TG object after vertices merging. \n",
    "    \"\"\"\n",
    "\n",
    "    # Figure out which type to use\n",
    "    if TypeVec is None: \n",
    "        TypeVec = self.Type\n",
    "\n",
    "    # get edge list - work with names and not indexes in case things shift around (they shouldn't),     \n",
    "    EL = np.asarray(self.SG.get_edgelist()).astype(\"int\")\n",
    "    nm = self.adata.obs[\"name\"]\n",
    "    EL[:,0] = np.take(nm,EL[:,0])\n",
    "    EL[:,1] = np.take(nm,EL[:,1])\n",
    "\n",
    "    # only keep edges where neighbors are of same types\n",
    "    EL = EL[np.take(TypeVec,EL[:,0]) == np.take(TypeVec,EL[:,1]),:]\n",
    "\n",
    "    # remake a graph with potentially many components\n",
    "    IsoZonesGraph = igraph.Graph(n=self.N, edges=EL, directed = False)\n",
    "    IsoZonesGraph = IsoZonesGraph.as_undirected().simplify()\n",
    "\n",
    "    # because we used both type and proximity, the original graph (based only on proximity)\n",
    "    # that was a single component graph will be broken down to multiple components \n",
    "    # finding clusters for each component. \n",
    "    cmp = IsoZonesGraph.components()\n",
    "\n",
    "    IxMapping = np.asarray(cmp.membership)\n",
    "\n",
    "    ZoneName, ZoneSingleIx = np.unique(IxMapping, return_index=True) # be cautious\n",
    "\n",
    "    # zone size sums the current graph zone size per each aggregate (i.e. zone or microenv)\n",
    "    df = pd.DataFrame(data = self.node_size)\n",
    "    df['type'] = IxMapping\n",
    "    ZoneSize = df.groupby(['type']).sum()\n",
    "    ZoneSize = np.array(ZoneSize).flatten()\n",
    "\n",
    "    # calculate zones feature_mat\n",
    "    # if all values are Nan, just replace with tuple of the required size\n",
    "    if np.all(np.isnan(self.feature_mat)): \n",
    "        zone_feat_mat = (len(ZoneSize),self.feature_mat.shape[1])\n",
    "    else: \n",
    "        df = pd.DataFrame(data = self.feature_mat)\n",
    "        df['type']=IxMapping\n",
    "        zone_feat_mat = np.array(df.groupby(['type']).mean())\n",
    "\n",
    "    # create new SG for zones \n",
    "    ZSG = self.SG.copy()\n",
    "\n",
    "    comb = {\"X\" : \"mean\",\n",
    "           \"Y\" : \"mean\",\n",
    "           \"Type\" : \"ignore\",\n",
    "           \"name\" : \"ignore\"}\n",
    "\n",
    "    ZSG.contract_vertices(IxMapping,combine_attrs=comb)\n",
    "    ZSG.simplify()\n",
    "\n",
    "    # create a new Tissue graph by copying existing one, contracting, and updating XY\n",
    "    ZoneGraph = TissueGraph(feature_mat=zone_feat_mat, \n",
    "                            basepath=self.basepath,\n",
    "                            layer_type=\"isozone\",\n",
    "                            redo=True,\n",
    "                            )\n",
    "\n",
    "    ZoneGraph.SG = ZSG\n",
    "    ZoneGraph.names = ZoneName\n",
    "    ZoneGraph.node_size = ZoneSize\n",
    "    ZoneGraph.Type = TypeVec[ZoneSingleIx]\n",
    "    ZoneGraph.Upstream = IxMapping\n",
    "    ZoneGraph.tax = self.tax\n",
    "\n",
    "    return(ZoneGraph)"
   ]
  },
  {
   "cell_type": "code",
   "execution_count": null,
   "id": "63cb48c3-1833-4334-8e1a-7003c87f698d",
   "metadata": {},
   "outputs": [],
   "source": [
    "# TMG.create_region_layer(topics, topic_cls.tax)\n",
    "# # logging.info(f\"TMG has {len(TMG.Layers)} Layers\")\n",
    "\n",
    "# create region layers through graph contraction\n",
    "CG = self.Layers[cell_layer].contract_graph(topics) # contract the cell layer by topics\n",
    "\n",
    "# contraction assumes that the feature_mat and taxonomy of the contracted layers are\n",
    "# inherited from the layer used for contraction. This is not true for regions so we need to update these\n",
    "# feature_mat is updated here and tax is updated by calling add_type_information\n",
    "Env = self.Layers[cell_layer].extract_environments(typevec=CG.Upstream)\n",
    "row_sums = Env.sum(axis=1)\n",
    "row_sums = row_sums[:,None]\n",
    "Env = Env/row_sums\n",
    "\n",
    "# create the region layer merging information from contracted graph and environments\n",
    "RegionLayer = TissueGraph(feature_mat=Env, basepath=self.basepath, layer_type=\"region\", redo=True)\n",
    "RegionLayer.SG = CG.SG.copy()\n",
    "RegionLayer.node_size = CG.node_size.copy()\n",
    "RegionLayer.Upstream = CG.Upstream.copy()\n",
    "\n",
    "self.Layers.append(RegionLayer)\n",
    "current_layer_id = len(self.Layers)-1\n",
    "self.add_type_information(current_layer_id, CG.Type, region_tax)\n",
    "\n",
    "# update the layers graph to show that regions are created from cells\n",
    "self.layers_graph.append((cell_layer, current_layer_id))"
   ]
  },
  {
   "cell_type": "code",
   "execution_count": null,
   "id": "45795589-677d-4952-b62b-8135d11da28e",
   "metadata": {},
   "outputs": [],
   "source": [
    "\n",
    "def plot_polys(self): \n",
    "    p = PolyCollection(self.V.TMG.Geoms[self.section]['poly'], cmap=self.clrmp)\n",
    "    p.set_array(self.Styles['polygon']['scalar']) # a scalar -- color?\n",
    "    self.ax.add_collection(p)"
   ]
  }
 ],
 "metadata": {
  "kernelspec": {
   "display_name": "Python 3 (ipykernel)",
   "language": "python",
   "name": "python3"
  },
  "language_info": {
   "codemirror_mode": {
    "name": "ipython",
    "version": 3
   },
   "file_extension": ".py",
   "mimetype": "text/x-python",
   "name": "python",
   "nbconvert_exporter": "python",
   "pygments_lexer": "ipython3",
   "version": "3.10.2"
  }
 },
 "nbformat": 4,
 "nbformat_minor": 5
}
