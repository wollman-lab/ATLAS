{
 "cells": [
  {
   "cell_type": "code",
   "execution_count": null,
   "id": "b6b73bd4-0ecc-4811-9a80-53090a45dce5",
   "metadata": {},
   "outputs": [],
   "source": [
    "import os\n",
    "import sys\n",
    "import logging\n",
    "import numpy as np\n",
    "import pandas as pd\n",
    "import matplotlib.pyplot as plt\n",
    "import seaborn as sns\n",
    "import glob\n",
    "from natsort import natsorted\n",
    "import collections\n",
    "\n",
    "from dredFISH.Analysis import TissueGraph\n",
    "from dredFISH.Visualization import viz_cell_layer\n",
    "# from dredFISH.Utils.__init__plots import *  # import one of the two; but not both\n",
    "from dredFISH.Utils import powerplots\n",
    "\n",
    "import importlib\n",
    "importlib.reload(powerplots)\n",
    "# importlib.reload(viz_cell_layer)"
   ]
  },
  {
   "cell_type": "code",
   "execution_count": null,
   "id": "0443ce55-b9c8-4a71-94c3-7cbe2920adfd",
   "metadata": {},
   "outputs": [],
   "source": [
    "f = '/bigstore/GeneralStorage/fangming/projects/dredfish/data/dpnmf.csv'\n",
    "enc = pd.read_csv(f, index_col=0)\n",
    "enc.sum()"
   ]
  },
  {
   "cell_type": "code",
   "execution_count": null,
   "id": "ae37301b-0f02-45f2-a354-0ef5f43ee931",
   "metadata": {},
   "outputs": [],
   "source": [
    "logging.basicConfig(format='%(asctime)s - %(message)s', \n",
    "                datefmt='%m-%d %H:%M:%S', \n",
    "                level=logging.INFO,\n",
    "                )\n",
    "\n",
    "# Path\n",
    "# basepth = '/bigstore/GeneralStorage/Data/dredFISH/Dataset1-t3'\n",
    "# basepth = '/bigstore/GeneralStorage/Data/dredFISH/DPNMF-FR_7C_PFA+Methanol_PFA_Methanol_2022Nov07_v2/DPNMF-FR_7C_PFA+Methanol_PFA_Methanol_2022Nov07_Section1'\n",
    "basepth = '/bigstore/GeneralStorage/Data/dredFISH/DPNMF-FR_R1_4A_UC_R2_5C_2022Nov27_Dec12_strip_tol/DPNMF-FR_R1_4A_UC_R2_5C_2022Nov27_Section5_total'"
   ]
  },
  {
   "cell_type": "code",
   "execution_count": null,
   "id": "c69dfdf9-1b95-4eb9-87d4-54afe8807f67",
   "metadata": {},
   "outputs": [],
   "source": [
    "allbasepths = natsorted(glob.glob(\"/bigstore/GeneralStorage/Data/dredFISH/DPNMF-FR_R1_4A_UC_R2_5C_2022Nov27_Dec12_strip_tol/DPNMF-FR_R1_4A_UC_R2_5C_2022Nov27_Section*_total\")\n",
    "                      )\n",
    "samples = np.array([basepth.split('_')[-2] for basepth in allbasepths])\n",
    "allbasepths, samples"
   ]
  },
  {
   "cell_type": "code",
   "execution_count": null,
   "id": "3ecc4fd0-6974-422b-bb87-8a0d506f7568",
   "metadata": {},
   "outputs": [],
   "source": [
    "all_dfs = collections.OrderedDict()\n",
    "for samp, basepth in zip(samples, allbasepths):\n",
    "    dfpth = os.path.join(basepth, f'{os.path.basename(basepth)}_matrix.csv')\n",
    "    df2 = pd.read_csv(dfpth, index_col=0)\n",
    "    df2.index = np.arange(len(df2))\n",
    "    df2.columns = np.char.add('bn', np.arange(24).astype(str))\n",
    "    ftrs = np.log10(1+np.clip(df2, 0, None))\n",
    "    # ftrs = np.clip(df2, 0, None)\n",
    "    \n",
    "    # ftrs = (ftrs-ftrs.mean(axis=0)).divide(ftrs.std(axis=0), axis=1)\n",
    "    \n",
    "    \n",
    "    dfpth = os.path.join(basepth, 'default_analysis.csv')\n",
    "    df = pd.read_csv(dfpth, index_col=0)\n",
    "    df = df.join(ftrs)\n",
    "    all_dfs[samp] = df\n",
    "    print(samp, len(df))\n",
    "    "
   ]
  },
  {
   "cell_type": "code",
   "execution_count": null,
   "id": "fe167d0c-6f9b-45ac-a24e-b447997c842d",
   "metadata": {},
   "outputs": [],
   "source": [
    "# respth = os.path.join(basepth, 'figures')\n",
    "# if not os.path.isdir(respth):\n",
    "#     os.mkdir(respth)"
   ]
  },
  {
   "cell_type": "markdown",
   "id": "8145d551-cb04-4a2e-a38e-f3be6c2c7891",
   "metadata": {
    "tags": []
   },
   "source": [
    "# Viz"
   ]
  },
  {
   "cell_type": "code",
   "execution_count": null,
   "id": "f8edb425-1730-4f4c-9791-752658507c4f",
   "metadata": {},
   "outputs": [],
   "source": [
    "def basis_view(all_dfs, samples, ccol, output=None):\n",
    "    \"\"\"\n",
    "    \"\"\"\n",
    "    n = len(samples)\n",
    "    nx = 5\n",
    "    ny = int((n+nx-1)/nx)\n",
    "    \n",
    "    fig, axs = plt.subplots(ny,nx,figsize=(6*nx,5*ny))\n",
    "    for ax, samp in zip(axs.flat, samples):\n",
    "        powerplots.plot_basis_spatial_lean(fig, ax, all_dfs[samp], ccol=ccol)\n",
    "        ax.set_title(samp)\n",
    "\n",
    "    for ax in axs.flat[len(samples):]:\n",
    "        ax.axis('off')\n",
    "\n",
    "    fig.subplots_adjust(wspace=-0.1)\n",
    "    fig.suptitle(ccol, y=0.92)\n",
    "    if output is not None:\n",
    "        powerplots.savefig_autodate(fig, output)\n",
    "        \n",
    "    plt.show()\n",
    "    \n",
    "def sample_view(df, samp, ccols, output=None):\n",
    "    \"\"\"\n",
    "    \"\"\"\n",
    "    nx = 6\n",
    "    ny = 4\n",
    "    \n",
    "    fig, axs = plt.subplots(ny,nx,figsize=(6*nx,5*ny))\n",
    "    for ax, ccol in zip(axs.flat, ccols):\n",
    "        powerplots.plot_basis_spatial_lean(fig, ax, df, ccol=ccol)\n",
    "        ax.set_title(ccol)\n",
    "\n",
    "    fig.subplots_adjust(wspace=-0.1)\n",
    "    fig.suptitle(samp, y=0.92)\n",
    "    if output is not None:\n",
    "        powerplots.savefig_autodate(fig, output)\n",
    "        \n",
    "    plt.show()"
   ]
  },
  {
   "cell_type": "code",
   "execution_count": null,
   "id": "faaba794-8763-4f56-a313-0fd648ad835f",
   "metadata": {},
   "outputs": [],
   "source": [
    "ccol = 'bn0'\n",
    "output = f\"/home/fangming/figures/dec14/bitview_{ccol}.pdf\"\n",
    "output = None\n",
    "basis_view(all_dfs, samples, ccol, output=output)"
   ]
  },
  {
   "cell_type": "code",
   "execution_count": null,
   "id": "204b34bd-3158-4727-9dbf-b8d1a08b8806",
   "metadata": {},
   "outputs": [],
   "source": [
    "for i in range(24):\n",
    "    ccol = f'bn{i}'\n",
    "    output = f\"/home/fangming/figures/dec14/bitview_{ccol}.pdf\"\n",
    "    output = None\n",
    "    basis_view(all_dfs, samples, ccol, output=output)\n",
    "    plt.close()\n",
    "    \n",
    "    # ccol = f'b{i}'\n",
    "    # output = f\"/home/fangming/figures/dec14/bitview_{ccol}.pdf\"\n",
    "    # basis_view(all_dfs, samples, ccol, output=output)\n",
    "    plt.close()"
   ]
  },
  {
   "cell_type": "code",
   "execution_count": null,
   "id": "cadd6df8-f5b1-427b-b22d-567ab750f5cf",
   "metadata": {},
   "outputs": [],
   "source": []
  },
  {
   "cell_type": "code",
   "execution_count": null,
   "id": "3046c9cd-3768-4e16-aebd-fa388fce3bac",
   "metadata": {},
   "outputs": [],
   "source": [
    "for samp in samples:\n",
    "    df = all_dfs[samp]\n",
    "    output = f\"/home/fangming/figures/dec14/sampleview_bn_{samp}.pdf\"\n",
    "    ccols = np.char.add('bn',np.arange(24).astype(str))\n",
    "    sample_view(df, samp, ccols, output=output)\n",
    "    # break"
   ]
  },
  {
   "cell_type": "code",
   "execution_count": null,
   "id": "a9e07c5a-2ea9-43ca-8cdc-c3c4f21a3d77",
   "metadata": {},
   "outputs": [],
   "source": []
  },
  {
   "cell_type": "code",
   "execution_count": null,
   "id": "21c2b889-ed23-4cff-b2bd-e304ed8b5e56",
   "metadata": {},
   "outputs": [],
   "source": []
  },
  {
   "cell_type": "code",
   "execution_count": null,
   "id": "0a6016d3-953c-401a-84ef-be21885cd84b",
   "metadata": {},
   "outputs": [],
   "source": []
  },
  {
   "cell_type": "code",
   "execution_count": null,
   "id": "94710d9d-9a47-4202-b1f1-c474e1cfa2cf",
   "metadata": {},
   "outputs": [],
   "source": []
  },
  {
   "cell_type": "code",
   "execution_count": null,
   "id": "cd3d2203-d53c-486e-946e-46bf589e085d",
   "metadata": {},
   "outputs": [],
   "source": [
    "# %%time\n",
    "# nx = len(samples)\n",
    "# ny = 24\n",
    "\n",
    "# fig, axs = plt.subplots(ny,nx,figsize=(6*nx,5*ny))\n",
    "# # i - y; j - x\n",
    "# for i in range(24):\n",
    "#     ccol = f'b{i}'\n",
    "#     axs[i,0].set_ylabel(ccol, rotation=0)\n",
    "    \n",
    "#     for j, samp in enumerate(samples):\n",
    "#         ax = axs[i,j]\n",
    "#         if i == 0:\n",
    "#             ax.set_title(samp)\n",
    "\n",
    "#         powerplots.plot_basis_spatial_lean(fig, ax, all_dfs[samp], ccol=ccol)\n",
    "\n",
    "# fig.subplots_adjust(wspace=-0.1)\n",
    "# # fig.suptitle(ccol, y=0.92)\n",
    "# # plt.show()\n",
    "# powerplots.savefig_autodate(fig, \"~/figures/dec14/matview.pdf\")"
   ]
  },
  {
   "cell_type": "code",
   "execution_count": null,
   "id": "43339521-7c1c-47b0-b22a-71c22b2867f3",
   "metadata": {},
   "outputs": [],
   "source": []
  },
  {
   "cell_type": "code",
   "execution_count": null,
   "id": "40220800-2c6d-49b5-803e-6bd01fde059f",
   "metadata": {},
   "outputs": [],
   "source": []
  },
  {
   "cell_type": "code",
   "execution_count": null,
   "id": "82d83c0f-94f7-4f10-8fe5-b4d94966a664",
   "metadata": {},
   "outputs": [],
   "source": []
  },
  {
   "cell_type": "code",
   "execution_count": null,
   "id": "d89aadb7-61d7-4181-8ede-792cab9a689e",
   "metadata": {},
   "outputs": [],
   "source": [
    "hybes = [\n",
    "    2, 3, 4, 5, 6, 10, \n",
    "    11, 12, 13, 14, 15, 19,\n",
    "    20, 21, 22, 23, 24, 7, \n",
    "    8, 9, 16, 17, 18, 1, \n",
    "    # 25\n",
    "]"
   ]
  },
  {
   "cell_type": "code",
   "execution_count": null,
   "id": "bfcb8e2b-abca-4c86-9aff-82351b6f6d2a",
   "metadata": {},
   "outputs": [],
   "source": [
    "toorder = pd.DataFrame()\n",
    "toorder['bit'] = np.arange(24) \n",
    "toorder['hybe'] = hybes\n",
    "bitreordered = toorder.sort_values('hybe').index.values"
   ]
  },
  {
   "cell_type": "code",
   "execution_count": null,
   "id": "1c92defb-9556-4d8a-9126-5bcaef60434b",
   "metadata": {},
   "outputs": [],
   "source": [
    "\n",
    "for samp in samples:\n",
    "    df = all_dfs[samp]\n",
    "    output = f\"/home/fangming/figures/dec14/sampleview_hybeorder_bn_{samp}.pdf\"\n",
    "    ccols = np.char.add('bn', bitreordered.astype(str))\n",
    "    sample_view(df, samp, ccols, output=output)\n",
    "    # break"
   ]
  },
  {
   "cell_type": "code",
   "execution_count": null,
   "id": "2abd1f53-1cdb-4417-a71c-fd530e4de1ac",
   "metadata": {},
   "outputs": [],
   "source": []
  }
 ],
 "metadata": {
  "kernelspec": {
   "display_name": "Python 3 (ipykernel)",
   "language": "python",
   "name": "python3"
  },
  "language_info": {
   "codemirror_mode": {
    "name": "ipython",
    "version": 3
   },
   "file_extension": ".py",
   "mimetype": "text/x-python",
   "name": "python",
   "nbconvert_exporter": "python",
   "pygments_lexer": "ipython3",
   "version": "3.10.2"
  }
 },
 "nbformat": 4,
 "nbformat_minor": 5
}
