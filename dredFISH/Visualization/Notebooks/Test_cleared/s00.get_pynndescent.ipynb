{
 "cells": [
  {
   "cell_type": "code",
   "execution_count": null,
   "id": "5b1fa1b7-3147-4433-9605-677f0dcb677a",
   "metadata": {},
   "outputs": [],
   "source": [
    "import pynndescent\n",
    "import numpy as np"
   ]
  },
  {
   "cell_type": "code",
   "execution_count": null,
   "id": "6f9a0810-55a8-494c-9015-e0114cc27f9b",
   "metadata": {},
   "outputs": [],
   "source": [
    "xy = np.random.randn(100,2)\n",
    "xy2 = np.random.randn(10,2)"
   ]
  },
  {
   "cell_type": "code",
   "execution_count": null,
   "id": "58d95b8d-f519-4ddb-be9c-420d8e2a17aa",
   "metadata": {},
   "outputs": [],
   "source": [
    "a = pynndescent.NNDescent(xy, \n",
    "                      metric='euclidean', \n",
    "                      n_neighbors=30)"
   ]
  },
  {
   "cell_type": "code",
   "execution_count": null,
   "id": "61d26571-2062-4b47-964e-f113ac9c5e27",
   "metadata": {},
   "outputs": [],
   "source": [
    "a.query(xy2)"
   ]
  },
  {
   "cell_type": "code",
   "execution_count": null,
   "id": "8574d65c-713c-46dd-a02e-cb5c175d01de",
   "metadata": {},
   "outputs": [],
   "source": []
  }
 ],
 "metadata": {
  "kernelspec": {
   "display_name": "Python 3 (ipykernel)",
   "language": "python",
   "name": "python3"
  },
  "language_info": {
   "codemirror_mode": {
    "name": "ipython",
    "version": 3
   },
   "file_extension": ".py",
   "mimetype": "text/x-python",
   "name": "python",
   "nbconvert_exporter": "python",
   "pygments_lexer": "ipython3",
   "version": "3.10.2"
  }
 },
 "nbformat": 4,
 "nbformat_minor": 5
}
