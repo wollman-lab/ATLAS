{
 "cells": [
  {
   "cell_type": "markdown",
   "id": "be4c3324-ee70-407f-87bb-134311366aef",
   "metadata": {},
   "source": [
    "# thin lens -- traditional\n",
    "\n",
    "$f = 1$\n",
    "\n",
    "$x = s-1$\n",
    "\n",
    "$x' = s'-1$\n",
    "\n",
    "$$ xx'=1 $$\n",
    "$$ M = 1/x = x'$$\n",
    "\n",
    "\n",
    "In other words:\n",
    "$$ x' = 1/x $$\n",
    "$$ M = 1/x $$"
   ]
  },
  {
   "cell_type": "markdown",
   "id": "1feee780-e490-468d-aa3b-36c141ebb81d",
   "metadata": {},
   "source": [
    "# thin lens -- gaussian\n",
    "$R$ Reighley dist\n",
    "\n",
    "$w$ Waist length\n",
    "\n",
    "$f = 1$\n",
    "\n",
    "$x = s-1$\n",
    "\n",
    "$x' = s'-1$\n",
    "\n",
    "$$ w'=Mw $$\n",
    "$$ x'=M^2x$$\n",
    "$$ M = 1/x \\cdot \\frac{1}{\\sqrt{1+(R/x)^2}}$$\n",
    "\n",
    "In other words:\n",
    "$$ x' = \\frac{x}{x^2+R^2}$$\n",
    "$$ M = 1/x \\cdot \\frac{1}{\\sqrt{1+(R/x)^2}} = \\frac{1}{\\sqrt{x^2+R^2}}$$"
   ]
  },
  {
   "cell_type": "code",
   "execution_count": null,
   "id": "035a8a43-b28d-4a4a-907e-e2cd418603bf",
   "metadata": {},
   "outputs": [],
   "source": [
    "import numpy as np\n",
    "from dredFISH.Utils.__init__plots import *"
   ]
  },
  {
   "cell_type": "code",
   "execution_count": null,
   "id": "1b980cb8-18e6-42d6-9882-027265f69dc4",
   "metadata": {},
   "outputs": [],
   "source": [
    "# plot\n",
    "def xp_gauss(x, r):\n",
    "    return x/(np.power(x,2)+r**2)\n",
    "\n",
    "def mag_gauss(x, r):\n",
    "    factor = 1/np.sqrt(1+(r/x)**2)\n",
    "    return 1/x*factor\n"
   ]
  },
  {
   "cell_type": "code",
   "execution_count": null,
   "id": "d2c0b3b3-428b-4ddb-ab99-654b1917edee",
   "metadata": {},
   "outputs": [],
   "source": [
    "r = 1\n",
    "x = np.linspace(1e-2,5,100)"
   ]
  },
  {
   "cell_type": "code",
   "execution_count": null,
   "id": "5030568b-e48f-40ad-8b24-3a93c79af3fa",
   "metadata": {},
   "outputs": [],
   "source": [
    "rs = [0, 0.2, 0.5, 1, 5]\n",
    "colors = sns.color_palette('rocket', len(rs))\n",
    "for i, r in enumerate(rs):\n",
    "    plt.plot(x, xp_gauss(x,r), '-', markersize=4, label=f'z_R={r}', color=colors[i])\n",
    "plt.ylim([-0.1,5])\n",
    "plt.xlabel('x')\n",
    "plt.ylabel('x\\'')\n",
    "\n",
    "plt.legend(bbox_to_anchor=(1,1))\n",
    "plt.show()"
   ]
  },
  {
   "cell_type": "code",
   "execution_count": null,
   "id": "8ea67306-64f0-4e98-8b9f-b76f9a1b50a9",
   "metadata": {},
   "outputs": [],
   "source": [
    "for i, r in enumerate(rs):\n",
    "    plt.plot(x, mag_gauss(x,r), '-', markersize=4, label=f'z_R={r}', color=colors[i])\n",
    "plt.ylim([-0.1,5])\n",
    "plt.xlabel('x')\n",
    "plt.ylabel('M')\n",
    "\n",
    "plt.legend(bbox_to_anchor=(1,1))\n",
    "plt.show()"
   ]
  },
  {
   "cell_type": "markdown",
   "id": "2d5fc753-8b60-48d8-8baf-c1035515053a",
   "metadata": {},
   "source": [
    "# How - collimating a Gaussian beam?\n",
    "- place it on x=0?"
   ]
  }
 ],
 "metadata": {
  "kernelspec": {
   "display_name": "Python 3 (ipykernel)",
   "language": "python",
   "name": "python3"
  },
  "language_info": {
   "codemirror_mode": {
    "name": "ipython",
    "version": 3
   },
   "file_extension": ".py",
   "mimetype": "text/x-python",
   "name": "python",
   "nbconvert_exporter": "python",
   "pygments_lexer": "ipython3",
   "version": "3.10.2"
  }
 },
 "nbformat": 4,
 "nbformat_minor": 5
}
