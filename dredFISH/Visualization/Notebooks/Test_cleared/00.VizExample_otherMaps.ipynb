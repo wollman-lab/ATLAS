{
 "cells": [
  {
   "cell_type": "code",
   "execution_count": null,
   "id": "b6b73bd4-0ecc-4811-9a80-53090a45dce5",
   "metadata": {},
   "outputs": [],
   "source": [
    "import matplotlib\n",
    "import matplotlib.pyplot as plt \n",
    "import numpy as np\n",
    "import pandas as pd\n",
    "import os\n",
    "import umap\n",
    "import datashader as ds\n",
    "import colorcet as cc\n",
    "\n",
    "from dredFISH.Analysis import TissueGraph\n",
    "from dredFISH.Visualization import Viz\n",
    "from dredFISH.Utils.__init__plots import * \n",
    "from dredFISH.Utils import powerplots\n",
    "import importlib\n",
    "importlib.reload(Viz)\n",
    "importlib.reload(TissueGraph)"
   ]
  },
  {
   "cell_type": "markdown",
   "id": "7128fcc3-ec0c-46cb-a0fb-6fc7ad1e2303",
   "metadata": {
    "tags": []
   },
   "source": [
    "#### Load data"
   ]
  },
  {
   "cell_type": "code",
   "execution_count": null,
   "id": "41a21828-7123-41ff-90f1-ccf15e7e1f70",
   "metadata": {},
   "outputs": [],
   "source": [
    "respath = '/bigstore/GeneralStorage/fangming/projects/dredfish/figures/'"
   ]
  },
  {
   "cell_type": "code",
   "execution_count": null,
   "id": "a3e34f5d-eb05-4bee-a092-3515a72a3f55",
   "metadata": {},
   "outputs": [],
   "source": [
    "basepth = '/bigstore/GeneralStorage/Data/dredFISH/Dataset1'\n",
    "!ls -alhtr $basepth\n",
    "!head $basepth\"/TMG.json\""
   ]
  },
  {
   "cell_type": "code",
   "execution_count": null,
   "id": "58e329f8-3630-4ad4-989f-7a1ced4d71e7",
   "metadata": {},
   "outputs": [],
   "source": [
    "TMG = TissueGraph.TissueMultiGraph(basepath=basepth, \n",
    "                                   redo=False, # load existing \n",
    "                                  )\n",
    "TMG"
   ]
  },
  {
   "cell_type": "code",
   "execution_count": null,
   "id": "4b86cb23-bf8b-401f-905f-dd40dd8e8ee8",
   "metadata": {},
   "outputs": [],
   "source": [
    "# spatial coordinates\n",
    "XY = TMG.Layers[0].XY\n",
    "x, y = XY[:,0], XY[:,1]\n",
    "###\n",
    "x, y = y, x # a temporary hack\n",
    "###\n",
    "\n",
    "# measured basis\n",
    "ftrs_mat = TMG.Layers[0].feature_mat\n",
    "\n",
    "# types\n",
    "\n",
    "# regions"
   ]
  },
  {
   "cell_type": "code",
   "execution_count": null,
   "id": "64161f50-50a3-4d12-b227-28c9887f7d7e",
   "metadata": {},
   "outputs": [],
   "source": [
    "fig, ax = plt.subplots(figsize=(12,8))\n",
    "ax.boxplot(ftrs_mat)\n",
    "# ax.set_ylim([-3,10])\n",
    "plt.show()"
   ]
  },
  {
   "cell_type": "code",
   "execution_count": null,
   "id": "f5e60131-c4d7-4dc2-9017-931c00b62b1b",
   "metadata": {},
   "outputs": [],
   "source": [
    "fig, ax = plt.subplots(figsize=(12,8))\n",
    "ax.boxplot(ftrs_mat)\n",
    "ax.set_ylim([-3,10])\n",
    "plt.show()"
   ]
  },
  {
   "cell_type": "code",
   "execution_count": null,
   "id": "af905cdd-1c9d-4dd7-81fc-a77072bdf08c",
   "metadata": {},
   "outputs": [],
   "source": [
    "%%time\n",
    "fig, axs = plt.subplots(4, 6, figsize=(6*5, 4*4))\n",
    "for i in range(24):\n",
    "    ax = axs.flat[i]\n",
    "    ax.scatter(x, y, c=ftrs_mat[:,i], s=0.5, cmap='jet', vmin=-3, vmax=3)\n",
    "    ax.set_aspect('equal')\n",
    "    ax.axis('off')\n",
    "plt.show()\n",
    "    "
   ]
  },
  {
   "cell_type": "markdown",
   "id": "509c8ee6-8e8e-4ac5-9ba3-dd3b6329e92b",
   "metadata": {},
   "source": [
    "# 24 bits"
   ]
  },
  {
   "cell_type": "code",
   "execution_count": null,
   "id": "bbc3ae87-94a5-405e-86b7-58b6b886bbce",
   "metadata": {},
   "outputs": [],
   "source": [
    "df = pd.DataFrame()\n",
    "df['x'] = x\n",
    "df['y'] = y\n",
    "for i in range(24):\n",
    "    df[f'b{i}'] = ftrs_mat[:,i]\n",
    "df"
   ]
  },
  {
   "cell_type": "code",
   "execution_count": null,
   "id": "1df4ad8c-acd9-45ec-b230-8580918f920d",
   "metadata": {},
   "outputs": [],
   "source": [
    "%%time\n",
    "path = os.path.join(respath, 'basis_space.pdf')\n",
    "P = powerplots.PlotScale(df['x'].max()-df['x'].min(), \n",
    "                         df['y'].max()-df['y'].min(),\n",
    "                         # npxlx=300,\n",
    "                         pxl_scale=20,\n",
    "                        )\n",
    "print(P.npxlx, P.npxly)\n",
    "\n",
    "nx, ny = 6, 4\n",
    "fig, axs = plt.subplots(ny, nx, figsize=(nx*6, ny*5))\n",
    "for i in range(24):\n",
    "    ax = axs.flat[i]\n",
    "    aggdata = ds.Canvas(P.npxlx, P.npxly).points(df, 'x', 'y', agg=ds.mean(f'b{i}'))\n",
    "    ax.imshow(aggdata, origin='lower', aspect='equal', cmap='jet', vmin=-3, vmax=3, interpolation='none')\n",
    "    ax.set_title(f'b{i}', loc='left', y=0.9)\n",
    "    ax.axis('off')\n",
    "fig.subplots_adjust(wspace=0.05, hspace=0)\n",
    "powerplots.savefig_autodate(fig, path)\n",
    "plt.show()"
   ]
  },
  {
   "cell_type": "markdown",
   "id": "8effad1c-29fc-4c89-8863-ef75fd3b04f9",
   "metadata": {},
   "source": [
    "# UMAP across 24 bits"
   ]
  },
  {
   "cell_type": "code",
   "execution_count": null,
   "id": "43b353f4-cd56-471a-83c7-d51d2031ef34",
   "metadata": {},
   "outputs": [],
   "source": [
    "%%time\n",
    "umap_mat = umap.UMAP(n_neighbors=30, min_dist=0.1).fit_transform(ftrs_mat)\n",
    "umap_mat.shape\n"
   ]
  },
  {
   "cell_type": "code",
   "execution_count": null,
   "id": "a4f47998-774c-4df0-ae3d-a72ec3b401cd",
   "metadata": {},
   "outputs": [],
   "source": [
    "df['umap_x'] = umap_mat[:,0]\n",
    "df['umap_y'] = umap_mat[:,1]"
   ]
  },
  {
   "cell_type": "code",
   "execution_count": null,
   "id": "adf890bd-8c22-4ce1-87d8-2b52fde7b059",
   "metadata": {},
   "outputs": [],
   "source": [
    "fig, ax = plt.subplots()\n",
    "ax.scatter(umap_mat[:,0], umap_mat[:,1], s=0.1)\n",
    "ax.axis('off')\n",
    "plt.show()"
   ]
  },
  {
   "cell_type": "code",
   "execution_count": null,
   "id": "b15234ef-d622-42f6-b251-2e18707597e3",
   "metadata": {},
   "outputs": [],
   "source": [
    "%%time\n",
    "x, y = 'umap_x', 'umap_y'\n",
    "path = os.path.join(respath, 'basis_umap.pdf')\n",
    "P = powerplots.PlotScale(df[x].max()-df[x].min(), \n",
    "                         df[y].max()-df[y].min(),\n",
    "                         npxlx=300,\n",
    "                        )\n",
    "print(P.npxlx, P.npxly)\n",
    "\n",
    "nx, ny = 6, 4\n",
    "fig, axs = plt.subplots(ny, nx, figsize=(nx*5, ny*4))\n",
    "for i in range(24):\n",
    "    ax = axs.flat[i]\n",
    "    aggdata = ds.Canvas(P.npxlx, P.npxly).points(df, x, y, agg=ds.mean(f'b{i}'))\n",
    "    ax.imshow(aggdata, origin='lower', aspect='equal', cmap='jet', vmin=-3, vmax=3, interpolation='none')\n",
    "    ax.set_title(f'b{i}', loc='left', y=0.9)\n",
    "    ax.axis('off')\n",
    "fig.subplots_adjust(wspace=0.05, hspace=0.1)\n",
    "powerplots.savefig_autodate(fig, path)\n",
    "plt.show()"
   ]
  },
  {
   "cell_type": "markdown",
   "id": "1145e355-c271-406f-9ddc-c18ed3f254e1",
   "metadata": {},
   "source": [
    "# Cell types (Leiden clustering)"
   ]
  },
  {
   "cell_type": "code",
   "execution_count": null,
   "id": "f00b88ae-016f-46a7-b8ce-5278ece8f1fc",
   "metadata": {},
   "outputs": [],
   "source": []
  },
  {
   "cell_type": "code",
   "execution_count": null,
   "id": "e994fc7e-26c1-4d81-8ff5-57403b3adcf3",
   "metadata": {},
   "outputs": [],
   "source": []
  },
  {
   "cell_type": "markdown",
   "id": "e363ebe1-7813-4bba-a53e-8970ec49112b",
   "metadata": {},
   "source": [
    "# Local env (Isozones)\n",
    "- same cell type zones\n",
    "- instead quantify the nearest neighbors of the same cell type"
   ]
  },
  {
   "cell_type": "code",
   "execution_count": null,
   "id": "87d4e089-f3dd-4ec3-b320-92d74a883a0f",
   "metadata": {},
   "outputs": [],
   "source": []
  },
  {
   "cell_type": "markdown",
   "id": "5155a042-19f2-4b4f-9bf2-2be7867d6cbb",
   "metadata": {},
   "source": [
    "# Local env (brain regions)"
   ]
  },
  {
   "cell_type": "code",
   "execution_count": null,
   "id": "a4b73726-f867-431c-beda-d455e6218d08",
   "metadata": {},
   "outputs": [],
   "source": []
  }
 ],
 "metadata": {
  "kernelspec": {
   "display_name": "Python 3 (ipykernel)",
   "language": "python",
   "name": "python3"
  },
  "language_info": {
   "codemirror_mode": {
    "name": "ipython",
    "version": 3
   },
   "file_extension": ".py",
   "mimetype": "text/x-python",
   "name": "python",
   "nbconvert_exporter": "python",
   "pygments_lexer": "ipython3",
   "version": "3.10.2"
  }
 },
 "nbformat": 4,
 "nbformat_minor": 5
}
