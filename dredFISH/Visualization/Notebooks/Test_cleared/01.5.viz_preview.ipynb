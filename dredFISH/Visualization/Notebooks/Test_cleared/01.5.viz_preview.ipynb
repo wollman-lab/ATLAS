{
 "cells": [
  {
   "cell_type": "code",
   "execution_count": null,
   "id": "b6b73bd4-0ecc-4811-9a80-53090a45dce5",
   "metadata": {},
   "outputs": [],
   "source": [
    "import numpy as np\n",
    "from dredFISH.Analysis import TissueGraph\n",
    "from dredFISH.Visualization import viz_cell_layer\n",
    "\n",
    "import importlib\n",
    "importlib.reload(viz_cell_layer)"
   ]
  },
  {
   "cell_type": "code",
   "execution_count": null,
   "id": "41a21828-7123-41ff-90f1-ccf15e7e1f70",
   "metadata": {},
   "outputs": [],
   "source": [
    "# Path\n",
    "basepth = '/bigstore/GeneralStorage/Data/dredFISH/Dataset1-t3'\n",
    "\n",
    "# load TMG - with cell layer obs only\n",
    "TMG = TissueGraph.TissueMultiGraph(basepath=basepth, \n",
    "                                   redo=False, # load existing \n",
    "                                   quick_load_cell_obs=True,\n",
    "                                  )\n",
    "\n",
    "# spatial coordinates\n",
    "layer = TMG.Layers[0]\n",
    "XY = layer.XY\n",
    "x, y = XY[:,0], XY[:,1]\n",
    "\n",
    "#### a temporary hack\n",
    "x, y = y, x \n",
    "XY = np.vstack([x,y]).T\n",
    "###"
   ]
  },
  {
   "cell_type": "code",
   "execution_count": null,
   "id": "9675f4ea-ba90-4fc1-8569-044a50846dc1",
   "metadata": {},
   "outputs": [],
   "source": [
    "# define a line to split things into hemi-coronal sections\n",
    "split_lines = [\n",
    "    # [(0,0),(1,1)],\n",
    "    [(550, -6000), (200, 2000)],\n",
    "    [(200, 2000), (550, -6000)],\n",
    "    # [(300, 2000), (550, -6000)],\n",
    "]\n",
    "cond, XYnew = viz_cell_layer.preview_hemisphere(split_lines, XY=XY)"
   ]
  },
  {
   "cell_type": "code",
   "execution_count": null,
   "id": "d5f4edbe-c55e-4391-b096-198b655c2ac8",
   "metadata": {},
   "outputs": [],
   "source": []
  }
 ],
 "metadata": {
  "kernelspec": {
   "display_name": "Python 3 (ipykernel)",
   "language": "python",
   "name": "python3"
  },
  "language_info": {
   "codemirror_mode": {
    "name": "ipython",
    "version": 3
   },
   "file_extension": ".py",
   "mimetype": "text/x-python",
   "name": "python",
   "nbconvert_exporter": "python",
   "pygments_lexer": "ipython3",
   "version": "3.10.2"
  }
 },
 "nbformat": 4,
 "nbformat_minor": 5
}
