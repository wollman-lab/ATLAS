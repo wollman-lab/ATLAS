{
 "cells": [
  {
   "cell_type": "code",
   "execution_count": null,
   "id": "b6b73bd4-0ecc-4811-9a80-53090a45dce5",
   "metadata": {},
   "outputs": [],
   "source": [
    "import matplotlib\n",
    "import matplotlib.pyplot as plt \n",
    "import numpy as np\n",
    "import pandas as pd\n",
    "import os\n",
    "import umap\n",
    "import datashader as ds\n",
    "import colorcet as cc\n",
    "import igraph\n",
    "import tqdm\n",
    "from scipy import sparse\n",
    "import pandas as pd\n",
    "from sklearn.neighbors import NearestNeighbors\n",
    "from sklearn.decomposition import LatentDirichletAllocation\n",
    "from sklearn.cluster import KMeans\n",
    "\n",
    "from matplotlib.collections import PolyCollection\n",
    "from matplotlib.colors import ListedColormap\n",
    "\n",
    "from dredFISH.Analysis import TissueGraph\n",
    "from dredFISH.Visualization import Viz\n",
    "from dredFISH.Utils.__init__plots import * \n",
    "from dredFISH.Utils import powerplots\n",
    "from dredFISH.Utils import miscu\n",
    "from dredFISH.Utils import tmgu\n",
    "\n",
    "import importlib\n",
    "importlib.reload(Viz)\n",
    "importlib.reload(TissueGraph)"
   ]
  },
  {
   "cell_type": "markdown",
   "id": "7128fcc3-ec0c-46cb-a0fb-6fc7ad1e2303",
   "metadata": {
    "tags": []
   },
   "source": [
    "#### Load data"
   ]
  },
  {
   "cell_type": "code",
   "execution_count": null,
   "id": "41a21828-7123-41ff-90f1-ccf15e7e1f70",
   "metadata": {},
   "outputs": [],
   "source": [
    "respath = '/bigstore/GeneralStorage/fangming/projects/dredfish/figures/'"
   ]
  },
  {
   "cell_type": "code",
   "execution_count": null,
   "id": "a3e34f5d-eb05-4bee-a092-3515a72a3f55",
   "metadata": {},
   "outputs": [],
   "source": [
    "basepth = '/bigstore/GeneralStorage/Data/dredFISH/Dataset1'\n",
    "!ls -alhtr $basepth\n",
    "!head $basepth\"/TMG.json\""
   ]
  },
  {
   "cell_type": "code",
   "execution_count": null,
   "id": "cfe2e9d5-b693-46f6-a5af-d99e5c2884c4",
   "metadata": {},
   "outputs": [],
   "source": [
    "df = pd.read_csv(\n",
    "    os.path.join(basepth, \"analysis_dev.csv\"))\n",
    "df"
   ]
  },
  {
   "cell_type": "code",
   "execution_count": null,
   "id": "58e329f8-3630-4ad4-989f-7a1ced4d71e7",
   "metadata": {},
   "outputs": [],
   "source": [
    "TMG = TissueGraph.TissueMultiGraph(basepath=basepth, \n",
    "                                   redo=False, # load existing \n",
    "                                  )"
   ]
  },
  {
   "cell_type": "code",
   "execution_count": null,
   "id": "6bd9a5a5-8ad3-4db0-8707-1ef83c02c4eb",
   "metadata": {},
   "outputs": [],
   "source": [
    "def get_local_typeabundance(SG, types):\n",
    "    \"\"\"\n",
    "    SG - a spatial neighborhood graph (undirected)\n",
    "    types - type labels on the nodes\n",
    "    \n",
    "    return - relative abundace of tyepes for each node\n",
    "    \"\"\"\n",
    "    # regions\n",
    "    edges = np.asarray(SG.get_edgelist()) \n",
    "    ctg, ctg_idx = np.unique(types, return_inverse=True) \n",
    "\n",
    "    # once\n",
    "    i = edges[:,0] # cells\n",
    "    j = ctg_idx[edges[:,1]] # types it connects\n",
    "    dat = np.repeat(1, len(i))\n",
    "    \n",
    "    # twice\n",
    "    i2 = edges[:,1] # cells\n",
    "    j2 = ctg_idx[edges[:,0]] # types it connects\n",
    "    dat2 = np.repeat(1, len(i2))\n",
    "    \n",
    "    # merge\n",
    "    i = np.hstack([i,i2])\n",
    "    j = np.hstack([j,j2])\n",
    "    dat = np.hstack([dat, dat2])\n",
    "\n",
    "    # count\n",
    "    env_mat = sparse.coo_matrix((dat, (i,j)), shape=(N, len(ctg))).toarray() # dense\n",
    "    env_mat = env_mat/env_mat.sum(axis=1).reshape(-1,1)\n",
    "    env_mat = np.nan_to_num(env_mat, 0)\n",
    "    \n",
    "    return env_mat"
   ]
  },
  {
   "cell_type": "code",
   "execution_count": null,
   "id": "4b86cb23-bf8b-401f-905f-dd40dd8e8ee8",
   "metadata": {},
   "outputs": [],
   "source": [
    "# spatial coordinates\n",
    "layer = TMG.Layers[0]\n",
    "XY = layer.XY\n",
    "x, y = XY[:,0], XY[:,1]\n",
    "###\n",
    "x, y = y, x # a temporary hack\n",
    "###\n",
    "\n",
    "cells = layer.adata.obs.index.values\n",
    "\n",
    "N = layer.N\n",
    "# measured basis\n",
    "ftrs_mat = layer.feature_mat\n",
    "\n",
    "# umap_mat = umap.UMAP(n_neighbors=30, min_dist=0.1).fit_transform(ftrs_mat)\n",
    "\n",
    "# types\n",
    "types = df['type_r0.1'].values\n",
    "# local env\n",
    "env_mat = get_local_typeabundance(layer.SG, types)"
   ]
  },
  {
   "cell_type": "code",
   "execution_count": null,
   "id": "d7e0c1e4-2570-4260-9edc-b47ebeb559c9",
   "metadata": {},
   "outputs": [],
   "source": [
    "%%time\n",
    "# region types\n",
    "k_kms = [5, 10] #[2,5,10,20,50,100]\n",
    "for k_km in tqdm.tqdm(k_kms):\n",
    "    kmeans = KMeans(n_clusters=k_km, random_state=1)\n",
    "    reg_clsts = kmeans.fit_predict(env_mat)\n",
    "    df[f'type_reg_k{k_km}'] = np.char.add('t', np.array(reg_clsts).astype(str))"
   ]
  },
  {
   "cell_type": "code",
   "execution_count": null,
   "id": "93aaa5b5-468b-4a67-bb4f-f5f1b12c92d3",
   "metadata": {},
   "outputs": [],
   "source": [
    "for k_km in k_kms:\n",
    "    hue = f'type_reg_k{k_km}'\n",
    "    hue_order = np.sort(np.unique(df[hue]))\n",
    "    ntypes = len(hue_order)\n",
    "\n",
    "    fig, axs = plt.subplots(1, 2, figsize=(8*2,6))\n",
    "    fig.suptitle(f\"{hue}; n={ntypes}\")\n",
    "    ax = axs[0]\n",
    "    sns.scatterplot(data=df, x='x', y='y', \n",
    "                    hue=hue, hue_order=hue_order, \n",
    "                    s=0.5, edgecolor=None, \n",
    "                    legend=False,\n",
    "                    ax=ax)\n",
    "    # ax.legend(loc='upper left', bbox_to_anchor=(0, -0.1), ncol=5)\n",
    "    ax.set_aspect('equal')\n",
    "    ax.axis('off')\n",
    "\n",
    "    ax = axs[1]\n",
    "    sns.scatterplot(data=df, x='umap_x', y='umap_y', \n",
    "                    hue=hue, hue_order=hue_order, \n",
    "                    s=0.5, edgecolor=None, \n",
    "                    legend=False,\n",
    "                    ax=ax)\n",
    "    # ax.legend(loc='upper left', bbox_to_anchor=(0, -0.1), ncol=5)\n",
    "    ax.set_aspect('equal')\n",
    "    ax.axis('off')\n",
    "    fig.subplots_adjust(wspace=0)\n",
    "    plt.show()"
   ]
  },
  {
   "cell_type": "markdown",
   "id": "d0f02a0a-3974-4698-807f-949952c3eb05",
   "metadata": {
    "tags": []
   },
   "source": [
    "# Get from region types to regions; and visualize region boundaries "
   ]
  },
  {
   "cell_type": "code",
   "execution_count": null,
   "id": "24bbc845-d4e3-4be3-8406-7af1ddf6d81f",
   "metadata": {},
   "outputs": [],
   "source": [
    "def plot_poly(TMG, ctg_idx, ctg_colors):\n",
    "    \"\"\"\n",
    "    each cell has a polygon to be colored by categories\n",
    "    - ctg_idx: category assigments of cells\n",
    "    - ctg_colors: color assignment of categories\n",
    "    \"\"\"\n",
    "    polys = TMG.Geoms[0]['poly'] #) #) #[0]\n",
    "    bdbox = np.array(TMG.Geoms[0]['BoundingBox'].exterior.xy).T\n",
    "\n",
    "    # a hack\n",
    "    polys = [np.vstack([poly[:,1], poly[:,0]]).T for poly in polys]\n",
    "    bdbox = np.array(np.vstack([bdbox[:,1], bdbox[:,0]])).T\n",
    "    # end of the hack\n",
    "\n",
    "    mx = np.max(bdbox,axis=0)\n",
    "    mn = np.min(bdbox,axis=0)\n",
    "    \n",
    "    fig, ax = plt.subplots(figsize=(12,10))\n",
    "    p = PolyCollection(polys, edgecolors=('none'), cmap=ListedColormap(ctg_colors)) # cmap=self.clrmp)\n",
    "    p.set_array(ctg_idx)\n",
    "\n",
    "    ax.add_collection(p)\n",
    "    ax.set_aspect('equal') #, 'box')\n",
    "    ax.set_xlim([mn[0],mx[0]])\n",
    "    ax.set_ylim([mn[1],mx[1]])\n",
    "    ax.axis('off')\n",
    "    ax.set_title(f\"n={len(ctg_colors)} region types\")\n",
    "    \n",
    "    plt.show()"
   ]
  },
  {
   "cell_type": "code",
   "execution_count": null,
   "id": "89bfd2ae-a07a-41eb-bbca-c57f101a9938",
   "metadata": {},
   "outputs": [],
   "source": [
    "def get_zone_from_types(SG, type_of_cells):\n",
    "    \"\"\"\n",
    "    \"\"\"\n",
    "    N = len(type_of_cells)\n",
    "    \n",
    "    # trim edges -- remove connects from diffent types\n",
    "    edges = np.asarray(SG.get_edgelist())\n",
    "    edges_bytype = type_of_cells[edges]\n",
    "    edges_sametype = edges[edges_bytype[:,0]==edges_bytype[:,1]]\n",
    "\n",
    "    # get components (same type and spatially connected); each component is assigned an index\n",
    "    zones = igraph.Graph(n=N, edges=edges_sametype, directed=False)\n",
    "    zone_of_cells = np.asarray(zones.components().membership)\n",
    "\n",
    "    return zone_of_cells"
   ]
  },
  {
   "cell_type": "code",
   "execution_count": null,
   "id": "dae4b1d2-2248-4369-baf6-123ec6577b88",
   "metadata": {},
   "outputs": [],
   "source": [
    "def remove_small_zones(SG, type_of_cells, th=2):\n",
    "    \"\"\"\n",
    "    \"\"\"\n",
    "    # cell -> zone (continuity)\n",
    "    zone_of_cells = get_zone_from_types(SG, type_of_cells)\n",
    "    # zone stats\n",
    "    unq_zones, idx, invs, cnts, = np.unique(zone_of_cells, return_index=True, return_inverse=True, return_counts=True)\n",
    "    # zone -> types (reindexing)\n",
    "    type_of_zones = type_of_cells[idx]\n",
    "    # # sanity check\n",
    "    # print(unq_zones.shape, idx.shape, invs.shape, cnts.shape)\n",
    "    # print(np.all(unq_zones[invs] == zone_of_cells)) # use invs to recover the original\n",
    "    # print(np.all(type_of_zones[zone_of_cells] == type_of_cells))\n",
    "    # print(type_of_cells.shape, zone_of_cells.shape, type_of_zones.shape)\n",
    "    \n",
    "    # cell graph to zone graph\n",
    "    ZSG = SG.copy()\n",
    "    ZSG.contract_vertices(zone_of_cells)\n",
    "    ZSG.simplify()\n",
    "\n",
    "    # trim to edges between bad and good\n",
    "    zsg_edges = np.asarray(ZSG.get_edgelist())\n",
    "    zsg_edges_bytype = cnts[zsg_edges] <= th\n",
    "    zsg_edges_difftype = zsg_edges[np.logical_xor(zsg_edges_bytype[:,0], zsg_edges_bytype[:,1])]\n",
    "\n",
    "    # sanity check\n",
    "    print(np.all(np.sum(cnts[zsg_edges_difftype] <= th, axis=1) == 1))\n",
    "\n",
    "    # edges with the second node bad are swapped to the first\n",
    "    e1, e2 = zsg_edges_difftype[:,0].copy(), zsg_edges_difftype[:,1].copy()\n",
    "    cond = cnts[e2]<=th # e2 is bad\n",
    "    e1sub, e2sub = e1[cond], e2[cond]\n",
    "    idxsub = np.arange(len(e1))[cond]\n",
    "    np.put(e1, idxsub, e2sub)\n",
    "    np.put(e2, idxsub, e1sub)\n",
    "\n",
    "    # # sanity check\n",
    "    # print(np.all(cnts[e1]<=th), np.sum(cnts[e2]<=th))\n",
    "\n",
    "    # uniq\n",
    "    e1u, e1ui = np.unique(e1, return_index=True)\n",
    "    e2u = e2[e1ui]\n",
    "\n",
    "    zone_remap = pd.Series(e2u, index=e1u)\n",
    "    zones_u = zone_remap.reindex(unq_zones).fillna(pd.Series(unq_zones)).astype(int)\n",
    "    type_of_zones_u = type_of_zones[zones_u.values]\n",
    "    type_of_cells_u = type_of_zones_u[zone_of_cells]\n",
    "    \n",
    "    return type_of_cells_u"
   ]
  },
  {
   "cell_type": "code",
   "execution_count": null,
   "id": "744525a9-1e65-4451-846d-cfa0181a5933",
   "metadata": {},
   "outputs": [],
   "source": [
    "k_km = 10\n",
    "region_types = df[f'type_reg_k{k_km}'].values\n",
    "ctg, ctg_idx = np.unique(region_types, return_inverse=True)\n",
    "colors = sns.color_palette(\"Set2\", len(ctg))\n",
    "colors"
   ]
  },
  {
   "cell_type": "code",
   "execution_count": null,
   "id": "a3908921-9308-4228-927e-cd565b14df78",
   "metadata": {},
   "outputs": [],
   "source": [
    "plot_poly(TMG, ctg_idx, colors)"
   ]
  },
  {
   "cell_type": "code",
   "execution_count": null,
   "id": "e3970cd3-3614-41fb-bd0d-4bd3f889ed21",
   "metadata": {},
   "outputs": [],
   "source": [
    "# cell -> zone (continuity)\n",
    "SG = layer.SG\n",
    "region_zones = get_zone_from_types(SG, region_types)\n",
    "# count\n",
    "unq_zones, idx, invs, cnts, = np.unique(region_zones, return_index=True, return_inverse=True, return_counts=True)"
   ]
  },
  {
   "cell_type": "code",
   "execution_count": null,
   "id": "578cff68-79e7-4d5e-867b-c7226f4ad1df",
   "metadata": {},
   "outputs": [],
   "source": [
    "th = 2\n",
    "\n",
    "fig, ax = plt.subplots()\n",
    "ax.plot(np.log10(np.sort(cnts)))\n",
    "ax.axhline(np.log10(th), linestyle='--', color='k')\n",
    "ax.text(0, np.log10(th*1.3), f\"n={th}\")\n",
    "ax.set_xlabel('zones')\n",
    "ax.set_ylabel('log10(# cells in zone)')"
   ]
  },
  {
   "cell_type": "code",
   "execution_count": null,
   "id": "0ef648e8-91b6-4de8-96a6-c94de2ac9fe4",
   "metadata": {},
   "outputs": [],
   "source": [
    "th = 2\n",
    "binary_types = cnts[invs] > th\n",
    "ctg, ctg_idx = np.unique(binary_types, return_inverse=True)\n",
    "colors = sns.color_palette(\"tab10\", len(ctg))\n",
    "colors\n",
    "\n",
    "plot_poly(TMG, ctg_idx, colors)"
   ]
  },
  {
   "cell_type": "code",
   "execution_count": null,
   "id": "f6a23f4f-b683-444b-81bc-8cf170af987a",
   "metadata": {},
   "outputs": [],
   "source": [
    "# update region_types\n",
    "region_types_u = remove_small_zones(SG, region_types, th=2)\n",
    "\n",
    "# cell -> zone (continuity)\n",
    "region_zones_u = get_zone_from_types(SG, region_types_u)\n",
    "# count\n",
    "unq_zones_u, idx_u, invs_u, cnts_u, = np.unique(region_zones_u, return_index=True, return_inverse=True, return_counts=True)"
   ]
  },
  {
   "cell_type": "code",
   "execution_count": null,
   "id": "4194e5b5-cbbb-4b57-868d-6c0cde2eac97",
   "metadata": {},
   "outputs": [],
   "source": [
    "ctg_u, ctg_idx_u = np.unique(region_types_u, return_inverse=True)\n",
    "colors_u = sns.color_palette(\"Set2\", len(ctg_u))\n",
    "colors_u"
   ]
  },
  {
   "cell_type": "code",
   "execution_count": null,
   "id": "e1d45343-a4d3-412e-98fb-c878268e4f5e",
   "metadata": {},
   "outputs": [],
   "source": [
    "plot_poly(TMG, ctg_idx_u, colors_u)"
   ]
  },
  {
   "cell_type": "code",
   "execution_count": null,
   "id": "9ea4b905-d10e-4e42-b2e7-bbf176891bd6",
   "metadata": {},
   "outputs": [],
   "source": [
    "fig, ax = plt.subplots()\n",
    "ax.plot(np.log10(np.sort(cnts_u)))\n",
    "# ax.axhline(np.log10(th), linestyle='--', color='k')\n",
    "ax.text(0, np.log10(th*1.3), f\"n={th}\")\n",
    "ax.set_xlabel('zones')\n",
    "ax.set_ylabel('log10(# cells in zone)')"
   ]
  },
  {
   "cell_type": "code",
   "execution_count": null,
   "id": "25964c3e-2789-415a-b202-825aaff49221",
   "metadata": {},
   "outputs": [],
   "source": [
    "th = 2\n",
    "binary_types = cnts_u[invs_u] > th\n",
    "ctg, ctg_idx = np.unique(binary_types, return_inverse=True)\n",
    "colors = sns.color_palette(\"tab10\", len(ctg))\n",
    "colors\n",
    "\n",
    "plot_poly(TMG, ctg_idx, colors)"
   ]
  },
  {
   "cell_type": "code",
   "execution_count": null,
   "id": "bd8c6f3c-df20-4286-9f7c-15202198c9ba",
   "metadata": {},
   "outputs": [],
   "source": []
  }
 ],
 "metadata": {
  "kernelspec": {
   "display_name": "Python 3 (ipykernel)",
   "language": "python",
   "name": "python3"
  },
  "language_info": {
   "codemirror_mode": {
    "name": "ipython",
    "version": 3
   },
   "file_extension": ".py",
   "mimetype": "text/x-python",
   "name": "python",
   "nbconvert_exporter": "python",
   "pygments_lexer": "ipython3",
   "version": "3.10.2"
  }
 },
 "nbformat": 4,
 "nbformat_minor": 5
}
