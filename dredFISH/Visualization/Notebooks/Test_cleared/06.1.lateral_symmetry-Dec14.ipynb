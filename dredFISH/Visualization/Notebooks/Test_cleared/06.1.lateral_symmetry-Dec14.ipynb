{
 "cells": [
  {
   "cell_type": "code",
   "execution_count": null,
   "id": "b6b73bd4-0ecc-4811-9a80-53090a45dce5",
   "metadata": {},
   "outputs": [],
   "source": [
    "import matplotlib\n",
    "import matplotlib.pyplot as plt \n",
    "import numpy as np\n",
    "import pandas as pd\n",
    "import os\n",
    "import umap\n",
    "import datashader as ds\n",
    "import colorcet as cc\n",
    "import igraph\n",
    "import tqdm\n",
    "from scipy import sparse\n",
    "from scipy import stats\n",
    "import pandas as pd\n",
    "from sklearn.neighbors import NearestNeighbors\n",
    "from sklearn.decomposition import LatentDirichletAllocation\n",
    "from statsmodels.stats.multitest import multipletests\n",
    "from sklearn.cluster import KMeans\n",
    "from scipy.spatial import Delaunay\n",
    "import json\n",
    "import itertools\n",
    "import pynndescent\n",
    "import time\n",
    "from sklearn.svm import SVC\n",
    "from sklearn import metrics\n",
    "\n",
    "from matplotlib.collections import PolyCollection\n",
    "from matplotlib.colors import ListedColormap\n",
    "\n",
    "from dredFISH.Analysis import TissueGraph\n",
    "from dredFISH.Visualization import Viz\n",
    "from dredFISH.Utils.__init__plots import * \n",
    "from dredFISH.Utils import powerplots\n",
    "from dredFISH.Utils import miscu\n",
    "from dredFISH.Utils import tmgu\n",
    "from dredFISH.Utils import basicu\n",
    "\n",
    "import importlib\n",
    "importlib.reload(Viz)\n",
    "importlib.reload(TissueGraph)\n",
    "importlib.reload(powerplots)"
   ]
  },
  {
   "cell_type": "markdown",
   "id": "7128fcc3-ec0c-46cb-a0fb-6fc7ad1e2303",
   "metadata": {
    "tags": []
   },
   "source": [
    "#### Load data"
   ]
  },
  {
   "cell_type": "code",
   "execution_count": null,
   "id": "41a21828-7123-41ff-90f1-ccf15e7e1f70",
   "metadata": {},
   "outputs": [],
   "source": [
    "respath = '/bigstore/GeneralStorage/fangming/projects/dredfish/figures/'"
   ]
  },
  {
   "cell_type": "code",
   "execution_count": null,
   "id": "a3e34f5d-eb05-4bee-a092-3515a72a3f55",
   "metadata": {},
   "outputs": [],
   "source": [
    "basepth = '/bigstore/GeneralStorage/Data/dredFISH/DPNMF-FR_R1_4A_UC_R2_5C_2022Nov27_Dec12_strip_tol/DPNMF-FR_R1_4A_UC_R2_5C_2022Nov27_Section5_total'\n",
    "!ls -alhtr $basepth\n",
    "!head $basepth\"/TMG.json\""
   ]
  },
  {
   "cell_type": "code",
   "execution_count": null,
   "id": "cfe2e9d5-b693-46f6-a5af-d99e5c2884c4",
   "metadata": {},
   "outputs": [],
   "source": [
    "df = pd.read_csv(\n",
    "    os.path.join(basepth, \"default_analysis.csv\"), index_col=0)\n",
    "df"
   ]
  },
  {
   "cell_type": "code",
   "execution_count": null,
   "id": "58e329f8-3630-4ad4-989f-7a1ced4d71e7",
   "metadata": {},
   "outputs": [],
   "source": [
    "TMG = TissueGraph.TissueMultiGraph(basepath=basepth, \n",
    "                                   redo=False, # load existing \n",
    "                                   quick_load_cell_obs=True,\n",
    "                                  )"
   ]
  },
  {
   "cell_type": "code",
   "execution_count": null,
   "id": "4b86cb23-bf8b-401f-905f-dd40dd8e8ee8",
   "metadata": {},
   "outputs": [],
   "source": [
    "# spatial coordinates\n",
    "layer = TMG.Layers[0]\n",
    "XY = layer.XY\n",
    "x, y = XY[:,0], XY[:,1]\n",
    "\n",
    "cells = layer.adata.obs.index.values\n",
    "\n",
    "N = layer.N\n",
    "# measured basis\n",
    "ftrs_mat = layer.feature_mat\n",
    "\n",
    "# umap_mat = umap.UMAP(n_neighbors=30, min_dist=0.1).fit_transform(ftrs_mat)\n",
    "\n",
    "\n"
   ]
  },
  {
   "cell_type": "markdown",
   "id": "6d038844-f180-474b-9b4d-b16ad4d89068",
   "metadata": {
    "tags": []
   },
   "source": [
    "# Lateral symmetry measure"
   ]
  },
  {
   "cell_type": "code",
   "execution_count": null,
   "id": "ac04aff7-3cd5-45b4-bcc9-7d4fa271c94b",
   "metadata": {},
   "outputs": [],
   "source": [
    "def build_feature_graph_knnlite(ftrs_mat, k=15, metric='cosine'):\n",
    "    \"\"\"\n",
    "    \"\"\"\n",
    "    N = len(ftrs_mat)\n",
    "    \n",
    "    # kNN graph\n",
    "    knn = pynndescent.NNDescent(ftrs_mat,\n",
    "                                n_neighbors=k,\n",
    "                                metric=metric,\n",
    "                                diversify_prob=1,\n",
    "                                pruning_degree_multiplier=1.5,\n",
    "                                )\n",
    "    idx, _ = knn.neighbor_graph\n",
    "\n",
    "    # to adj and to graph\n",
    "    i = np.repeat(np.arange(N), k-1)\n",
    "    j = idx[:,1:].reshape(-1,)\n",
    "    adj_mat = sparse.coo_matrix((np.repeat(1, len(i)), (i,j)), shape=(N,N))\n",
    "    G = tmgu.adjacency_to_igraph(adj_mat, directed=False, simplify=True)\n",
    "    \n",
    "    return G"
   ]
  },
  {
   "cell_type": "code",
   "execution_count": null,
   "id": "e0b0aeab-daf2-4496-8a10-70759aef600c",
   "metadata": {},
   "outputs": [],
   "source": [
    "# # from meta\n",
    "# f = '/bigstore/GeneralStorage/fangming/projects/dredfish/data_dump/analysis_meta_Mar31.json'\n",
    "# with open(f, 'r') as fh:\n",
    "#     meta = json.load(fh)"
   ]
  },
  {
   "cell_type": "code",
   "execution_count": null,
   "id": "90b48500-4e56-41da-9aea-39da5dd77910",
   "metadata": {},
   "outputs": [],
   "source": [
    "df_h1 = df[df['hemi']==0].copy()\n",
    "df_h2 = df[df['hemi']==1].copy()\n",
    "\n",
    "# separate cells h1 and h2\n",
    "cells_h1 = df.index[df['hemi'] == 0].values\n",
    "cells_h2 = df.index[df['hemi'] == 1].values\n",
    "print(df_h1.shape, df_h2.shape)"
   ]
  },
  {
   "cell_type": "code",
   "execution_count": null,
   "id": "13dd2e47-3e17-4737-9e71-5716cac91692",
   "metadata": {},
   "outputs": [],
   "source": [
    "%%time\n",
    "ftrs_mat_h1 = ftrs_mat[cells_h1]\n",
    "G_h1 = build_feature_graph_knnlite(ftrs_mat_h1, k=15, metric='cosine')\n",
    "\n",
    "ftrs_mat_h2 = ftrs_mat[cells_h2]\n",
    "G_h2 = build_feature_graph_knnlite(ftrs_mat_h2, k=15, metric='cosine')"
   ]
  },
  {
   "cell_type": "code",
   "execution_count": null,
   "id": "ff9bde0d-a2d2-4817-a693-757ccc3e12e0",
   "metadata": {},
   "outputs": [],
   "source": [
    "# clustering half-and-half\n",
    "resolutions = [0.01, 0.02, 0.05, 0.1, 0.2, 0.5, 1,2,5,10]\n",
    "clst_mat_h1 = []\n",
    "clst_mat_h2 = []\n",
    "for i, r in tqdm.tqdm(enumerate(resolutions)):\n",
    "    #\n",
    "    types_h1 = miscu.leiden(G_h1, cells_h1, resolution=r)\n",
    "    types_h2 = miscu.leiden(G_h2, cells_h2, resolution=r)\n",
    "    \n",
    "    # add to a df \n",
    "    df_h1[f'type_r{r}'] = np.char.add('t', np.array(types_h1).astype(str))\n",
    "    df_h2[f'type_r{r}'] = np.char.add('t', np.array(types_h2).astype(str))\n",
    "    clst_mat_h1.append(types_h1)\n",
    "    clst_mat_h2.append(types_h2)\n",
    "    \n",
    "    \n",
    "clst_mat_h1 = np.array(clst_mat_h1)\n",
    "clst_mat_h2 = np.array(clst_mat_h2)"
   ]
  },
  {
   "cell_type": "code",
   "execution_count": null,
   "id": "17686401-09c2-4687-b93a-54b1ff9d6999",
   "metadata": {},
   "outputs": [],
   "source": [
    "for i, r in enumerate(resolutions):\n",
    "    hue = f'type_r{r}'\n",
    "    output = None\n",
    "    powerplots.plot_type_spatial_umap(df_h1, hue, output=output)\n",
    "    powerplots.plot_type_spatial_umap(df_h2, hue, output=output)\n",
    "    \n",
    "    # break"
   ]
  },
  {
   "cell_type": "code",
   "execution_count": null,
   "id": "9a6315f1-9c42-4136-a06e-a643d262324e",
   "metadata": {},
   "outputs": [],
   "source": [
    "# # matching the other half (across modality)\n",
    "\n",
    "\n",
    "# N = len(ftrs_mat)\n",
    "\n",
    "# # kNN graph\n",
    "# knn = pynndescent.NNDescent(ftrs_mat_h1,\n",
    "#                             n_neighbors=15,\n",
    "#                             # metric='cosine',\n",
    "#                             metric='euclidean',\n",
    "#                             diversify_prob=1,\n",
    "#                             pruning_degree_multiplier=1.5,\n",
    "#                             )\n",
    "# idx, _ = knn.neighbor_graph\n",
    "\n",
    "# # # to adj and to graph\n",
    "# # i = np.repeat(np.arange(N), k-1)\n",
    "# # j = idx[:,1:].reshape(-1,)\n",
    "# # adj_mat = sparse.coo_matrix((np.repeat(1, len(i)), (i,j)), shape=(N,N))\n",
    "# # G = tmgu.adjacency_to_igraph(adj_mat, directed=False, simplify=True)\n"
   ]
  },
  {
   "cell_type": "code",
   "execution_count": null,
   "id": "4bd11fb3-e07a-4156-b2c7-6a515f129359",
   "metadata": {},
   "outputs": [],
   "source": [
    "def mapping_types(\n",
    "    ftrs_source,  \n",
    "    types_source,\n",
    "    ftrs_target,\n",
    "    ):\n",
    "    \"\"\"\n",
    "    Uses SVM -- a bit slow\n",
    "    can we get faster implementation using bi-partite graph?\n",
    "    \"\"\"\n",
    "    if len(np.unique(types_source)) == 1:\n",
    "        return np.repeat(np.unique(types_source), len(ftrs_target))\n",
    "    \n",
    "    model = SVC(C=1, kernel='rbf')\n",
    "    model.fit(ftrs_source, types_source)\n",
    "    types_target = model.predict(ftrs_target)\n",
    "    \n",
    "    return types_target"
   ]
  },
  {
   "cell_type": "code",
   "execution_count": null,
   "id": "d8961721-255e-4714-8470-6c5521c1e54f",
   "metadata": {},
   "outputs": [],
   "source": [
    "%%time\n",
    "\n",
    "\n",
    "# 20 min long (long for fine resolution)\n",
    "for r in tqdm.tqdm(resolutions):\n",
    "    # predict paired labels for h2 cells using h1 labels\n",
    "    types_h1 = df_h1[f'type_r{r}'].values\n",
    "    ptypes_h2 = mapping_types(ftrs_mat_h1, types_h1, ftrs_mat_h2)\n",
    "    df_h2[f'ptype_r{r}'] = ptypes_h2\n",
    "    \n",
    "    # reverse case\n",
    "    types_h2 = df_h2[f'type_r{r}'].values\n",
    "    ptypes_h1 = mapping_types(ftrs_mat_h2, types_h2, ftrs_mat_h1)\n",
    "    df_h1[f'ptype_r{r}'] = ptypes_h1\n",
    "    "
   ]
  },
  {
   "cell_type": "code",
   "execution_count": null,
   "id": "74e1c8b3-ad12-4280-b7f4-6edecdb5d7b4",
   "metadata": {},
   "outputs": [],
   "source": [
    "for i, r in enumerate(resolutions):\n",
    "    output = None\n",
    "    hue = f'type_r{r}'\n",
    "    powerplots.plot_type_spatial_umap(df_h1, hue, output=output)\n",
    "    hue = f'ptype_r{r}'\n",
    "    powerplots.plot_type_spatial_umap(df_h2, hue, output=output)\n",
    "    \n",
    "    # break"
   ]
  },
  {
   "cell_type": "code",
   "execution_count": null,
   "id": "405809fd-89bf-4add-9c58-297651c58e25",
   "metadata": {},
   "outputs": [],
   "source": [
    "%%time\n",
    "# save the df temporarily so we can develop off of it\n",
    "output = os.path.join(basepth, 'lateral_symm_analysis_h1.csv')\n",
    "df_h1.to_csv(output, header=True, index=True)\n",
    "output = os.path.join(basepth, 'lateral_symm_analysis_h1.csv')\n",
    "df_h2.to_csv(output, header=True, index=True)\n",
    "\n",
    "!head $output | cut -d , -f 25-50"
   ]
  },
  {
   "cell_type": "code",
   "execution_count": null,
   "id": "cf02fb8f-62b0-4d25-afce-8f82ec2b48f9",
   "metadata": {},
   "outputs": [],
   "source": [
    "# organize\n",
    "for r in resolutions:\n",
    "    # h1\n",
    "    col = f'jtype_r{r}_h1'\n",
    "    df[col] = ''\n",
    "    df.loc[df_h1.index, col] = df_h1[f'type_r{r}']\n",
    "    df.loc[df_h2.index, col] = df_h2[f'ptype_r{r}']\n",
    "    \n",
    "    # h2\n",
    "    col = f'jtype_r{r}_h2'\n",
    "    df[col] = ''\n",
    "    df.loc[df_h2.index, col] = df_h2[f'type_r{r}']\n",
    "    df.loc[df_h1.index, col] = df_h1[f'ptype_r{r}']"
   ]
  },
  {
   "cell_type": "code",
   "execution_count": null,
   "id": "77a30a44-211d-42bd-b536-39b5ff7a6ef3",
   "metadata": {},
   "outputs": [],
   "source": [
    "for i, r in enumerate(resolutions):\n",
    "    output = None\n",
    "    hue = f'jtype_r{r}_h1'\n",
    "    powerplots.plot_type_spatial_umap(df, hue, output=output)\n",
    "    # hue = f'jtype_r{r}'\n",
    "    # powerplots.plot_type_spatial_umap(df_h2, hue, output=output)"
   ]
  },
  {
   "cell_type": "code",
   "execution_count": null,
   "id": "49a8013a-fb00-4a38-b689-a5d19faa4ed3",
   "metadata": {},
   "outputs": [],
   "source": [
    "for i, r in enumerate(resolutions):\n",
    "    output = None\n",
    "    hue = f'type_r{r}'\n",
    "    powerplots.plot_type_spatial_umap(df, hue, output=output)\n",
    "    # hue = f'jtype_r{r}'\n",
    "    # powerplots.plot_type_spatial_umap(df_h2, hue, output=output)"
   ]
  },
  {
   "cell_type": "markdown",
   "id": "ad904ced-e4e9-44dc-81d7-10217f02b030",
   "metadata": {},
   "source": [
    "# Lateral balance\n",
    "- "
   ]
  },
  {
   "cell_type": "code",
   "execution_count": null,
   "id": "373f5abe-fd22-4216-8760-99628dd66132",
   "metadata": {},
   "outputs": [],
   "source": [
    "# quantify number of cells from each half\n",
    "res = []\n",
    "for r in resolutions:\n",
    "    _res = {'r': r}\n",
    "    \n",
    "    col = f'jtype_r{r}_h1'\n",
    "    n_t = len(df[col].unique())\n",
    "    cmat = df.groupby([col, 'hemi']).size().unstack()\n",
    "    cmat = cmat.divide(cmat.sum(axis=1), axis=0)\n",
    "    entpy = (-cmat.iloc[:,0]*np.log2(cmat.iloc[:,0])-cmat.iloc[:,1]*np.log2(cmat.iloc[:,1])).mean()\n",
    "    _res['n_t_h1'] = n_t\n",
    "    _res['entpy_h1'] = entpy\n",
    "    \n",
    "    col = f'jtype_r{r}_h2'\n",
    "    n_t = len(df[col].unique())\n",
    "    cmat = df.groupby([col, 'hemi']).size().unstack()\n",
    "    cmat = cmat.divide(cmat.sum(axis=1), axis=0)\n",
    "    entpy = (-cmat.iloc[:,0]*np.log2(cmat.iloc[:,0])-cmat.iloc[:,1]*np.log2(cmat.iloc[:,1])).mean()\n",
    "    _res['n_t_h2'] = n_t\n",
    "    _res['entpy_h2'] = entpy\n",
    "    \n",
    "    col = f'type_r{r}'\n",
    "    n_t = len(df[col].unique())\n",
    "    cmat = df.groupby([col, 'hemi']).size().unstack()\n",
    "    cmat = cmat.divide(cmat.sum(axis=1), axis=0)\n",
    "    entpy = (-cmat.iloc[:,0]*np.log2(cmat.iloc[:,0])-cmat.iloc[:,1]*np.log2(cmat.iloc[:,1])).mean()\n",
    "    _res['n_t'] = n_t\n",
    "    _res['entpy'] = entpy\n",
    "    \n",
    "    res.append(_res)\n",
    "    \n",
    "res = pd.DataFrame(res)\n",
    "res"
   ]
  },
  {
   "cell_type": "code",
   "execution_count": null,
   "id": "db7796f0-5a2e-4cac-87ab-949fcbb55772",
   "metadata": {},
   "outputs": [],
   "source": [
    "cmat = df.groupby([col, 'hemi']).size().unstack()\n",
    "cmat"
   ]
  },
  {
   "cell_type": "code",
   "execution_count": null,
   "id": "909d56bc-b63c-43e0-9eb1-cd4178458c50",
   "metadata": {},
   "outputs": [],
   "source": [
    "plt.plot(cmat[0])\n",
    "plt.plot(cmat[1])"
   ]
  },
  {
   "cell_type": "code",
   "execution_count": null,
   "id": "10000789-2cc3-459c-9c33-1abf59a56a84",
   "metadata": {},
   "outputs": [],
   "source": [
    "plt.plot(df['type_r10'].value_counts())\n",
    "# resolutions"
   ]
  },
  {
   "cell_type": "code",
   "execution_count": null,
   "id": "00e7a687-6c35-4de6-a02e-fd5934d4de33",
   "metadata": {},
   "outputs": [],
   "source": [
    "len(df)"
   ]
  },
  {
   "cell_type": "code",
   "execution_count": null,
   "id": "9628e034-c58b-4b53-8661-f6aa8e1f40d9",
   "metadata": {},
   "outputs": [],
   "source": [
    "df['type_r10', 'hemi']"
   ]
  },
  {
   "cell_type": "code",
   "execution_count": null,
   "id": "8a2bd958-3643-46a9-9eb3-1c2e896c1fb6",
   "metadata": {},
   "outputs": [],
   "source": [
    "fig, ax = plt.subplots()\n",
    "ax.plot(res['n_t'], res['entpy'], '-o', markersize=5, label='Plain', color='k')\n",
    "ax.plot(res['n_t_h1'], res['entpy_h1'], '-o', markersize=5, label='Paired_h1')\n",
    "ax.plot(res['n_t_h2'], res['entpy_h2'], '-o', markersize=5, label='Paired_h2')\n",
    "ax.set_xlabel('Number of cell types')\n",
    "ax.set_ylabel('Lateral entropy')\n",
    "ax.legend(bbox_to_anchor=(1,1))\n",
    "plt.show()"
   ]
  },
  {
   "cell_type": "code",
   "execution_count": null,
   "id": "660eaa2b-0d09-4178-96af-a5461ea7cb90",
   "metadata": {},
   "outputs": [],
   "source": [
    "propts_h1 = []\n",
    "propts_h2 = []\n",
    "propts = []\n",
    "for r in resolutions:\n",
    "    col = f'jtype_r{r}_h1'\n",
    "    n_t = len(df[col].unique())\n",
    "    cmat = df.groupby([col, 'hemi']).size().unstack()\n",
    "    cmat = cmat.divide(cmat.sum(axis=1), axis=0)\n",
    "    fracs = np.sort(cmat.iloc[:,0])\n",
    "    propts_h1.append(fracs)\n",
    "    \n",
    "    col = f'jtype_r{r}_h2'\n",
    "    n_t = len(df[col].unique())\n",
    "    cmat = df.groupby([col, 'hemi']).size().unstack()\n",
    "    cmat = cmat.divide(cmat.sum(axis=1), axis=0)\n",
    "    fracs = np.sort(cmat.iloc[:,0])\n",
    "    propts_h2.append(fracs)\n",
    "\n",
    "    col = f'type_r{r}'\n",
    "    n_t = len(df[col].unique())\n",
    "    cmat = df.groupby([col, 'hemi']).size().unstack()\n",
    "    cmat = cmat.divide(cmat.sum(axis=1), axis=0)\n",
    "    fracs = np.sort(cmat.iloc[:,0])\n",
    "    propts.append(fracs)"
   ]
  },
  {
   "cell_type": "code",
   "execution_count": null,
   "id": "be9fe085-2762-4ecc-83c3-e3662d4006c2",
   "metadata": {},
   "outputs": [],
   "source": [
    "ny = len(resolutions)\n",
    "fig, axs = plt.subplots(ny, 1, figsize=(8, 5*ny))\n",
    "for i, r in enumerate(resolutions):\n",
    "    ax = axs[i]\n",
    "    fracs = propts[i]\n",
    "    ax.plot(fracs, '-o', markersize=5, label='Plain', color='k')\n",
    "    \n",
    "    fracs = propts_h1[i]\n",
    "    ax.plot(fracs, '-o', markersize=5, label='Paired_h1')\n",
    "    \n",
    "    fracs = propts_h2[i]\n",
    "    ax.plot(fracs, '-o', markersize=5, label='Paired_h2')\n",
    "    \n",
    "    \n",
    "plt.show()"
   ]
  },
  {
   "cell_type": "code",
   "execution_count": null,
   "id": "4e2a4f0f-f018-4923-b1cf-ea0449f8690c",
   "metadata": {},
   "outputs": [],
   "source": [
    "# ARI adjusted rand score"
   ]
  },
  {
   "cell_type": "code",
   "execution_count": null,
   "id": "276d1c52-86b4-4b38-989c-93bef5ecfe91",
   "metadata": {},
   "outputs": [],
   "source": [
    "aris = []\n",
    "nts = []\n",
    "for r in resolutions:\n",
    "    types_h1 = df[f'jtype_r{r}_h1'].values\n",
    "    types_h2 = df[f'jtype_r{r}_h2'].values\n",
    "    \n",
    "    nt_h1 = len(np.unique(types_h1))\n",
    "    nt_h2 = len(np.unique(types_h2))\n",
    "    \n",
    "    ari = metrics.adjusted_rand_score(types_h1, types_h2)\n",
    "    aris.append(ari)\n",
    "    nts.append((nt_h1, nt_h2))"
   ]
  },
  {
   "cell_type": "code",
   "execution_count": null,
   "id": "1ded5707-a79b-4562-8163-e51845f3b955",
   "metadata": {},
   "outputs": [],
   "source": [
    "fig, ax = plt.subplots()\n",
    "ax.errorbar([(n[0]+n[1])/2 for n in nts], \n",
    "            aris, \n",
    "            xerr=[np.abs(n[1]-n[0])/2 for n in nts], \n",
    "            capsize=3,\n",
    "           )\n",
    "ax.set_xlabel('Number of cell types')\n",
    "ax.set_ylabel('Adjusted Rand Index (ARI)')\n",
    "plt.show()\n"
   ]
  },
  {
   "cell_type": "code",
   "execution_count": null,
   "id": "84bd36a9-fe5a-4995-81d9-bdceea24e4c5",
   "metadata": {},
   "outputs": [],
   "source": []
  },
  {
   "cell_type": "code",
   "execution_count": null,
   "id": "48c7c48a-3d2a-43fe-9d33-e1bacc68b6d9",
   "metadata": {},
   "outputs": [],
   "source": []
  },
  {
   "cell_type": "markdown",
   "id": "d6ad9547-7c34-4893-b1a9-f3117ce0f541",
   "metadata": {},
   "source": [
    "# Confusion matrix"
   ]
  },
  {
   "cell_type": "code",
   "execution_count": null,
   "id": "d1600a16-19d2-4b19-8691-bd5c408685db",
   "metadata": {},
   "outputs": [],
   "source": [
    "N = layer.N\n",
    "r = 0.5\n",
    "types_h1 = df[f'jtype_r{r}_h1'].values\n",
    "types_h2 = df[f'jtype_r{r}_h2'].values\n",
    "confmat = metrics.confusion_matrix(types_h1, types_h2)"
   ]
  },
  {
   "cell_type": "code",
   "execution_count": null,
   "id": "367acc63-267a-472c-93bf-52c873d4b49b",
   "metadata": {},
   "outputs": [],
   "source": [
    "confmat2, rows, cols = basicu.diag_matrix(confmat)\n",
    "rows, cols"
   ]
  },
  {
   "cell_type": "code",
   "execution_count": null,
   "id": "b51b7385-c732-4181-9abe-d9d3e8ea87e7",
   "metadata": {},
   "outputs": [],
   "source": [
    "fig, ax = plt.subplots()\n",
    "sns.heatmap(confmat2, ax=ax)\n",
    "ax.set_aspect('equal')\n",
    "plt.show()"
   ]
  },
  {
   "cell_type": "code",
   "execution_count": null,
   "id": "07aecfed-0fe0-44c4-82a5-fa8f43f4128d",
   "metadata": {},
   "outputs": [],
   "source": [
    "fig, ax = plt.subplots()\n",
    "sns.heatmap(confmat2/confmat2.sum(axis=1).reshape(-1,1), ax=ax)\n",
    "ax.set_aspect('equal')\n",
    "plt.show()"
   ]
  },
  {
   "cell_type": "code",
   "execution_count": null,
   "id": "c52e7f5b-1d58-48a8-b39c-fc374a3cde47",
   "metadata": {},
   "outputs": [],
   "source": [
    "a = confmat2/confmat2.sum(axis=1).reshape(-1,1)\n",
    "b = confmat2/confmat2.sum(axis=0).reshape(1,-1)"
   ]
  },
  {
   "cell_type": "code",
   "execution_count": null,
   "id": "65ec1d2d-c559-4d85-8c41-b5ec6c949154",
   "metadata": {},
   "outputs": [],
   "source": [
    "fig, ax = plt.subplots()\n",
    "sns.heatmap(a, ax=ax)\n",
    "ax.set_aspect('equal')\n",
    "plt.show()"
   ]
  },
  {
   "cell_type": "code",
   "execution_count": null,
   "id": "2f798581-ae23-4c81-841d-64fca0431009",
   "metadata": {},
   "outputs": [],
   "source": [
    "fig, ax = plt.subplots()\n",
    "sns.heatmap(b, ax=ax)\n",
    "ax.set_aspect('equal')\n",
    "plt.show()"
   ]
  },
  {
   "cell_type": "code",
   "execution_count": null,
   "id": "3a9e7fed-d088-4b57-969a-3c61eab85076",
   "metadata": {},
   "outputs": [],
   "source": []
  },
  {
   "cell_type": "code",
   "execution_count": null,
   "id": "4781bfdb-febe-43c1-b480-0f2f5660dea1",
   "metadata": {},
   "outputs": [],
   "source": []
  },
  {
   "cell_type": "code",
   "execution_count": null,
   "id": "fc330e0f-56b3-4d6f-98de-d68f7d997016",
   "metadata": {},
   "outputs": [],
   "source": []
  },
  {
   "cell_type": "code",
   "execution_count": null,
   "id": "2269e3bb-f787-45b6-a8cc-3a8e63de0eee",
   "metadata": {},
   "outputs": [],
   "source": []
  },
  {
   "cell_type": "code",
   "execution_count": null,
   "id": "8274ebeb-088d-4e74-a052-82c3b92f8460",
   "metadata": {},
   "outputs": [],
   "source": []
  },
  {
   "cell_type": "code",
   "execution_count": null,
   "id": "dde7a6a2-3e7a-434d-b05f-a62b7cbcd188",
   "metadata": {},
   "outputs": [],
   "source": []
  },
  {
   "cell_type": "code",
   "execution_count": null,
   "id": "014cdea1-a4f7-4499-b19d-ce06b8502f5b",
   "metadata": {},
   "outputs": [],
   "source": []
  },
  {
   "cell_type": "code",
   "execution_count": null,
   "id": "6ccadcd5-4222-4e69-a9c1-19aefacfbf70",
   "metadata": {},
   "outputs": [],
   "source": []
  },
  {
   "cell_type": "code",
   "execution_count": null,
   "id": "e3476f55-3154-4b39-a4e2-c0a6f04e29ed",
   "metadata": {},
   "outputs": [],
   "source": []
  },
  {
   "cell_type": "code",
   "execution_count": null,
   "id": "3620a25d-57d2-46ff-87a4-1ac7ef4fcb47",
   "metadata": {},
   "outputs": [],
   "source": []
  }
 ],
 "metadata": {
  "kernelspec": {
   "display_name": "Python 3 (ipykernel)",
   "language": "python",
   "name": "python3"
  },
  "language_info": {
   "codemirror_mode": {
    "name": "ipython",
    "version": 3
   },
   "file_extension": ".py",
   "mimetype": "text/x-python",
   "name": "python",
   "nbconvert_exporter": "python",
   "pygments_lexer": "ipython3",
   "version": "3.10.2"
  }
 },
 "nbformat": 4,
 "nbformat_minor": 5
}
