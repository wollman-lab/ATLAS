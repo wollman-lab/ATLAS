{
 "cells": [
  {
   "cell_type": "code",
   "execution_count": null,
   "id": "b6b73bd4-0ecc-4811-9a80-53090a45dce5",
   "metadata": {},
   "outputs": [],
   "source": [
    "import matplotlib\n",
    "import matplotlib.pyplot as plt \n",
    "import numpy as np\n",
    "import pandas as pd\n",
    "import os\n",
    "import umap\n",
    "import datashader as ds\n",
    "import colorcet as cc\n",
    "import igraph\n",
    "import tqdm\n",
    "from sklearn.neighbors import NearestNeighbors\n",
    "\n",
    "from dredFISH.Analysis import TissueGraph\n",
    "from dredFISH.Analysis import Classification\n",
    "from dredFISH.Visualization import Viz\n",
    "\n",
    "from dredFISH.Utils.__init__plots import * \n",
    "from dredFISH.Utils import powerplots\n",
    "\n",
    "import importlib\n",
    "importlib.reload(Viz)\n",
    "importlib.reload(Classification)\n",
    "importlib.reload(TissueGraph)"
   ]
  },
  {
   "cell_type": "markdown",
   "id": "7128fcc3-ec0c-46cb-a0fb-6fc7ad1e2303",
   "metadata": {
    "tags": []
   },
   "source": [
    "#### Load data"
   ]
  },
  {
   "cell_type": "code",
   "execution_count": null,
   "id": "41a21828-7123-41ff-90f1-ccf15e7e1f70",
   "metadata": {},
   "outputs": [],
   "source": [
    "respath = '/bigstore/GeneralStorage/fangming/projects/dredfish/figures/'"
   ]
  },
  {
   "cell_type": "code",
   "execution_count": null,
   "id": "a3e34f5d-eb05-4bee-a092-3515a72a3f55",
   "metadata": {},
   "outputs": [],
   "source": [
    "basepth = '/bigstore/GeneralStorage/Data/dredFISH/Dataset1-t3'\n",
    "!ls -alhtr $basepth\n",
    "!head $basepth\"/TMG.json\""
   ]
  },
  {
   "cell_type": "code",
   "execution_count": null,
   "id": "58e329f8-3630-4ad4-989f-7a1ced4d71e7",
   "metadata": {},
   "outputs": [],
   "source": [
    "TMG = TissueGraph.TissueMultiGraph(basepath=basepth, \n",
    "                                   redo=False, # load existing \n",
    "                                  )\n",
    "TMG"
   ]
  },
  {
   "cell_type": "code",
   "execution_count": null,
   "id": "4b86cb23-bf8b-401f-905f-dd40dd8e8ee8",
   "metadata": {},
   "outputs": [],
   "source": [
    "# spatial coordinates\n",
    "layer = TMG.Layers[0]\n",
    "\n",
    "\n",
    "XY = layer.XY\n",
    "x, y = XY[:,0], XY[:,1]\n",
    "###\n",
    "x, y = y, x # a temporary hack\n",
    "###\n",
    "\n",
    "N = layer.N\n",
    "\n",
    "# measured basis\n",
    "ftrs_mat = layer.feature_mat\n",
    "# UMAP\n",
    "umap_mat = umap.UMAP(n_neighbors=30, min_dist=0.1, random_state=0).fit_transform(ftrs_mat)"
   ]
  },
  {
   "cell_type": "code",
   "execution_count": null,
   "id": "bbc3ae87-94a5-405e-86b7-58b6b886bbce",
   "metadata": {},
   "outputs": [],
   "source": [
    "df = pd.DataFrame()\n",
    "df['x'] = x\n",
    "df['y'] = y\n",
    "df['umap_x'] = umap_mat[:,0]\n",
    "df['umap_y'] = umap_mat[:,1]\n",
    "for i in range(24):\n",
    "    df[f'b{i}'] = ftrs_mat[:,i]\n",
    "df"
   ]
  },
  {
   "cell_type": "code",
   "execution_count": null,
   "id": "1df4ad8c-acd9-45ec-b230-8580918f920d",
   "metadata": {},
   "outputs": [],
   "source": [
    "%%time\n",
    "path = os.path.join(respath, 'basis_space.pdf')\n",
    "P = powerplots.PlotScale(df['x'].max()-df['x'].min(), \n",
    "                         df['y'].max()-df['y'].min(),\n",
    "                         # npxlx=300,\n",
    "                         pxl_scale=20,\n",
    "                        )\n",
    "print(P.npxlx, P.npxly)\n",
    "\n",
    "nx, ny = 6, 4\n",
    "fig, axs = plt.subplots(ny, nx, figsize=(nx*6, ny*5))\n",
    "for i in range(24):\n",
    "    ax = axs.flat[i]\n",
    "    aggdata = ds.Canvas(P.npxlx, P.npxly).points(df, 'x', 'y', agg=ds.mean(f'b{i}'))\n",
    "    ax.imshow(aggdata, origin='lower', aspect='equal', cmap='coolwarm', vmin=-3, vmax=3, interpolation='none')\n",
    "    ax.set_title(f'b{i}', loc='left', y=0.9)\n",
    "    ax.axis('off')\n",
    "fig.subplots_adjust(wspace=0.05, hspace=0)\n",
    "# powerplots.savefig_autodate(fig, path)\n",
    "plt.show()"
   ]
  },
  {
   "cell_type": "code",
   "execution_count": null,
   "id": "b15234ef-d622-42f6-b251-2e18707597e3",
   "metadata": {},
   "outputs": [],
   "source": [
    "%%time\n",
    "x, y = 'umap_x', 'umap_y'\n",
    "path = os.path.join(respath, 'basis_umap.pdf')\n",
    "P = powerplots.PlotScale(df[x].max()-df[x].min(), \n",
    "                         df[y].max()-df[y].min(),\n",
    "                         npxlx=300,\n",
    "                        )\n",
    "print(P.npxlx, P.npxly)\n",
    "\n",
    "nx, ny = 6, 4\n",
    "fig, axs = plt.subplots(ny, nx, figsize=(nx*5, ny*4))\n",
    "for i in range(24):\n",
    "    ax = axs.flat[i]\n",
    "    aggdata = ds.Canvas(P.npxlx, P.npxly).points(df, x, y, agg=ds.mean(f'b{i}'))\n",
    "    ax.imshow(aggdata, origin='lower', aspect='equal', cmap='coolwarm', vmin=-3, vmax=3, interpolation='none')\n",
    "    ax.set_title(f'b{i}', loc='left', y=0.9)\n",
    "    ax.axis('off')\n",
    "fig.subplots_adjust(wspace=0.05, hspace=0.1)\n",
    "# powerplots.savefig_autodate(fig, path)\n",
    "plt.show()"
   ]
  },
  {
   "cell_type": "markdown",
   "id": "2e15c08a-485b-4812-a248-8a2f631b10b2",
   "metadata": {},
   "source": [
    "# map to known cell types"
   ]
  },
  {
   "cell_type": "code",
   "execution_count": null,
   "id": "25dfab96-f690-46a8-b4c4-eaffbfc7e0a2",
   "metadata": {},
   "outputs": [],
   "source": [
    "%%time\n",
    "# create known cell type classifier and train and predict\n",
    "allen_classifier = Classification.KnownCellTypeClassifier(\n",
    "    layer, \n",
    "    tax_name='Allen_types',\n",
    "    ref='allen_smrt_dpnmf',\n",
    "    ref_levels=['class_label', 'neighborhood_label', 'subclass_label'], #, 'cluster_label'], \n",
    "    model='knn',\n",
    ")\n",
    "allen_classifier.train(verbose=True)\n",
    "type_mat = allen_classifier.classify()\n",
    "\n",
    "type_mat.shape, type_mat"
   ]
  },
  {
   "cell_type": "code",
   "execution_count": null,
   "id": "029aa549-fcdc-46ea-ba7b-e5604dc173d6",
   "metadata": {},
   "outputs": [],
   "source": [
    "# add to df\n",
    "for i in range(3):\n",
    "    df[f'ktype_L{i+1}'] = type_mat[:,i]\n",
    "df"
   ]
  },
  {
   "cell_type": "code",
   "execution_count": null,
   "id": "799300d7-3785-4d34-a560-50c524225de3",
   "metadata": {},
   "outputs": [],
   "source": [
    "df.filter(regex=r'^ktype')"
   ]
  },
  {
   "cell_type": "markdown",
   "id": "1145e355-c271-406f-9ddc-c18ed3f254e1",
   "metadata": {},
   "source": [
    "# Cell types (Leiden clustering)"
   ]
  },
  {
   "cell_type": "code",
   "execution_count": null,
   "id": "f00b88ae-016f-46a7-b8ce-5278ece8f1fc",
   "metadata": {},
   "outputs": [],
   "source": [
    "import leidenalg as la\n",
    "def leiden(G, cells,\n",
    "           resolution=1, seed=0, n_iteration=2,\n",
    "           **kwargs,\n",
    "          ):\n",
    "    \"\"\"cells are in order\n",
    "    \"\"\"\n",
    "    partition = la.find_partition(G, \n",
    "                                  la.RBConfigurationVertexPartition, # modularity with resolution\n",
    "                                  resolution_parameter=resolution, seed=seed, n_iterations=n_iteration, **kwargs)\n",
    "    # get cluster labels from partition\n",
    "    labels = [0]*(len(cells)) \n",
    "    for i, cluster in enumerate(partition):\n",
    "        for element in cluster:\n",
    "            labels[element] = i+1\n",
    "    return labels\n",
    "\n"
   ]
  },
  {
   "cell_type": "code",
   "execution_count": null,
   "id": "e600c28b-7e1f-4ea6-b550-0e044f58b26a",
   "metadata": {},
   "outputs": [],
   "source": [
    "%%time\n",
    "# feature graph to generete cell types\n",
    "G = layer.FG\n",
    "cells = layer.adata.obs.index.values\n",
    "resolutions = [0.01, 0.02, 0.05, 0.1, 0.2, 0.5, 1,2,5,10]\n",
    "\n",
    "for r in tqdm.tqdm(resolutions):\n",
    "    types = leiden(G, cells, resolution=r)\n",
    "    df[f'type_r{r}'] = np.char.add('t', np.array(types).astype(str))\n",
    "df"
   ]
  },
  {
   "cell_type": "code",
   "execution_count": null,
   "id": "442f418b-fbf4-4b7b-89de-bfe8542ca12a",
   "metadata": {},
   "outputs": [],
   "source": [
    "%%time\n",
    "hue = 'type_r1'\n",
    "hue_order = np.sort(np.unique(df[hue]))\n",
    "ntypes = len(hue_order)\n",
    "        \n",
    "fig, axs = plt.subplots(1, 2, figsize=(8*2,6))\n",
    "fig.suptitle(f\"{hue}; n={ntypes}\")\n",
    "ax = axs[0]\n",
    "sns.scatterplot(data=df, x='x', y='y', \n",
    "                hue=hue, hue_order=hue_order, \n",
    "                s=0.5, edgecolor=None, \n",
    "                legend=False,\n",
    "                ax=ax)\n",
    "# ax.legend(loc='upper left', bbox_to_anchor=(0, -0.1), ncol=5)\n",
    "ax.set_aspect('equal')\n",
    "ax.axis('off')\n",
    "\n",
    "ax = axs[1]\n",
    "sns.scatterplot(data=df, x='umap_x', y='umap_y', \n",
    "                hue=hue, hue_order=hue_order, \n",
    "                s=0.5, edgecolor=None, \n",
    "                legend=False,\n",
    "                ax=ax)\n",
    "# ax.legend(loc='upper left', bbox_to_anchor=(0, -0.1), ncol=5)\n",
    "ax.set_aspect('equal')\n",
    "ax.axis('off')\n",
    "fig.subplots_adjust(wspace=0)\n",
    "plt.show()"
   ]
  },
  {
   "cell_type": "code",
   "execution_count": null,
   "id": "5e98f18b-eed8-48b6-906f-2482e4346b54",
   "metadata": {},
   "outputs": [],
   "source": [
    "for r in resolutions:\n",
    "    hue = f'type_r{r}'\n",
    "    hue_order = np.sort(np.unique(df[hue]))\n",
    "    ntypes = len(hue_order)\n",
    "\n",
    "    fig, axs = plt.subplots(1, 2, figsize=(8*2,6))\n",
    "    fig.suptitle(f\"{hue}; n={ntypes}\")\n",
    "    ax = axs[0]\n",
    "    sns.scatterplot(data=df, x='x', y='y', \n",
    "                    hue=hue, hue_order=hue_order, \n",
    "                    s=0.5, edgecolor=None, \n",
    "                    legend=False,\n",
    "                    ax=ax)\n",
    "    # ax.legend(loc='upper left', bbox_to_anchor=(0, -0.1), ncol=5)\n",
    "    ax.set_aspect('equal')\n",
    "    ax.axis('off')\n",
    "\n",
    "    ax = axs[1]\n",
    "    sns.scatterplot(data=df, x='umap_x', y='umap_y', \n",
    "                    hue=hue, hue_order=hue_order, \n",
    "                    s=0.5, edgecolor=None, \n",
    "                    legend=False,\n",
    "                    ax=ax)\n",
    "    # ax.legend(loc='upper left', bbox_to_anchor=(0, -0.1), ncol=5)\n",
    "    ax.set_aspect('equal')\n",
    "    ax.axis('off')\n",
    "    fig.subplots_adjust(wspace=0)\n",
    "    plt.show()"
   ]
  },
  {
   "cell_type": "markdown",
   "id": "7d12e7c6-962c-4b77-83e5-4e10a2a2e439",
   "metadata": {
    "tags": []
   },
   "source": [
    "# save df "
   ]
  },
  {
   "cell_type": "code",
   "execution_count": null,
   "id": "42de3074-64a2-4549-96d9-182c6dd82cd8",
   "metadata": {},
   "outputs": [],
   "source": [
    "df.to_csv(os.path.join(basepth, \"analysis_dev_v2.csv\"), header=True, index=True)"
   ]
  },
  {
   "cell_type": "code",
   "execution_count": null,
   "id": "dae4105c-d88c-45a9-a313-0da4a50d3e87",
   "metadata": {},
   "outputs": [],
   "source": []
  },
  {
   "cell_type": "code",
   "execution_count": null,
   "id": "0eb7b7b3-4cbd-45d6-8e90-20d330f096b1",
   "metadata": {},
   "outputs": [],
   "source": []
  },
  {
   "cell_type": "code",
   "execution_count": null,
   "id": "91d7482d-f758-4d5c-83aa-c98e2887392b",
   "metadata": {},
   "outputs": [],
   "source": []
  },
  {
   "cell_type": "markdown",
   "id": "e363ebe1-7813-4bba-a53e-8970ec49112b",
   "metadata": {},
   "source": [
    "# Local env (Isozones) - old\n",
    "- same cell type zones\n",
    "- instead quantify the nearest neighbors of the same cell type"
   ]
  },
  {
   "cell_type": "code",
   "execution_count": null,
   "id": "87d4e089-f3dd-4ec3-b320-92d74a883a0f",
   "metadata": {},
   "outputs": [],
   "source": [
    "# call isozones\n",
    "# compare the properties of isozone for each cell type\n",
    "hue = 'type_r0.1'\n",
    "labels = df[hue].values\n",
    "labels"
   ]
  },
  {
   "cell_type": "code",
   "execution_count": null,
   "id": "ec4fe720-9e83-4006-973d-7906845587ea",
   "metadata": {},
   "outputs": [],
   "source": [
    "# isozone\n",
    "EL = np.asarray(layer.SG.get_edgelist())\n",
    "EL_types = labels[EL]\n",
    "EL_sametypes = EL[EL_types[:,0] == EL_types[:,1]]\n",
    "\n",
    "IsoZoneG = igraph.Graph(n=N, edges=EL_sametypes, directed=False)\n",
    "IsoZOneG = IsoZoneG.as_undirected().simplify() # what this means?\n",
    "cmp = IsoZoneG.components()\n",
    "Ix = np.asarray(cmp.membership)\n",
    "\n",
    "isozones = Ix"
   ]
  },
  {
   "cell_type": "code",
   "execution_count": null,
   "id": "f58b1961-7806-4d08-b42a-8d66b20e210c",
   "metadata": {},
   "outputs": [],
   "source": [
    "labels, isozones"
   ]
  },
  {
   "cell_type": "code",
   "execution_count": null,
   "id": "1c92b8a5-0a4a-4498-a829-6736e047873e",
   "metadata": {},
   "outputs": [],
   "source": [
    "# Ix.shape\n",
    "unq, cnts = np.unique(Ix, return_counts=True)\n",
    "plt.plot(np.log10(np.sort(cnts)))"
   ]
  },
  {
   "cell_type": "code",
   "execution_count": null,
   "id": "c973f9bb-74f0-4c34-9d10-e5f0f1fc0b9b",
   "metadata": {},
   "outputs": [],
   "source": [
    "\n",
    "uniqlabels = np.sort(np.unique(labels))\n",
    "for i in uniqlabels:\n",
    "    subIso = isozones[labels==i]\n",
    "    unq, cnts = np.unique(subIso, return_counts=True)\n",
    "    # plt.plot(np.log10(np.sort(cnts)), np.linspace(0, 1, len(cnts)), label=i)\n",
    "    _x = np.cumsum(np.sort(cnts))\n",
    "    plt.plot(np.log10(np.sort(cnts)), _x/_x[-1], label=i)\n",
    "    # plt.plot(np.sort(cnts), np.linspace(0, 1, len(cnts)), label=i)\n",
    "plt.legend()\n",
    "plt.xlabel('log10(isozone size)')\n",
    "plt.ylabel('CDF - Num. Isozones or Cells')"
   ]
  }
 ],
 "metadata": {
  "kernelspec": {
   "display_name": "Python 3 (ipykernel)",
   "language": "python",
   "name": "python3"
  },
  "language_info": {
   "codemirror_mode": {
    "name": "ipython",
    "version": 3
   },
   "file_extension": ".py",
   "mimetype": "text/x-python",
   "name": "python",
   "nbconvert_exporter": "python",
   "pygments_lexer": "ipython3",
   "version": "3.10.2"
  }
 },
 "nbformat": 4,
 "nbformat_minor": 5
}
