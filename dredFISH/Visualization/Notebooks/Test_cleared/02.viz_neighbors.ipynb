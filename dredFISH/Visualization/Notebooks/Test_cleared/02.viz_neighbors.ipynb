{
 "cells": [
  {
   "cell_type": "code",
   "execution_count": null,
   "id": "b6b73bd4-0ecc-4811-9a80-53090a45dce5",
   "metadata": {},
   "outputs": [],
   "source": [
    "import matplotlib\n",
    "import matplotlib.pyplot as plt \n",
    "import numpy as np\n",
    "import pandas as pd\n",
    "import os\n",
    "import umap\n",
    "import datashader as ds\n",
    "import colorcet as cc\n",
    "import igraph\n",
    "import tqdm\n",
    "import pandas as pd\n",
    "from sklearn.neighbors import NearestNeighbors\n",
    "\n",
    "from dredFISH.Analysis import TissueGraph\n",
    "from dredFISH.Visualization import Viz\n",
    "from dredFISH.Utils.__init__plots import * \n",
    "from dredFISH.Utils import powerplots\n",
    "import importlib\n",
    "importlib.reload(Viz)\n",
    "importlib.reload(TissueGraph)"
   ]
  },
  {
   "cell_type": "markdown",
   "id": "7128fcc3-ec0c-46cb-a0fb-6fc7ad1e2303",
   "metadata": {
    "tags": []
   },
   "source": [
    "#### Load data"
   ]
  },
  {
   "cell_type": "code",
   "execution_count": null,
   "id": "41a21828-7123-41ff-90f1-ccf15e7e1f70",
   "metadata": {},
   "outputs": [],
   "source": [
    "respath = '/bigstore/GeneralStorage/fangming/projects/dredfish/figures/'"
   ]
  },
  {
   "cell_type": "code",
   "execution_count": null,
   "id": "a3e34f5d-eb05-4bee-a092-3515a72a3f55",
   "metadata": {},
   "outputs": [],
   "source": [
    "basepth = '/bigstore/GeneralStorage/Data/dredFISH/Dataset1'\n",
    "!ls -alhtr $basepth\n",
    "!head $basepth\"/TMG.json\""
   ]
  },
  {
   "cell_type": "code",
   "execution_count": null,
   "id": "cfe2e9d5-b693-46f6-a5af-d99e5c2884c4",
   "metadata": {},
   "outputs": [],
   "source": [
    "df = pd.read_csv(\n",
    "    os.path.join(basepth, \"analysis_dev.csv\"))\n",
    "df"
   ]
  },
  {
   "cell_type": "code",
   "execution_count": null,
   "id": "58e329f8-3630-4ad4-989f-7a1ced4d71e7",
   "metadata": {},
   "outputs": [],
   "source": [
    "TMG = TissueGraph.TissueMultiGraph(basepath=basepth, \n",
    "                                   redo=False, # load existing \n",
    "                                  )\n",
    "TMG"
   ]
  },
  {
   "cell_type": "code",
   "execution_count": null,
   "id": "4b86cb23-bf8b-401f-905f-dd40dd8e8ee8",
   "metadata": {},
   "outputs": [],
   "source": [
    "# spatial coordinates\n",
    "layer = TMG.Layers[0]\n",
    "XY = layer.XY\n",
    "x, y = XY[:,0], XY[:,1]\n",
    "###\n",
    "x, y = y, x # a temporary hack\n",
    "###\n",
    "\n",
    "N = layer.N\n",
    "print(N)\n",
    "# measured basis\n",
    "ftrs_mat = TMG.Layers[0].feature_mat\n",
    "\n",
    "# umap_mat = umap.UMAP(n_neighbors=30, min_dist=0.1).fit_transform(ftrs_mat)\n",
    "\n",
    "# types\n",
    "\n",
    "# regions"
   ]
  },
  {
   "cell_type": "markdown",
   "id": "e363ebe1-7813-4bba-a53e-8970ec49112b",
   "metadata": {},
   "source": [
    "# Local env (Isozones)\n",
    "- same cell type zones\n",
    "- instead quantify the nearest neighbors of the same cell type"
   ]
  },
  {
   "cell_type": "code",
   "execution_count": null,
   "id": "87d4e089-f3dd-4ec3-b320-92d74a883a0f",
   "metadata": {},
   "outputs": [],
   "source": [
    "# call isozones\n",
    "# compare the properties of isozone for each cell type\n",
    "hue = 'type_r0.1'\n",
    "labels = df[hue].values\n",
    "labels"
   ]
  },
  {
   "cell_type": "code",
   "execution_count": null,
   "id": "ec4fe720-9e83-4006-973d-7906845587ea",
   "metadata": {},
   "outputs": [],
   "source": [
    "# isozone\n",
    "EL = np.asarray(layer.SG.get_edgelist())\n",
    "EL_types = labels[EL]\n",
    "EL_sametypes = EL[EL_types[:,0] == EL_types[:,1]]\n",
    "\n",
    "IsoZoneG = igraph.Graph(n=N, edges=EL_sametypes, directed=False)\n",
    "IsoZOneG = IsoZoneG.as_undirected().simplify() # what this means?\n",
    "cmp = IsoZoneG.components()\n",
    "Ix = np.asarray(cmp.membership)\n",
    "\n",
    "isozones = Ix"
   ]
  },
  {
   "cell_type": "code",
   "execution_count": null,
   "id": "f58b1961-7806-4d08-b42a-8d66b20e210c",
   "metadata": {},
   "outputs": [],
   "source": [
    "labels, isozones"
   ]
  },
  {
   "cell_type": "code",
   "execution_count": null,
   "id": "1c92b8a5-0a4a-4498-a829-6736e047873e",
   "metadata": {},
   "outputs": [],
   "source": [
    "# Ix.shape\n",
    "unq, cnts = np.unique(Ix, return_counts=True)\n",
    "plt.plot(np.log10(np.sort(cnts)))"
   ]
  },
  {
   "cell_type": "code",
   "execution_count": null,
   "id": "c973f9bb-74f0-4c34-9d10-e5f0f1fc0b9b",
   "metadata": {},
   "outputs": [],
   "source": [
    "\n",
    "uniqlabels = np.sort(np.unique(labels))\n",
    "for i in uniqlabels:\n",
    "    subIso = isozones[labels==i]\n",
    "    unq, cnts = np.unique(subIso, return_counts=True)\n",
    "    # plt.plot(np.log10(np.sort(cnts)), np.linspace(0, 1, len(cnts)), label=i)\n",
    "    _x = np.cumsum(np.sort(cnts))\n",
    "    plt.plot(np.log10(np.sort(cnts)), _x/_x[-1], label=i)\n",
    "    # plt.plot(np.sort(cnts), np.linspace(0, 1, len(cnts)), label=i)\n",
    "plt.legend()\n",
    "plt.xlabel('log10(isozone size)')\n",
    "plt.ylabel('CDF - Num. Isozones or Cells')\n",
    "    "
   ]
  },
  {
   "cell_type": "markdown",
   "id": "64097fe7-2988-43ab-808d-e72380b2f662",
   "metadata": {},
   "source": [
    "## Spatial nearest neighbors \n",
    "- distance to the nearest neighbors\n",
    "- dependencies between cell types?\n",
    "\n",
    "\n",
    "- the critical scale at which cells talk to each other?"
   ]
  },
  {
   "cell_type": "code",
   "execution_count": null,
   "id": "490cbf45-9389-4b20-9621-cb0f43fd84a0",
   "metadata": {},
   "outputs": [],
   "source": [
    "%%time\n",
    "# slow for 24 bits; fast for 2D\n",
    "k = 30 \n",
    "NN = NearestNeighbors(n_neighbors=k)\n",
    "NN.fit(XY)\n",
    "knn = NN.kneighbors(XY, return_distance=False)\n",
    "\n",
    "knn\n",
    "# use pynndescent"
   ]
  },
  {
   "cell_type": "code",
   "execution_count": null,
   "id": "8a348e54-936b-4b24-ad9b-b4fde45959de",
   "metadata": {},
   "outputs": [],
   "source": [
    "fracs = (labels.reshape(-1,1) == labels[knn[:,1:]]).sum(axis=1)/k"
   ]
  },
  {
   "cell_type": "code",
   "execution_count": null,
   "id": "1e1792ab-73ce-4533-ac3b-2326345860bd",
   "metadata": {},
   "outputs": [],
   "source": [
    "x = df['x'].values\n",
    "y = df['y'].values\n",
    "knn1 = knn[:,1]\n",
    "dists = np.sqrt(np.power(x[knn1] - x, 2) + np.power(y[knn1] - y, 2))\n",
    "dists\n"
   ]
  },
  {
   "cell_type": "code",
   "execution_count": null,
   "id": "479452d9-51dd-40d5-8bae-56d23f9cc237",
   "metadata": {},
   "outputs": [],
   "source": [
    "uniqlabels = np.sort(np.unique(labels))\n",
    "for i in uniqlabels:\n",
    "    sub_dists = dists[labels==i]\n",
    "    plt.plot(np.sort(sub_dists), np.linspace(0, 1, len(sub_dists)), label=i)\n",
    "plt.xlim([0,100])\n",
    "plt.legend()\n",
    "plt.xlabel('Distance (um) to nearest neighbor (regardless of cell types)')\n",
    "plt.ylabel('CDF - Num. cells')\n",
    "    "
   ]
  },
  {
   "cell_type": "code",
   "execution_count": null,
   "id": "691a5d04-a62f-4e9f-b2f4-52dbeca7d316",
   "metadata": {},
   "outputs": [],
   "source": [
    "uniqlabels = np.sort(np.unique(labels))\n",
    "for i in uniqlabels:\n",
    "    sub_fracs = fracs[labels==i]\n",
    "    plt.plot(np.sort(sub_fracs), np.linspace(0, 1, len(sub_fracs)), label=i)\n",
    "# plt.xlim([0,100])\n",
    "plt.legend(bbox_to_anchor=(1,1))\n",
    "plt.xlabel('Fraction of kNNs (k=30) of the same cell types')\n",
    "plt.ylabel('CDF - Num. cells')\n",
    "    "
   ]
  },
  {
   "cell_type": "markdown",
   "id": "5155a042-19f2-4b4f-9bf2-2be7867d6cbb",
   "metadata": {},
   "source": [
    "# Local env (Brain regions)"
   ]
  },
  {
   "cell_type": "code",
   "execution_count": null,
   "id": "a4b73726-f867-431c-beda-d455e6218d08",
   "metadata": {},
   "outputs": [],
   "source": []
  }
 ],
 "metadata": {
  "kernelspec": {
   "display_name": "Python 3 (ipykernel)",
   "language": "python",
   "name": "python3"
  },
  "language_info": {
   "codemirror_mode": {
    "name": "ipython",
    "version": 3
   },
   "file_extension": ".py",
   "mimetype": "text/x-python",
   "name": "python",
   "nbconvert_exporter": "python",
   "pygments_lexer": "ipython3",
   "version": "3.10.2"
  }
 },
 "nbformat": 4,
 "nbformat_minor": 5
}
