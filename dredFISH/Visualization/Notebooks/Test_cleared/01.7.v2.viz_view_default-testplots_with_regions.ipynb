{
 "cells": [
  {
   "cell_type": "code",
   "execution_count": null,
   "id": "b6b73bd4-0ecc-4811-9a80-53090a45dce5",
   "metadata": {},
   "outputs": [],
   "source": [
    "import os\n",
    "import sys\n",
    "import logging\n",
    "import numpy as np\n",
    "import pandas as pd\n",
    "import matplotlib.pyplot as plt\n",
    "import seaborn as sns\n",
    "\n",
    "from dredFISH.Analysis import TissueGraph\n",
    "from dredFISH.Visualization import viz_cell_layer\n",
    "# from dredFISH.Utils.__init__plots import *  # import one of the two; but not both\n",
    "from dredFISH.Utils import powerplots\n",
    "\n",
    "# import importlib\n",
    "# importlib.reload(viz_cell_layer)"
   ]
  },
  {
   "cell_type": "code",
   "execution_count": null,
   "id": "ae37301b-0f02-45f2-a354-0ef5f43ee931",
   "metadata": {},
   "outputs": [],
   "source": [
    "logging.basicConfig(format='%(asctime)s - %(message)s', \n",
    "                datefmt='%m-%d %H:%M:%S', \n",
    "                level=logging.INFO,\n",
    "                )\n",
    "\n",
    "# Path\n",
    "# basepth = '/bigstore/GeneralStorage/Data/dredFISH/Dataset1-t3'\n",
    "basepth = '/bigstore/GeneralStorage/Data/dredFISH/DPNMF-FR_7C_PFA+Methanol_PFA_Methanol_2022Nov07_v2/DPNMF-FR_7C_PFA+Methanol_PFA_Methanol_2022Nov07_Section1'"
   ]
  },
  {
   "cell_type": "code",
   "execution_count": null,
   "id": "0478cd74-596d-44db-bd22-07d0b090c08b",
   "metadata": {},
   "outputs": [],
   "source": [
    "dfpth = os.path.join(basepth, 'default_analysis.csv')\n",
    "df = pd.read_csv(dfpth, index_col=0)\n",
    "df"
   ]
  },
  {
   "cell_type": "code",
   "execution_count": null,
   "id": "fe167d0c-6f9b-45ac-a24e-b447997c842d",
   "metadata": {},
   "outputs": [],
   "source": [
    "# respth = os.path.join(basepth, 'figures')\n",
    "# if not os.path.isdir(respth):\n",
    "#     os.mkdir(respth)"
   ]
  },
  {
   "cell_type": "code",
   "execution_count": null,
   "id": "41a21828-7123-41ff-90f1-ccf15e7e1f70",
   "metadata": {},
   "outputs": [],
   "source": [
    "# load TMG - with cell layer obs only\n",
    "TMG = TissueGraph.TissueMultiGraph(basepath=basepth, \n",
    "                                   redo=False, # load existing \n",
    "                                   quick_load_cell_obs=True,\n",
    "                                  )\n",
    "\n",
    "# spatial coordinates\n",
    "layer = TMG.Layers[0]\n",
    "XY = layer.XY\n",
    "x, y = XY[:,0], XY[:,1]\n",
    "\n",
    "# #### a temporary hack\n",
    "# x, y = y, x \n",
    "# XY = np.vstack([x,y]).T\n",
    "# ###"
   ]
  },
  {
   "cell_type": "code",
   "execution_count": null,
   "id": "ec0b1ba9-000b-4ba8-b74e-8b52dd295d6b",
   "metadata": {},
   "outputs": [],
   "source": [
    "%%time\n",
    "# TMG.Geoms = list()\n",
    "# TMG.add_geoms()\n",
    "# geom = TMG.Geoms[0]"
   ]
  },
  {
   "cell_type": "code",
   "execution_count": null,
   "id": "737395de-1327-4e51-bf82-949900007371",
   "metadata": {},
   "outputs": [],
   "source": [
    "from matplotlib.collections import LineCollection, PolyCollection, PatchCollection\n",
    "from matplotlib.colors import ListedColormap"
   ]
  },
  {
   "cell_type": "code",
   "execution_count": null,
   "id": "dfa357d7-4ced-407c-b7ae-1186d0929461",
   "metadata": {},
   "outputs": [],
   "source": [
    "c,l = pd.factorize(df['regtype_allenL2basis_k5']) #.values\n",
    "region_id = c\n",
    "\n",
    "# SG = layer.SG\n",
    "# edge_list = np.asarray(SG.get_edgelist())\n",
    "# assert np.all(edge_list[:,0] < edge_list[:,1])\n",
    "\n",
    "# tmp = region_id[edge_list]\n",
    "# cond = tmp[:,0]!=tmp[:,1]\n",
    "# region_edge_list = edge_list[cond]\n",
    "# region_edge_list = [tuple(item) for item in region_edge_list]\n",
    "\n",
    "# segs = pd.Series(geom['line']).reindex(region_edge_list).dropna().values\n",
    "# lines = LineCollection(segs, linewidths=0.5, color='lightgray')\n",
    "\n",
    "\n",
    "# xyext = np.array(geom['BoundingBox'].exterior.xy).T\n",
    "# mx = np.max(xyext, axis=0)\n",
    "# mn = np.min(xyext, axis=0)\n",
    "\n",
    "# p = PolyCollection(geom['poly'], \n",
    "#                    cmap=ListedColormap(['C0', 'C1', 'C2', 'C3', 'C4']), \n",
    "#                    edgecolors='none',\n",
    "#                   )\n",
    "# p.set_array(c)\n",
    "\n",
    "# fig, ax = plt.subplots(figsize=(10,8))\n",
    "# ax.add_collection(p) \n",
    "# # ax.add_collection(lines) #, edgecolor='none')\n",
    "# ax.set_xlim([xmin, xmax])\n",
    "# ax.set_ylim([ymin, ymax])\n",
    "# ax.set_aspect('equal')\n",
    "# ax.grid(False)\n",
    "# plt.show()"
   ]
  },
  {
   "cell_type": "code",
   "execution_count": null,
   "id": "d447b933-ea46-4260-8f63-931020fcf50e",
   "metadata": {},
   "outputs": [],
   "source": [
    "# from scipy.spatial import Delaunay, Voronoi\n",
    "# from dredFISH.Utils.geomu import voronoi_polygons, bounding_box"
   ]
  },
  {
   "cell_type": "code",
   "execution_count": null,
   "id": "512a38ee-a88e-43d3-9f3c-bdf68bb20f5a",
   "metadata": {},
   "outputs": [],
   "source": [
    "from scipy.spatial import Voronoi\n",
    "from matplotlib.collections import PolyCollection\n",
    "from matplotlib.colors import ListedColormap"
   ]
  },
  {
   "cell_type": "code",
   "execution_count": null,
   "id": "692dae7f-81ef-47ca-82e6-9a23baf77584",
   "metadata": {},
   "outputs": [],
   "source": [
    "def prep_polygons(XY, label_ids, cmap='tab20'):\n",
    "    \"\"\"\n",
    "    \"\"\"\n",
    "    unq_ids = np.unique(label_ids)\n",
    "    ncolors = len(unq_ids)\n",
    "    colors = sns.color_palette(cmap, ncolors)\n",
    "    cmap = ListedColormap(colors)\n",
    "    \n",
    "    xmin, ymin = np.min(XY, axis=0)\n",
    "    xmax, ymax = np.max(XY, axis=0)\n",
    "\n",
    "    vor = Voronoi(XY, furthest_site=False)\n",
    "    poly = np.array([vor.vertices[vor.regions[item]] for item in vor.point_region], dtype=object)\n",
    "\n",
    "    # filter poly by max span\n",
    "    maxspans = []\n",
    "    for item in poly:\n",
    "        if len(item) > 0:\n",
    "            maxspan = max(np.max(item, axis=0) - np.min(item, axis=0))\n",
    "        else:\n",
    "            maxspan = 0\n",
    "        maxspans.append(maxspan)\n",
    "    maxspans = np.array(maxspans)\n",
    "    th = np.percentile(maxspans, 99)\n",
    "    \n",
    "    # prep polygons\n",
    "    p = PolyCollection(poly[maxspans<th], #[:5], #geom['poly'], \n",
    "                       cmap=cmap,\n",
    "                       edgecolors='none',\n",
    "                      )\n",
    "    p.set_array(label_ids[maxspans<th]) #[:5])\n",
    "    \n",
    "    return p, (xmin, xmax, ymin, ymax)\n",
    "\n",
    "def plot_colored_polygons(XY, c):\n",
    "    \"\"\"\n",
    "    \"\"\"\n",
    "    fig, ax = plt.subplots(figsize=(10,8))\n",
    "    p, bbox = prep_polygons(XY, c)\n",
    "    ax.add_collection(p) \n",
    "    ax.set_xlim(bbox[:2])\n",
    "    ax.set_ylim(bbox[2:])\n",
    "    ax.set_aspect('equal')\n",
    "    ax.grid(False)\n",
    "    plt.show()"
   ]
  },
  {
   "cell_type": "code",
   "execution_count": null,
   "id": "cf929d0b-2f8b-4d8b-b850-aa83205e0a0a",
   "metadata": {},
   "outputs": [],
   "source": [
    "%%time\n",
    "c,l = pd.factorize(df['regtype_allenL2basis_k5']) #.values\n",
    "plot_colored_polygons(XY, c)"
   ]
  },
  {
   "cell_type": "code",
   "execution_count": null,
   "id": "18d2aea4-e14f-4e81-9305-dc12dd6ec05e",
   "metadata": {},
   "outputs": [],
   "source": []
  },
  {
   "cell_type": "code",
   "execution_count": null,
   "id": "b915fd4d-ca09-440f-87f9-bb039db73982",
   "metadata": {},
   "outputs": [],
   "source": []
  },
  {
   "cell_type": "markdown",
   "id": "8145d551-cb04-4a2e-a38e-f3be6c2c7891",
   "metadata": {
    "tags": []
   },
   "source": [
    "# Viz"
   ]
  },
  {
   "cell_type": "code",
   "execution_count": null,
   "id": "1df4ad8c-acd9-45ec-b230-8580918f920d",
   "metadata": {},
   "outputs": [],
   "source": [
    "%%time\n",
    "# output = os.path.join(respth, 'fig1_basis_space.pdf')\n",
    "output = None\n",
    "powerplots.plot_basis_spatial(df, output=output)\n"
   ]
  },
  {
   "cell_type": "code",
   "execution_count": null,
   "id": "168a5f89-0182-4291-b177-6cfa9653b451",
   "metadata": {},
   "outputs": [],
   "source": []
  },
  {
   "cell_type": "code",
   "execution_count": null,
   "id": "513766d9-96f1-47d6-8be4-54ee0d5d80fa",
   "metadata": {},
   "outputs": [],
   "source": []
  },
  {
   "cell_type": "code",
   "execution_count": null,
   "id": "613b1866-e012-4ee1-b857-2e691838731f",
   "metadata": {},
   "outputs": [],
   "source": []
  },
  {
   "cell_type": "code",
   "execution_count": null,
   "id": "7fe148fb-3f41-43f8-a851-0fa062b26389",
   "metadata": {},
   "outputs": [],
   "source": []
  },
  {
   "cell_type": "code",
   "execution_count": null,
   "id": "f2069b0c-1bf4-4097-b20b-43758b19d4f9",
   "metadata": {},
   "outputs": [],
   "source": []
  },
  {
   "cell_type": "code",
   "execution_count": null,
   "id": "4ed720d7-81be-44ee-9862-a613c911aabf",
   "metadata": {},
   "outputs": [],
   "source": []
  },
  {
   "cell_type": "code",
   "execution_count": null,
   "id": "7ff65161-b1ad-4f52-a74e-6830f71eb6ca",
   "metadata": {},
   "outputs": [],
   "source": [
    "%%time\n",
    "dfsub = df[df['hemi']==1]\n",
    "# output = os.path.join(respth, 'fig1-2_basis_space_righthalf.pdf')\n",
    "output = None\n",
    "powerplots.plot_basis_spatial(dfsub, pmode='right_half', xcol='x', ycol='y', output=output)"
   ]
  },
  {
   "cell_type": "code",
   "execution_count": null,
   "id": "b15234ef-d622-42f6-b251-2e18707597e3",
   "metadata": {},
   "outputs": [],
   "source": [
    "%%time\n",
    "# output = os.path.join(respth, 'fig2_basis_umap.pdf')\n",
    "output = None\n",
    "powerplots.plot_basis_umap(df, output=output)"
   ]
  },
  {
   "cell_type": "code",
   "execution_count": null,
   "id": "18b94379-ef34-49c0-86ec-a8de8d764583",
   "metadata": {},
   "outputs": [],
   "source": [
    "%%time\n",
    "# # resolutions = np.sort([ for col in typecols])\n",
    "#     r = float(col[len(\"type_r\"):])\n",
    "\n",
    "typecols = df.filter(regex='^type_r', axis=1).columns\n",
    "for i, col in enumerate(typecols):\n",
    "    hue = col\n",
    "    # output = os.path.join(respth, f'fig3-{i}_{col}.pdf')\n",
    "    output = None\n",
    "    powerplots.plot_type_spatial_umap(df, hue, output=output)"
   ]
  },
  {
   "cell_type": "code",
   "execution_count": null,
   "id": "30685e68-d3ce-4151-95c7-d98a25778d94",
   "metadata": {},
   "outputs": [],
   "source": [
    "ktypecols = df.filter(regex='^ktype_L', axis=1).columns\n",
    "for i, col in enumerate(ktypecols):\n",
    "    hue = col\n",
    "    # output = os.path.join(respth, f'fig4-{i}_{col}.pdf')\n",
    "    output = None\n",
    "    powerplots.plot_type_spatial_umap(df, hue, output=output)"
   ]
  },
  {
   "cell_type": "code",
   "execution_count": null,
   "id": "d00d6ff9-b372-40aa-9082-6778319908c0",
   "metadata": {},
   "outputs": [],
   "source": [
    "cols = df.filter(regex='^regtype', axis=1).columns\n",
    "for i, col in enumerate(cols):\n",
    "    hue = col\n",
    "    # output = os.path.join(respth, f'fig4-{i}_{col}.pdf')\n",
    "    output = None\n",
    "    powerplots.plot_type_spatial_umap(df, hue, output=output)"
   ]
  }
 ],
 "metadata": {
  "kernelspec": {
   "display_name": "Python 3 (ipykernel)",
   "language": "python",
   "name": "python3"
  },
  "language_info": {
   "codemirror_mode": {
    "name": "ipython",
    "version": 3
   },
   "file_extension": ".py",
   "mimetype": "text/x-python",
   "name": "python",
   "nbconvert_exporter": "python",
   "pygments_lexer": "ipython3",
   "version": "3.10.2"
  }
 },
 "nbformat": 4,
 "nbformat_minor": 5
}
