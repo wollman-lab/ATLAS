{
 "cells": [
  {
   "cell_type": "code",
   "execution_count": null,
   "id": "b6b73bd4-0ecc-4811-9a80-53090a45dce5",
   "metadata": {},
   "outputs": [],
   "source": [
    "import matplotlib\n",
    "import matplotlib.pyplot as plt \n",
    "import numpy as np\n",
    "import pandas as pd\n",
    "import os\n",
    "import umap\n",
    "import datashader as ds\n",
    "import colorcet as cc\n",
    "import igraph\n",
    "import tqdm\n",
    "from scipy import sparse\n",
    "import pandas as pd\n",
    "from sklearn.neighbors import NearestNeighbors\n",
    "from sklearn.decomposition import LatentDirichletAllocation\n",
    "from sklearn.cluster import KMeans\n",
    "from scipy.spatial import Delaunay\n",
    "\n",
    "from matplotlib.collections import PolyCollection\n",
    "from matplotlib.colors import ListedColormap\n",
    "\n",
    "from dredFISH.Analysis import TissueGraph\n",
    "from dredFISH.Visualization import Viz\n",
    "from dredFISH.Utils.__init__plots import * \n",
    "from dredFISH.Utils import powerplots\n",
    "from dredFISH.Utils import miscu\n",
    "from dredFISH.Utils import tmgu\n",
    "\n",
    "import importlib\n",
    "importlib.reload(Viz)\n",
    "importlib.reload(TissueGraph)"
   ]
  },
  {
   "cell_type": "markdown",
   "id": "7128fcc3-ec0c-46cb-a0fb-6fc7ad1e2303",
   "metadata": {
    "tags": []
   },
   "source": [
    "#### Load data"
   ]
  },
  {
   "cell_type": "code",
   "execution_count": null,
   "id": "41a21828-7123-41ff-90f1-ccf15e7e1f70",
   "metadata": {},
   "outputs": [],
   "source": [
    "respath = '/bigstore/GeneralStorage/fangming/projects/dredfish/figures/'"
   ]
  },
  {
   "cell_type": "code",
   "execution_count": null,
   "id": "a3e34f5d-eb05-4bee-a092-3515a72a3f55",
   "metadata": {},
   "outputs": [],
   "source": [
    "basepth = '/bigstore/GeneralStorage/Data/dredFISH/Dataset1-t5'\n",
    "!ls -alhtr $basepth\n",
    "!head $basepth\"/TMG.json\""
   ]
  },
  {
   "cell_type": "code",
   "execution_count": null,
   "id": "cfe2e9d5-b693-46f6-a5af-d99e5c2884c4",
   "metadata": {},
   "outputs": [],
   "source": [
    "df = pd.read_csv(\n",
    "    os.path.join(basepth, \"default_analysis.csv\"), index_col=0)\n",
    "df"
   ]
  },
  {
   "cell_type": "code",
   "execution_count": null,
   "id": "58e329f8-3630-4ad4-989f-7a1ced4d71e7",
   "metadata": {},
   "outputs": [],
   "source": [
    "TMG = TissueGraph.TissueMultiGraph(basepath=basepth, \n",
    "                                   redo=False, # load existing \n",
    "                                  )"
   ]
  },
  {
   "cell_type": "code",
   "execution_count": null,
   "id": "4b86cb23-bf8b-401f-905f-dd40dd8e8ee8",
   "metadata": {},
   "outputs": [],
   "source": [
    "# spatial coordinates\n",
    "layer = TMG.Layers[0]\n",
    "XY = layer.XY\n",
    "x, y = XY[:,0], XY[:,1]\n",
    "###\n",
    "x, y = y, x # a temporary hack\n",
    "###\n",
    "\n",
    "cells = layer.adata.obs.index.values\n",
    "\n",
    "N = layer.N\n",
    "# measured basis\n",
    "ftrs_mat = layer.feature_mat\n",
    "\n",
    "# umap_mat = umap.UMAP(n_neighbors=30, min_dist=0.1).fit_transform(ftrs_mat)\n",
    "\n"
   ]
  },
  {
   "cell_type": "code",
   "execution_count": null,
   "id": "b8067b89-8f75-40e4-9959-c1850a60c04d",
   "metadata": {},
   "outputs": [],
   "source": [
    "# types\n",
    "types = df['type_r0.1'].values\n",
    "# local env\n",
    "# env_mat = get_local_typeabundance(layer.SG, types)"
   ]
  },
  {
   "cell_type": "code",
   "execution_count": null,
   "id": "1db3e4e9-c2d0-411f-9cc9-36469a9cd5d0",
   "metadata": {},
   "outputs": [],
   "source": [
    "dd = Delaunay(XY)\n",
    "EL = np.zeros((dd.simplices.shape[0]*3,2),dtype=np.int64)\n",
    "for i in range(dd.simplices.shape[0]): \n",
    "    EL[i*3,  :] = [dd.simplices[i,0], dd.simplices[i,1]]\n",
    "    EL[i*3+1,:] = [dd.simplices[i,0], dd.simplices[i,2]]\n",
    "    EL[i*3+2,:] = [dd.simplices[i,1], dd.simplices[i,2]]\n",
    "    \n",
    "tSG = igraph.Graph(n=len(XY), edges=list(zip(EL[:,0], EL[:,1])), directed=False).simplify()"
   ]
  },
  {
   "cell_type": "code",
   "execution_count": null,
   "id": "a1e87e6e-dde4-4e75-89d2-e9244c5f3264",
   "metadata": {},
   "outputs": [],
   "source": [
    "tSG_adj = tSG.get_adjacency_sparse()\n",
    "tSG_recon = tmgu.adjacency_to_igraph(tSG_adj, directed=False)"
   ]
  },
  {
   "cell_type": "code",
   "execution_count": null,
   "id": "c51c4a93-f5e8-462d-b24b-89fdd41a5921",
   "metadata": {},
   "outputs": [],
   "source": [
    "dgr = layer.SG.indegree() # same as out\n",
    "dgr_t = tSG.indegree()\n",
    "dgr_tr = tSG_recon.indegree()\n",
    "\n",
    "fig, ax = plt.subplots()\n",
    "sns.histplot(data=dgr, element='step', bins=np.arange(0, 21), ax=ax)\n",
    "ax.set_xlabel('Number of Delaunay neighbors')\n",
    "ax.set_ylabel('Number of cells')\n",
    "plt.show()\n",
    "\n",
    "fig, ax = plt.subplots()\n",
    "sns.histplot(data=np.array(dgr_t), element='step', bins=np.arange(0, 21), ax=ax)\n",
    "ax.set_xlabel('Number of Delaunay neighbors')\n",
    "ax.set_ylabel('Number of cells')\n",
    "plt.show()\n",
    "\n",
    "fig, ax = plt.subplots()\n",
    "sns.histplot(data=dgr_tr, element='step', bins=np.arange(0, 21), ax=ax)\n",
    "ax.set_xlabel('Number of Delaunay neighbors')\n",
    "ax.set_ylabel('Number of cells')\n",
    "plt.show()"
   ]
  },
  {
   "cell_type": "code",
   "execution_count": null,
   "id": "b12c678a-1c10-4a8f-9689-7fcbc4e5bf10",
   "metadata": {},
   "outputs": [],
   "source": [
    "polys = XY[dd.convex_hull]\n",
    "polys2 = TMG.Geoms[0]['poly'] #) #) #[0]\n",
    "\n",
    "xcoords = polys[:,:,0]\n",
    "xmin, xmax = np.min(xcoords), np.max(xcoords)\n",
    "\n",
    "ycoords = polys[:,:,1]\n",
    "ymin, ymax = np.min(ycoords), np.max(ycoords)\n",
    "\n",
    "fig, ax = plt.subplots(figsize=(20,20))\n",
    "ax.scatter(XY[::10,0], XY[::10,1], s=0.1, color='k')\n",
    "p2 = LineCollection(polys2, color='C1', linewidth=0.2)\n",
    "p = LineCollection(polys)\n",
    "ax.add_collection(p)\n",
    "ax.add_collection(p2)\n",
    "ax.set_aspect('equal') #, 'box')\n",
    "ax.set_xlim(xmin, xmax)\n",
    "ax.set_ylim(ymin, ymax)\n",
    "plt.show()"
   ]
  },
  {
   "cell_type": "code",
   "execution_count": null,
   "id": "4a5042c5-658c-457e-a4e3-699e2a3ecb48",
   "metadata": {},
   "outputs": [],
   "source": [
    "polys = XY[dd.convex_hull]\n",
    "polys2 = TMG.Geoms[0]['poly'] #) #) #[0]\n",
    "\n",
    "xcoords = polys[:,:,0]\n",
    "xmin, xmax = np.min(xcoords), np.max(xcoords)\n",
    "\n",
    "ycoords = polys[:,:,1]\n",
    "ymin, ymax = np.min(ycoords), np.max(ycoords)\n",
    "\n",
    "fig, ax = plt.subplots(figsize=(15,15))\n",
    "ax.scatter(XY[::,0], XY[::,1], s=0.2, color='k')\n",
    "p2 = LineCollection(polys2, color='C1', linewidth=0.2)\n",
    "p = LineCollection(polys)\n",
    "ax.add_collection(p)\n",
    "ax.add_collection(p2)\n",
    "ax.set_aspect('equal') #, 'box')\n",
    "ax.set_xlim(-2000,0) #xmin, xmax)\n",
    "ax.set_ylim(-1000,0) #ymin, ymax)\n",
    "ax.axis('off')\n",
    "\n",
    "plt.show()"
   ]
  },
  {
   "cell_type": "code",
   "execution_count": null,
   "id": "b15833eb-9a9f-4889-bd92-0979b7a1fad1",
   "metadata": {},
   "outputs": [],
   "source": []
  }
 ],
 "metadata": {
  "kernelspec": {
   "display_name": "Python 3 (ipykernel)",
   "language": "python",
   "name": "python3"
  },
  "language_info": {
   "codemirror_mode": {
    "name": "ipython",
    "version": 3
   },
   "file_extension": ".py",
   "mimetype": "text/x-python",
   "name": "python",
   "nbconvert_exporter": "python",
   "pygments_lexer": "ipython3",
   "version": "3.10.2"
  }
 },
 "nbformat": 4,
 "nbformat_minor": 5
}
