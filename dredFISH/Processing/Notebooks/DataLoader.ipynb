{
 "cells": [
  {
   "cell_type": "code",
   "execution_count": null,
   "id": "e06b6409-c578-4323-8994-c8f3fa672c84",
   "metadata": {},
   "outputs": [],
   "source": [
    "from fish_helpers import *\n",
    "import anndata"
   ]
  },
  {
   "cell_type": "code",
   "execution_count": null,
   "id": "0e74720b-afe0-4c2c-95cc-b22101e619a8",
   "metadata": {},
   "outputs": [],
   "source": [
    "class DataLoader(object):\n",
    "    def __init__(self,\n",
    "                 project,\n",
    "                 verbose=False):\n",
    "        self.project = project\n",
    "        self.verbose = verbose\n",
    "        self.base_path = '/bigstore/GeneralStorage/Data'\n",
    "        self.project_path = os.path.join(self.base_path,self.project)\n",
    "        \n",
    "    def load_all_data(self,dtype):\n",
    "        files = [i for i in os.listdir(self.project_path) if dtype in i]\n",
    "        out = []\n",
    "        for file in files:\n",
    "            data = self.load_data(file,dtype)\n",
    "            if isinstance(data,type(None)):\n",
    "                continue\n",
    "            out.append(data)\n",
    "        out = self.merge_data(out,dtype)\n",
    "        return out\n",
    "\n",
    "    def load_data(self,file,dtype):\n",
    "        full_fname = os.path.join(self.project_path,file)\n",
    "        try:\n",
    "            if dtype == 'h5ad':\n",
    "                data = anndata.read_h5ad(full_fname)\n",
    "            else:\n",
    "                data = None\n",
    "        except Exception as e:\n",
    "            print(e)\n",
    "            print(file)\n",
    "            print(dtype)\n",
    "            data = None\n",
    "        return data\n",
    "\n",
    "    def merge_data(self,data,dtype):\n",
    "        try:\n",
    "            if dtype=='h5ad':\n",
    "                data = anndata.concat(data)\n",
    "            else:\n",
    "                data = None\n",
    "        except Exception as e:\n",
    "            print(e)\n",
    "            print(dtype)\n",
    "            data = None\n",
    "        return data"
   ]
  }
 ],
 "metadata": {
  "kernelspec": {
   "display_name": "Python 3 (ipykernel)",
   "language": "python",
   "name": "python3"
  },
  "language_info": {
   "codemirror_mode": {
    "name": "ipython",
    "version": 3
   },
   "file_extension": ".py",
   "mimetype": "text/x-python",
   "name": "python",
   "nbconvert_exporter": "python",
   "pygments_lexer": "ipython3",
   "version": "3.10.2"
  }
 },
 "nbformat": 4,
 "nbformat_minor": 5
}
