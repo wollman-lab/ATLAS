{
 "cells": [
  {
   "cell_type": "code",
   "execution_count": null,
   "metadata": {},
   "outputs": [],
   "source": [
    "from metadata import Metadata\n",
    "from dredFISH.Utils import imageu"
   ]
  },
  {
   "cell_type": "code",
   "execution_count": null,
   "metadata": {},
   "outputs": [],
   "source": [
    "base_path = '/orangedata/Images2024/Zach/MouseBrainAtlas/MMSM01_1.1.A_2.1.B_3.1.C_4.1.F_5.1.E_6.1.D_2024Apr15'\n",
    "image_metadata = Metadata(base_path)"
   ]
  },
  {
   "cell_type": "code",
   "execution_count": null,
   "metadata": {},
   "outputs": [],
   "source": [
    "acqs = sorted([i for i in image_metadata.acqnames if 'ybe21' in i])\n",
    "file_list = image_metadata.stkread(Channel='FarRed',acq=acqs[0],groupby='Channel',fnames_only = True)\n",
    "(FF, C) = imageu.estimate_flatfield_and_constant(file_list)"
   ]
  },
  {
   "cell_type": "code",
   "execution_count": null,
   "metadata": {},
   "outputs": [],
   "source": [
    "import matplotlib.pyplot as plt\n",
    "channel = 'FarRed'\n",
    "acq = acqs[0]\n",
    "fig,axs = plt.subplots(1,2,figsize=[12,4])\n",
    "fig.suptitle(f\"{acq} {channel}\")\n",
    "axs = axs.ravel()\n",
    "ax = axs[0]\n",
    "im = ax.imshow(C,cmap='jet')\n",
    "plt.colorbar(im,ax=ax)\n",
    "ax.axis('off')\n",
    "ax.set_title(\"const\")\n",
    "ax = axs[1]\n",
    "im=ax.imshow(FF,cmap='jet')\n",
    "plt.colorbar(im,ax=ax)\n",
    "ax.axis('off')\n",
    "ax.set_title(\"FF\")\n",
    "plt.show()"
   ]
  },
  {
   "cell_type": "code",
   "execution_count": null,
   "metadata": {},
   "outputs": [],
   "source": [
    "raise"
   ]
  },
  {
   "cell_type": "code",
   "execution_count": 1,
   "metadata": {},
   "outputs": [
    {
     "name": "stderr",
     "output_type": "stream",
     "text": [
      "<frozen importlib._bootstrap>:228: RuntimeWarning: scipy._lib.messagestream.MessageStream size changed, may indicate binary incompatibility. Expected 56 from C header, got 64 from PyObject\n"
     ]
    }
   ],
   "source": [
    "from metadata import Metadata\n",
    "from dredFISH.Utils import imageu\n",
    "import multiprocessing\n",
    "from functools import partial\n",
    "from tqdm import tqdm\n",
    "from dredFISH.Utils import fileu\n",
    "import os\n",
    "import matplotlib.pyplot as plt\n",
    "import shutil\n",
    "def wrapper(acq,image_metadata,channel,path=''):\n",
    "    try:\n",
    "        image_metadata = Metadata(os.path.join(image_metadata,acq))\n",
    "        well = [i for i in image_metadata.base_pth.split('/') if not i==''][-2].split('_')[0]#image_metadata.posnames[0].split('-')[0]\n",
    "        f = fileu.generate_filename(section=well,path=path,hybe=acq,channel=channel,file_type='FF')\n",
    "        if os.path.exists(f):\n",
    "            try:\n",
    "                FF = fileu.load(section=well,path=path,hybe=acq,channel=channel,file_type='FF')\n",
    "            except:\n",
    "                FF = None\n",
    "        else:\n",
    "            FF = None\n",
    "\n",
    "        f = fileu.generate_filename(section=well,path=path,hybe=acq,channel=channel,file_type='constant')\n",
    "        if os.path.exists(f):\n",
    "            try:\n",
    "                C = fileu.load(section=well,path=path,hybe=acq,channel=channel,file_type='constant')\n",
    "            except:\n",
    "                C = None\n",
    "        else:\n",
    "            C = None\n",
    "        if isinstance(C,type(None))|isinstance(FF,type(None)):\n",
    "            file_list = image_metadata.stkread(Channel=channel,acq=acq,groupby='Channel',fnames_only = True)\n",
    "            (FF, C) = imageu.estimate_flatfield_and_constant(file_list)\n",
    "            fileu.save(FF,section=well,path=path,hybe=acq,channel=channel,file_type='FF')\n",
    "            fileu.save(FF*1000,section=well,path=path,hybe=acq,channel=channel,file_type='image_FF')\n",
    "            fileu.save(C,section=well,path=path,hybe=acq,channel=channel,file_type='constant')\n",
    "            fileu.save(C,section=well,path=path,hybe=acq,channel=channel,file_type='image_constant')\n",
    "\n",
    "        return well,acq,FF,C\n",
    "    except Exception as e:\n",
    "        print(f\"{acq} Failed\")\n",
    "        print(e)\n",
    "        return None,acq,None,None\n",
    "\n",
    "def generate_image_parameters(base_path,overwrite=True,nthreads = 10):\n",
    "    dataset = [i for i in base_path.split('/') if not i==''][-1]\n",
    "    out_path = os.path.join(base_path,'microscope_parameters')\n",
    "    if overwrite:\n",
    "        if os.path.exists(out_path):\n",
    "            shutil.rmtree(out_path)\n",
    "    if not os.path.exists(out_path):\n",
    "        os.mkdir(out_path)\n",
    "    image_metadata = Metadata(base_path)\n",
    "    for channel in ['FarRed','DeepBlue']:\n",
    "        Input = sorted([i for i in image_metadata.acqnames if ('ybe' in i)|('rip' in i)])\n",
    "        pfunc = partial(wrapper,image_metadata=base_path,channel=channel,path=out_path)\n",
    "        with multiprocessing.Pool(nthreads) as p:\n",
    "            for well,acq,FF,C in tqdm(p.imap(pfunc,Input),total=len(Input),desc=f\"{dataset} {channel}\"):\n",
    "                if isinstance(FF,type(None)):\n",
    "                    continue\n",
    "                fig,axs = plt.subplots(1,2,figsize=[12,4])\n",
    "                fig.suptitle(f\"{dataset} {acq} {well} {channel}\")\n",
    "                axs = axs.ravel()\n",
    "                ax = axs[0]\n",
    "                im = ax.imshow(C,cmap='jet')\n",
    "                plt.colorbar(im,ax=ax)\n",
    "                ax.axis('off')\n",
    "                ax.set_title(\"const\")\n",
    "                ax = axs[1]\n",
    "                im=ax.imshow(FF,cmap='jet')\n",
    "                plt.colorbar(im,ax=ax)\n",
    "                ax.axis('off')\n",
    "                ax.set_title(\"FF\")\n",
    "                path = fileu.generate_filename(section=well,path=out_path,hybe=acq,channel=channel,file_type='Figure')\n",
    "                plt.savefig(path)\n",
    "                plt.close('all')\n",
    "\n",
    "# generate_image_parameters(base_path,overwrite=True,nthreads = 10)\n",
    "\n",
    "\n",
    "# for dataset in os.listdir(base_path):\n",
    "    # if not (('WTM01' in dataset)|('WTF01' in dataset)):\n",
    "    #     continue\n",
    "    # results[dataset] = {}\n",
    "    # image_metadata = Metadata(os.path.join(base_path,dataset))\n",
    "    # out_path = os.path.join(base_path,dataset,'microscope_parameters')\n",
    "    # if not os.path.exists(out_path):\n",
    "    #     os.mkdir(out_path)\n",
    "    # for channel in ['FarRed','DeepBlue']:\n",
    "    #     results[dataset][channel] = {}\n",
    "    #     Input = sorted([i for i in image_metadata.acqnames if ('ybe' in i)|('rip' in i)])\n",
    "    #     pfunc = partial(wrapper,image_metadata=os.path.join(base_path,dataset),channel=channel,path=out_path)\n",
    "    #     with multiprocessing.Pool(nthreads) as p:\n",
    "    #         for well,acq,FF,C in tqdm(p.imap(pfunc,Input),total=len(Input),desc=f\"{dataset} {channel}\"):\n",
    "    #             if isinstance(FF,type(None)):\n",
    "    #                 continue\n",
    "    #             # results[dataset][channel][acq]  = {}\n",
    "    #             # results[dataset][channel][acq]['well'] = well\n",
    "    #             # results[dataset][channel][acq]['FF'] = FF\n",
    "    #             # results[dataset][channel][acq]['C'] = C\n",
    "    #             fig,axs = plt.subplots(1,2,figsize=[12,4])\n",
    "    #             fig.suptitle(f\"{dataset} {acq} {well} {channel}\")\n",
    "    #             axs = axs.ravel()\n",
    "    #             ax = axs[0]\n",
    "    #             im = ax.imshow(C,cmap='jet')\n",
    "    #             plt.colorbar(im,ax=ax)\n",
    "    #             ax.axis('off')\n",
    "    #             ax.set_title(\"const\")\n",
    "    #             ax = axs[1]\n",
    "    #             im=ax.imshow(FF,cmap='jet')\n",
    "    #             plt.colorbar(im,ax=ax)\n",
    "    #             ax.axis('off')\n",
    "    #             ax.set_title(\"FF\")\n",
    "    #             path = fileu.generate_filename(section=well,path=out_path,hybe=acq,channel=channel,file_type='Figure')\n",
    "    #             plt.savefig(path)\n",
    "    #             plt.close('all')\n",
    "    #             # plt.show()"
   ]
  },
  {
   "cell_type": "code",
   "execution_count": 2,
   "metadata": {},
   "outputs": [
    {
     "data": {
      "text/plain": [
       "['MMSF01_6.3.A_5.3.B_4.3.C_3.3.F_2.3.E_1.3.D_2024Apr15',\n",
       " 'WTF01_1.2.A_2.2.B_3.2.C_4.2.D_5.2.E_6.2.F_2024Apr08',\n",
       " 'WTM02_3.1.A_2.3.B_3.3.D_1.2.E_2024Apr01',\n",
       " 'PTZM01_1.2.A_2.2.B_3.2.C_4.2.F_5.2.E_6.2.D_2024Apr22',\n",
       " 'MMSM01_1.1.A_2.1.B_3.1.C_4.1.F_5.1.E_6.1.D_2024Apr15',\n",
       " 'WTM01_3.2.A_2.2.B_1.2.C_6.2.D_5.2.E_4.2.F_2024Apr08',\n",
       " 'PTZF01_1.2.A_2.2.B_3.2.C_4.2.F_5.2.E_6.2.D_2024Apr22',\n",
       " 'WTM02_2.2.A_1.1.B_2.1.D_3.2.E_2024Apr01']"
      ]
     },
     "execution_count": 2,
     "metadata": {},
     "output_type": "execute_result"
    }
   ],
   "source": [
    "os.listdir(base_path)"
   ]
  },
  {
   "cell_type": "code",
   "execution_count": 1,
   "metadata": {},
   "outputs": [
    {
     "name": "stderr",
     "output_type": "stream",
     "text": [
      "<frozen importlib._bootstrap>:228: RuntimeWarning: scipy._lib.messagestream.MessageStream size changed, may indicate binary incompatibility. Expected 56 from C header, got 64 from PyObject\n",
      "WTM01_3.2.A_2.2.B_1.2.C_6.2.D_5.2.E_4.2.F_2024Apr08 FarRed:  14%|█▎        | 46/336 [18:35<3:47:56, 47.16s/it]  "
     ]
    }
   ],
   "source": [
    "from dredFISH.Utils.imageu import *\n",
    "base_path = '/orangedata/Images2024/Zach/MouseBrainAtlas/'\n",
    "dataset = 'WTM01_3.2.A_2.2.B_1.2.C_6.2.D_5.2.E_4.2.F_2024Apr08'\n",
    "generate_image_parameters(os.path.join(base_path,dataset),overwrite=False,nthreads = 10)"
   ]
  }
 ],
 "metadata": {
  "kernelspec": {
   "display_name": "dredfish_3.9",
   "language": "python",
   "name": "python3"
  },
  "language_info": {
   "codemirror_mode": {
    "name": "ipython",
    "version": 3
   },
   "file_extension": ".py",
   "mimetype": "text/x-python",
   "name": "python",
   "nbconvert_exporter": "python",
   "pygments_lexer": "ipython3",
   "version": "3.9.0"
  }
 },
 "nbformat": 4,
 "nbformat_minor": 2
}
