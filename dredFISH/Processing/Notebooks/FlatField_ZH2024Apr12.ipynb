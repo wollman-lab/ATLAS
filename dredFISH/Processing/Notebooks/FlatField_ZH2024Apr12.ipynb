{
 "cells": [
  {
   "cell_type": "code",
   "execution_count": 1,
   "metadata": {},
   "outputs": [
    {
     "name": "stderr",
     "output_type": "stream",
     "text": [
      "<frozen importlib._bootstrap>:228: RuntimeWarning: scipy._lib.messagestream.MessageStream size changed, may indicate binary incompatibility. Expected 56 from C header, got 64 from PyObject\n"
     ]
    }
   ],
   "source": [
    "import os\n",
    "from tqdm import tqdm\n",
    "import cv2\n",
    "import multiprocessing\n",
    "from metadata import Metadata\n",
    "import matplotlib.pyplot as plt\n",
    "from dredFISH.Processing.Section import *\n",
    "import numpy as np\n",
    "import torch\n",
    "from scipy.ndimage import gaussian_filter,percentile_filter,median_filter,minimum_filter\n",
    "dataset_path = '/orangedata/Images2024/Zach/MouseBrainAtlas/WTM02_3.1.A_2.3.B_3.3.D_1.2.E_2024Apr01'\n",
    "image_metadata = Metadata(dataset_path)\n"
   ]
  },
  {
   "cell_type": "code",
   "execution_count": 2,
   "metadata": {},
   "outputs": [
    {
     "data": {
      "text/plain": [
       "['Hybe21_69', 'Hybe21_70', 'Hybe21_71', 'Hybe21_72']"
      ]
     },
     "execution_count": 2,
     "metadata": {},
     "output_type": "execute_result"
    }
   ],
   "source": [
    "sorted([i for i in image_metadata.acqnames if 'ybe21' in i])"
   ]
  },
  {
   "cell_type": "code",
   "execution_count": 3,
   "metadata": {},
   "outputs": [
    {
     "data": {
      "text/plain": [
       "['Strip21_65', 'Strip21_66', 'Strip21_67', 'Strip21_68']"
      ]
     },
     "execution_count": 3,
     "metadata": {},
     "output_type": "execute_result"
    }
   ],
   "source": [
    "sorted([i for i in image_metadata.acqnames if 'rip21' in i])"
   ]
  },
  {
   "cell_type": "code",
   "execution_count": 4,
   "metadata": {},
   "outputs": [
    {
     "name": "stderr",
     "output_type": "stream",
     "text": [
      "2024 April 12 21:05:30 Generating FlatField Hybe21_70 FarRed:   0%|          | 0/283 [00:00<?, ?it/s]\n"
     ]
    },
    {
     "ename": "KeyError",
     "evalue": "'numpy_dtype'",
     "output_type": "error",
     "traceback": [
      "\u001b[0;31m---------------------------------------------------------------------------\u001b[0m",
      "\u001b[0;31mKeyError\u001b[0m                                  Traceback (most recent call last)",
      "Input \u001b[0;32mIn [4]\u001b[0m, in \u001b[0;36m<cell line: 29>\u001b[0;34m()\u001b[0m\n\u001b[1;32m     26\u001b[0m bkg_acq \u001b[38;5;241m=\u001b[39m \u001b[38;5;124m'\u001b[39m\u001b[38;5;124mStrip21_66\u001b[39m\u001b[38;5;124m'\u001b[39m\n\u001b[1;32m     27\u001b[0m channel \u001b[38;5;241m=\u001b[39m \u001b[38;5;124m'\u001b[39m\u001b[38;5;124mFarRed\u001b[39m\u001b[38;5;124m'\u001b[39m\n\u001b[0;32m---> 29\u001b[0m FF,constant \u001b[38;5;241m=\u001b[39m \u001b[43mgenerate_FF_parallel\u001b[49m\u001b[43m(\u001b[49m\u001b[43mimage_metadata\u001b[49m\u001b[43m,\u001b[49m\u001b[43macq\u001b[49m\u001b[38;5;241;43m=\u001b[39;49m\u001b[43macq\u001b[49m\u001b[43m,\u001b[49m\u001b[43mchannel\u001b[49m\u001b[38;5;241;43m=\u001b[39;49m\u001b[43mchannel\u001b[49m\u001b[43m,\u001b[49m\u001b[43mbkg_acq\u001b[49m\u001b[38;5;241;43m=\u001b[39;49m\u001b[43mbkg_acq\u001b[49m\u001b[43m,\u001b[49m\u001b[43mparameters\u001b[49m\u001b[38;5;241;43m=\u001b[39;49m\u001b[43mparameters\u001b[49m\u001b[43m,\u001b[49m\u001b[43mverbose\u001b[49m\u001b[38;5;241;43m=\u001b[39;49m\u001b[38;5;28;43;01mTrue\u001b[39;49;00m\u001b[43m)\u001b[49m\n",
      "File \u001b[0;32m~/PythonRepos/dredFISH/dredFISH/Processing/Section.py:1409\u001b[0m, in \u001b[0;36mgenerate_FF_parallel\u001b[0;34m(image_metadata, acq, channel, posnames, bkg_acq, parameters, verbose)\u001b[0m\n\u001b[1;32m   1407\u001b[0m n_cpu \u001b[38;5;241m=\u001b[39m parameters[\u001b[38;5;124m'\u001b[39m\u001b[38;5;124mFF_n_cpu\u001b[39m\u001b[38;5;124m'\u001b[39m]\n\u001b[1;32m   1408\u001b[0m \u001b[38;5;28;01mif\u001b[39;00m n_cpu \u001b[38;5;241m==\u001b[39m \u001b[38;5;241m1\u001b[39m:\n\u001b[0;32m-> 1409\u001b[0m     FF,constant \u001b[38;5;241m=\u001b[39m \u001b[43mgenerate_FF\u001b[49m\u001b[43m(\u001b[49m\u001b[43mimage_metadata\u001b[49m\u001b[43m,\u001b[49m\u001b[43macq\u001b[49m\u001b[43m,\u001b[49m\u001b[43mchannel\u001b[49m\u001b[43m,\u001b[49m\u001b[43mposnames\u001b[49m\u001b[38;5;241;43m=\u001b[39;49m\u001b[43mposnames\u001b[49m\u001b[43m,\u001b[49m\u001b[43mbkg_acq\u001b[49m\u001b[38;5;241;43m=\u001b[39;49m\u001b[43mbkg_acq\u001b[49m\u001b[43m,\u001b[49m\u001b[43mparameters\u001b[49m\u001b[38;5;241;43m=\u001b[39;49m\u001b[43mparameters\u001b[49m\u001b[43m,\u001b[49m\u001b[43mverbose\u001b[49m\u001b[38;5;241;43m=\u001b[39;49m\u001b[43mverbose\u001b[49m\u001b[43m)\u001b[49m\n\u001b[1;32m   1410\u001b[0m \u001b[38;5;28;01melse\u001b[39;00m:\n\u001b[1;32m   1411\u001b[0m     Input \u001b[38;5;241m=\u001b[39m [posnames[i:i \u001b[38;5;241m+\u001b[39m \u001b[38;5;28mlen\u001b[39m(posnames)\u001b[38;5;241m/\u001b[39m\u001b[38;5;241m/\u001b[39mn_cpu] \u001b[38;5;28;01mfor\u001b[39;00m i \u001b[38;5;129;01min\u001b[39;00m \u001b[38;5;28mrange\u001b[39m(\u001b[38;5;241m0\u001b[39m, \u001b[38;5;28mlen\u001b[39m(posnames), \u001b[38;5;28mlen\u001b[39m(posnames)\u001b[38;5;241m/\u001b[39m\u001b[38;5;241m/\u001b[39mn_cpu)]\n",
      "File \u001b[0;32m~/PythonRepos/dredFISH/dredFISH/Processing/Section.py:1465\u001b[0m, in \u001b[0;36mgenerate_FF\u001b[0;34m(image_metadata, acq, channel, posnames, bkg_acq, parameters, verbose)\u001b[0m\n\u001b[1;32m   1462\u001b[0m n_pixels \u001b[38;5;241m=\u001b[39m \u001b[38;5;241m5\u001b[39m\n\u001b[1;32m   1463\u001b[0m \u001b[38;5;28;01mfor\u001b[39;00m i,posname \u001b[38;5;129;01min\u001b[39;00m \u001b[38;5;28menumerate\u001b[39m(iterable):\n\u001b[1;32m   1464\u001b[0m     \u001b[38;5;66;03m# try:\u001b[39;00m\n\u001b[0;32m-> 1465\u001b[0m     img \u001b[38;5;241m=\u001b[39m image_metadata\u001b[38;5;241m.\u001b[39mstkread(Position\u001b[38;5;241m=\u001b[39mposname,Channel\u001b[38;5;241m=\u001b[39mchannel,acq\u001b[38;5;241m=\u001b[39macq)\u001b[38;5;241m.\u001b[39mmin(\u001b[38;5;241m2\u001b[39m)\u001b[38;5;241m.\u001b[39mastype(\u001b[43mparameters\u001b[49m\u001b[43m[\u001b[49m\u001b[38;5;124;43m'\u001b[39;49m\u001b[38;5;124;43mnumpy_dtype\u001b[39;49m\u001b[38;5;124;43m'\u001b[39;49m\u001b[43m]\u001b[49m)\n\u001b[1;32m   1466\u001b[0m     img \u001b[38;5;241m=\u001b[39m np\u001b[38;5;241m.\u001b[39marray(Image\u001b[38;5;241m.\u001b[39mfromarray(image_filter(img,\u001b[38;5;124m'\u001b[39m\u001b[38;5;124mmedian\u001b[39m\u001b[38;5;124m'\u001b[39m,\u001b[38;5;241m2\u001b[39m))\u001b[38;5;241m.\u001b[39mresize(parameters[\u001b[38;5;124m'\u001b[39m\u001b[38;5;124mn_pixels\u001b[39m\u001b[38;5;124m'\u001b[39m],Image\u001b[38;5;241m.\u001b[39mBICUBIC),dtype\u001b[38;5;241m=\u001b[39mparameters[\u001b[38;5;124m'\u001b[39m\u001b[38;5;124mnumpy_dtype\u001b[39m\u001b[38;5;124m'\u001b[39m])\n\u001b[1;32m   1467\u001b[0m     \u001b[38;5;28;01mif\u001b[39;00m parameters[\u001b[38;5;124m'\u001b[39m\u001b[38;5;124mprocess_img_before_FF\u001b[39m\u001b[38;5;124m'\u001b[39m]:\n",
      "\u001b[0;31mKeyError\u001b[0m: 'numpy_dtype'"
     ]
    }
   ],
   "source": [
    "  \n",
    "parameters = {}\n",
    "parameters['acq_FF'] = False\n",
    "parameters['acq_constant'] = False\n",
    "\n",
    "parameters['use_FF'] = True\n",
    "parameters['use_constant'] = False\n",
    "\n",
    "parameters['fit_FF'] = False\n",
    "parameters['fit_constant'] = False\n",
    "\n",
    "parameters['smooth_FF'] = False\n",
    "parameters['smooth_constant'] = False\n",
    "\n",
    "parameters['clip_FF'] = False\n",
    "parameters['clip_constant'] = False\n",
    "\n",
    "parameters['FF_poly_degrees'] = 5\n",
    "parameters['constant_poly_degrees'] = 5\n",
    "\n",
    "parameters['post_strip_FF'] = True\n",
    "parameters['process_img_before_FF'] = False\n",
    "parameters['debug'] = False\n",
    "parameters['FF_n_cpu'] = 1\n",
    "\n",
    "acq = 'Hybe21_70'\n",
    "bkg_acq = 'Strip21_66'\n",
    "channel = 'FarRed'\n",
    "\n",
    "FF,constant = generate_FF_parallel(image_metadata,acq=acq,channel=channel,bkg_acq=bkg_acq,parameters=parameters,verbose=True)\n"
   ]
  },
  {
   "cell_type": "code",
   "execution_count": null,
   "metadata": {},
   "outputs": [],
   "source": [
    "img = FF.numpy()\n",
    "vmin,vmax = np.percentile(img.ravel(),[1,99])\n",
    "plt.imshow(np.clip(img,vmin,vmax),cmap='jet')\n",
    "plt.colorbar()\n",
    "plt.show()"
   ]
  },
  {
   "cell_type": "code",
   "execution_count": null,
   "metadata": {},
   "outputs": [],
   "source": [
    "img = median_filter(FF.numpy(),10)\n",
    "vmin,vmax = np.percentile(img.ravel(),[1,99])\n",
    "plt.imshow(np.clip(img,vmin,vmax),cmap='jet')\n",
    "plt.colorbar()\n",
    "plt.show()"
   ]
  },
  {
   "cell_type": "code",
   "execution_count": null,
   "metadata": {},
   "outputs": [],
   "source": [
    "img = constant.numpy()\n",
    "vmin,vmax = np.percentile(img.ravel(),[1,99])\n",
    "plt.imshow(np.clip(img,vmin,vmax),cmap='jet')\n",
    "plt.colorbar()\n",
    "plt.show()"
   ]
  }
 ],
 "metadata": {
  "kernelspec": {
   "display_name": "dredfish_3.9",
   "language": "python",
   "name": "python3"
  },
  "language_info": {
   "codemirror_mode": {
    "name": "ipython",
    "version": 3
   },
   "file_extension": ".py",
   "mimetype": "text/x-python",
   "name": "python",
   "nbconvert_exporter": "python",
   "pygments_lexer": "ipython3",
   "version": "3.9.0"
  }
 },
 "nbformat": 4,
 "nbformat_minor": 2
}
