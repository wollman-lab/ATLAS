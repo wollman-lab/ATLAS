{
 "cells": [
  {
   "cell_type": "markdown",
   "id": "3c5d34c9-e937-485a-a211-338800194c5e",
   "metadata": {
    "tags": []
   },
   "source": [
    "# Import Modules"
   ]
  },
  {
   "cell_type": "code",
   "execution_count": 1,
   "id": "8367a855-dcc7-47ea-93bb-597c6df2fb8b",
   "metadata": {},
   "outputs": [],
   "source": [
    "import sys\n",
    "sys.path.insert(0, '/home/fangming/projects/dredfish/packages/PySpots/')\n",
    "\n",
    "from fish_helpers import *\n",
    "from MERFISH_Objects.FISHData import *\n",
    "import anndata\n",
    "import scanpy as sc\n",
    "from sklearn.preprocessing import normalize"
   ]
  },
  {
   "cell_type": "markdown",
   "id": "0de2ca52-31c2-48cc-a862-fac6f7dbcad8",
   "metadata": {},
   "source": [
    "# Harmony integrate is slow to run"
   ]
  },
  {
   "cell_type": "markdown",
   "id": "36024c53-3490-499d-aa44-ae1d92545218",
   "metadata": {
    "tags": []
   },
   "source": [
    "# Load Data"
   ]
  },
  {
   "cell_type": "code",
   "execution_count": 2,
   "id": "e5e6dfee-dd55-4e64-a965-cf293043f0ee",
   "metadata": {},
   "outputs": [],
   "source": [
    "\"\"\" Measured Data \"\"\"\n",
    "data = anndata.read_h5ad('/bigstore/Images2021/gaby/dredFISH/DPNMF_PolyA_2021Nov19/results/clustered.h5ad')"
   ]
  },
  {
   "cell_type": "code",
   "execution_count": 3,
   "id": "d7675d5f-177a-42f8-a164-5fff64567611",
   "metadata": {},
   "outputs": [
    {
     "data": {
      "text/plain": [
       "AnnData object with n_obs × n_vars = 97786 × 24\n",
       "    obs: 'label', 'pixel_x', 'pixel_y', 'nuclei_size', 'nuclei_signal', 'cytoplasm_size', 'cytoplasm_signal', 'total_size', 'total_signal', 'posname', 'posname_stage_x', 'posname_stage_y', 'stage_x', 'stage_y', 'leiden', 'opt_types'\n",
       "    uns: 'leiden', 'neighbors'\n",
       "    obsm: 'stage'\n",
       "    layers: 'cytoplasm_vectors', 'nuclei_vectors', 'total_vectors'\n",
       "    obsp: 'connectivities', 'distances'"
      ]
     },
     "execution_count": 3,
     "metadata": {},
     "output_type": "execute_result"
    }
   ],
   "source": [
    "data"
   ]
  },
  {
   "cell_type": "code",
   "execution_count": 4,
   "id": "40166165-d503-4521-bcb8-a47c9858b158",
   "metadata": {},
   "outputs": [],
   "source": [
    "\"\"\" Reference Data \"\"\"\n",
    "ref_data = anndata.read_h5ad('/bigstore/binfo/mouse/Brain/DRedFISH/Allen_V3_Reference/SmartSeq_dpnmf/anndata.h5ad')"
   ]
  },
  {
   "cell_type": "code",
   "execution_count": 5,
   "id": "eed701e4-cc35-4d9a-8476-81abb3937160",
   "metadata": {},
   "outputs": [
    {
     "data": {
      "text/plain": [
       "AnnData object with n_obs × n_vars = 74973 × 24\n",
       "    obsm: 'Level_1_class_label', 'Level_2_neighborhood_label', 'Level_3_subclass_label', 'Level_4_supertype_label', 'Level_5_cluster_label', 'cell_type_accession_color', 'cell_type_accession_id', 'cell_type_accession_label', 'cell_type_alias_color', 'cell_type_alias_id', 'cell_type_alias_label', 'cell_type_alt_alias_color', 'cell_type_alt_alias_id', 'cell_type_alt_alias_label', 'cell_type_designation_color', 'cell_type_designation_id', 'cell_type_designation_label', 'class_color', 'class_label', 'class_order', 'cluster_color', 'cluster_label', 'cluster_order', 'cortical_layer_label', 'donor_sex_label', 'exp_component_name', 'external_donor_name_color', 'external_donor_name_id', 'external_donor_name_label', 'facs_population_plan_color', 'facs_population_plan_id', 'facs_population_plan_label', 'full_genotype_color', 'full_genotype_id', 'full_genotype_label', 'injection_materials_color', 'injection_materials_id', 'injection_materials_label', 'injection_method_color', 'injection_method_id', 'injection_method_label', 'injection_roi_color', 'injection_roi_id', 'injection_roi_label', 'injection_type_color', 'injection_type_id', 'injection_type_label', 'neighborhood_color', 'neighborhood_id', 'neighborhood_label', 'outlier_call', 'outlier_type', 'platform_label', 'region_color', 'region_id', 'region_label', 'sex_color', 'sex_id', 'subclass_color', 'subclass_label', 'subclass_order'"
      ]
     },
     "execution_count": 5,
     "metadata": {},
     "output_type": "execute_result"
    }
   ],
   "source": [
    "ref_data"
   ]
  },
  {
   "cell_type": "markdown",
   "id": "3caa2281-03d3-42dc-858f-4e8393977199",
   "metadata": {
    "tags": []
   },
   "source": [
    "# Convert to Angular"
   ]
  },
  {
   "cell_type": "code",
   "execution_count": 6,
   "id": "264b7217-3bd9-4d68-a4be-21089ecb32e5",
   "metadata": {},
   "outputs": [],
   "source": [
    "data.layers['DPNMF'] = data.layers['total_vectors'].copy()\n",
    "data.X = data.layers['total_vectors'].copy()\n",
    "data = data[np.isnan(data.X.max(1))==False]\n",
    "data.X = data.X/np.array(data.obs['total_signal'])[:,None]\n",
    "data.X = data.X - np.array([np.percentile(data.X[:,i],25) for i in range(data.X.shape[1])])\n",
    "data.X = data.X / np.array([np.percentile(data.X[:,i],75) for i in range(data.X.shape[1])])\n",
    "data.layers['DPNMF_IQR'] = data.X.copy()\n",
    "data.X = normalize(data.X)\n",
    "data.layers['DPNMF_IQR_L2'] = data.X.copy()"
   ]
  },
  {
   "cell_type": "code",
   "execution_count": 7,
   "id": "1f946524-3918-4cb4-b370-827663741a9c",
   "metadata": {},
   "outputs": [],
   "source": [
    "ref_data.layers['DPNMF'] = ref_data.X.copy()\n",
    "ref_data = ref_data[np.isnan(ref_data.X.max(1))==False]\n",
    "ref_data.X = ref_data.X - np.array([np.percentile(ref_data.X[:,i],25) for i in range(ref_data.X.shape[1])])\n",
    "ref_data.X = ref_data.X / np.array([np.percentile(ref_data.X[:,i],75) for i in range(ref_data.X.shape[1])])\n",
    "ref_data.layers['DPNMF_IQR'] = ref_data.X.copy()\n",
    "ref_data.X = normalize(ref_data.X)\n",
    "ref_data.layers['DPNMF_IQR_L2'] = ref_data.X.copy()"
   ]
  },
  {
   "cell_type": "markdown",
   "id": "8f8da0dc-4b25-427f-a989-dc4b428d8299",
   "metadata": {
    "tags": []
   },
   "source": [
    "# Harmonize"
   ]
  },
  {
   "cell_type": "code",
   "execution_count": 8,
   "id": "dd05063b-d4aa-46bd-bcb4-918346e2f775",
   "metadata": {},
   "outputs": [],
   "source": [
    "temp_data = data[data.layers['DPNMF_IQR'].max(1)!=0]\n",
    "temp_ref_data = ref_data[ref_data.layers['DPNMF_IQR'].max(1)!=0]"
   ]
  },
  {
   "cell_type": "code",
   "execution_count": null,
   "id": "f8432471-4ac8-4901-a48c-0918ed813900",
   "metadata": {},
   "outputs": [
    {
     "name": "stderr",
     "output_type": "stream",
     "text": [
      "/home/fangming/anaconda3/envs/routine/lib/python3.10/site-packages/anndata/_core/anndata.py:120: ImplicitModificationWarning: Transforming to str index.\n",
      "  warnings.warn(\"Transforming to str index.\", ImplicitModificationWarning)\n",
      "IOStream.flush timed out\n",
      "IOStream.flush timed out\n",
      "IOStream.flush timed out\n",
      "IOStream.flush timed out\n"
     ]
    }
   ],
   "source": [
    "\"\"\" Try Harmony Anchor Reference\"\"\"\n",
    "merged_data = anndata.AnnData(X=np.concatenate([temp_data.layers['DPNMF_IQR'].astype(float),temp_ref_data.layers['DPNMF_IQR'].astype(float)]),\n",
    "                              var=temp_data.var,\n",
    "                              obs=pd.DataFrame(np.concatenate([np.array(temp_data.obs.index),np.array(temp_ref_data.obs.index)])))\n",
    "merged_data.obs['dataset'] = np.concatenate([np.array(['a' for i in range(len(temp_data.obs))]),np.array(['b' for i in range(len(temp_ref_data.obs))])])\n",
    "merged_data.obs['label'] = np.concatenate([np.array(['unknown' for i in range(len(temp_data.obs))]),np.array(temp_ref_data.obsm['Level_3_subclass_label'].astype(str))])\n",
    "merged_data.obsm['DPNMF'] = merged_data.X.copy()\n",
    "merged_data.layers['DPNMF'] = merged_data.X.copy()\n",
    "merged_data.raw = merged_data\n",
    "\n",
    "import scanpy.external as sce\n",
    "sce.pp.harmony_integrate(merged_data, 'dataset',basis='DPNMF',adjusted_basis='DPNMF_harmony',reference_values='b')\n",
    "\n",
    "temp_data.obsm['DPNMF_harmony'] = np.array(merged_data[merged_data.obs['dataset'] == 'a'].obsm['DPNMF_harmony'])\n",
    "temp_ref_data.obsm['DPNMF_harmony'] = np.array(merged_data[merged_data.obs['dataset'] == 'b'].obsm['DPNMF_harmony'])"
   ]
  },
  {
   "cell_type": "markdown",
   "id": "f43807ce-090e-43a2-9559-81146059a1e1",
   "metadata": {},
   "source": [
    "# Classify Our Data Instead"
   ]
  },
  {
   "cell_type": "markdown",
   "id": "14e8d60a-9b49-4b77-98e3-873acec401ff",
   "metadata": {},
   "source": [
    "## Build Classifier"
   ]
  },
  {
   "cell_type": "code",
   "execution_count": null,
   "id": "bfbb238d-53d2-4bb9-914b-a12fb1e93bad",
   "metadata": {},
   "outputs": [],
   "source": [
    "\"\"\" Class Balance \"\"\"\n",
    "n_cells = 100\n",
    "X = temp_ref_data.obsm['DPNMF_harmony'].copy()\n",
    "Y = np.array(temp_ref_data.obsm['Level_5_cluster_label'])\n",
    "Y_unique = np.unique(Y)\n",
    "X_balanced = []#np.zeros([Y_unique.shape[0]*n_cells,X.shape[1]])\n",
    "Y_balanced = []\n",
    "for y in tqdm(Y_unique):\n",
    "    idx = np.where(Y==y)[0]\n",
    "    if idx.shape[0]>n_cells:\n",
    "        idx = np.random.choice(idx,n_cells,replace=False)\n",
    "    else:\n",
    "        idx = np.random.choice(idx,n_cells,replace=True)\n",
    "    X_balanced.append(X[idx,:])\n",
    "    Y_balanced.append(Y[idx])\n",
    "X_balanced = np.concatenate(X_balanced)\n",
    "Y_balanced = np.concatenate(Y_balanced)"
   ]
  },
  {
   "cell_type": "code",
   "execution_count": null,
   "id": "ef4df336-a360-47cc-b88d-dcf7fcc020e7",
   "metadata": {},
   "outputs": [],
   "source": [
    "from sklearn.neighbors import KNeighborsClassifier\n",
    "from sklearn.neural_network import MLPClassifier\n",
    "from sklearn.model_selection import train_test_split\n",
    "from sklearn.metrics import classification_report\n",
    "X = X_balanced# temp_data.obsm['DPNMF_harmony'].copy() #X_balanced\n",
    "Y = Y_balanced#np.array(temp_data.obs['opt_types']) #Y_balanced\n",
    "X_train, X_test, y_train, y_test = train_test_split(X, Y, test_size=0.4, random_state=42)\n",
    "model =  KNeighborsClassifier(15,metric='correlation')\n",
    "# model = MLPClassifier(max_iter=1000)\n",
    "model.fit(X_train,y_train)"
   ]
  },
  {
   "cell_type": "markdown",
   "id": "f13153d8-7368-4062-8286-f19c6a982e75",
   "metadata": {},
   "source": [
    "## Test Classifier"
   ]
  },
  {
   "cell_type": "code",
   "execution_count": null,
   "id": "7abbe928-7b4f-424c-925c-f08e1099ea79",
   "metadata": {
    "tags": []
   },
   "outputs": [],
   "source": [
    "predictions = model.predict(temp_ref_data.obsm['DPNMF_harmony'].copy())\n",
    "# print(classification_report(y_test,predictions))\n",
    "# predictions = model.predict(temp_ref_data.obsm['DPNMF_harmony'].copy())\n",
    "data_labels = np.array(temp_ref_data.obsm['Level_5_cluster_label'])\n",
    "ref_data_labels = np.array(temp_ref_data.obsm['Level_5_cluster_label'])\n",
    "data_labels_unique = np.unique(data_labels)\n",
    "ref_data_labels_unique = np.unique(ref_data_labels)\n",
    "cmat = np.zeros([data_labels_unique.shape[0],ref_data_labels_unique.shape[0]])\n",
    "for i,i_label in tqdm(enumerate(data_labels_unique),total=data_labels_unique.shape[0]):\n",
    "    i_mask =predictions==i_label\n",
    "    for j,j_label in enumerate(ref_data_labels_unique):\n",
    "        j_mask = ref_data_labels==j_label\n",
    "        cmat[i,j] = np.sum(i_mask&j_mask)\n",
    "cmat = cmat/cmat.sum(0)[:,None].T\n",
    "cmat = pd.DataFrame(cmat,index=data_labels_unique,columns=ref_data_labels_unique)\n",
    "plt.figure(figsize=[15,15])\n",
    "p = sns.heatmap(cmat,cmap='jet',vmin=0,vmax=1)"
   ]
  },
  {
   "cell_type": "markdown",
   "id": "b3e0dee0-5522-4131-9a48-f78477c70244",
   "metadata": {
    "tags": []
   },
   "source": [
    "## Classify"
   ]
  },
  {
   "cell_type": "code",
   "execution_count": null,
   "id": "009f2d80-0be0-47f0-a30b-cd843ff6e91e",
   "metadata": {
    "tags": []
   },
   "outputs": [],
   "source": [
    "predictions = model.predict(temp_data.obsm['DPNMF_harmony'].copy())\n",
    "data_labels = np.array(temp_data.obs['opt_types'])\n",
    "ref_data_labels = np.array(temp_ref_data.obsm['Level_5_cluster_label'])\n",
    "data_labels_unique = np.unique(data_labels)\n",
    "ref_data_labels_unique = np.unique(ref_data_labels)\n",
    "cmat = np.zeros([data_labels_unique.shape[0],ref_data_labels_unique.shape[0]])\n",
    "for i,i_label in tqdm(enumerate(data_labels_unique),total=data_labels_unique.shape[0]):\n",
    "    i_mask =data_labels==i_label\n",
    "    for j,j_label in enumerate(ref_data_labels_unique):\n",
    "        j_mask = predictions==j_label\n",
    "        cmat[i,j] = np.sum(i_mask&j_mask)\n",
    "cmat = cmat/cmat.sum(1)[:,None]\n",
    "cmat = pd.DataFrame(cmat,index=data_labels_unique,columns=ref_data_labels_unique)\n",
    "plt.figure(figsize=[15,15])\n",
    "p = sns.clustermap(cmat,cmap='jet',vmin=0,vmax=1)"
   ]
  },
  {
   "cell_type": "code",
   "execution_count": null,
   "id": "00b7c6f1-d6e9-4baf-a66b-b0d384a2d755",
   "metadata": {},
   "outputs": [],
   "source": []
  },
  {
   "cell_type": "code",
   "execution_count": null,
   "id": "b3aa58bb-feb1-43a3-933d-de22b69efa5c",
   "metadata": {},
   "outputs": [],
   "source": [
    "plt.figure(figsize=[15,15])\n",
    "p = sns.heatmap(cmat,cmap='jet',vmin=0,vmax=1)"
   ]
  },
  {
   "cell_type": "code",
   "execution_count": null,
   "id": "63a5343f-261f-4516-a9bd-e9f174940cba",
   "metadata": {},
   "outputs": [],
   "source": [
    "temp_data.obs['predicted_L5'] = predictions"
   ]
  },
  {
   "cell_type": "code",
   "execution_count": null,
   "id": "ec26ab72-1136-406c-9abe-c2818325c21e",
   "metadata": {},
   "outputs": [],
   "source": [
    "temp_data.obs['predicted'] = [i.split('_')[-1].split(' ')[0] for i in predictions]"
   ]
  },
  {
   "cell_type": "code",
   "execution_count": null,
   "id": "1a4463b0-0870-4343-8f06-6bccfc261b59",
   "metadata": {},
   "outputs": [],
   "source": [
    "sc.set_figure_params(figsize=[10,10])\n",
    "sc.pl.embedding(temp_data,'stage', color=['predicted'],palette='jet',size=5)"
   ]
  },
  {
   "cell_type": "code",
   "execution_count": null,
   "id": "559beab9-8052-4264-b4b1-2771eed80f32",
   "metadata": {},
   "outputs": [],
   "source": [
    "sc.set_figure_params(figsize=[10,10])\n",
    "sc.pl.embedding(temp_data,'stage', color=['predicted'],palette='turbo',size=5)"
   ]
  },
  {
   "cell_type": "code",
   "execution_count": null,
   "id": "8d80f790-ad66-4cfc-86e6-8ab9509e8ade",
   "metadata": {},
   "outputs": [],
   "source": [
    "sc.set_figure_params(figsize=[10,10])\n",
    "sc.pl.embedding(temp_data,'stage', color=['predicted'],palette='gist_ncar',size=5)"
   ]
  }
 ],
 "metadata": {
  "kernelspec": {
   "display_name": "Python 3 (ipykernel)",
   "language": "python",
   "name": "python3"
  },
  "language_info": {
   "codemirror_mode": {
    "name": "ipython",
    "version": 3
   },
   "file_extension": ".py",
   "mimetype": "text/x-python",
   "name": "python",
   "nbconvert_exporter": "python",
   "pygments_lexer": "ipython3",
   "version": "3.10.2"
  }
 },
 "nbformat": 4,
 "nbformat_minor": 5
}
