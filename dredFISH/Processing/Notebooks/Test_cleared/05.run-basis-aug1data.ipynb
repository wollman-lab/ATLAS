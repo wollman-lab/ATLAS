{
 "cells": [
  {
   "cell_type": "code",
   "execution_count": null,
   "id": "3cb87689-e482-4796-bcea-bad07ca8dc53",
   "metadata": {},
   "outputs": [],
   "source": [
    "import glob\n",
    "import os\n",
    "import numpy as np\n",
    "import pandas as pd\n",
    "import matplotlib.pyplot as plt\n",
    "import seaborn as sns\n",
    "from dredFISH.Utils import basicu\n",
    "from dredFISH.Utils import powerplots\n",
    "from dredFISH.Visualization import compile_tex\n",
    "\n",
    "import importlib\n",
    "importlib.reload(powerplots)\n",
    "importlib.reload(compile_tex)"
   ]
  },
  {
   "cell_type": "markdown",
   "id": "8508b24e-5e54-4635-9372-b653da234cf8",
   "metadata": {},
   "source": [
    "# 12-section brain dataset"
   ]
  },
  {
   "cell_type": "code",
   "execution_count": null,
   "id": "0e800b2a-5cb8-4896-aad2-f1a4d8955101",
   "metadata": {},
   "outputs": [],
   "source": [
    "path_dataset = '/bigstore/GeneralStorage/Data/dredFISH/Dataset4-t1'\n",
    "path_fig = os.path.join(path_dataset, 'figures')\n",
    "if not os.path.isdir(path_fig):\n",
    "    os.mkdir(path_fig)\n",
    "\n",
    "files_mtx = np.sort(glob.glob('*_matrix.csv', dir_fd=path_dataset))\n",
    "files_meta = np.sort(glob.glob('*_metadata_filtered.csv', dir_fd=path_dataset))\n",
    "files_mtx.shape, files_meta.shape"
   ]
  },
  {
   "cell_type": "code",
   "execution_count": null,
   "id": "c75ea64d-2290-4d04-9c5c-1dd539c5af2a",
   "metadata": {},
   "outputs": [],
   "source": [
    "sections = {i: f.replace('_matrix.csv', '').replace('DPNMF_3B_4C_5A_6A_9C_10B_2022Aug01_Section_', '2022Aug01_')\n",
    "            for i, f in enumerate(files_mtx)}\n",
    "sections"
   ]
  },
  {
   "cell_type": "markdown",
   "id": "54d325f2-5cc2-49ef-9d14-0ece9b89896a",
   "metadata": {},
   "source": [
    "# 1 section -- minimal clean up and show"
   ]
  },
  {
   "cell_type": "code",
   "execution_count": null,
   "id": "81ba4136-15b4-423c-aaea-2ee9f73485c7",
   "metadata": {},
   "outputs": [],
   "source": [
    "def plot_basis_box(ftrs_mat, output=None):\n",
    "    \"\"\"\n",
    "    \"\"\"\n",
    "    fig, axs = plt.subplots(2, 1, figsize=(10,3*2), sharex=True)\n",
    "    for ax in axs:\n",
    "        sns.boxplot(data=ftrs_mat, ax=ax)\n",
    "        ax.set_ylabel('zscore')\n",
    "    ax.set_xlabel('basis')\n",
    "    ax.set_ylim([-3,3])\n",
    "    if output is not None:\n",
    "        powerplots.savefig_autodate(fig, output)\n",
    "    plt.show()"
   ]
  },
  {
   "cell_type": "code",
   "execution_count": null,
   "id": "dc333ad3-8403-48d4-bcd3-00a6a2afb8ca",
   "metadata": {},
   "outputs": [],
   "source": [
    "select_cols = [i for i in np.arange(24) if i not in [8,11,19,20,21]]\n",
    "select_cols"
   ]
  },
  {
   "cell_type": "code",
   "execution_count": null,
   "id": "a10d54a6-4478-4595-b4fe-cf896ea5cd7e",
   "metadata": {},
   "outputs": [],
   "source": [
    "sctn = 0\n",
    "sctn_name = sections[sctn]\n",
    "file_mtx = files_mtx[sctn]\n",
    "file_meta = files_meta[sctn]\n",
    "print(files_mtx[0], files_meta[0])\n",
    "\n",
    "mtx = pd.read_csv(os.path.join(path_dataset, file_mtx), sep=',', index_col=0) \n",
    "hybes = mtx.columns\n",
    "mtx.columns = np.char.add('br', np.arange(24).astype(str))\n",
    "ftrs_cols = np.char.add('br', np.array(select_cols).astype(str))\n",
    "mtx = mtx[ftrs_cols]\n",
    "\n",
    "meta = pd.read_csv(os.path.join(path_dataset, file_meta), sep=',', index_col=0)\n",
    "df = meta.join(mtx)\n",
    "\n",
    "# cond = df['cytoplasm_size'] > 10\n",
    "# cond = df['nuclei_signal'] > 1500\n",
    "# df = df.loc[cond]\n",
    "# mtx = df[np.char.add('br', np.arange(24).astype(str))]\n",
    "mtx = df[ftrs_cols]\n",
    "\n",
    "# norm\n",
    "ftrs_mat = basicu.normalize_fishdata(mtx.values, norm_cell=True, norm_basis=True)\n",
    "for i in range(ftrs_mat.shape[1]):\n",
    "    df[f'b{i}'] = ftrs_mat[:,i]\n",
    "    \n",
    "# XY\n",
    "XY = df[['stage_x', 'stage_y']].values\n",
    "x = XY[:,0] \n",
    "y = XY[:,1] "
   ]
  },
  {
   "cell_type": "code",
   "execution_count": null,
   "id": "1f0f57ee-5b44-4482-9d0c-eea5119eabcd",
   "metadata": {},
   "outputs": [],
   "source": [
    "output = os.path.join(path_fig, f\"fig1_xy_sect{sctn}_{sctn_name}.pdf\")\n",
    "fig, ax = plt.subplots(figsize=(10,10))\n",
    "ax.scatter(x, y, s=1, edgecolor='none', color='black', rasterized=True)\n",
    "ax.set_title(sctn_name)\n",
    "ax.set_aspect('equal')\n",
    "powerplots.savefig_autodate(fig, output)\n",
    "plt.show()\n",
    "\n",
    "output = os.path.join(path_fig, f\"fig2_basis_box_sect{sctn}_{sctn_name}.pdf\")\n",
    "plot_basis_box(ftrs_mat, output=output)\n",
    "\n",
    "output = os.path.join(path_fig, f\"fig3_basis_xy_sect{sctn}_{sctn_name}.pdf\")\n",
    "powerplots.plot_basis_spatial(df, xcol='stage_x', ycol='stage_y', vmin=-1, vmax=1, output=output)"
   ]
  },
  {
   "cell_type": "markdown",
   "id": "f317d9ce-71a5-427a-b300-b37445acdb56",
   "metadata": {
    "tags": []
   },
   "source": [
    "# all sections"
   ]
  },
  {
   "cell_type": "code",
   "execution_count": null,
   "id": "0b64835e-69ab-4d91-af62-c542a62219e1",
   "metadata": {},
   "outputs": [],
   "source": [
    "sections"
   ]
  },
  {
   "cell_type": "code",
   "execution_count": null,
   "id": "4e72ff8e-02da-4289-83e5-f551e2b88fd6",
   "metadata": {},
   "outputs": [],
   "source": [
    "ftrs_cols[[2,5]]\n",
    "hybes[np.array(select_cols)[[2,5]]]"
   ]
  },
  {
   "cell_type": "code",
   "execution_count": null,
   "id": "7ea07db3-7aed-4174-b7e2-1b8073e64b67",
   "metadata": {},
   "outputs": [],
   "source": [
    "%%time\n",
    "for sctn in sections.keys():\n",
    "    sctn_name = sections[sctn]\n",
    "    file_mtx = files_mtx[sctn]\n",
    "    file_meta = files_meta[sctn]\n",
    "    print(files_mtx[0], files_meta[0])\n",
    "\n",
    "    mtx = pd.read_csv(os.path.join(path_dataset, file_mtx), sep=',', index_col=0) \n",
    "    mtx.columns = np.char.add('br', np.arange(24).astype(str))\n",
    "    ftrs_cols = np.char.add('br', np.array(select_cols).astype(str))\n",
    "    mtx = mtx[ftrs_cols]\n",
    "\n",
    "    meta = pd.read_csv(os.path.join(path_dataset, file_meta), sep=',', index_col=0)\n",
    "    df = meta.join(mtx)\n",
    "\n",
    "    # cond = df['cytoplasm_size'] > 10\n",
    "    # cond = df['nuclei_signal'] > 1500\n",
    "    # df = df.loc[cond]\n",
    "    # mtx = df[np.char.add('br', np.arange(24).astype(str))]\n",
    "    mtx = df[ftrs_cols]\n",
    "\n",
    "    # norm\n",
    "    ftrs_mat = basicu.normalize_fishdata(mtx.values, norm_cell=True, norm_basis=True)\n",
    "    for i in range(ftrs_mat.shape[1]):\n",
    "        df[f'b{i}'] = ftrs_mat[:,i]\n",
    "\n",
    "    # XY\n",
    "    XY = df[['stage_x', 'stage_y']].values\n",
    "    x = XY[:,0] \n",
    "    y = XY[:,1] \n",
    "    \n",
    "    # plots\n",
    "    output = os.path.join(path_fig, f\"fig1_xy_sect{sctn}_{sctn_name}.pdf\")\n",
    "    fig, ax = plt.subplots(figsize=(10,10))\n",
    "    ax.scatter(x, y, s=1, edgecolor='none', color='black', rasterized=True)\n",
    "    ax.set_title(sctn_name)\n",
    "    ax.set_aspect('equal')\n",
    "    powerplots.savefig_autodate(fig, output)\n",
    "    plt.show()\n",
    "\n",
    "    output = os.path.join(path_fig, f\"fig2_basis_box_sect{sctn}_{sctn_name}.pdf\")\n",
    "    plot_basis_box(ftrs_mat, output=output)\n",
    "\n",
    "    output = os.path.join(path_fig, f\"fig3_basis_xy_sect{sctn}_{sctn_name}.pdf\")\n",
    "    powerplots.plot_basis_spatial(df, xcol='stage_x', ycol='stage_y', vmin=-1, vmax=1, output=output)"
   ]
  },
  {
   "cell_type": "code",
   "execution_count": null,
   "id": "765eaff3-3809-46fb-96e5-e6b7d2bef91b",
   "metadata": {},
   "outputs": [],
   "source": []
  },
  {
   "cell_type": "code",
   "execution_count": null,
   "id": "a113c883-7f75-46ad-9a10-880875d362f0",
   "metadata": {},
   "outputs": [],
   "source": []
  },
  {
   "cell_type": "code",
   "execution_count": null,
   "id": "9fdc4c57-0e70-4a92-ac93-40c780a0ebbb",
   "metadata": {},
   "outputs": [],
   "source": []
  },
  {
   "cell_type": "code",
   "execution_count": null,
   "id": "0794505a-f1aa-4724-8d05-96fcb45a51c2",
   "metadata": {},
   "outputs": [],
   "source": []
  },
  {
   "cell_type": "code",
   "execution_count": null,
   "id": "925d148f-8ca0-4506-b62e-fbc7ed895b0b",
   "metadata": {},
   "outputs": [],
   "source": [
    "importlib.reload(compile_tex)\n",
    "compile_tex.main(path_dataset, title='dredFISH 23-section check', author='Wollman lab')"
   ]
  },
  {
   "cell_type": "code",
   "execution_count": null,
   "id": "6753b8f3-6a38-4619-a76b-c4b0f3e2a7ef",
   "metadata": {},
   "outputs": [],
   "source": []
  }
 ],
 "metadata": {
  "kernelspec": {
   "display_name": "Python 3 (ipykernel)",
   "language": "python",
   "name": "python3"
  },
  "language_info": {
   "codemirror_mode": {
    "name": "ipython",
    "version": 3
   },
   "file_extension": ".py",
   "mimetype": "text/x-python",
   "name": "python",
   "nbconvert_exporter": "python",
   "pygments_lexer": "ipython3",
   "version": "3.10.2"
  }
 },
 "nbformat": 4,
 "nbformat_minor": 5
}
