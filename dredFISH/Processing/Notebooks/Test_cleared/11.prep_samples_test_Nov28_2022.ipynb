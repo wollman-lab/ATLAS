{
 "cells": [
  {
   "cell_type": "markdown",
   "id": "5dbf5bfe-4832-4baa-b018-aac4bcbe2b71",
   "metadata": {},
   "source": [
    "# Prep data -- check and make it conform to the format of TMGs and downstream pipeline\n",
    "- \n"
   ]
  },
  {
   "cell_type": "code",
   "execution_count": null,
   "id": "77f995dd-32fb-4786-95ab-c9d2a206242c",
   "metadata": {},
   "outputs": [],
   "source": [
    "import os\n",
    "import glob\n",
    "import numpy as np\n",
    "import pandas as pd\n",
    "import subprocess\n",
    "import anndata\n",
    "\n",
    "import matplotlib.pyplot as plt\n",
    "import seaborn as sns"
   ]
  },
  {
   "cell_type": "code",
   "execution_count": null,
   "id": "fa01e822-c4cb-4dca-b798-2873068cc821",
   "metadata": {},
   "outputs": [],
   "source": [
    "ddir = \"/bigstore/GeneralStorage/Data/dredFISH/DPNMF-FR_7C_PFA+Methanol_PFA_Methanol_2022Nov07/orig\"\n",
    "outdir = os.path.dirname(ddir)\n",
    "print(ddir)\n",
    "print(outdir)\n",
    "\n",
    "# !ls $ddir/*.csv\n",
    "f_mets = np.sort(glob.glob(\"*_metadata.csv\", dir_fd=ddir))\n",
    "f_mats = np.sort(glob.glob(\"*_matrix.csv\",   dir_fd=ddir))\n",
    "samples = np.array([f[:-len(\"_metadata.csv\")] for f in f_mets])\n",
    "assert len(f_mets) == len(f_mats)\n",
    "assert len(f_mets) == len(samples)\n",
    "len(samples), f_mets, f_mats, samples"
   ]
  },
  {
   "cell_type": "code",
   "execution_count": null,
   "id": "339365e3-a601-4ac1-9905-ca05247cb250",
   "metadata": {},
   "outputs": [],
   "source": [
    "if not os.path.isdir(outdir):\n",
    "    print(f\"making {outdir}\")\n",
    "    os.mkdir(outdir)"
   ]
  },
  {
   "cell_type": "markdown",
   "id": "2afc7377-bbd9-43f4-b675-9c944747c57b",
   "metadata": {},
   "source": [
    "# house keeping"
   ]
  },
  {
   "cell_type": "code",
   "execution_count": null,
   "id": "2462bf75-d039-44fb-baef-a14a609b7e54",
   "metadata": {},
   "outputs": [],
   "source": [
    "for samp in samples[[1]]:\n",
    "    print(samp)\n",
    "    f = os.path.join(ddir, f\"{samp}_matrix.csv\")\n",
    "    mat = pd.read_csv(f, index_col=0)\n",
    "    \n",
    "    f = os.path.join(ddir, f\"{samp}_metadata.csv\")\n",
    "    meta = pd.read_csv(f, index_col=0)\n",
    "    assert np.all(mat.index.values==meta.index.values)\n",
    "    \n",
    "    # create tmp_x and tmp_y\n",
    "    meta[['stage_x_orig', 'stage_y_orig']] = meta[['stage_x', 'stage_y']]\n",
    "    meta['tmp_x'] =  meta['stage_x_orig']\n",
    "    meta['tmp_y'] = -meta['stage_y_orig']\n",
    "    meta[['stage_x', 'stage_y']] = meta[['tmp_x', 'tmp_y']]\n",
    "    \n",
    "    # make dir\n",
    "    _dir = os.path.join(outdir, samp)\n",
    "    if not os.path.isdir(_dir):\n",
    "        print(f\"making {_dir}\")\n",
    "        os.mkdir(_dir)\n",
    "        \n",
    "    # copy over \n",
    "    fout_mat = os.path.join(outdir, samp, f\"{samp}_matrix.csv\")\n",
    "    print(fout_mat)\n",
    "    mat.to_csv(fout_mat)\n",
    "    \n",
    "    fout_meta = os.path.join(outdir, samp, f\"{samp}_metadata.csv\")\n",
    "    print(fout_meta)\n",
    "    meta.to_csv(fout_meta)\n",
    "    \n",
    "#     # change mod\n",
    "#     subprocess.run(['chmod', '444', fout_mat])\n",
    "#     subprocess.run(['chmod', '444', fout_meta])\n",
    "    \n",
    "    break"
   ]
  },
  {
   "cell_type": "code",
   "execution_count": null,
   "id": "fc0ce438-31e3-40c9-99d6-4493d97cd0cb",
   "metadata": {},
   "outputs": [],
   "source": [
    "meta"
   ]
  },
  {
   "cell_type": "code",
   "execution_count": null,
   "id": "d21c1886-a2ba-4eb4-ab66-9f0319356b51",
   "metadata": {},
   "outputs": [],
   "source": [
    "sns.histplot(meta['size'])"
   ]
  },
  {
   "cell_type": "code",
   "execution_count": null,
   "id": "8903b4a8-4684-4ba8-b9fd-49bc240de3f3",
   "metadata": {},
   "outputs": [],
   "source": [
    "sns.histplot(meta['polyt'])"
   ]
  },
  {
   "cell_type": "code",
   "execution_count": null,
   "id": "97018c9f-f5dd-4aec-a6b5-aadbada6df92",
   "metadata": {},
   "outputs": [],
   "source": [
    "sns.histplot(meta['dapi'])"
   ]
  },
  {
   "cell_type": "code",
   "execution_count": null,
   "id": "a3b68a1f-f726-474f-aa10-c3e2cbc01920",
   "metadata": {},
   "outputs": [],
   "source": [
    "sns.scatterplot(data=meta, x='dapi', y='size', s=1)"
   ]
  },
  {
   "cell_type": "code",
   "execution_count": null,
   "id": "09281e87-36bc-4cfa-b042-7119d043df7f",
   "metadata": {},
   "outputs": [],
   "source": [
    "sns.scatterplot(data=meta, x='polyt', y='size', s=1)"
   ]
  },
  {
   "cell_type": "code",
   "execution_count": null,
   "id": "6f361639-8e7b-46a4-bf8d-6fc53bef30a4",
   "metadata": {},
   "outputs": [],
   "source": [
    "sns.histplot(meta['dapi'], bins=np.linspace(0,10000,100))"
   ]
  },
  {
   "cell_type": "code",
   "execution_count": null,
   "id": "8c26ec5c-8723-4f56-ab9d-b1a40fe533de",
   "metadata": {},
   "outputs": [],
   "source": [
    "cond = meta['dapi'] < 2000"
   ]
  },
  {
   "cell_type": "code",
   "execution_count": null,
   "id": "9c6c7623-d9ad-463e-9426-d5990fd67e49",
   "metadata": {},
   "outputs": [],
   "source": [
    "plt.scatter(meta['stage_x'].values,\n",
    "            meta['stage_y'].values,\n",
    "            c=cond.astype(int), #cov.values<4000,\n",
    "            s=1,\n",
    "            edgecolor='none',\n",
    "           )"
   ]
  },
  {
   "cell_type": "markdown",
   "id": "a4bb7f0e-7af0-4504-a427-6447dcd5dc1c",
   "metadata": {
    "tags": []
   },
   "source": [
    "# checking x and y (and rotate it)"
   ]
  },
  {
   "cell_type": "code",
   "execution_count": null,
   "id": "ee063907-18ac-406e-92a7-11a30d11e032",
   "metadata": {},
   "outputs": [],
   "source": [
    "from dredFISH.Visualization import viz_cell_layer\n",
    "import importlib\n",
    "import dredFISH\n",
    "importlib.reload(dredFISH)\n",
    "importlib.reload(dredFISH.Visualization)\n",
    "importlib.reload(dredFISH.Visualization.viz_cell_layer)"
   ]
  },
  {
   "cell_type": "code",
   "execution_count": null,
   "id": "0c42cdb7-4f4c-40d7-aaaa-b6be54d2824d",
   "metadata": {},
   "outputs": [],
   "source": [
    "# mode = 'preview' # need a notebook to see; save nothing\n",
    "# mode = 'view' # go from the beginning to the end\n",
    "# mode = 'analysis-only' # analysis only; no plots\n",
    "\n",
    "mode = 'preview' # plot XY only; bypassing TMGs\n",
    "# mode = 'preview-save' # plot XY only, save results in prep for TMGs\n",
    "\n",
    "sample_split_lines = {\n",
    "    samples[0]: [[(12500, -2500 ), (12500, -14000)]],\n",
    "    samples[1]: [[(14000, -2000 ), (11000, -16000)]],\n",
    "    samples[2]: [[(13500, -2000 ), (11500, -14000)]],\n",
    "    samples[3]: [[(15000, -2500 ), (10000, -15000)]],\n",
    "    samples[4]: [[( 7000, -2500 ), ( 9000, -17500)]],\n",
    "    samples[5]: [[(13500, -2000 ), (10500, -14000)]],\n",
    "    \n",
    "    samples[6]: [[( 2500, -10000), (17500, -15000)]], # weird ones\n",
    "    samples[7]: [[( 2500, -7500 ), (17500, -15000)]],\n",
    "    samples[8]: [[( 2500, -7500 ), (17500, -16000)]],\n",
    "    \n",
    "    samples[9]: [[(12000, -2000 ), (12000, -14000)]],\n",
    "}\n",
    "\n",
    "# TMG\n",
    "for samp in samples[[1]]: #[[3]]:\n",
    "    basepth = os.path.join(outdir, samp) # outdir samp\n",
    "    \n",
    "    # define a line to split things into hemi-coronal sections\n",
    "    split_lines = sample_split_lines[samp]\n",
    "\n",
    "    viz_cell_layer.main(mode, basepth, split_lines,)\n",
    "    break"
   ]
  },
  {
   "cell_type": "code",
   "execution_count": null,
   "id": "641321ff-87db-435f-be8e-a3053cacf2a0",
   "metadata": {},
   "outputs": [],
   "source": [
    "# mode = 'preview' # need a notebook to see; save nothing\n",
    "# mode = 'view' # go from the beginning to the end\n",
    "# mode = 'analysis-only' # analysis only; no plots\n",
    "\n",
    "# mode = 'preview' # plot XY only; bypassing TMGs\n",
    "mode = 'preview-save' # plot XY only, save results in prep for TMGs\n",
    "\n",
    "sample_split_lines = {\n",
    "    samples[0]: [[(12500, -2500 ), (12500, -14000)]],\n",
    "    samples[1]: [[(14000, -2000 ), (11000, -16000)]],\n",
    "    samples[2]: [[(13500, -2000 ), (11500, -14000)]],\n",
    "    samples[3]: [[(15000, -2500 ), (10000, -15000)]],\n",
    "    samples[4]: [[( 7000, -2500 ), ( 9000, -17500)]],\n",
    "    samples[5]: [[(13500, -2000 ), (10500, -14000)]],\n",
    "    \n",
    "    samples[6]: [[( 2500, -10000), (17500, -15000)]], # weird ones\n",
    "    samples[7]: [[( 2500, -7500 ), (17500, -15000)]],\n",
    "    samples[8]: [[( 2500, -7500 ), (17500, -16000)]],\n",
    "    \n",
    "    samples[9]: [[(12000, -2000 ), (12000, -14000)]],\n",
    "}\n",
    "\n",
    "# TMG\n",
    "for samp in samples:\n",
    "    basepth = os.path.join(outdir, samp) # outdir samp\n",
    "    \n",
    "    # define a line to split things into hemi-coronal sections\n",
    "    split_lines = sample_split_lines[samp]\n",
    "\n",
    "    viz_cell_layer.main(mode, basepth, split_lines,)"
   ]
  },
  {
   "cell_type": "code",
   "execution_count": null,
   "id": "94601185-c951-43bb-9d4e-c86b7d90c922",
   "metadata": {},
   "outputs": [],
   "source": []
  }
 ],
 "metadata": {
  "kernelspec": {
   "display_name": "Python 3 (ipykernel)",
   "language": "python",
   "name": "python3"
  },
  "language_info": {
   "codemirror_mode": {
    "name": "ipython",
    "version": 3
   },
   "file_extension": ".py",
   "mimetype": "text/x-python",
   "name": "python",
   "nbconvert_exporter": "python",
   "pygments_lexer": "ipython3",
   "version": "3.10.2"
  }
 },
 "nbformat": 4,
 "nbformat_minor": 5
}
