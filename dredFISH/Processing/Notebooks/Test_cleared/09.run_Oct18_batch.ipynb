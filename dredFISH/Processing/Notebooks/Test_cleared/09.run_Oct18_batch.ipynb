{
 "cells": [
  {
   "cell_type": "code",
   "execution_count": null,
   "id": "ee063907-18ac-406e-92a7-11a30d11e032",
   "metadata": {},
   "outputs": [],
   "source": [
    "from dredFISH.Visualization import viz_cell_layer"
   ]
  },
  {
   "cell_type": "code",
   "execution_count": null,
   "id": "0c42cdb7-4f4c-40d7-aaaa-b6be54d2824d",
   "metadata": {},
   "outputs": [],
   "source": [
    "# mode = 'preview' # need a notebook to see; save nothing\n",
    "# mode = 'view' # go from the beginning to the end\n",
    "# mode = 'analysis-only' # analysis only; no plots\n",
    "mode = 'preview' # plots only; assuming analysis is done\n",
    "\n",
    "# TMG\n",
    "basepth = \"/bigstore/GeneralStorage/Data/dredFISH/DPNMF-R_8C_2022Oct18-S1/\"\n",
    "\n",
    "# define a line to split things into hemi-coronal sections\n",
    "split_lines = [\n",
    "     # [(0, 0),(0,1)],\n",
    "     [(10500, 2500),(13500,16000)],\n",
    "]\n",
    "\n",
    "viz_cell_layer.main(mode, basepth, split_lines, \n",
    "                    # compile_pdf=True,\n",
    "                    # pdf_kwargs={'title': \"dredFISH default analysis\",\n",
    "                    #             'author': \"Fangming\",\n",
    "                    #             }\n",
    "                    )"
   ]
  },
  {
   "cell_type": "code",
   "execution_count": null,
   "id": "ee13d6c0-3010-4718-99a0-054217ad61d5",
   "metadata": {},
   "outputs": [],
   "source": []
  }
 ],
 "metadata": {
  "kernelspec": {
   "display_name": "Python 3 (ipykernel)",
   "language": "python",
   "name": "python3"
  },
  "language_info": {
   "codemirror_mode": {
    "name": "ipython",
    "version": 3
   },
   "file_extension": ".py",
   "mimetype": "text/x-python",
   "name": "python",
   "nbconvert_exporter": "python",
   "pygments_lexer": "ipython3",
   "version": "3.10.2"
  }
 },
 "nbformat": 4,
 "nbformat_minor": 5
}
