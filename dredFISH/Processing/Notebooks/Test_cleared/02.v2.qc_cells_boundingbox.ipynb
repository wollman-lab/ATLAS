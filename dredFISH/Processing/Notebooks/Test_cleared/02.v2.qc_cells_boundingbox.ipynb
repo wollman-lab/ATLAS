{
 "cells": [
  {
   "cell_type": "code",
   "execution_count": null,
   "id": "3cb87689-e482-4796-bcea-bad07ca8dc53",
   "metadata": {},
   "outputs": [],
   "source": [
    "import glob\n",
    "import os\n",
    "import numpy as np\n",
    "import pandas as pd\n",
    "import matplotlib.pyplot as plt\n",
    "import seaborn as sns\n",
    "from dredFISH.Utils import basicu\n",
    "from dredFISH.Utils import powerplots\n",
    "from dredFISH.Visualization import compile_tex\n",
    "\n",
    "import importlib\n",
    "importlib.reload(powerplots)\n",
    "importlib.reload(compile_tex)"
   ]
  },
  {
   "cell_type": "markdown",
   "id": "8508b24e-5e54-4635-9372-b653da234cf8",
   "metadata": {},
   "source": [
    "# 12-section brain dataset"
   ]
  },
  {
   "cell_type": "code",
   "execution_count": null,
   "id": "0e800b2a-5cb8-4896-aad2-f1a4d8955101",
   "metadata": {},
   "outputs": [],
   "source": [
    "path_dataset = '/bigstore/GeneralStorage/Data/dredFISH/Dataset3-t1'\n",
    "path_fig = os.path.join(path_dataset, 'figures')\n",
    "if not os.path.isdir(path_fig):\n",
    "    os.mkdir(path_fig)\n",
    "\n",
    "files_mtx = np.sort(glob.glob('*_matrix.csv', dir_fd=path_dataset))\n",
    "files_meta = np.sort(glob.glob('*_metadata.csv', dir_fd=path_dataset))\n",
    "files_mtx.shape, files_meta.shape"
   ]
  },
  {
   "cell_type": "code",
   "execution_count": null,
   "id": "c75ea64d-2290-4d04-9c5c-1dd539c5af2a",
   "metadata": {},
   "outputs": [],
   "source": [
    "sections = {i: f.replace('_matrix.csv', '').replace('DPNMF_1A_2B_11A_12B_2022Jul28_Section_', '')\n",
    "            for i, f in enumerate(files_mtx)}\n",
    "sections"
   ]
  },
  {
   "cell_type": "markdown",
   "id": "8d860921-1953-4ce8-abff-d7e26fafa31d",
   "metadata": {},
   "source": [
    "# remove non-cells by setting `cytoplasm_size`"
   ]
  },
  {
   "cell_type": "code",
   "execution_count": null,
   "id": "62ca01ee-427b-4133-ac84-51c9f9492e10",
   "metadata": {},
   "outputs": [],
   "source": [
    "sctn = 0\n",
    "sctn_name = sections[sctn]\n",
    "file_mtx = files_mtx[sctn]\n",
    "file_meta = files_meta[sctn]\n",
    "print(files_mtx[0], files_meta[0])\n",
    "\n",
    "mtx = pd.read_csv(os.path.join(path_dataset, file_mtx), sep=',', index_col=0)\n",
    "mtx.columns = np.char.add('br', np.arange(24).astype(str))\n",
    "meta = pd.read_csv(os.path.join(path_dataset, file_meta), sep=',', index_col=0)\n",
    "df = meta.join(mtx)\n",
    "print(df.shape)\n",
    "\n",
    "# cond = df['cytoplasm_size'] > 10\n",
    "cond = df['nuclei_signal'] > 1500\n",
    "df = df.loc[cond]\n",
    "mtx = df[np.char.add('br', np.arange(24).astype(str))]\n",
    "print(df.shape)\n",
    "\n"
   ]
  },
  {
   "cell_type": "code",
   "execution_count": null,
   "id": "948ace71-f852-49e0-bfad-ba0958581df4",
   "metadata": {},
   "outputs": [],
   "source": [
    "# norm\n",
    "ftrs_mat = basicu.normalize_fishdata(mtx.values, norm_cell=True, norm_basis=True)\n",
    "for i in range(ftrs_mat.shape[1]):\n",
    "    df[f'b{i}'] = ftrs_mat[:,i]\n",
    "    \n",
    "# XY\n",
    "XY = df[['stage_x', 'stage_y']].values\n",
    "x = XY[:,0] \n",
    "y = XY[:,1] "
   ]
  },
  {
   "cell_type": "code",
   "execution_count": null,
   "id": "a3fb094f-afb0-4d35-ac9a-183b2de0bf8f",
   "metadata": {},
   "outputs": [],
   "source": [
    "output = os.path.join(path_fig, f\"fig1_xy_sect{sctn}_{sctn_name}.pdf\")\n",
    "fig, ax = plt.subplots(figsize=(10,10))\n",
    "ax.scatter(x, y, s=1, edgecolor='none', color='black', rasterized=True)\n",
    "ax.set_title(sctn_name)\n",
    "ax.set_aspect('equal')\n",
    "powerplots.savefig_autodate(fig, output)\n",
    "plt.show()\n",
    "\n",
    "# output = os.path.join(path_fig, f\"fig2_basis_box_sect{sctn}_{sctn_name}.pdf\")\n",
    "# plot_basis_box(ftrs_mat, output=output)\n",
    "\n",
    "# output = os.path.join(path_fig, f\"fig3_basis_xy_sect{sctn}_{sctn_name}.pdf\")\n",
    "# powerplots.plot_basis_spatial(df, xcol='stage_x', ycol='stage_y', vmin=-1, vmax=1, output=output)"
   ]
  },
  {
   "cell_type": "markdown",
   "id": "cab1bf23-7b18-4da0-a2e8-c42b0cd4061a",
   "metadata": {},
   "source": [
    "# set spatial mask"
   ]
  },
  {
   "cell_type": "code",
   "execution_count": null,
   "id": "66364936-6c21-4a7e-a04c-f3377f65737e",
   "metadata": {},
   "outputs": [],
   "source": [
    "from matplotlib.collections import LineCollection"
   ]
  },
  {
   "cell_type": "code",
   "execution_count": null,
   "id": "ecc2f706-0407-4d02-b3af-438f3e67e66d",
   "metadata": {
    "tags": []
   },
   "outputs": [],
   "source": [
    "def draw_control_points(points, ax):\n",
    "    \"\"\"\n",
    "    \"\"\"\n",
    "    line_segs = [\n",
    "        [points[i], points[(i+1)%len(points)]]\n",
    "        for i in range(len(points))\n",
    "    ]\n",
    "\n",
    "    pm = np.asarray(points)\n",
    "    ax.scatter(pm[:,0], pm[:,1], color='r')\n",
    "    for i, p in enumerate(points):\n",
    "        ax.text(p[0], p[1], i)\n",
    "    lc = LineCollection(line_segs, linewidth=1, colors='r')\n",
    "    ax.add_collection(lc)\n",
    "    return line_segs"
   ]
  },
  {
   "cell_type": "code",
   "execution_count": null,
   "id": "02469806-b7ca-4659-b017-9c2fa15793bd",
   "metadata": {},
   "outputs": [],
   "source": [
    "# mask = np.zeros()\n",
    "# mask\n",
    "points = [\n",
    "    (-6500, 20400), \n",
    "    (-1000, 20600),\n",
    "    (0, 26000),\n",
    "    (-1000, 29000),\n",
    "    (-10000, 29000),\n",
    "    (-10000, 24000),\n",
    "]\n",
    "\n",
    "output = \"\" #os.path.join(path_fig, f\"fig1_xy_sect{sctn}_{sctn_name}.pdf\")\n",
    "fig, ax = plt.subplots(figsize=(10,10))\n",
    "ax.scatter(x, y, s=1, edgecolor='none', color='gray', rasterized=True)\n",
    "draw_control_points(points,ax)\n",
    "ax.set_title(sctn_name)\n",
    "ax.set_aspect('equal')\n",
    "plt.show()"
   ]
  },
  {
   "cell_type": "code",
   "execution_count": null,
   "id": "1dd05e8d-08bc-4c39-93c9-863d3011e8c2",
   "metadata": {},
   "outputs": [],
   "source": [
    "def is_in_polygon_proto(poly, p):\n",
    "    \"\"\"\n",
    "    test if p is in the defined polygon\n",
    "    \"\"\"\n",
    "    is_in = False\n",
    "    poly = np.asarray(poly) \n",
    "    npoly = len(poly)\n",
    "    \n",
    "    for i in range(npoly):\n",
    "        j = (i-1) % npoly\n",
    "        if (((poly[i,1]>p[1]) != (poly[j,1]>p[1])) and\n",
    "            (p[0] < poly[i,0] + (p[1]-poly[i,1])*(poly[j,0]-poly[i,0])/(poly[j,1]-poly[i,1]))\n",
    "           ):\n",
    "            is_in = (not is_in) \n",
    "    return is_in"
   ]
  },
  {
   "cell_type": "code",
   "execution_count": null,
   "id": "18049930-79dd-4866-a64e-8d806ccbf9e8",
   "metadata": {},
   "outputs": [],
   "source": [
    "def is_in_polygon(poly, ps):\n",
    "    \"\"\"\n",
    "    test if each point is in the defined polygon\n",
    "    \"\"\"\n",
    "    # is_in = False\n",
    "    poly = np.asarray(poly) \n",
    "    npoly = len(poly)\n",
    "    \n",
    "    ps = np.asarray(ps)\n",
    "    is_in = np.zeros(len(ps), dtype=int)\n",
    "    \n",
    "    for i in range(npoly):\n",
    "        j = (i-1) % npoly\n",
    "        if poly[j,1]-poly[i,1] != 0: # not cross\n",
    "            cond1 = ((poly[i,1]>ps[:,1]) != (poly[j,1]>ps[:,1]))\n",
    "            cond2 = (ps[:,0] < poly[i,0] + (ps[:,1]-poly[i,1])*(poly[j,0]-poly[i,0])/(poly[j,1]-poly[i,1]))\n",
    "            cond = np.logical_and(cond1, cond2)\n",
    "            is_in += cond  \n",
    "    return is_in % 2"
   ]
  },
  {
   "cell_type": "code",
   "execution_count": null,
   "id": "1b5d6a71-f94a-4248-9ffa-cfff876e2583",
   "metadata": {},
   "outputs": [],
   "source": [
    "%%time\n",
    "res = is_in_polygon(points, XY) #[:100])\n",
    "res"
   ]
  },
  {
   "cell_type": "code",
   "execution_count": null,
   "id": "6db7f1bc-c6c6-472a-8781-ffe3c3d7036d",
   "metadata": {},
   "outputs": [],
   "source": [
    "output = \"\" #os.path.join(path_fig, f\"fig1_xy_sect{sctn}_{sctn_name}.pdf\")\n",
    "fig, ax = plt.subplots(figsize=(10,10))\n",
    "ax.scatter(XY[:,0], XY[:,1], c=res, s=1, edgecolor='none', rasterized=True, cmap='rocket_r')\n",
    "draw_control_points(points,ax)\n",
    "ax.set_title(sctn_name)\n",
    "ax.set_aspect('equal')\n",
    "plt.show()"
   ]
  }
 ],
 "metadata": {
  "kernelspec": {
   "display_name": "Python 3 (ipykernel)",
   "language": "python",
   "name": "python3"
  },
  "language_info": {
   "codemirror_mode": {
    "name": "ipython",
    "version": 3
   },
   "file_extension": ".py",
   "mimetype": "text/x-python",
   "name": "python",
   "nbconvert_exporter": "python",
   "pygments_lexer": "ipython3",
   "version": "3.10.2"
  }
 },
 "nbformat": 4,
 "nbformat_minor": 5
}
