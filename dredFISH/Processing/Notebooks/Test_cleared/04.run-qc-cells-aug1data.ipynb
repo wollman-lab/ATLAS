{
 "cells": [
  {
   "cell_type": "code",
   "execution_count": null,
   "id": "3cb87689-e482-4796-bcea-bad07ca8dc53",
   "metadata": {},
   "outputs": [],
   "source": [
    "import glob\n",
    "import os\n",
    "import numpy as np\n",
    "import pandas as pd\n",
    "import matplotlib.pyplot as plt\n",
    "import seaborn as sns\n",
    "from dredFISH.Utils import basicu\n",
    "from dredFISH.Utils import miscu\n",
    "from dredFISH.Utils import powerplots\n",
    "from dredFISH.Visualization import compile_tex\n",
    "from matplotlib.collections import LineCollection\n",
    "\n",
    "import importlib\n",
    "importlib.reload(powerplots)\n",
    "importlib.reload(miscu)\n",
    "importlib.reload(compile_tex)"
   ]
  },
  {
   "cell_type": "code",
   "execution_count": null,
   "id": "81ba4136-15b4-423c-aaea-2ee9f73485c7",
   "metadata": {},
   "outputs": [],
   "source": [
    "def plot_basis_box(ftrs_mat, output=None):\n",
    "    \"\"\"\n",
    "    \"\"\"\n",
    "    fig, axs = plt.subplots(2, 1, figsize=(10,3*2), sharex=True)\n",
    "    for ax in axs:\n",
    "        sns.boxplot(data=ftrs_mat, ax=ax)\n",
    "        ax.set_ylabel('zscore')\n",
    "    ax.set_xlabel('basis')\n",
    "    ax.set_ylim([-3,3])\n",
    "    if output is not None:\n",
    "        powerplots.savefig_autodate(fig, output)\n",
    "    plt.show()"
   ]
  },
  {
   "cell_type": "code",
   "execution_count": null,
   "id": "73aec454-afbd-41f8-9d2a-1871738677d1",
   "metadata": {
    "tags": []
   },
   "outputs": [],
   "source": [
    "def draw_control_points(points, ax):\n",
    "    \"\"\"\n",
    "    \"\"\"\n",
    "    line_segs = [\n",
    "        [points[i], points[(i+1)%len(points)]]\n",
    "        for i in range(len(points))\n",
    "    ]\n",
    "\n",
    "    pm = np.asarray(points)\n",
    "    ax.scatter(pm[:,0], pm[:,1], color='r')\n",
    "    for i, p in enumerate(points):\n",
    "        ax.text(p[0], p[1], i)\n",
    "    lc = LineCollection(line_segs, linewidth=1, colors='r')\n",
    "    ax.add_collection(lc)\n",
    "    return line_segs"
   ]
  },
  {
   "cell_type": "code",
   "execution_count": null,
   "id": "e0e7fb01-d500-4b9e-a258-1475e449ffbc",
   "metadata": {},
   "outputs": [],
   "source": [
    "def preview_section(meta, bbox, \n",
    "                    nuclei_signal_th=1500, \n",
    "                    title='', \n",
    "                    meta_output=None, \n",
    "                    bbox_output=None,\n",
    "                    fig_output=None,\n",
    "                   ):\n",
    "    \"\"\"\n",
    "    \"\"\"\n",
    "    df = meta #.join(mtx)\n",
    "    points = bbox\n",
    "\n",
    "    # XY\n",
    "    XY = df[['stage_x', 'stage_y']].values\n",
    "    x = XY[:,0] \n",
    "    y = XY[:,1] \n",
    "\n",
    "    # cond = df['cytoplasm_size'] > 10\n",
    "    cond = (df['nuclei_signal'] > nuclei_signal_th).values\n",
    "    \n",
    "    fig, axs = plt.subplots(1,2, figsize=(8*2,8))\n",
    "    ax = axs[0]\n",
    "    ax.scatter(x, y, s=1, edgecolor='none', color='black', rasterized=True)\n",
    "    ax.set_title(title)\n",
    "    ax.set_aspect('auto')\n",
    "    \n",
    "    ax = axs[1]\n",
    "    # defined bounding box\n",
    "    draw_control_points(points, ax)\n",
    "    res = miscu.is_in_polygon(points, XY[cond])\n",
    "    \n",
    "    # filtered\n",
    "    idx_filtered = np.arange(len(XY))[cond][res]\n",
    "    df_filtered = df.iloc[idx_filtered]\n",
    "    xmin = df_filtered['stage_x'].min()\n",
    "    xmax = df_filtered['stage_x'].max()\n",
    "    ymin = df_filtered['stage_y'].min()\n",
    "    ymax = df_filtered['stage_y'].max()\n",
    "    \n",
    "    colors = np.array(['lightgray', 'black'])\n",
    "    ax.scatter(x[cond], y[cond], s=1, c=colors[(res).astype(int)], edgecolor='none', rasterized=True)\n",
    "    ax.set_title(f'Filtered n={len(df_filtered):,}/{len(meta):,} cells')\n",
    "    ax.set_aspect('equal')\n",
    "    ax.set_xlim([xmin-0.1*(xmax-xmin), xmax+0.1*(xmax-xmin)])\n",
    "    ax.set_ylim([ymin-0.1*(ymax-ymin), ymax+0.1*(ymax-ymin)])\n",
    "    # save figure\n",
    "    if fig_output is not None:\n",
    "        powerplots.savefig_autodate(fig, fig_output)\n",
    "    plt.show()\n",
    "    \n",
    "    # save filtered meta\n",
    "    if meta_output is not None:\n",
    "        print(meta_output)\n",
    "        df_filtered.to_csv(meta_output, header=True, index=True)\n",
    "    \n",
    "    # save bounding box\n",
    "    if bbox_output is not None:\n",
    "        print(bbox_output)\n",
    "        pd.DataFrame(points).to_csv(bbox_output, header=False, index=False)"
   ]
  },
  {
   "cell_type": "markdown",
   "id": "8508b24e-5e54-4635-9372-b653da234cf8",
   "metadata": {},
   "source": [
    "# all sections"
   ]
  },
  {
   "cell_type": "code",
   "execution_count": null,
   "id": "0e800b2a-5cb8-4896-aad2-f1a4d8955101",
   "metadata": {},
   "outputs": [],
   "source": [
    "path_dataset = '/bigstore/GeneralStorage/Data/dredFISH/Dataset4-t1'\n",
    "path_fig = os.path.join(path_dataset, 'figures_pre')\n",
    "if not os.path.isdir(path_fig):\n",
    "    os.mkdir(path_fig)\n",
    "\n",
    "files_mtx = np.sort(glob.glob('*_matrix.csv', dir_fd=path_dataset))\n",
    "files_meta = np.sort(glob.glob('*_metadata.csv', dir_fd=path_dataset))\n",
    "files_mtx.shape, files_meta.shape"
   ]
  },
  {
   "cell_type": "code",
   "execution_count": null,
   "id": "c75ea64d-2290-4d04-9c5c-1dd539c5af2a",
   "metadata": {},
   "outputs": [],
   "source": [
    "sections = {i: f.replace('_matrix.csv', '').replace('DPNMF_3B_4C_5A_6A_9C_10B_2022Aug01_Section_', '2022Aug01_')\n",
    "            for i, f in enumerate(files_mtx)}\n",
    "sections"
   ]
  },
  {
   "cell_type": "markdown",
   "id": "53a26789-fefb-4e89-ba89-cbfa0fad67ba",
   "metadata": {},
   "source": [
    "# Prerun all sections\n",
    "- set init"
   ]
  },
  {
   "cell_type": "code",
   "execution_count": null,
   "id": "a5c3d2eb-4e25-4367-99fd-a9257723aa50",
   "metadata": {},
   "outputs": [],
   "source": [
    "bboxes = {}\n",
    "for sctn in sections.keys():\n",
    "    # sctn = 2\n",
    "    sctn_name = sections[sctn]\n",
    "    file_meta = files_meta[sctn]\n",
    "\n",
    "    meta = pd.read_csv(os.path.join(path_dataset, file_meta), sep=',', index_col=0)\n",
    "    bbox_output = os.path.join(path_dataset, f'bbox_sect{sctn}_{sctn_name}.csv') \n",
    "    print(file_meta)\n",
    "\n",
    "    # default\n",
    "    xmin, xmax = np.min(meta['stage_x']), np.max(meta['stage_x'])\n",
    "    ymin, ymax = np.min(meta['stage_y']), np.max(meta['stage_y'])\n",
    "    print(meta['nuclei_signal'].max())\n",
    "    # break\n",
    "\n",
    "    points = [\n",
    "        (xmin, ymin),\n",
    "        (xmax, ymin),\n",
    "        (xmax, ymax),\n",
    "        (xmin, ymax),\n",
    "    ]\n",
    "    bboxes[sctn] = points\n",
    "\n",
    "    preview_section(meta, points, \n",
    "                    nuclei_signal_th=-1, \n",
    "                    title=f\"Sec{sctn}_{sctn_name}\",\n",
    "                    # bbox_output=None,\n",
    "                    bbox_output=bbox_output,\n",
    "                   )"
   ]
  },
  {
   "cell_type": "markdown",
   "id": "8744d71f-85ab-48ff-a59c-3e91a917f71c",
   "metadata": {},
   "source": [
    "# Refine bounding boxes\n",
    "- set init"
   ]
  },
  {
   "cell_type": "code",
   "execution_count": null,
   "id": "c147f704-aa6b-4f35-a93d-db4a30fc3004",
   "metadata": {},
   "outputs": [],
   "source": [
    "bboxes_refined = bboxes.copy()"
   ]
  },
  {
   "cell_type": "code",
   "execution_count": null,
   "id": "1dc54894-285b-4f4e-9731-9ae146a0fb5d",
   "metadata": {},
   "outputs": [],
   "source": [
    "# sctn = 0\n",
    "# sctn_name = sections[sctn]\n",
    "# file_meta = files_meta[sctn]\n",
    "\n",
    "# meta = pd.read_csv(os.path.join(path_dataset, file_meta), sep=',', index_col=0)\n",
    "# bbox_output = os.path.join(path_dataset, f'bbox_sect{sctn}_{sctn_name}.csv') \n",
    "# print(file_meta)\n",
    "\n",
    "# # refined\n",
    "# points = [\n",
    "#     (-6500, 20400), \n",
    "#     (-1000, 20600),\n",
    "#     (0, 26000),\n",
    "#     (-1000, 29000),\n",
    "#     (-10000, 29000),\n",
    "#     (-10000, 24000),\n",
    "# ]\n",
    "# bboxes_refined[sctn] = points\n",
    "\n",
    "# preview_section(meta, points, \n",
    "#                 title=f\"Sec{sctn}_{sctn_name}\",\n",
    "#                 # bbox_output=None,\n",
    "#                 bbox_output=bbox_output,\n",
    "#                )"
   ]
  },
  {
   "cell_type": "markdown",
   "id": "048850d1-3e93-4256-8703-35557c26e7cc",
   "metadata": {},
   "source": [
    "# Recheck everything "
   ]
  },
  {
   "cell_type": "code",
   "execution_count": null,
   "id": "d6d83cff-3cb8-47f3-93b8-0e87ed79399f",
   "metadata": {},
   "outputs": [],
   "source": [
    "for sctn in sections.keys():\n",
    "    sctn_name = sections[sctn]\n",
    "    file_meta = files_meta[sctn]\n",
    "    points = bboxes_refined[sctn]\n",
    "    meta_output = os.path.join(path_dataset, file_meta.replace('metadata', 'metadata_filtered'))\n",
    "    bbox_output = os.path.join(path_dataset, f'bbox_sect{sctn}_{sctn_name}.csv') \n",
    "    fig_output  = os.path.join(path_fig, f'fig_qc_cells_sect{sctn}_{sctn_name}.pdf')\n",
    "\n",
    "    meta = pd.read_csv(os.path.join(path_dataset, file_meta), sep=',', index_col=0)\n",
    "\n",
    "    preview_section(meta, points, \n",
    "                    title=f\"Sec{sctn}_{sctn_name}\",\n",
    "                    nuclei_signal_th=-1, \n",
    "                    fig_output=fig_output,\n",
    "                    meta_output=meta_output,\n",
    "                    bbox_output=bbox_output,\n",
    "                   )"
   ]
  },
  {
   "cell_type": "code",
   "execution_count": null,
   "id": "925d148f-8ca0-4506-b62e-fbc7ed895b0b",
   "metadata": {},
   "outputs": [],
   "source": [
    "importlib.reload(compile_tex)\n",
    "compile_tex.main(path_dataset,\n",
    "                 subpth_res='figures_pre',\n",
    "                 title='dredFISH 23-section clean up', \n",
    "                 author='Wollman lab',)"
   ]
  },
  {
   "cell_type": "code",
   "execution_count": null,
   "id": "9757ab01-e7a2-4d57-b20a-6988a5541a61",
   "metadata": {},
   "outputs": [],
   "source": []
  }
 ],
 "metadata": {
  "kernelspec": {
   "display_name": "Python 3 (ipykernel)",
   "language": "python",
   "name": "python3"
  },
  "language_info": {
   "codemirror_mode": {
    "name": "ipython",
    "version": 3
   },
   "file_extension": ".py",
   "mimetype": "text/x-python",
   "name": "python",
   "nbconvert_exporter": "python",
   "pygments_lexer": "ipython3",
   "version": "3.10.2"
  }
 },
 "nbformat": 4,
 "nbformat_minor": 5
}
