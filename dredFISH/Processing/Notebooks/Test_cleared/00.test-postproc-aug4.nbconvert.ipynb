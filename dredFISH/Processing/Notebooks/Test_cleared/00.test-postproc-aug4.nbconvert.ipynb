{
 "cells": [
  {
   "cell_type": "code",
   "execution_count": null,
   "id": "3cb87689-e482-4796-bcea-bad07ca8dc53",
   "metadata": {},
   "outputs": [],
   "source": [
    "import glob\n",
    "import os\n",
    "import numpy as np\n",
    "import pandas as pd\n",
    "import matplotlib.pyplot as plt\n",
    "import seaborn as sns\n",
    "from dredFISH.Utils import basicu\n",
    "from dredFISH.Utils import powerplots\n",
    "\n",
    "import importlib\n",
    "importlib.reload(powerplots)"
   ]
  },
  {
   "cell_type": "markdown",
   "id": "8508b24e-5e54-4635-9372-b653da234cf8",
   "metadata": {},
   "source": [
    "# 12 section brain dataset"
   ]
  },
  {
   "cell_type": "code",
   "execution_count": null,
   "id": "0e800b2a-5cb8-4896-aad2-f1a4d8955101",
   "metadata": {},
   "outputs": [],
   "source": [
    "path_dataset = '/bigstore/GeneralStorage/Data/dredFISH/Dataset3-t1'\n",
    "\n",
    "files_mtx = np.sort(glob.glob('*_matrix.csv', dir_fd=path_dataset))\n",
    "files_meta = np.sort(glob.glob('*_metadata.csv', dir_fd=path_dataset))\n",
    "files_mtx.shape, files_meta.shape"
   ]
  },
  {
   "cell_type": "code",
   "execution_count": null,
   "id": "c75ea64d-2290-4d04-9c5c-1dd539c5af2a",
   "metadata": {},
   "outputs": [],
   "source": [
    "sections = {i: f.replace('_matrix.csv', '').replace('DPNMF_1A_2B_11A_12B_2022Jul28_Section_', '')\n",
    "            for i, f in enumerate(files_mtx)}\n",
    "sections"
   ]
  },
  {
   "cell_type": "markdown",
   "id": "54d325f2-5cc2-49ef-9d14-0ece9b89896a",
   "metadata": {},
   "source": [
    "# Do minimal clean up and show"
   ]
  },
  {
   "cell_type": "code",
   "execution_count": null,
   "id": "a10d54a6-4478-4595-b4fe-cf896ea5cd7e",
   "metadata": {},
   "outputs": [],
   "source": [
    "sctn = 0\n",
    "sctn_name = sections[sctn]\n",
    "file_mtx = files_mtx[sctn]\n",
    "file_meta = files_meta[sctn]\n",
    "print(files_mtx[0], files_meta[0])\n",
    "\n",
    "mtx = pd.read_csv(os.path.join(path_dataset, file_mtx), sep=',', index_col=0)\n",
    "mtx.columns = np.char.add('br', np.arange(24).astype(str))\n",
    "\n",
    "meta = pd.read_csv(os.path.join(path_dataset, file_meta), sep=',', index_col=0)\n",
    "\n",
    "df = meta.join(mtx)\n",
    "mtx.shape, meta.shape, df.columns"
   ]
  },
  {
   "cell_type": "code",
   "execution_count": null,
   "id": "84ea65bc-e763-476c-8f13-d91f361df396",
   "metadata": {},
   "outputs": [],
   "source": [
    "mat = mtx.values\n",
    "matnorm = basicu.normalize_fishdata(mat, norm_cell=True, norm_basis=True)"
   ]
  },
  {
   "cell_type": "code",
   "execution_count": null,
   "id": "09f7bb6b-0be6-44a7-9344-9a90d4307d7b",
   "metadata": {},
   "outputs": [],
   "source": [
    "for i in range(matnorm.shape[1]):\n",
    "    df[f'b{i}'] = matnorm[:,i]"
   ]
  },
  {
   "cell_type": "code",
   "execution_count": null,
   "id": "00f87cc0-8d78-49e7-83f9-f27d553a8dd5",
   "metadata": {},
   "outputs": [],
   "source": [
    "XY = df[['stage_x', 'stage_y']].values\n",
    "x = XY[:,0] \n",
    "y = XY[:,1] "
   ]
  },
  {
   "cell_type": "markdown",
   "id": "cf5aab0f-0030-4107-83b2-1c9726e10e08",
   "metadata": {},
   "source": [
    "# quick check for this section"
   ]
  },
  {
   "cell_type": "code",
   "execution_count": null,
   "id": "1f0f57ee-5b44-4482-9d0c-eea5119eabcd",
   "metadata": {},
   "outputs": [],
   "source": [
    "fig, ax = plt.subplots(figsize=(10,5))\n",
    "sns.boxplot(data=matnorm, ax=ax)\n",
    "ax.set_xlabel('basis')\n",
    "ax.set_ylabel('zscore')\n",
    "plt.show()\n",
    "\n",
    "fig, ax = plt.subplots(figsize=(10,5))\n",
    "sns.boxplot(data=matnorm, ax=ax)\n",
    "ax.set_xlabel('basis')\n",
    "ax.set_ylabel('zscore')\n",
    "ax.set_ylim([-3,3])\n",
    "plt.show()"
   ]
  },
  {
   "cell_type": "code",
   "execution_count": null,
   "id": "276ff345-10cb-4857-8d11-82ea331c3d3c",
   "metadata": {},
   "outputs": [],
   "source": [
    "fig, ax = plt.subplots(figsize=(10,10))\n",
    "ax.scatter(x, y, s=1, edgecolor='none', color='black')\n",
    "ax.set_title(sctn_name)\n",
    "plt.show()"
   ]
  },
  {
   "cell_type": "code",
   "execution_count": null,
   "id": "d98decc0-e937-45a7-9679-8099b51dc7d1",
   "metadata": {},
   "outputs": [],
   "source": [
    "powerplots.plot_basis_spatial(df, xcol='stage_x', ycol='stage_y', vmin=-1, vmax=1)"
   ]
  },
  {
   "cell_type": "code",
   "execution_count": null,
   "id": "029f45a1-5f32-4652-abc2-ced70741c908",
   "metadata": {},
   "outputs": [],
   "source": []
  }
 ],
 "metadata": {
  "kernelspec": {
   "display_name": "Python 3 (ipykernel)",
   "language": "python",
   "name": "python3"
  },
  "language_info": {
   "codemirror_mode": {
    "name": "ipython",
    "version": 3
   },
   "file_extension": ".py",
   "mimetype": "text/x-python",
   "name": "python",
   "nbconvert_exporter": "python",
   "pygments_lexer": "ipython3",
   "version": "3.10.2"
  }
 },
 "nbformat": 4,
 "nbformat_minor": 5
}
