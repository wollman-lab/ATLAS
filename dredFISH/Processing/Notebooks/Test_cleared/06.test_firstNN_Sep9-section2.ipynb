{
 "cells": [
  {
   "cell_type": "code",
   "execution_count": null,
   "id": "68c33241-531b-4be7-82c7-c24bb7ca0102",
   "metadata": {},
   "outputs": [],
   "source": [
    "import glob\n",
    "import os\n",
    "import numpy as np\n",
    "import pandas as pd\n",
    "import matplotlib.pyplot as plt\n",
    "import seaborn as sns\n",
    "from dredFISH.Utils import basicu\n",
    "from dredFISH.Utils import designu\n",
    "from dredFISH.Utils import powerplots\n",
    "from dredFISH.Visualization import compile_tex\n",
    "\n",
    "import importlib\n",
    "config = importlib.import_module(\"dredfish_processing_config\")\n",
    "\n",
    "importlib.reload(basicu)\n",
    "importlib.reload(powerplots)\n",
    "importlib.reload(compile_tex)"
   ]
  },
  {
   "cell_type": "code",
   "execution_count": null,
   "id": "3b11ab9a-7750-4c9c-9684-f922685f2bd3",
   "metadata": {},
   "outputs": [],
   "source": [
    "path_dataset = '/bigstore/GeneralStorage/Data/dredFISH/NN1'\n",
    "path_fig = os.path.join(path_dataset, 'figures')\n",
    "if not os.path.isdir(path_fig):\n",
    "    os.mkdir(path_fig)\n",
    "\n",
    "files_mtx = np.sort(glob.glob('*_matrix.csv', dir_fd=path_dataset))\n",
    "# files_meta = np.sort(glob.glob('*_metadata_filtered.csv', dir_fd=path_dataset))\n",
    "files_meta = np.sort(glob.glob('*_metadata.csv', dir_fd=path_dataset))\n",
    "files_mtx.shape, files_meta.shape"
   ]
  },
  {
   "cell_type": "code",
   "execution_count": null,
   "id": "0e74f615-7c07-4482-9bcb-c4ae89cefa7d",
   "metadata": {},
   "outputs": [],
   "source": [
    "sections = {i: f.replace('_matrix.csv', '')#.replace('DPNM1A__11A_12B_2022Jul28_Section_', '')\n",
    "            for i, f in enumerate(files_mtx)}\n",
    "sections"
   ]
  },
  {
   "cell_type": "code",
   "execution_count": null,
   "id": "1ee6a1fd-3f24-4836-b019-189fd8dcd1e9",
   "metadata": {},
   "outputs": [],
   "source": [
    "def plot_basis_box(ftrs_mat, output=None, ylabel='zscore', ylim=[-3,3]):\n",
    "    \"\"\"\n",
    "    \"\"\"\n",
    "    fig, axs = plt.subplots(2, 1, figsize=(10,3*2), sharex=True)\n",
    "    for ax in axs:\n",
    "        sns.boxplot(data=ftrs_mat, ax=ax)\n",
    "        ax.set_ylabel('zscore')\n",
    "    ax.set_xlabel('basis')\n",
    "    ax.set_ylim(ylim)\n",
    "    if output is not None:\n",
    "        powerplots.savefig_autodate(fig, output)\n",
    "    plt.show()"
   ]
  },
  {
   "cell_type": "code",
   "execution_count": null,
   "id": "993f39d3-17b5-4312-86b9-fdf2a0547977",
   "metadata": {},
   "outputs": [],
   "source": [
    "col_orders = [bit[1] for bit in config.bitmap]"
   ]
  },
  {
   "cell_type": "code",
   "execution_count": null,
   "id": "08cc8ff1-f5bc-4abd-b52e-3ee367877892",
   "metadata": {},
   "outputs": [],
   "source": [
    "sctn = 1\n",
    "sctn_name = sections[sctn]\n",
    "file_mtx = files_mtx[sctn]\n",
    "file_meta = files_meta[sctn]\n",
    "print(files_mtx[1], files_meta[1])\n",
    "\n",
    "mtx = pd.read_csv(os.path.join(path_dataset, file_mtx), sep=',', index_col=0)\n",
    "assert np.all(col_orders == mtx.columns.values) # check if the order agrees with the bitmap\n",
    "mtx = mtx.iloc[:,:24]\n",
    "mtx.columns = np.char.add('br', np.arange(24).astype(str))\n",
    "meta = pd.read_csv(os.path.join(path_dataset, file_meta), sep=',', index_col=0)\n",
    "df = meta.join(mtx)\n",
    "\n",
    "# cond = df['cytoplasm_size'] > 10\n",
    "cond = df['nuclei_signal'] > 1500\n",
    "df = df.loc[cond]\n",
    "mtx = df[np.char.add('br', np.arange(24).astype(str))]\n",
    "\n",
    "# norm\n",
    "ftrs_mat = basicu.normalize_fishdata(mtx.values, norm_cell=True, norm_basis=True, allow_nan=True)\n",
    "raw_mat = mtx.values \n",
    "for i in range(ftrs_mat.shape[1]):\n",
    "    df[f'b{i}'] = ftrs_mat[:,i]\n",
    "    \n",
    "# XY\n",
    "XY = df[['stage_x', 'stage_y']].values\n",
    "x = XY[:,0] \n",
    "y = XY[:,1] "
   ]
  },
  {
   "cell_type": "code",
   "execution_count": null,
   "id": "9d4d784b-c551-4afa-b0d0-29ed9ac01f31",
   "metadata": {},
   "outputs": [],
   "source": [
    "output = os.path.join(path_fig, f\"fig1_xy_sect{sctn}_{sctn_name}.pdf\")\n",
    "fig, ax = plt.subplots(figsize=(10,10))\n",
    "ax.scatter(x, y, s=1, edgecolor='none', color='black', rasterized=True)\n",
    "ax.set_title(sctn_name)\n",
    "ax.set_aspect('equal')\n",
    "powerplots.savefig_autodate(fig, output)\n",
    "plt.show()\n",
    "\n",
    "# output = os.path.join(path_fig, f\"fig2_basis_box_sect{sctn}_{sctn_name}.pdf\")\n",
    "output = None\n",
    "plot_basis_box(ftrs_mat, output=output)\n",
    "\n",
    "\n",
    "# output = os.path.join(path_fig, f\"fig3_basis_xy_sect{sctn}_{sctn_name}.pdf\")\n",
    "output = None\n",
    "powerplots.plot_basis_spatial(df, xcol='stage_x', ycol='stage_y', vmin=-1, vmax=1, output=output)"
   ]
  },
  {
   "cell_type": "code",
   "execution_count": null,
   "id": "2760552c-9e75-4f1c-95f1-3accdf6bf0b2",
   "metadata": {},
   "outputs": [],
   "source": [
    "designu.plot_intn(raw_mat)"
   ]
  },
  {
   "cell_type": "code",
   "execution_count": null,
   "id": "18cfd043-c9fa-4eeb-be4d-c4bc0c309b80",
   "metadata": {},
   "outputs": [],
   "source": [
    "def plot_basis_box_v2(ftrs_mat, output=None, ylabel='zscore', ylim=[-3,3]):\n",
    "    \"\"\"\n",
    "    \"\"\"\n",
    "    fig, axs = plt.subplots(2, 1, figsize=(10,3*2), sharex=True)\n",
    "    for ax in axs:\n",
    "        sns.boxplot(data=ftrs_mat, color='gray', ax=ax)\n",
    "        ax.set_ylabel(ylabel)\n",
    "    ax.set_xlabel('basis')\n",
    "    ax.set_yscale('log')\n",
    "    if output is not None:\n",
    "        powerplots.savefig_autodate(fig, output)\n",
    "    plt.show()"
   ]
  },
  {
   "cell_type": "code",
   "execution_count": null,
   "id": "188e05f4-d0c1-48fa-8a02-b3b64987c3a9",
   "metadata": {},
   "outputs": [],
   "source": [
    "output = None\n",
    "plot_basis_box_v2(raw_mat, output=output, ylabel=\"Vector\")\n"
   ]
  },
  {
   "cell_type": "code",
   "execution_count": null,
   "id": "0f0e139c-a1a1-4140-8ad5-3d463b4655f2",
   "metadata": {},
   "outputs": [],
   "source": [
    "fig, ax = plt.subplots()\n",
    "ax.plot(np.percentile(raw_mat, 50, axis=0))\n",
    "ax.plot(np.percentile(raw_mat, 10, axis=0))\n",
    "ax.plot(np.percentile(raw_mat, 90, axis=0))\n",
    "plt.show()"
   ]
  },
  {
   "cell_type": "code",
   "execution_count": null,
   "id": "7c16377d-894c-4530-bb54-13a19c7570f5",
   "metadata": {},
   "outputs": [],
   "source": [
    "order = np.argsort(np.percentile(raw_mat, 50, axis=0))[::-1]\n",
    "\n",
    "fig, ax = plt.subplots()\n",
    "ax.plot(np.percentile(raw_mat, 50, axis=0)[order], '-o', markersize=5,  label='median')\n",
    "ax.plot(np.percentile(raw_mat, 10, axis=0)[order], '-o', markersize=5,  label='10 perctl')\n",
    "ax.plot(np.percentile(raw_mat, 90, axis=0)[order], '-o', markersize=5,  label='90 perctl')\n",
    "ax.set_yscale('log')\n",
    "ax.legend(bbox_to_anchor=(1,1))\n",
    "plt.show()"
   ]
  },
  {
   "cell_type": "code",
   "execution_count": null,
   "id": "3ef9622c-8af9-42f6-85f9-0fa6b1c38f59",
   "metadata": {},
   "outputs": [],
   "source": [
    "sns.histplot(np.log10(raw_mat.sum(axis=1)+1), bins=np.linspace(2,5,50))"
   ]
  },
  {
   "cell_type": "code",
   "execution_count": null,
   "id": "d6c35ee9-1cc2-46e5-9836-89e10a53f5e1",
   "metadata": {},
   "outputs": [],
   "source": [
    "fig, axs = plt.subplots(4,6,figsize=(6*5,4*4))\n",
    "for i in range(24):\n",
    "    ax = axs.flat[i]\n",
    "    sns.histplot(np.log10(raw_mat+1)[:,i], bins=np.linspace(1,3,50), ax=ax)\n",
    "plt.show()"
   ]
  },
  {
   "cell_type": "markdown",
   "id": "193ce8d1-9dfa-419d-914b-1273c5389127",
   "metadata": {},
   "source": [
    "# push thru and ask more"
   ]
  },
  {
   "cell_type": "code",
   "execution_count": null,
   "id": "683f691d-9f95-4f18-9968-41318ce7b9db",
   "metadata": {},
   "outputs": [],
   "source": []
  },
  {
   "cell_type": "code",
   "execution_count": null,
   "id": "bd12bf5e-3df3-457b-af6c-91c89abb1458",
   "metadata": {},
   "outputs": [],
   "source": []
  }
 ],
 "metadata": {
  "kernelspec": {
   "display_name": "Python 3 (ipykernel)",
   "language": "python",
   "name": "python3"
  },
  "language_info": {
   "codemirror_mode": {
    "name": "ipython",
    "version": 3
   },
   "file_extension": ".py",
   "mimetype": "text/x-python",
   "name": "python",
   "nbconvert_exporter": "python",
   "pygments_lexer": "ipython3",
   "version": "3.10.2"
  }
 },
 "nbformat": 4,
 "nbformat_minor": 5
}
