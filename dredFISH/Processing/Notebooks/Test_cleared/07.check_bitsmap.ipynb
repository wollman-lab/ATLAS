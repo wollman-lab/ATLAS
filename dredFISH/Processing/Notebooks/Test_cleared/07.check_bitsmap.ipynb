{
 "cells": [
  {
   "cell_type": "code",
   "execution_count": null,
   "id": "cde6763c-7027-4880-a2ad-7c81d503d416",
   "metadata": {},
   "outputs": [],
   "source": [
    "from dredFISH.Processing.execute import *\n",
    "import importlib\n",
    "import matplotlib.pyplot as plt"
   ]
  },
  {
   "cell_type": "code",
   "execution_count": null,
   "id": "c6d7f5be-6734-45f2-8a1f-9ff97667e73d",
   "metadata": {},
   "outputs": [],
   "source": [
    "base_path = '/bigstore/Images2022/gaby/dredFISH/NN_25hybes_2022Sep07/'\n",
    "cword_config  = 'dredfish_processing_config'\n",
    "config = importlib.import_module(cword_config)\n",
    "# dataset = [i for i in base_path.split('/') if not i==''][-1]\n",
    "# image_metadata = Metadata(base_path)\n",
    "\n",
    "# self = Dataset_Class(base_path,dataset,cword_config,verbose=True)\n",
    "# self.metadata = image_metadata\n",
    "# self.posnames = image_metadata.posnames\n",
    "# self.merge_positions()\n",
    "# data = self.data"
   ]
  },
  {
   "cell_type": "code",
   "execution_count": null,
   "id": "8eade805-7100-4789-b6a5-5cb107bfbd50",
   "metadata": {},
   "outputs": [],
   "source": [
    "config"
   ]
  },
  {
   "cell_type": "code",
   "execution_count": null,
   "id": "2cf45b07-90d3-4456-a5a6-56a8115aa13d",
   "metadata": {},
   "outputs": [],
   "source": [
    "# config.parameters\n",
    "config.bitmap"
   ]
  },
  {
   "cell_type": "code",
   "execution_count": null,
   "id": "0ec80457-3b8f-4b44-951e-0e67eca74d70",
   "metadata": {},
   "outputs": [],
   "source": [
    "\n",
    "['RS0095',\n",
    " 'RS0109',\n",
    " 'RS0175',\n",
    " 'RS0237',\n",
    " 'RS0307',\n",
    " 'RS0332',\n",
    " 'RSN9927.0',\n",
    " 'RSN2336.0',\n",
    " 'RSN1807.0',\n",
    " 'RS0384',\n",
    " 'RS0406',\n",
    " 'RS0451',\n",
    " 'RS0468',\n",
    " 'RS0548',\n",
    " 'RS64.0',\n",
    " 'RSN4287.0',\n",
    " 'RSN1252.0',\n",
    " 'RSN9535.0',\n",
    " 'RS156.0',\n",
    " 'RS278.0',\n",
    " 'RS313.0',\n",
    " 'RS643.0',\n",
    " 'RS740.0',\n",
    " 'RS810.0']"
   ]
  }
 ],
 "metadata": {
  "kernelspec": {
   "display_name": "Python 3 (ipykernel)",
   "language": "python",
   "name": "python3"
  },
  "language_info": {
   "codemirror_mode": {
    "name": "ipython",
    "version": 3
   },
   "file_extension": ".py",
   "mimetype": "text/x-python",
   "name": "python",
   "nbconvert_exporter": "python",
   "pygments_lexer": "ipython3",
   "version": "3.10.2"
  }
 },
 "nbformat": 4,
 "nbformat_minor": 5
}
