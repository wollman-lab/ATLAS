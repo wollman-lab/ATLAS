{
 "cells": [
  {
   "cell_type": "code",
   "execution_count": null,
   "id": "e5a614b9-7a51-458e-924e-cfcf0cb68bc4",
   "metadata": {},
   "outputs": [],
   "source": [
    "import torch\n",
    "import numpy as np\n",
    "import pandas as pd\n",
    "import matplotlib.pyplot as plt"
   ]
  },
  {
   "cell_type": "markdown",
   "id": "84a3e82e-5370-4e39-8d20-c7b377e90220",
   "metadata": {},
   "source": [
    "# Test: swap labels in a large mask matrix"
   ]
  },
  {
   "cell_type": "code",
   "execution_count": null,
   "id": "0fcea379-7ea5-4f18-bd3a-50374bd3f3ea",
   "metadata": {},
   "outputs": [],
   "source": [
    "f = '/greendata/Images2022/Gaby/dredFISH/DPNMF-FR_R1_4A_UC_R2_5C_2022Nov27/fishdata_2022Dec09/DPNMF-FR_R1_4A_UC_R2_5C_2022Nov27_Section2_total_mask_stitched.pt'\n",
    "mat = torch.load(f)\n",
    "mat, mat.shape"
   ]
  },
  {
   "cell_type": "code",
   "execution_count": null,
   "id": "ab47f71f-4010-4db2-bcc6-6bd5e321dc23",
   "metadata": {},
   "outputs": [],
   "source": [
    "mat = mat.numpy()\n",
    "mat, mat.shape"
   ]
  },
  {
   "cell_type": "code",
   "execution_count": null,
   "id": "573b903c-abbf-40f5-adc6-2af0a13474f3",
   "metadata": {},
   "outputs": [],
   "source": [
    "# setting up and check some stats\n",
    "i, j = np.nonzero(mat)\n",
    "unq = np.unique(mat[i,j])\n",
    "lbl = np.random.choice(unq, size=len(unq), replace=False) # randomly swap the labels\n",
    "\n",
    "m, n = mat.shape\n",
    "nnz = len(i)\n",
    "ncl = len(unq)\n",
    "\n",
    "print(f\"\"\"size: ({m}, {n})\n",
    "sparsity: {nnz/(m*n)}\n",
    "n cells: {ncl}\n",
    "old labels: {unq}\n",
    "new labels: {lbl}\n",
    "\"\"\")"
   ]
  },
  {
   "cell_type": "code",
   "execution_count": null,
   "id": "9d556b15-40d1-4c5c-a10c-a37bf6ee92ac",
   "metadata": {},
   "outputs": [],
   "source": [
    "%%time\n",
    "# the problem:\n",
    "# create from the old mask matrix a new matrix that with the swapped labels (oldlbl->newlbl)\n",
    "\n",
    "def swap_mask(mat, lookup_o2n):\n",
    "    \"\"\"create from the old mask matrix a new matrix with the swapped labels according to the lookup table (pd.Series)\n",
    "    \"\"\"\n",
    "    i, j = np.nonzero(mat)\n",
    "    unq, inv = np.unique(mat[i,j], return_inverse=True)\n",
    "    # assert np.all(unq[inv] == mat[i,j]) # unq[inv] should recreates the original one\n",
    "    \n",
    "    newmat = mat.copy()\n",
    "    newmat[i,j] = lookup_o2n.loc[unq].values[inv]\n",
    "    return newmat\n",
    "\n",
    "lookup_o2n = pd.Series(lbl, index=unq)\n",
    "newmat = swap_mask(mat, lookup_o2n)"
   ]
  },
  {
   "cell_type": "code",
   "execution_count": null,
   "id": "c1faea33-289e-4b74-abcd-3bbd7748cbb9",
   "metadata": {},
   "outputs": [],
   "source": [
    "%%time\n",
    "# see if the results make sense\n",
    "\n",
    "fig, axs = plt.subplots(1,2,figsize=(2*5,1*5))\n",
    "ax = axs[0]\n",
    "ax.set_title('Original')\n",
    "g = ax.imshow(mat[5000:6000,\n",
    "               5000:6000])\n",
    "fig.colorbar(g, ax=ax)\n",
    "\n",
    "ax = axs[1]\n",
    "ax.set_title('Swapped')\n",
    "g = ax.imshow(newmat[5000:6000,\n",
    "                  5000:6000])\n",
    "fig.colorbar(g, ax=ax)"
   ]
  }
 ],
 "metadata": {
  "kernelspec": {
   "display_name": "Python 3 (ipykernel)",
   "language": "python",
   "name": "python3"
  },
  "language_info": {
   "codemirror_mode": {
    "name": "ipython",
    "version": 3
   },
   "file_extension": ".py",
   "mimetype": "text/x-python",
   "name": "python",
   "nbconvert_exporter": "python",
   "pygments_lexer": "ipython3",
   "version": "3.10.2"
  }
 },
 "nbformat": 4,
 "nbformat_minor": 5
}
