{
 "cells": [
  {
   "cell_type": "markdown",
   "id": "5dbf5bfe-4832-4baa-b018-aac4bcbe2b71",
   "metadata": {},
   "source": [
    "# collect results \n"
   ]
  },
  {
   "cell_type": "code",
   "execution_count": null,
   "id": "77f995dd-32fb-4786-95ab-c9d2a206242c",
   "metadata": {},
   "outputs": [],
   "source": [
    "import os\n",
    "import glob\n",
    "import numpy as np\n",
    "import pandas as pd\n",
    "import subprocess\n",
    "import anndata\n",
    "from sklearn.decomposition import PCA\n",
    "import shutil\n",
    "\n",
    "import matplotlib.pyplot as plt\n",
    "import seaborn as sns"
   ]
  },
  {
   "cell_type": "code",
   "execution_count": null,
   "id": "eef75954-426f-4257-a00d-9d1d92ff1957",
   "metadata": {},
   "outputs": [],
   "source": [
    "rootdir = \"/bigstore/GeneralStorage/Data/dredFISH/\"\n",
    "!ls -alhtr $rootdir"
   ]
  },
  {
   "cell_type": "code",
   "execution_count": null,
   "id": "babc1ab9-5fea-48f6-ba48-1902a412eb71",
   "metadata": {},
   "outputs": [],
   "source": [
    "ddirs = [\n",
    "    \"/bigstore/GeneralStorage/Data/dredFISH/DPNMF-FR_7C_PFA+Methanol_PFA_Methanol_2022Nov07\",\n",
    "    \"/bigstore/GeneralStorage/Data/dredFISH/DPNMF-FR_Z1_Z2_9A_Z3_Z4_6C_2022Nov15\",\n",
    "    \"/bigstore/GeneralStorage/Data/dredFISH/DPNMF-FR_R1_4A_UC_R2_5C_2022Nov27\",\n",
    "]\n",
    "\n",
    "for ddir in ddirs:\n",
    "    samples = np.sort(glob.glob(\"*Section*\", dir_fd=ddir))\n",
    "    print(len(samples), samples)\n",
    "    \n",
    "    for sample in samples:\n",
    "        figs = np.sort(glob.glob(os.path.join(ddir, sample, \"figures\", \"*.pdf\")))\n",
    "        for fig in figs:\n",
    "            src = fig\n",
    "            dst = os.path.join(\"/home/fangming/figures\", f\"{sample}_{os.path.basename(fig)}\")\n",
    "            shutil.copyfile(src, dst)"
   ]
  }
 ],
 "metadata": {
  "kernelspec": {
   "display_name": "Python 3 (ipykernel)",
   "language": "python",
   "name": "python3"
  },
  "language_info": {
   "codemirror_mode": {
    "name": "ipython",
    "version": 3
   },
   "file_extension": ".py",
   "mimetype": "text/x-python",
   "name": "python",
   "nbconvert_exporter": "python",
   "pygments_lexer": "ipython3",
   "version": "3.10.2"
  }
 },
 "nbformat": 4,
 "nbformat_minor": 5
}
