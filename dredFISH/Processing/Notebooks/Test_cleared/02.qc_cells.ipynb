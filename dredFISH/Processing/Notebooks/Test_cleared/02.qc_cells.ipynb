{
 "cells": [
  {
   "cell_type": "code",
   "execution_count": null,
   "id": "3cb87689-e482-4796-bcea-bad07ca8dc53",
   "metadata": {},
   "outputs": [],
   "source": [
    "import glob\n",
    "import os\n",
    "import numpy as np\n",
    "import pandas as pd\n",
    "import matplotlib.pyplot as plt\n",
    "import seaborn as sns\n",
    "from dredFISH.Utils import basicu\n",
    "from dredFISH.Utils import powerplots\n",
    "from dredFISH.Visualization import compile_tex\n",
    "\n",
    "import importlib\n",
    "importlib.reload(powerplots)\n",
    "importlib.reload(compile_tex)"
   ]
  },
  {
   "cell_type": "markdown",
   "id": "8508b24e-5e54-4635-9372-b653da234cf8",
   "metadata": {},
   "source": [
    "# 12-section brain dataset"
   ]
  },
  {
   "cell_type": "code",
   "execution_count": null,
   "id": "0e800b2a-5cb8-4896-aad2-f1a4d8955101",
   "metadata": {},
   "outputs": [],
   "source": [
    "path_dataset = '/bigstore/GeneralStorage/Data/dredFISH/Dataset3-t1'\n",
    "path_fig = os.path.join(path_dataset, 'figures')\n",
    "if not os.path.isdir(path_fig):\n",
    "    os.mkdir(path_fig)\n",
    "\n",
    "files_mtx = np.sort(glob.glob('*_matrix.csv', dir_fd=path_dataset))\n",
    "files_meta = np.sort(glob.glob('*_metadata.csv', dir_fd=path_dataset))\n",
    "files_mtx.shape, files_meta.shape"
   ]
  },
  {
   "cell_type": "code",
   "execution_count": null,
   "id": "c75ea64d-2290-4d04-9c5c-1dd539c5af2a",
   "metadata": {},
   "outputs": [],
   "source": [
    "sections = {i: f.replace('_matrix.csv', '').replace('DPNMF_1A_2B_11A_12B_2022Jul28_Section_', '')\n",
    "            for i, f in enumerate(files_mtx)}\n",
    "sections"
   ]
  },
  {
   "cell_type": "markdown",
   "id": "54d325f2-5cc2-49ef-9d14-0ece9b89896a",
   "metadata": {},
   "source": [
    "# 1 section -- minimal clean up and show"
   ]
  },
  {
   "cell_type": "code",
   "execution_count": null,
   "id": "81ba4136-15b4-423c-aaea-2ee9f73485c7",
   "metadata": {},
   "outputs": [],
   "source": [
    "def plot_basis_box(ftrs_mat, output=None):\n",
    "    \"\"\"\n",
    "    \"\"\"\n",
    "    fig, axs = plt.subplots(2, 1, figsize=(10,3*2), sharex=True)\n",
    "    for ax in axs:\n",
    "        sns.boxplot(data=ftrs_mat, ax=ax)\n",
    "        ax.set_ylabel('zscore')\n",
    "    ax.set_xlabel('basis')\n",
    "    ax.set_ylim([-3,3])\n",
    "    if output is not None:\n",
    "        powerplots.savefig_autodate(fig, output)\n",
    "    plt.show()"
   ]
  },
  {
   "cell_type": "code",
   "execution_count": null,
   "id": "a10d54a6-4478-4595-b4fe-cf896ea5cd7e",
   "metadata": {},
   "outputs": [],
   "source": [
    "sctn = 0\n",
    "sctn_name = sections[sctn]\n",
    "file_mtx = files_mtx[sctn]\n",
    "file_meta = files_meta[sctn]\n",
    "print(files_mtx[0], files_meta[0])\n",
    "\n",
    "mtx = pd.read_csv(os.path.join(path_dataset, file_mtx), sep=',', index_col=0)\n",
    "mtx.columns = np.char.add('br', np.arange(24).astype(str))\n",
    "meta = pd.read_csv(os.path.join(path_dataset, file_meta), sep=',', index_col=0)\n",
    "df = meta.join(mtx)\n",
    "\n",
    "# norm\n",
    "ftrs_mat = basicu.normalize_fishdata(mtx.values, norm_cell=True, norm_basis=True)\n",
    "for i in range(ftrs_mat.shape[1]):\n",
    "    df[f'b{i}'] = ftrs_mat[:,i]\n",
    "    \n",
    "# XY\n",
    "XY = df[['stage_x', 'stage_y']].values\n",
    "x = XY[:,0] \n",
    "y = XY[:,1] "
   ]
  },
  {
   "cell_type": "code",
   "execution_count": null,
   "id": "1f0f57ee-5b44-4482-9d0c-eea5119eabcd",
   "metadata": {},
   "outputs": [],
   "source": [
    "output = os.path.join(path_fig, f\"fig1_xy_sect{sctn}_{sctn_name}.pdf\")\n",
    "fig, ax = plt.subplots(figsize=(10,10))\n",
    "ax.scatter(x, y, s=1, edgecolor='none', color='black', rasterized=True)\n",
    "ax.set_title(sctn_name)\n",
    "ax.set_aspect('equal')\n",
    "powerplots.savefig_autodate(fig, output)\n",
    "plt.show()\n",
    "\n",
    "output = os.path.join(path_fig, f\"fig2_basis_box_sect{sctn}_{sctn_name}.pdf\")\n",
    "plot_basis_box(ftrs_mat, output=output)\n",
    "\n",
    "output = os.path.join(path_fig, f\"fig3_basis_xy_sect{sctn}_{sctn_name}.pdf\")\n",
    "powerplots.plot_basis_spatial(df, xcol='stage_x', ycol='stage_y', vmin=-1, vmax=1, output=output)"
   ]
  },
  {
   "cell_type": "code",
   "execution_count": null,
   "id": "34af7cee-c82c-42eb-a092-35d4f270677b",
   "metadata": {},
   "outputs": [],
   "source": [
    "df.columns"
   ]
  },
  {
   "cell_type": "code",
   "execution_count": null,
   "id": "535d8094-e381-4bdd-ba47-852cb3b7a0a8",
   "metadata": {},
   "outputs": [],
   "source": [
    "areas = df['total_size'].values\n",
    "nucsig = df['nuclei_signal'].values\n",
    "areas_n = df['nuclei_size'].values\n",
    "areas_c = df['cytoplasm_size'].values\n",
    "np.min(areas), np.max(areas), np.min(areas_n), np.max(areas_n), np.min(areas_c), np.max(areas_c)"
   ]
  },
  {
   "cell_type": "code",
   "execution_count": null,
   "id": "1466f97c-241e-44a9-b87d-182c0866792e",
   "metadata": {},
   "outputs": [],
   "source": [
    "sns.histplot(nucsig, bins=np.linspace(0,10000, 100))\n",
    "\n"
   ]
  },
  {
   "cell_type": "code",
   "execution_count": null,
   "id": "67b79868-4f1d-498f-80e3-3847ee447842",
   "metadata": {},
   "outputs": [],
   "source": [
    "# plt.xlim([0,1000])\n",
    "# sns.histplot(areas)\n",
    "# plt.xlim([0,1000])\n",
    "# plt.xlim([0,1000])"
   ]
  },
  {
   "cell_type": "code",
   "execution_count": null,
   "id": "e2fd52f4-d1ce-499c-9ab9-9ce3c8c1b223",
   "metadata": {},
   "outputs": [],
   "source": [
    "sns.histplot(areas_c)\n",
    "plt.xlim([0,100])"
   ]
  },
  {
   "cell_type": "code",
   "execution_count": null,
   "id": "925d148f-8ca0-4506-b62e-fbc7ed895b0b",
   "metadata": {},
   "outputs": [],
   "source": [
    "# importlib.reload(compile_tex)\n",
    "# compile_tex.main(path_dataset, title='dredFISH 12-section check', author='Wollman lab')"
   ]
  },
  {
   "cell_type": "code",
   "execution_count": null,
   "id": "9757ab01-e7a2-4d57-b20a-6988a5541a61",
   "metadata": {},
   "outputs": [],
   "source": [
    "fig, ax = plt.subplots(figsize=(10,10))\n",
    "g = ax.scatter(x, y, c=nucsig, s=1, edgecolor='none', rasterized=True, vmin=0, vmax=2000)\n",
    "ax.set_title(sctn_name)\n",
    "fig.colorbar(g, shrink=0.3)\n",
    "plt.show()\n",
    "\n",
    "# fig, ax = plt.subplots(figsize=(10,10))\n",
    "# g = ax.scatter(x, y, c=areas, s=1, edgecolor='none', rasterized=True, vmax=100)\n",
    "# ax.set_title(sctn_name)\n",
    "# fig.colorbar(g, shrink=0.3)\n",
    "# plt.show()\n",
    "\n",
    "# fig, ax = plt.subplots(figsize=(10,10))\n",
    "# g = ax.scatter(x, y, c=areas_n, s=1, edgecolor='none', rasterized=True, vmax=100)\n",
    "# ax.set_title(sctn_name)\n",
    "# fig.colorbar(g, shrink=0.3)\n",
    "# plt.show()"
   ]
  },
  {
   "cell_type": "code",
   "execution_count": null,
   "id": "8e36ed31-ecb6-4744-9e38-ae14e37252e4",
   "metadata": {},
   "outputs": [],
   "source": [
    "sns.histplot(areas_c, bins=np.linspace(0,500,100))\n"
   ]
  },
  {
   "cell_type": "code",
   "execution_count": null,
   "id": "4dee56c6-38c6-4972-ba66-ec0ebf30d6e2",
   "metadata": {},
   "outputs": [],
   "source": [
    "\n",
    "fig, ax = plt.subplots(figsize=(10,10))\n",
    "g = ax.scatter(x, y, c=areas_c, s=1, edgecolor='none', rasterized=True, vmax=100)\n",
    "ax.set_title(sctn_name)\n",
    "fig.colorbar(g, shrink=0.3, label='cyto-area')\n",
    "plt.show()"
   ]
  },
  {
   "cell_type": "code",
   "execution_count": null,
   "id": "05854568-1582-4906-b836-47bab6dbaf0c",
   "metadata": {},
   "outputs": [],
   "source": [
    "\n",
    "fig, ax = plt.subplots(figsize=(10,10))\n",
    "g = ax.scatter(x, y, c=areas_c, s=1, edgecolor='none', rasterized=True, vmax=5)\n",
    "ax.set_title(sctn_name)\n",
    "fig.colorbar(g, shrink=0.3, label='cyto-area')\n",
    "plt.show()"
   ]
  },
  {
   "cell_type": "code",
   "execution_count": null,
   "id": "1daefaae-02d5-43ee-89ce-cddce4a5a09b",
   "metadata": {},
   "outputs": [],
   "source": []
  },
  {
   "cell_type": "markdown",
   "id": "8d860921-1953-4ce8-abff-d7e26fafa31d",
   "metadata": {},
   "source": [
    "# remove non-cells by setting `cytoplasm_size`"
   ]
  },
  {
   "cell_type": "code",
   "execution_count": null,
   "id": "62ca01ee-427b-4133-ac84-51c9f9492e10",
   "metadata": {},
   "outputs": [],
   "source": [
    "sctn = 0\n",
    "sctn_name = sections[sctn]\n",
    "file_mtx = files_mtx[sctn]\n",
    "file_meta = files_meta[sctn]\n",
    "print(files_mtx[0], files_meta[0])\n",
    "\n",
    "mtx = pd.read_csv(os.path.join(path_dataset, file_mtx), sep=',', index_col=0)\n",
    "mtx.columns = np.char.add('br', np.arange(24).astype(str))\n",
    "meta = pd.read_csv(os.path.join(path_dataset, file_meta), sep=',', index_col=0)\n",
    "df = meta.join(mtx)\n",
    "print(df.shape)\n",
    "\n",
    "cond = df['cytoplasm_size'] > 10\n",
    "df = df.loc[cond]\n",
    "mtx = df[np.char.add('br', np.arange(24).astype(str))]\n",
    "print(df.shape)\n",
    "\n"
   ]
  },
  {
   "cell_type": "code",
   "execution_count": null,
   "id": "948ace71-f852-49e0-bfad-ba0958581df4",
   "metadata": {},
   "outputs": [],
   "source": [
    "# norm\n",
    "ftrs_mat = basicu.normalize_fishdata(mtx.values, norm_cell=True, norm_basis=True)\n",
    "for i in range(ftrs_mat.shape[1]):\n",
    "    df[f'b{i}'] = ftrs_mat[:,i]\n",
    "    \n",
    "# XY\n",
    "XY = df[['stage_x', 'stage_y']].values\n",
    "x = XY[:,0] \n",
    "y = XY[:,1] "
   ]
  },
  {
   "cell_type": "code",
   "execution_count": null,
   "id": "a3fb094f-afb0-4d35-ac9a-183b2de0bf8f",
   "metadata": {},
   "outputs": [],
   "source": [
    "output = os.path.join(path_fig, f\"fig1_xy_sect{sctn}_{sctn_name}.pdf\")\n",
    "fig, ax = plt.subplots(figsize=(10,10))\n",
    "ax.scatter(x, y, s=1, edgecolor='none', color='black', rasterized=True)\n",
    "ax.set_title(sctn_name)\n",
    "ax.set_aspect('equal')\n",
    "powerplots.savefig_autodate(fig, output)\n",
    "plt.show()\n",
    "\n",
    "output = os.path.join(path_fig, f\"fig2_basis_box_sect{sctn}_{sctn_name}.pdf\")\n",
    "plot_basis_box(ftrs_mat, output=output)\n",
    "\n",
    "output = os.path.join(path_fig, f\"fig3_basis_xy_sect{sctn}_{sctn_name}.pdf\")\n",
    "powerplots.plot_basis_spatial(df, xcol='stage_x', ycol='stage_y', vmin=-1, vmax=1, output=output)"
   ]
  },
  {
   "cell_type": "markdown",
   "id": "cab1bf23-7b18-4da0-a2e8-c42b0cd4061a",
   "metadata": {},
   "source": [
    "# set spatial mask"
   ]
  },
  {
   "cell_type": "code",
   "execution_count": null,
   "id": "66364936-6c21-4a7e-a04c-f3377f65737e",
   "metadata": {},
   "outputs": [],
   "source": [
    "from matplotlib.collections import LineCollection"
   ]
  },
  {
   "cell_type": "code",
   "execution_count": null,
   "id": "ecc2f706-0407-4d02-b3af-438f3e67e66d",
   "metadata": {},
   "outputs": [],
   "source": [
    "def draw_control_points(points, ax):\n",
    "    \"\"\"\n",
    "    \"\"\"\n",
    "    line_segs = [\n",
    "        [points[i], points[(i+1)%len(points)]]\n",
    "        for i in range(len(points))\n",
    "    ]\n",
    "\n",
    "    pm = np.asarray(points)\n",
    "    ax.scatter(pm[:,0], pm[:,1], color='r')\n",
    "    for i, p in enumerate(points):\n",
    "        ax.text(p[0], p[1], i)\n",
    "    lc = LineCollection(line_segs, linewidth=1, colors='r')\n",
    "    ax.add_collection(lc)\n",
    "    return line_segs"
   ]
  },
  {
   "cell_type": "code",
   "execution_count": null,
   "id": "02469806-b7ca-4659-b017-9c2fa15793bd",
   "metadata": {},
   "outputs": [],
   "source": [
    "# mask = np.zeros()\n",
    "# mask\n",
    "points = [\n",
    "    (-6500, 20400), \n",
    "    (-1000, 20600),\n",
    "    (0, 26000),\n",
    "    (-1000, 29000),\n",
    "    (-10000, 29000),\n",
    "    (-10000, 24000),\n",
    "]\n",
    "\n",
    "\n",
    "output = \"\" #os.path.join(path_fig, f\"fig1_xy_sect{sctn}_{sctn_name}.pdf\")\n",
    "fig, ax = plt.subplots(figsize=(10,10))\n",
    "ax.scatter(x, y, s=1, edgecolor='none', color='gray', rasterized=True)\n",
    "draw_control_points(points,ax)\n",
    "ax.set_title(sctn_name)\n",
    "ax.set_aspect('equal')\n",
    "plt.show()"
   ]
  }
 ],
 "metadata": {
  "kernelspec": {
   "display_name": "Python 3 (ipykernel)",
   "language": "python",
   "name": "python3"
  },
  "language_info": {
   "codemirror_mode": {
    "name": "ipython",
    "version": 3
   },
   "file_extension": ".py",
   "mimetype": "text/x-python",
   "name": "python",
   "nbconvert_exporter": "python",
   "pygments_lexer": "ipython3",
   "version": "3.10.2"
  }
 },
 "nbformat": 4,
 "nbformat_minor": 5
}
