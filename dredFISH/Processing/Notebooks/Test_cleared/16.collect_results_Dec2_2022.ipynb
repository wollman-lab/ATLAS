{
 "cells": [
  {
   "cell_type": "markdown",
   "id": "5dbf5bfe-4832-4baa-b018-aac4bcbe2b71",
   "metadata": {},
   "source": [
    "# collect results \n"
   ]
  },
  {
   "cell_type": "code",
   "execution_count": null,
   "id": "77f995dd-32fb-4786-95ab-c9d2a206242c",
   "metadata": {},
   "outputs": [],
   "source": [
    "import os\n",
    "import glob\n",
    "import numpy as np\n",
    "import pandas as pd\n",
    "import subprocess\n",
    "import anndata\n",
    "from sklearn.decomposition import PCA\n",
    "import shutil\n",
    "\n",
    "import matplotlib.pyplot as plt\n",
    "import seaborn as sns"
   ]
  },
  {
   "cell_type": "code",
   "execution_count": null,
   "id": "eef75954-426f-4257-a00d-9d1d92ff1957",
   "metadata": {},
   "outputs": [],
   "source": [
    "rootdir = \"/bigstore/GeneralStorage/Data/dredFISH/\"\n",
    "!ls -alhtr $rootdir"
   ]
  },
  {
   "cell_type": "code",
   "execution_count": null,
   "id": "babc1ab9-5fea-48f6-ba48-1902a412eb71",
   "metadata": {},
   "outputs": [],
   "source": [
    "ddirs = [\n",
    "    \"/bigstore/GeneralStorage/Data/dredFISH/DPNMF-FR_7C_PFA+Methanol_PFA_Methanol_2022Nov07_v2\",\n",
    "    \"/bigstore/GeneralStorage/Data/dredFISH/DPNMF-FR_Z1_Z2_9A_Z3_Z4_6C_2022Nov15_v2\",\n",
    "    \"/bigstore/GeneralStorage/Data/dredFISH/DPNMF-FR_R1_4A_UC_R2_5C_2022Nov27_v2\",\n",
    "]\n",
    "\n",
    "for ddir in ddirs:\n",
    "    samples = np.sort(glob.glob(\"*Section*\", dir_fd=ddir))\n",
    "    print(len(samples), samples)\n",
    "    \n",
    "    for sample in samples:\n",
    "        figs = np.sort(glob.glob(os.path.join(ddir, sample, \"figures\", \"*.pdf\")))\n",
    "        for fig in figs:\n",
    "            src = fig\n",
    "            dst = os.path.join(\"/home/fangming/figures\", f\"{sample}_{os.path.basename(fig)}\")\n",
    "            shutil.copyfile(src, dst)"
   ]
  },
  {
   "cell_type": "markdown",
   "id": "b23af6ed-d1a7-4c98-a494-e943a73ec7cf",
   "metadata": {},
   "source": [
    "1. ('RS0109_cy5',        'hybe2', ),\n",
    "2. ('RS0175_cy5',        'hybe3', ),\n",
    "3. ('RS0237_cy5',        'hybe4', ),\n",
    "4. ('RS0307_cy5',        'hybe5', ),\n",
    "5. ('RS0332_cy5',        'hybe6', ),\n",
    "6. ('RS0384_atto565',    'hybe10',),\n",
    "\n",
    "7. ('RS0406_atto565',    'hybe11',),\n",
    "8. ('RS0451_atto565',    'hybe12',),\n",
    "9. ('RS0468_atto565',    'hybe13',),\n",
    "10. ('RS0548_atto565',    'hybe14',),\n",
    "11. ('RS64.0_atto565',    'hybe15',),\n",
    "12. ('RS156.0_alexa488',  'hybe19',),\n",
    "\n",
    "13. ('RS278.0_alexa488',  'hybe20',),\n",
    "14. ('RS313.0_alexa488',  'hybe21',),\n",
    "15. ('RS643.0_alexa488',  'hybe22',),\n",
    "16. ('RS740.0_alexa488',  'hybe23',),\n",
    "17. ('RS810.0_alexa488',  'hybe24',),\n",
    "18. ('RSN9927.0_cy5',     'hybe7', ),\n",
    "\n",
    "19. ('RSN2336.0_cy5',     'hybe8', ),\n",
    "20. ('RSN1807.0_cy5',     'hybe9', ),\n",
    "21. ('RSN4287.0_atto565', 'hybe16',),\n",
    "22. ('RSN1252.0_atto565', 'hybe17',),\n",
    "23. ('RSN9535.0_atto565', 'hybe18',),\n",
    "24. ('RS0095_cy5',        'hybe1', ),\n",
    "\n",
    "25. ('PolyT',             'hybe25',),"
   ]
  },
  {
   "cell_type": "code",
   "execution_count": null,
   "id": "3393361c-bab0-405d-9f7a-d280ac26de91",
   "metadata": {},
   "outputs": [],
   "source": []
  }
 ],
 "metadata": {
  "kernelspec": {
   "display_name": "Python 3 (ipykernel)",
   "language": "python",
   "name": "python3"
  },
  "language_info": {
   "codemirror_mode": {
    "name": "ipython",
    "version": 3
   },
   "file_extension": ".py",
   "mimetype": "text/x-python",
   "name": "python",
   "nbconvert_exporter": "python",
   "pygments_lexer": "ipython3",
   "version": "3.10.2"
  }
 },
 "nbformat": 4,
 "nbformat_minor": 5
}
