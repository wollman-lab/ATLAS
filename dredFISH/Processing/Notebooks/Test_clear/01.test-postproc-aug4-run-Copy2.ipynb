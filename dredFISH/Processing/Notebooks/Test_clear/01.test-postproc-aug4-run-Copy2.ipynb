{
 "cells": [
  {
   "cell_type": "code",
   "execution_count": null,
   "id": "3cb87689-e482-4796-bcea-bad07ca8dc53",
   "metadata": {},
   "outputs": [],
   "source": [
    "import glob\n",
    "import os\n",
    "import numpy as np\n",
    "import pandas as pd\n",
    "import matplotlib.pyplot as plt\n",
    "import seaborn as sns\n",
    "from dredFISH.Utils import basicu\n",
    "from dredFISH.Utils import powerplots\n",
    "from dredFISH.Visualization import compile_tex\n",
    "\n",
    "import importlib\n",
    "importlib.reload(powerplots)\n",
    "importlib.reload(compile_tex)"
   ]
  },
  {
   "cell_type": "markdown",
   "id": "8508b24e-5e54-4635-9372-b653da234cf8",
   "metadata": {},
   "source": [
    "# 12-section brain dataset"
   ]
  },
  {
   "cell_type": "code",
   "execution_count": null,
   "id": "0e800b2a-5cb8-4896-aad2-f1a4d8955101",
   "metadata": {},
   "outputs": [],
   "source": [
    "path_dataset = '/bigstore/GeneralStorage/Data/dredFISH/Dataset3-t1'\n",
    "path_fig = os.path.join(path_dataset, 'figures')\n",
    "if not os.path.isdir(path_fig):\n",
    "    os.mkdir(path_fig)\n",
    "\n",
    "files_mtx = np.sort(glob.glob('*_matrix.csv', dir_fd=path_dataset))\n",
    "files_meta = np.sort(glob.glob('*_metadata.csv', dir_fd=path_dataset))\n",
    "files_mtx.shape, files_meta.shape"
   ]
  },
  {
   "cell_type": "code",
   "execution_count": null,
   "id": "c75ea64d-2290-4d04-9c5c-1dd539c5af2a",
   "metadata": {},
   "outputs": [],
   "source": [
    "sections = {i: f.replace('_matrix.csv', '').replace('DPNMF_1A_2B_11A_12B_2022Jul28_Section_', '')\n",
    "            for i, f in enumerate(files_mtx)}\n",
    "sections"
   ]
  },
  {
   "cell_type": "markdown",
   "id": "54d325f2-5cc2-49ef-9d14-0ece9b89896a",
   "metadata": {},
   "source": [
    "# 1 section -- minimal clean up and show"
   ]
  },
  {
   "cell_type": "code",
   "execution_count": null,
   "id": "81ba4136-15b4-423c-aaea-2ee9f73485c7",
   "metadata": {},
   "outputs": [],
   "source": [
    "def plot_basis_box(ftrs_mat, output=None):\n",
    "    \"\"\"\n",
    "    \"\"\"\n",
    "    fig, axs = plt.subplots(2, 1, figsize=(10,3*2), sharex=True)\n",
    "    for ax in axs:\n",
    "        sns.boxplot(data=ftrs_mat, ax=ax)\n",
    "        ax.set_ylabel('zscore')\n",
    "    ax.set_xlabel('basis')\n",
    "    ax.set_ylim([-3,3])\n",
    "    if output is not None:\n",
    "        powerplots.savefig_autodate(fig, output)\n",
    "    plt.show()"
   ]
  },
  {
   "cell_type": "code",
   "execution_count": null,
   "id": "a10d54a6-4478-4595-b4fe-cf896ea5cd7e",
   "metadata": {},
   "outputs": [],
   "source": [
    "sctn = 0\n",
    "sctn_name = sections[sctn]\n",
    "file_mtx = files_mtx[sctn]\n",
    "file_meta = files_meta[sctn]\n",
    "print(files_mtx[0], files_meta[0])\n",
    "\n",
    "mtx = pd.read_csv(os.path.join(path_dataset, file_mtx), sep=',', index_col=0)\n",
    "mtx.columns = np.char.add('br', np.arange(24).astype(str))\n",
    "meta = pd.read_csv(os.path.join(path_dataset, file_meta), sep=',', index_col=0)\n",
    "df = meta.join(mtx)\n",
    "\n",
    "# cond = df['cytoplasm_size'] > 10\n",
    "cond = df['nuclei_signal'] > 1500\n",
    "df = df.loc[cond]\n",
    "mtx = df[np.char.add('br', np.arange(24).astype(str))]\n",
    "\n",
    "# norm\n",
    "ftrs_mat = basicu.normalize_fishdata(mtx.values, norm_cell=True, norm_basis=True)\n",
    "for i in range(ftrs_mat.shape[1]):\n",
    "    df[f'b{i}'] = ftrs_mat[:,i]\n",
    "    \n",
    "# XY\n",
    "XY = df[['stage_x', 'stage_y']].values\n",
    "x = XY[:,0] \n",
    "y = XY[:,1] "
   ]
  },
  {
   "cell_type": "code",
   "execution_count": null,
   "id": "1f0f57ee-5b44-4482-9d0c-eea5119eabcd",
   "metadata": {},
   "outputs": [],
   "source": [
    "output = os.path.join(path_fig, f\"fig1_xy_sect{sctn}_{sctn_name}.pdf\")\n",
    "fig, ax = plt.subplots(figsize=(10,10))\n",
    "ax.scatter(x, y, s=1, edgecolor='none', color='black', rasterized=True)\n",
    "ax.set_title(sctn_name)\n",
    "ax.set_aspect('equal')\n",
    "powerplots.savefig_autodate(fig, output)\n",
    "plt.show()\n",
    "\n",
    "output = os.path.join(path_fig, f\"fig2_basis_box_sect{sctn}_{sctn_name}.pdf\")\n",
    "plot_basis_box(ftrs_mat, output=output)\n",
    "\n",
    "output = os.path.join(path_fig, f\"fig3_basis_xy_sect{sctn}_{sctn_name}.pdf\")\n",
    "powerplots.plot_basis_spatial(df, xcol='stage_x', ycol='stage_y', vmin=-1, vmax=1, output=output)"
   ]
  },
  {
   "cell_type": "markdown",
   "id": "f317d9ce-71a5-427a-b300-b37445acdb56",
   "metadata": {
    "tags": []
   },
   "source": [
    "# all sections"
   ]
  },
  {
   "cell_type": "code",
   "execution_count": null,
   "id": "0b64835e-69ab-4d91-af62-c542a62219e1",
   "metadata": {},
   "outputs": [],
   "source": [
    "sections"
   ]
  },
  {
   "cell_type": "code",
   "execution_count": null,
   "id": "ad80edac-2132-4a7f-a44d-087ecf768a9c",
   "metadata": {},
   "outputs": [],
   "source": [
    "%%time\n",
    "for sctn in sections.keys():\n",
    "    sctn_name = sections[sctn]\n",
    "    file_mtx = files_mtx[sctn]\n",
    "    file_meta = files_meta[sctn]\n",
    "    print(files_mtx[sctn], files_meta[sctn])\n",
    "\n",
    "    mtx = pd.read_csv(os.path.join(path_dataset, file_mtx), sep=',', index_col=0)\n",
    "    mtx.columns = np.char.add('br', np.arange(24).astype(str))\n",
    "    meta = pd.read_csv(os.path.join(path_dataset, file_meta), sep=',', index_col=0)\n",
    "    df = meta.join(mtx)\n",
    "    \n",
    "    # remove artifacts\n",
    "    # cond = df['cytoplasm_size'] > 10\n",
    "    cond = df['nuclei_signal'] > 1500\n",
    "    df = df.loc[cond]\n",
    "    mtx = df[np.char.add('br', np.arange(24).astype(str))]\n",
    "\n",
    "    # norm\n",
    "    ftrs_mat = basicu.normalize_fishdata(mtx.values, norm_cell=True, norm_basis=True)\n",
    "    for i in range(ftrs_mat.shape[1]):\n",
    "        df[f'b{i}'] = ftrs_mat[:,i]\n",
    "\n",
    "    # XY\n",
    "    XY = df[['stage_x', 'stage_y']].values\n",
    "    x = XY[:,0] \n",
    "    y = XY[:,1] \n",
    "\n",
    "    output = os.path.join(path_fig, f\"fig1_xy_sect{sctn}_{sctn_name}.pdf\")\n",
    "    fig, ax = plt.subplots(figsize=(10,10))\n",
    "    ax.scatter(x, y, s=1, edgecolor='none', color='black', rasterized=True)\n",
    "    ax.set_title(sctn_name)\n",
    "    ax.set_aspect('equal')\n",
    "    powerplots.savefig_autodate(fig, output)\n",
    "    plt.show()\n",
    "\n",
    "    output = os.path.join(path_fig, f\"fig2_basis_box_sect{sctn}_{sctn_name}.pdf\")\n",
    "    plot_basis_box(ftrs_mat, output=output)\n",
    "\n",
    "    output = os.path.join(path_fig, f\"fig3_basis_xy_sect{sctn}_{sctn_name}.pdf\")\n",
    "    powerplots.plot_basis_spatial(df, xcol='stage_x', ycol='stage_y', vmin=-1, vmax=1, output=output)"
   ]
  },
  {
   "cell_type": "code",
   "execution_count": null,
   "id": "925d148f-8ca0-4506-b62e-fbc7ed895b0b",
   "metadata": {},
   "outputs": [],
   "source": [
    "importlib.reload(compile_tex)\n",
    "compile_tex.main(path_dataset, title='dredFISH 12-section check', author='Wollman lab')"
   ]
  },
  {
   "cell_type": "code",
   "execution_count": null,
   "id": "9757ab01-e7a2-4d57-b20a-6988a5541a61",
   "metadata": {},
   "outputs": [],
   "source": []
  }
 ],
 "metadata": {
  "kernelspec": {
   "display_name": "Python 3 (ipykernel)",
   "language": "python",
   "name": "python3"
  },
  "language_info": {
   "codemirror_mode": {
    "name": "ipython",
    "version": 3
   },
   "file_extension": ".py",
   "mimetype": "text/x-python",
   "name": "python",
   "nbconvert_exporter": "python",
   "pygments_lexer": "ipython3",
   "version": "3.10.2"
  }
 },
 "nbformat": 4,
 "nbformat_minor": 5
}
