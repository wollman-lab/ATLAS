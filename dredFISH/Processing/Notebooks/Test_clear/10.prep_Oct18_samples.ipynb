{
 "cells": [
  {
   "cell_type": "markdown",
   "id": "5dbf5bfe-4832-4baa-b018-aac4bcbe2b71",
   "metadata": {},
   "source": [
    "# Prep data -- check and make it conform to the format of TMGs and downstream pipeline\n",
    "- \n"
   ]
  },
  {
   "cell_type": "code",
   "execution_count": null,
   "id": "77f995dd-32fb-4786-95ab-c9d2a206242c",
   "metadata": {},
   "outputs": [],
   "source": [
    "import os\n",
    "import glob\n",
    "import numpy as np\n",
    "import pandas as pd\n",
    "import subprocess"
   ]
  },
  {
   "cell_type": "code",
   "execution_count": null,
   "id": "fa01e822-c4cb-4dca-b798-2873068cc821",
   "metadata": {},
   "outputs": [],
   "source": [
    "ddir = '/bigstore/Images2022/Gaby/dredFISH/DPNMF-R_8C_2022Oct18/fishdata'\n",
    "# !ls $ddir/*.csv\n",
    "f_mets = np.sort(glob.glob(\"*_metadata.csv\", dir_fd=ddir))\n",
    "f_mats = np.sort(glob.glob(\"*_matrix.csv\",   dir_fd=ddir))\n",
    "samples = np.array([f[:-len(\"_metadata.csv\")] for f in f_mets])\n",
    "assert len(f_mets) == len(f_mats)\n",
    "assert len(f_mets) == len(samples)\n",
    "f_mets, f_mats, samples"
   ]
  },
  {
   "cell_type": "code",
   "execution_count": null,
   "id": "339365e3-a601-4ac1-9905-ca05247cb250",
   "metadata": {},
   "outputs": [],
   "source": [
    "outdir = \"/bigstore/GeneralStorage/Data/dredFISH/DPNMF-R_8C_2022Oct18\"\n",
    "if not os.path.isdir(outdir):\n",
    "    print(f\"making {outdir}\")\n",
    "    os.mkdir(outdir)\n",
    "    \n",
    "for samp in samples:\n",
    "    _dir = os.path.join(outdir, samp)\n",
    "    if not os.path.isdir(_dir):\n",
    "        print(f\"making {_dir}\")\n",
    "        os.mkdir(_dir)\n",
    "    "
   ]
  },
  {
   "cell_type": "markdown",
   "id": "2afc7377-bbd9-43f4-b675-9c944747c57b",
   "metadata": {},
   "source": [
    "# house keeping\n",
    "- copy samples over \n",
    "- rename metadata - stage_x, stage_y\n",
    "- switch x and y\n",
    "- add col section_index\n",
    "- pixel_x, pixel_y, section_index\n",
    "- remove hybe25 --> metadata"
   ]
  },
  {
   "cell_type": "code",
   "execution_count": null,
   "id": "2462bf75-d039-44fb-baef-a14a609b7e54",
   "metadata": {},
   "outputs": [],
   "source": [
    "for i, samp in enumerate(samples):\n",
    "    print(samp)\n",
    "    f = os.path.join(ddir, f\"{samp}_matrix.csv\")\n",
    "    mat = pd.read_csv(f, index_col=0)\n",
    "    \n",
    "    f = os.path.join(ddir, f\"{samp}_metadata.csv\")\n",
    "    meta = pd.read_csv(f, index_col=0)\n",
    "    assert np.all(mat.index.values==meta.index.values)\n",
    "    \n",
    "    \n",
    "    # add section_index\n",
    "    meta['section_index'] = i+1 \n",
    "    # add tmp_x, tmp_y -> ultimately to (stage_x, stage_y)\n",
    "    meta[['tmp_x', 'tmp_y']] = meta[['pixel_y', 'pixel_x']]*1\n",
    "    meta[['stage_x', 'stage_y']] = meta[['tmp_x', 'tmp_y']]\n",
    "    # move polyT to metadata\n",
    "    meta['polyt'] = mat['hybe25']\n",
    "    mat = mat.drop('hybe25', axis=1)\n",
    "    \n",
    "    # copy over \n",
    "    fout_mat = os.path.join(outdir, samp, f\"{samp}_matrix.csv\")\n",
    "    print(fout_mat)\n",
    "    mat.to_csv(fout_mat)\n",
    "    \n",
    "    fout_meta = os.path.join(outdir, samp, f\"{samp}_metadata.csv\")\n",
    "    print(fout_meta)\n",
    "    meta.to_csv(fout_meta)\n",
    "    \n",
    "    # change mod\n",
    "    subprocess.run(['chmod', '444', fout_mat])\n",
    "    subprocess.run(['chmod', '444', fout_meta])"
   ]
  },
  {
   "cell_type": "markdown",
   "id": "a4bb7f0e-7af0-4504-a427-6447dcd5dc1c",
   "metadata": {},
   "source": [
    "# checking x and y (and rotate it)"
   ]
  },
  {
   "cell_type": "code",
   "execution_count": null,
   "id": "ee063907-18ac-406e-92a7-11a30d11e032",
   "metadata": {},
   "outputs": [],
   "source": [
    "from dredFISH.Visualization import viz_cell_layer\n",
    "import importlib\n",
    "import dredFISH\n",
    "importlib.reload(dredFISH)\n",
    "importlib.reload(dredFISH.Visualization)\n",
    "importlib.reload(dredFISH.Visualization.viz_cell_layer)"
   ]
  },
  {
   "cell_type": "code",
   "execution_count": null,
   "id": "0c42cdb7-4f4c-40d7-aaaa-b6be54d2824d",
   "metadata": {},
   "outputs": [],
   "source": [
    "# mode = 'preview' # need a notebook to see; save nothing\n",
    "# mode = 'view' # go from the beginning to the end\n",
    "# mode = 'analysis-only' # analysis only; no plots\n",
    "\n",
    "# mode = 'preview' # plot XY only; bypassing TMGs\n",
    "mode = 'preview-save' # plot XY only, save results in prep for TMGs\n",
    "\n",
    "sample_split_lines = {\n",
    "    samples[0]: [[(10500, 2500), (13500,16000)]],\n",
    "    samples[1]: [[(10300, 2500), (13500,16000)]],\n",
    "    samples[2]: [[(10500, 2000), (12200,16000)]],\n",
    "    samples[3]: [[(11000, 2500), (11000,16000)]],\n",
    "}\n",
    "\n",
    "# TMG\n",
    "for samp in samples: #[[3]]:\n",
    "    basepth = os.path.join(outdir, samp) # outdir samp\n",
    "    \n",
    "    # define a line to split things into hemi-coronal sections\n",
    "    split_lines = sample_split_lines[samp]\n",
    "\n",
    "    viz_cell_layer.main(mode, basepth, split_lines,)\n",
    "    # break"
   ]
  },
  {
   "cell_type": "code",
   "execution_count": null,
   "id": "005d26d2-97bb-4cd9-ab69-bb23bfc1bcfb",
   "metadata": {},
   "outputs": [],
   "source": []
  }
 ],
 "metadata": {
  "kernelspec": {
   "display_name": "Python 3 (ipykernel)",
   "language": "python",
   "name": "python3"
  },
  "language_info": {
   "codemirror_mode": {
    "name": "ipython",
    "version": 3
   },
   "file_extension": ".py",
   "mimetype": "text/x-python",
   "name": "python",
   "nbconvert_exporter": "python",
   "pygments_lexer": "ipython3",
   "version": "3.10.2"
  }
 },
 "nbformat": 4,
 "nbformat_minor": 5
}
