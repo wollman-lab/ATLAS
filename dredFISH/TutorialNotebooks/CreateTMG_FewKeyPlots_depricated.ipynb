{
 "cells": [
  {
   "cell_type": "code",
   "execution_count": 1,
   "metadata": {},
   "outputs": [
    {
     "name": "stderr",
     "output_type": "stream",
     "text": [
      "<frozen importlib._bootstrap>:228: RuntimeWarning: scipy._lib.messagestream.MessageStream size changed, may indicate binary incompatibility. Expected 56 from C header, got 64 from PyObject\n"
     ]
    }
   ],
   "source": [
    "import numpy as np\n",
    "import pandas as pd\n",
    "import matplotlib.pyplot as plt\n",
    "\n",
    "import importlib\n",
    "import os\n",
    "import glob\n",
    "\n",
    "import sys\n",
    "sys.path.append('/home/rwollman/MyProjects/AH/Repos/dredFISH')\n",
    "from dredFISH.Analysis.TissueGraph import *\n",
    "from dredFISH.Analysis.Classification import *\n",
    "from dredFISH.Visualization.Viz import *\n",
    "from dredFISH.Analysis import Classification\n",
    "from dredFISH.Utils import geomu, fileu\n",
    "\n",
    "plt.rcParams['figure.facecolor'] = 'white' "
   ]
  },
  {
   "cell_type": "code",
   "execution_count": 2,
   "metadata": {},
   "outputs": [],
   "source": [
    "pth = os.getcwd()\n",
    "parts = os.path.split(pth)\n",
    "parts2 = os.path.split(parts[0])\n",
    "parts3 = os.path.split(parts2[0])\n",
    "inputpath = os.path.join(parts[0],parts3[1])"
   ]
  },
  {
   "cell_type": "code",
   "execution_count": 3,
   "metadata": {},
   "outputs": [
    {
     "ename": "AttributeError",
     "evalue": "module 'dredFISH.Utils.fileu' has no attribute 'load_config_module'",
     "output_type": "error",
     "traceback": [
      "\u001b[0;31m---------------------------------------------------------------------------\u001b[0m",
      "\u001b[0;31mAttributeError\u001b[0m                            Traceback (most recent call last)",
      "Input \u001b[0;32mIn [3]\u001b[0m, in \u001b[0;36m<cell line: 1>\u001b[0;34m()\u001b[0m\n\u001b[0;32m----> 1\u001b[0m config \u001b[38;5;241m=\u001b[39m \u001b[43mfileu\u001b[49m\u001b[38;5;241;43m.\u001b[39;49m\u001b[43mload_config_module\u001b[49m(inputpath)\n\u001b[1;32m      2\u001b[0m hybes \u001b[38;5;241m=\u001b[39m [c[\u001b[38;5;241m0\u001b[39m] \u001b[38;5;28;01mfor\u001b[39;00m c \u001b[38;5;129;01min\u001b[39;00m config\u001b[38;5;241m.\u001b[39mbitmap \u001b[38;5;28;01mif\u001b[39;00m c[\u001b[38;5;241m0\u001b[39m]\u001b[38;5;241m!=\u001b[39m \u001b[38;5;124m'\u001b[39m\u001b[38;5;124mPolyT\u001b[39m\u001b[38;5;124m'\u001b[39m]\n",
      "\u001b[0;31mAttributeError\u001b[0m: module 'dredFISH.Utils.fileu' has no attribute 'load_config_module'"
     ]
    }
   ],
   "source": [
    "config = fileu.load_config_module(inputpath)\n",
    "hybes = [c[0] for c in config.bitmap if c[0]!= 'PolyT']"
   ]
  },
  {
   "cell_type": "code",
   "execution_count": null,
   "metadata": {},
   "outputs": [],
   "source": [
    "TMG = TissueMultiGraph(inputpath = inputpath,redo = True)\n",
    "TMG.create_cell_layer(build_spatial_graph = False,build_feature_graph = False,hybes=hybes)"
   ]
  },
  {
   "cell_type": "code",
   "execution_count": null,
   "metadata": {},
   "outputs": [],
   "source": [
    "XY = TMG.Layers[0].XY\n",
    "in_large_comp = geomu.in_graph_large_connected_components(XY,large_comp_def = 0.05,plot_comp = True)"
   ]
  },
  {
   "cell_type": "code",
   "execution_count": null,
   "metadata": {},
   "outputs": [],
   "source": [
    "print(f\"before filtering: {TMG.N[0]} cells\")\n",
    "TMG.Layers[0].filter(in_large_comp)\n",
    "print(f\"after filtering: {TMG.N[0]} cells\")"
   ]
  },
  {
   "cell_type": "code",
   "execution_count": null,
   "metadata": {},
   "outputs": [],
   "source": [
    "vmin,vmax = np.percentile(TMG.Layers[0].adata.obs['dapi'],[1,99])\n",
    "vmin,vmax"
   ]
  },
  {
   "cell_type": "code",
   "execution_count": null,
   "metadata": {},
   "outputs": [],
   "source": [
    "DapiValueDistributions(TMG,min_dapi_line = vmin,max_dapi_line=vmax,figsize = (4,4)).show()"
   ]
  },
  {
   "cell_type": "code",
   "execution_count": null,
   "metadata": {},
   "outputs": [],
   "source": [
    "to_keep = np.logical_and(TMG.Layers[0].adata.obs['dapi']>vmin,\n",
    "                         TMG.Layers[0].adata.obs['dapi']<vmax) \n",
    "print(f\"before filtering: {TMG.N[0]} cells\")\n",
    "TMG.Layers[0].filter(to_keep)\n",
    "print(f\"after filtering: {TMG.N[0]} cells\")"
   ]
  },
  {
   "cell_type": "code",
   "execution_count": null,
   "metadata": {},
   "outputs": [],
   "source": [
    "TMG.Layers[0].build_spatial_graph()\n",
    "TMG.Layers[0].build_feature_graph(metric='cosine')"
   ]
  },
  {
   "cell_type": "code",
   "execution_count": null,
   "metadata": {},
   "outputs": [],
   "source": [
    "# Create the classifier\n",
    "optleiden = Classification.OptimalLeidenUnsupervized(TMG.Layers[0])\n",
    "# train the classifier\n",
    "optleiden.train(opt_params={'iters':10, 'n_consensus':1})\n",
    "# use the classifier to create types and add them to TMG using the Taxonomy created on the fly by the classifier\n",
    "type_vec = optleiden.classify(TMG.Layers[0].feature_mat)\n",
    "\n",
    "TMG.add_type_information(0, type_vec, optleiden.tax)\n",
    "TMG.create_isozone_layer()\n",
    "logging.info(f\"TMG has {len(TMG.Layers)} Layers\")"
   ]
  },
  {
   "cell_type": "code",
   "execution_count": null,
   "metadata": {},
   "outputs": [],
   "source": [
    "n_topics_list = [2,5,10,15,20,30,50]\n",
    "n_procs = len(n_topics_list) \n",
    "\n",
    "topic_cls = Classification.TopicClassifier(TMG.Layers[0])\n",
    "topic_cls.train(n_topics_list=n_topics_list, n_procs=n_procs)\n",
    "topics = topic_cls.classify(topic_cls.Env)"
   ]
  },
  {
   "cell_type": "code",
   "execution_count": null,
   "metadata": {},
   "outputs": [],
   "source": [
    "TMG.create_region_layer(topics, topic_cls.tax)\n",
    "logging.info(f\"TMG has {len(TMG.Layers)} Layers\")"
   ]
  },
  {
   "cell_type": "code",
   "execution_count": null,
   "metadata": {},
   "outputs": [],
   "source": [
    "TMG.add_geoms(geom_types = [\"mask\",\"voronoi\",\"isozones\",\"regions\"],redo=False)"
   ]
  },
  {
   "cell_type": "code",
   "execution_count": null,
   "metadata": {},
   "outputs": [],
   "source": [
    "TMG.save()"
   ]
  },
  {
   "cell_type": "code",
   "execution_count": null,
   "metadata": {},
   "outputs": [],
   "source": [
    "TMG = TissueMultiGraph(inputpath=inputpath,redo = False)"
   ]
  },
  {
   "cell_type": "code",
   "execution_count": null,
   "metadata": {},
   "outputs": [],
   "source": [
    "V = BasisView(TMG,rotation=-90)\n",
    "V.show()"
   ]
  },
  {
   "cell_type": "code",
   "execution_count": null,
   "metadata": {},
   "outputs": [],
   "source": [
    "SingleMapView(TMG,level_type = \"cell\", map_type = \"random\",rotation=-90).show()\n",
    "SingleMapView(TMG,level_type = \"isozone\",map_type = \"random\",rotation=-90).show()\n",
    "SingleMapView(TMG,level_type = \"region\",map_type = \"random\",rotation=-90).show()\n"
   ]
  },
  {
   "cell_type": "code",
   "execution_count": null,
   "metadata": {},
   "outputs": [],
   "source": [
    "colormaps = ['Purples','Oranges','Blues','Greens','Reds','cividis']\n",
    "SingleMapView(TMG,level_type = \"cell\", map_type = \"type\",color_assign_method = 'linkage',colormaps = colormaps,rotation=-90).show()\n"
   ]
  },
  {
   "cell_type": "code",
   "execution_count": null,
   "metadata": {},
   "outputs": [],
   "source": [
    "V = UMAPwithSpatialMap(TMG,qntl = (0.025,0.975),clp_embed = (0.025,0.975),rotation=-90)\n",
    "V.show()"
   ]
  },
  {
   "cell_type": "code",
   "execution_count": null,
   "metadata": {},
   "outputs": [],
   "source": []
  }
 ],
 "metadata": {
  "kernelspec": {
   "display_name": "Python [conda env:dredfish_3.9]",
   "language": "python",
   "name": "conda-env-dredfish_3.9-py"
  },
  "language_info": {
   "codemirror_mode": {
    "name": "ipython",
    "version": 3
   },
   "file_extension": ".py",
   "mimetype": "text/x-python",
   "name": "python",
   "nbconvert_exporter": "python",
   "pygments_lexer": "ipython3",
   "version": "3.9.0"
  }
 },
 "nbformat": 4,
 "nbformat_minor": 4
}
