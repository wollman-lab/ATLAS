{
 "cells": [
  {
   "cell_type": "code",
   "execution_count": null,
   "id": "e360d2e1-fbd4-4b2d-adde-7f8e61f68f12",
   "metadata": {},
   "outputs": [],
   "source": [
    "from dredFISH.Processing.execute import *\n",
    "os.getcwd()\n",
    "section = [i for i in os.getcwd().split('/') if not i==''][-1]\n",
    "dataset = [i for i in os.getcwd().split('/') if not i==''][-2]\n",
    "fishdata = [i for i in os.getcwd().split('/') if not i==''][-3]\n",
    "metadata_path = os.getcwd().split('fishdata')[0]\n",
    "cword_config = [i for i in os.listdir(os.getcwd()) if 'config' in i][0].split('.')[0]\n",
    "self = Section_Class(metadata_path,section,cword_config,verbose=True)\n",
    "\n",
    "for model_type in self.config.parameters['model_types']:\n",
    "    data = self.load(type='anndata',model_type='total')\n",
    "    data.var = pd.DataFrame(index=np.array([r for r,h,c in self.config.bitmap if not 'polyt' in r.lower()]))\n",
    "    data.var\n",
    "    self.save(data,type='anndata',model_type=model_type)"
   ]
  },
  {
   "cell_type": "code",
   "execution_count": null,
   "id": "f3ef3daf-f9c9-4838-b705-25e9cada8d91",
   "metadata": {},
   "outputs": [],
   "source": []
  },
  {
   "cell_type": "code",
   "execution_count": null,
   "id": "bbb315c9-df97-41e1-b1d5-5027c9655289",
   "metadata": {},
   "outputs": [],
   "source": [
    "import scanpy as sc"
   ]
  },
  {
   "cell_type": "code",
   "execution_count": null,
   "id": "9dff5e4b-4c92-4be1-bdc5-431bedd82868",
   "metadata": {},
   "outputs": [],
   "source": [
    "data = self.load(type='anndata',model_type='total')"
   ]
  },
  {
   "cell_type": "code",
   "execution_count": null,
   "id": "18bafb73-69a7-4b8e-b690-c5101918b500",
   "metadata": {},
   "outputs": [],
   "source": [
    "converter = {r:h.split('hybe')[-1] for r,h,c in self.config.bitmap}\n",
    "''.join(converter[np.array(data.var.index)[data.X.mean(0)==value][0]]+',' for value in sorted(data.X.mean(0)))"
   ]
  },
  {
   "cell_type": "code",
   "execution_count": null,
   "id": "e5dddae4-3e10-4772-b4dd-e13e8b8e5e45",
   "metadata": {},
   "outputs": [],
   "source": [
    "sorted(data.X.mean(0))"
   ]
  },
  {
   "cell_type": "code",
   "execution_count": null,
   "id": "4f0f2580-9307-481c-9e4c-54006c1a567e",
   "metadata": {},
   "outputs": [],
   "source": [
    "converter = {r:h.split('hybe')[-1] for r,h,c in self.config.bitmap}"
   ]
  },
  {
   "cell_type": "code",
   "execution_count": null,
   "id": "ca1ccb88-49a8-4a9c-b7ae-ec3ae89733bf",
   "metadata": {},
   "outputs": [],
   "source": [
    "converter"
   ]
  },
  {
   "cell_type": "code",
   "execution_count": null,
   "id": "198db6aa-a031-4b7d-b7aa-723f8653de53",
   "metadata": {},
   "outputs": [],
   "source": [
    "data"
   ]
  },
  {
   "cell_type": "code",
   "execution_count": null,
   "id": "200362e4-d223-4d18-ae59-0915d74e9ff3",
   "metadata": {},
   "outputs": [],
   "source": [
    "v_min = 5\n",
    "v_max = 99\n",
    "x = data.X.sum(1)\n",
    "vmin,vmax = np.percentile(x,[v_min,v_max])\n",
    "m1 = (x>vmin)&(x<vmax)\n",
    "bins = np.linspace(vmin,vmax,100)\n",
    "y,j = np.histogram(x,bins)\n",
    "plt.title('Sum')\n",
    "plt.plot(j[:-1],y)\n",
    "plt.show()\n",
    "\n",
    "x = data.obs['dapi']\n",
    "vmin,vmax = np.percentile(x,[v_min,v_max])\n",
    "m2 = (x>vmin)&(x<vmax)\n",
    "bins = np.linspace(vmin,vmax,100)\n",
    "y,j = np.histogram(x,bins)\n",
    "plt.title('Dapi')\n",
    "plt.plot(j[:-1],y)\n",
    "plt.show()\n",
    "\n",
    "x = data.obs['polyt']\n",
    "vmin,vmax = np.percentile(x,[v_min,v_max])\n",
    "m3 = (x>vmin)&(x<vmax)\n",
    "bins = np.linspace(vmin,vmax,100)\n",
    "y,j = np.histogram(x,bins)\n",
    "plt.title('PolyT')\n",
    "plt.plot(j[:-1],y)\n",
    "plt.show()\n",
    "\n",
    "m = m1&m2&m3\n",
    "\n",
    "data = data[m]\n",
    "\n",
    "plt.figure(figsize=[15,15])\n",
    "plt.scatter(data.obs['stage_x'],data.obs['stage_y'],s=0.5,marker='x')\n",
    "plt.show()\n",
    "data"
   ]
  },
  {
   "cell_type": "code",
   "execution_count": null,
   "id": "63998bfd-309e-46fd-bb65-e1489ca38f94",
   "metadata": {},
   "outputs": [],
   "source": [
    "\"\"\" Check Data \"\"\""
   ]
  },
  {
   "cell_type": "code",
   "execution_count": null,
   "id": "65f7dbb7-64bd-414b-a687-c265807e56a2",
   "metadata": {},
   "outputs": [],
   "source": [
    "data"
   ]
  },
  {
   "cell_type": "code",
   "execution_count": null,
   "id": "fe5a374c-e3a3-4528-97c9-30b10f208053",
   "metadata": {},
   "outputs": [],
   "source": [
    "converter[data.var.index[1]]"
   ]
  },
  {
   "cell_type": "code",
   "execution_count": null,
   "id": "987f1e1a-df5e-4cbc-b346-f36da02360dd",
   "metadata": {},
   "outputs": [],
   "source": [
    "# Create a 5x5 grid of subplots\n",
    "fig, axs = plt.subplots(5, 5, figsize=(25, 25))\n",
    "x = data.obs['stage_x']\n",
    "y = data.obs['stage_y']\n",
    "# Flatten the axs array so that we can iterate over it using a single loop\n",
    "axs = axs.ravel()\n",
    "num_plots = data.X.shape[1]\n",
    "# Iterate over the subplots and plot each scatter plot\n",
    "for i in range(num_plots):\n",
    "    c = data.X[:,i].copy()\n",
    "    vmin,vmax = np.percentile(c[c!=0],[5,95])\n",
    "    ax = axs[i]\n",
    "    scatter_plot = ax.scatter(x, y,c=c,vmin=vmin,vmax=vmax,s=0.1,marker='x',cmap='jet')  # Adjust 's' for marker size if needed\n",
    "    fig.colorbar(scatter_plot, ax=ax)\n",
    "    ax.set_title('R'+converter[data.var.index[i]])\n",
    "    ax.tick_params(axis='both', which='both', length=0)\n",
    "    ax.axis('off')\n",
    "    # break\n",
    "\n",
    "# Hide empty subplots if there are any\n",
    "for i in range(num_plots, len(axs)):\n",
    "    axs[i].axis(\"off\")\n",
    "\n",
    "# Adjust the layout and padding between subplots\n",
    "plt.tight_layout()\n",
    "\n",
    "# Show the plot\n",
    "plt.show()"
   ]
  },
  {
   "cell_type": "code",
   "execution_count": null,
   "id": "f910da18-1886-46e7-b1d4-48cb3a0b8767",
   "metadata": {},
   "outputs": [],
   "source": [
    "\"\"\" Check Bits \"\"\""
   ]
  },
  {
   "cell_type": "code",
   "execution_count": null,
   "id": "3181a721-70c3-406a-854d-6bfbd8a9c52f",
   "metadata": {},
   "outputs": [],
   "source": [
    "from dredFISH.Utils import basicu \n",
    "X = data.X.copy()\n",
    "# X = np.clip(X, 0, None)\n",
    "# X = X/((np.array(data.obs['polyt'])/np.median(np.array(data.obs['polyt']))))[:,None]\n",
    "# X = X/(X.sum(1)/X.sum(1).mean())[:,None]\n",
    "# X = np.log10(X+1)\n",
    "# FISHbasis_norm = X\n",
    "FISHbasis_norm = basicu.normalize_fishdata(X, norm_cell=True, norm_basis=True)"
   ]
  },
  {
   "cell_type": "code",
   "execution_count": null,
   "id": "71077750-ddbe-4cda-93ca-9a8f2567eb20",
   "metadata": {},
   "outputs": [],
   "source": [
    "FISHbasis_norm"
   ]
  },
  {
   "cell_type": "code",
   "execution_count": null,
   "id": "a2cb28c5-4455-47fe-8cdd-c59814ad7265",
   "metadata": {},
   "outputs": [],
   "source": [
    "FISHbasis_norm"
   ]
  },
  {
   "cell_type": "code",
   "execution_count": null,
   "id": "9e3452b5-4cce-4039-b89f-efba69e5dd3e",
   "metadata": {},
   "outputs": [],
   "source": [
    "# Create a 5x5 grid of subplots\n",
    "fig, axs = plt.subplots(5, 5, figsize=(25, 25))\n",
    "x = data.obs['stage_x']\n",
    "y = data.obs['stage_y']\n",
    "# Flatten the axs array so that we can iterate over it using a single loop\n",
    "axs = axs.ravel()\n",
    "num_plots = FISHbasis_norm.shape[1]\n",
    "# Iterate over the subplots and plot each scatter plot\n",
    "for i in range(num_plots):\n",
    "    c = FISHbasis_norm[:,i].copy()\n",
    "    vmin,vmax = np.percentile(c[c!=0],[5,95])\n",
    "    ax = axs[i]\n",
    "    scatter_plot = ax.scatter(x, y,c=c,vmin=vmin,vmax=vmax,s=0.1,marker='x',cmap='jet')  # Adjust 's' for marker size if needed\n",
    "    fig.colorbar(scatter_plot, ax=ax)\n",
    "    ax.set_title('R'+converter[data.var.index[i]])\n",
    "    ax.tick_params(axis='both', which='both', length=0)\n",
    "    ax.axis('off')\n",
    "    # break\n",
    "\n",
    "# Hide empty subplots if there are any\n",
    "for i in range(num_plots, len(axs)):\n",
    "    axs[i].axis(\"off\")\n",
    "\n",
    "# Adjust the layout and padding between subplots\n",
    "plt.tight_layout()\n",
    "\n",
    "# Show the plot\n",
    "plt.show()"
   ]
  },
  {
   "cell_type": "code",
   "execution_count": null,
   "id": "93c55409-3849-4bd6-ba3c-b3f0bf079fe5",
   "metadata": {},
   "outputs": [],
   "source": [
    "# Create a 5x5 grid of subplots\n",
    "fig, axs = plt.subplots(5, 5, figsize=(25, 25))\n",
    "plt.suptitle(dataset, fontsize=16)\n",
    "x = data.obs['stage_x']\n",
    "y = data.obs['stage_y']\n",
    "# Flatten the axs array so that we can iterate over it using a single loop\n",
    "axs = axs.ravel()\n",
    "num_plots = FISHbasis_norm.shape[1]\n",
    "# Iterate over the subplots and plot each scatter plot\n",
    "for i in range(num_plots):\n",
    "    c = FISHbasis_norm[:,i].copy()\n",
    "    vmin,vmax = np.percentile(c[c!=0],[5,95])\n",
    "    ax = axs[i]\n",
    "    scatter_plot = ax.scatter(x, y,c=c,vmin=vmin,vmax=vmax,s=0.1,marker='x',cmap='bwr')  # Adjust 's' for marker size if needed\n",
    "    fig.colorbar(scatter_plot, ax=ax)\n",
    "    ax.set_title('R'+converter[data.var.index[i]])\n",
    "    ax.tick_params(axis='both', which='both', length=0)\n",
    "    ax.axis('off')\n",
    "    # break\n",
    "\n",
    "# Hide empty subplots if there are any\n",
    "for i in range(num_plots, len(axs)):\n",
    "    axs[i].axis(\"off\")\n",
    "\n",
    "# Adjust the layout and padding between subplots\n",
    "# plt.tight_layout()\n",
    "\n",
    "# Show the plot\n",
    "plt.show()"
   ]
  },
  {
   "cell_type": "code",
   "execution_count": null,
   "id": "b3dfc154-fe88-4b2b-8bee-1cdd827df352",
   "metadata": {},
   "outputs": [],
   "source": [
    "\"\"\" Cluster \"\"\""
   ]
  },
  {
   "cell_type": "code",
   "execution_count": null,
   "id": "d28e4243-87f7-4cee-aa45-21959c258170",
   "metadata": {},
   "outputs": [],
   "source": [
    "data"
   ]
  },
  {
   "cell_type": "code",
   "execution_count": null,
   "id": "e9a9ed6c-7c84-4d99-a47a-337eb53d026f",
   "metadata": {},
   "outputs": [],
   "source": [
    "import scanpy as sc\n",
    "import umap\n",
    "adata = data.copy()\n",
    "adata.X = FISHbasis_norm\n",
    "sc.pp.neighbors(adata, n_neighbors=15, use_rep='X') \n",
    "sc.tl.umap(adata, min_dist=0.1)"
   ]
  },
  {
   "cell_type": "code",
   "execution_count": null,
   "id": "a07f798d-d09e-4df8-8512-d620ae6d22a1",
   "metadata": {},
   "outputs": [],
   "source": [
    "adata"
   ]
  },
  {
   "cell_type": "code",
   "execution_count": null,
   "id": "4f4425d9-0aa7-46eb-b8ed-b22bbd8c05c4",
   "metadata": {},
   "outputs": [],
   "source": [
    "sc.tl.louvain(adata)\n",
    "sc.pl.umap(adata, color='louvain', show=True)"
   ]
  },
  {
   "cell_type": "code",
   "execution_count": null,
   "id": "0ccd9779-7c7a-45e5-a4c7-b51d4f7627f3",
   "metadata": {},
   "outputs": [],
   "source": [
    "adata"
   ]
  },
  {
   "cell_type": "code",
   "execution_count": null,
   "id": "63e8fd10-e292-41d1-9ca4-6a1d81a8297a",
   "metadata": {},
   "outputs": [],
   "source": [
    "xy = np.stack([adata.obs['stage_x'],adata.obs['stage_y']])\n",
    "xy"
   ]
  },
  {
   "cell_type": "code",
   "execution_count": null,
   "id": "ffa3325a-562c-4e87-b64f-f80cca6bcec5",
   "metadata": {},
   "outputs": [],
   "source": [
    "adata.obsm['X_umap']"
   ]
  },
  {
   "cell_type": "code",
   "execution_count": null,
   "id": "c2672e40-b3ff-4d28-99ef-56ccf327b75e",
   "metadata": {},
   "outputs": [],
   "source": [
    "adata.obsm['stage'] = xy.T"
   ]
  },
  {
   "cell_type": "code",
   "execution_count": null,
   "id": "2243521c-622a-40a6-a452-cac41ddfe3d4",
   "metadata": {},
   "outputs": [],
   "source": [
    "sc.pl.embedding(adata, basis='stage', color='louvain', show=False)"
   ]
  },
  {
   "cell_type": "code",
   "execution_count": null,
   "id": "2c3ebec5-8297-4091-988b-9a9b34dbfea9",
   "metadata": {},
   "outputs": [],
   "source": [
    "adata"
   ]
  },
  {
   "cell_type": "code",
   "execution_count": null,
   "id": "35f76cf0-cdbc-4363-9e9f-1c0c59275d37",
   "metadata": {},
   "outputs": [],
   "source": [
    "# Create a 5x5 grid of subplots\n",
    "fig, axs = plt.subplots(5, 5, figsize=(25, 25))\n",
    "x = data.obs['stage_x']\n",
    "y = data.obs['stage_y']\n",
    "# Flatten the axs array so that we can iterate over it using a single loop\n",
    "axs = axs.ravel()\n",
    "num_plots = len(adata.obs['louvain'].unique())\n",
    "# Iterate over the subplots and plot each scatter plot\n",
    "for i in adata.obs['louvain'].unique():\n",
    "    i = int(i)\n",
    "    # c = FISHbasis_norm[:,i].copy()\n",
    "    # vmin,vmax = np.percentile(c[c!=0],[5,95])\n",
    "    ax = axs[i]\n",
    "    m = adata.obs['louvain']==str(i)\n",
    "    scatter_plot = ax.scatter(x[m], y[m],c=adata.uns['louvain_colors'][i],s=0.1,marker='x')  # Adjust 's' for marker size if needed\n",
    "    fig.colorbar(scatter_plot, ax=ax)\n",
    "    ax.set_title(str(i))\n",
    "    ax.tick_params(axis='both', which='both', length=0)\n",
    "    ax.axis('off')\n",
    "    # break\n",
    "\n",
    "# Hide empty subplots if there are any\n",
    "for i in range(num_plots, len(axs)):\n",
    "    axs[i].axis(\"off\")\n",
    "\n",
    "# Adjust the layout and padding between subplots\n",
    "plt.tight_layout()\n",
    "\n",
    "# Show the plot\n",
    "plt.show()"
   ]
  },
  {
   "cell_type": "code",
   "execution_count": null,
   "id": "bd192278-8318-44f0-a4e4-09a4ada88b9c",
   "metadata": {},
   "outputs": [],
   "source": [
    "# Create a 5x5 grid of subplots\n",
    "x = data.obs['stage_x']\n",
    "y = data.obs['stage_y']\n",
    "plt.figure(figsize=[15,15])\n",
    "for c in np.unique(adata.obs['louvain']):\n",
    "    m = adata.obs['louvain']==c\n",
    "    plt.scatter(x[m], y[m],s=5,marker='x')  # Adjust 's' for marker size if needed\n",
    "# Show the plot\n",
    "plt.show()"
   ]
  },
  {
   "cell_type": "code",
   "execution_count": null,
   "id": "5f87eea7-1e3a-4890-86a4-4b0906714249",
   "metadata": {},
   "outputs": [],
   "source": []
  },
  {
   "cell_type": "code",
   "execution_count": null,
   "id": "81944ddc-87d7-4efb-879c-36625ee02799",
   "metadata": {},
   "outputs": [],
   "source": []
  }
 ],
 "metadata": {
  "kernelspec": {
   "display_name": "Python [conda env:dredfish_3.9]",
   "language": "python",
   "name": "conda-env-dredfish_3.9-py"
  },
  "language_info": {
   "codemirror_mode": {
    "name": "ipython",
    "version": 3
   },
   "file_extension": ".py",
   "mimetype": "text/x-python",
   "name": "python",
   "nbconvert_exporter": "python",
   "pygments_lexer": "ipython3",
   "version": "3.9.0"
  }
 },
 "nbformat": 4,
 "nbformat_minor": 5
}
