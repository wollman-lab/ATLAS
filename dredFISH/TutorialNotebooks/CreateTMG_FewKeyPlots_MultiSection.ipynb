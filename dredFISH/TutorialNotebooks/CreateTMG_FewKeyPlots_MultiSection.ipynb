{
 "cells": [
  {
   "cell_type": "code",
   "execution_count": null,
   "metadata": {
    "tags": []
   },
   "outputs": [],
   "source": [
    "import numpy as np\n",
    "import pandas as pd\n",
    "import matplotlib.pyplot as plt\n",
    "\n",
    "import importlib\n",
    "import os\n",
    "import glob\n",
    "\n",
    "import sys\n",
    "# sys.path.append('/home/rwollman/MyProjects/AH/Repos/dredFISH')\n",
    "from dredFISH.Analysis.TissueGraph import *\n",
    "from dredFISH.Analysis.Classification import *\n",
    "from dredFISH.Visualization.Viz import *\n",
    "from dredFISH.Analysis import Classification\n",
    "from dredFISH.Utils import geomu, fileu\n",
    "\n",
    "plt.rcParams['figure.facecolor'] = 'white' "
   ]
  },
  {
   "cell_type": "code",
   "execution_count": null,
   "metadata": {
    "tags": []
   },
   "outputs": [],
   "source": [
    "pth = os.getcwd()\n",
    "parts = os.path.split(pth)\n",
    "parts2 = os.path.split(parts[0])\n",
    "parts3 = os.path.split(parts2[0])\n",
    "inputpath = os.path.join(parts[0],parts3[1])"
   ]
  },
  {
   "cell_type": "code",
   "execution_count": null,
   "metadata": {
    "tags": []
   },
   "outputs": [],
   "source": [
    "inputpath"
   ]
  },
  {
   "cell_type": "code",
   "execution_count": null,
   "metadata": {
    "tags": []
   },
   "outputs": [],
   "source": [
    "config = fileu.load_config_module(inputpath)\n",
    "hybes = [c[0] for c in config.bitmap if np.isin(c[0],list(config.encoding_weight_bias.keys()))]\n",
    "bad_hybes = []\n",
    "hybes = [i for i in hybes if not i in bad_hybes]\n",
    "hybes"
   ]
  },
  {
   "cell_type": "code",
   "execution_count": null,
   "metadata": {
    "tags": []
   },
   "outputs": [],
   "source": [
    "config.bitmap"
   ]
  },
  {
   "cell_type": "code",
   "execution_count": null,
   "metadata": {
    "tags": []
   },
   "outputs": [],
   "source": [
    "TMG = TissueMultiGraph(inputpath = inputpath,redo = True)\n",
    "TMG.create_cell_layer(build_spatial_graph = False,build_feature_graph = False,hybes=hybes,norm='none')"
   ]
  },
  {
   "cell_type": "code",
   "execution_count": null,
   "metadata": {
    "tags": []
   },
   "outputs": [],
   "source": [
    "TMG.Layers[0].adata.var.index"
   ]
  },
  {
   "cell_type": "code",
   "execution_count": null,
   "metadata": {
    "tags": []
   },
   "outputs": [],
   "source": [
    "TMG.Layers[0].adata.var.index = hybes"
   ]
  },
  {
   "cell_type": "code",
   "execution_count": null,
   "metadata": {},
   "outputs": [],
   "source": [
    "polyt_raw"
   ]
  },
  {
   "cell_type": "code",
   "execution_count": null,
   "metadata": {},
   "outputs": [],
   "source": [
    "columns = ['dapi','polyt','polyt_raw','nonspecific_encoding','nonspecific_encoding_raw','nonspecific_readout','nonspecific_readout_raw','size']\n",
    "for column in columns:\n",
    "    if not np.isin(column,TMG.Layers[0].adata.obs.columns):\n",
    "        TMG.Layers[0].adata.obs[column] = 0"
   ]
  },
  {
   "cell_type": "markdown",
   "metadata": {},
   "source": [
    "### Remove Outlier Cells"
   ]
  },
  {
   "cell_type": "code",
   "execution_count": null,
   "metadata": {
    "tags": []
   },
   "outputs": [],
   "source": [
    "# Remove Bad Sections\n",
    "bad_wells = []\n",
    "bad_sections = [i for i in TMG.Layers[0].adata.obs['Slice'].unique() if np.isin(i.split('Well')[1].split('-')[0],bad_wells)]\n",
    "print(bad_sections)\n",
    "to_keep = np.isin(TMG.Layers[0].adata.obs['Slice'],bad_sections)==False\n",
    "print(f\"before filtering: {TMG.N[0]} cells\")\n",
    "TMG.Layers[0].filter(to_keep)\n",
    "print(f\"after filtering: {TMG.N[0]} cells\")"
   ]
  },
  {
   "cell_type": "code",
   "execution_count": null,
   "metadata": {
    "tags": []
   },
   "outputs": [],
   "source": [
    "# Correct Non Specific signal\n",
    "FISHbasis = TMG.Layers[0].adata.X.copy()\n",
    "non_specific_readout = np.array(TMG.Layers[0].adata.obs['nonspecific_readout'])\n",
    "non_specific_encoding = np.array(TMG.Layers[0].adata.obs['nonspecific_encoding'])-non_specific_readout\n",
    "non_specific_encoding[non_specific_encoding<0] = 0\n",
    "FISHbasis_corrected = FISHbasis.copy()\n",
    "FISHbasis_corrected = FISHbasis_corrected-non_specific_readout[:,None]\n",
    "# Add Encoding Correction?\n",
    "sum_probes = np.sum([c for r,c in config.encoding_weight_bias.items()])\n",
    "for b,bit in enumerate(TMG.Layers[0].adata.var.index):\n",
    "    bit_scaling_factor = config.encoding_weight_bias[bit]/(sum_probes/24)\n",
    "    FISHbasis_corrected[:,b] = FISHbasis_corrected[:,b]-(non_specific_encoding*bit_scaling_factor)\n",
    "FISHbasis_corrected[FISHbasis_corrected<0] = 0\n",
    "TMG.Layers[0].adata.X = FISHbasis_corrected"
   ]
  },
  {
   "cell_type": "code",
   "execution_count": null,
   "metadata": {
    "tags": []
   },
   "outputs": [],
   "source": [
    "XY = TMG.Layers[0].XY\n",
    "in_large_comp = geomu.in_graph_large_connected_components(XY,large_comp_def = 0.01,plot_comp = True,max_dist = 100)\n",
    "np.sum(in_large_comp)/in_large_comp.shape[0]\n",
    "print(f\"before filtering: {TMG.N[0]} cells\")\n",
    "TMG.Layers[0].filter(in_large_comp)\n",
    "print(f\"after filtering: {TMG.N[0]} cells\")"
   ]
  },
  {
   "cell_type": "code",
   "execution_count": null,
   "metadata": {
    "tags": []
   },
   "outputs": [],
   "source": [
    "num_values = TMG.Layers[0].adata.obs['dapi'].copy()\n",
    "vmin,vmax = np.percentile(num_values,[5,99.9])\n",
    "print(vmin,vmax)\n",
    "ValueDistributions(TMG,num_values=num_values,title='dapi',log=True,min_line = vmin,max_line=vmax,figsize = (15,4)).show()\n",
    "\n",
    "to_keep = np.logical_and(num_values>vmin,\n",
    "                         num_values<vmax) \n",
    "print(f\"before filtering: {TMG.N[0]} cells\")\n",
    "TMG.Layers[0].filter(to_keep)\n",
    "print(f\"after filtering: {TMG.N[0]} cells\")"
   ]
  },
  {
   "cell_type": "code",
   "execution_count": null,
   "metadata": {
    "tags": []
   },
   "outputs": [],
   "source": [
    "num_values = np.array(TMG.Layers[0].adata.obs['polyt'].copy()) - np.array(TMG.Layers[0].adata.obs['nonspecific_readout'].copy())\n",
    "vmin,vmax = np.percentile(num_values[num_values>0],[5,99.9])\n",
    "print(vmin,vmax)\n",
    "ValueDistributions(TMG,num_values=num_values,title='polyt',log=True,min_line = vmin,max_line=vmax,figsize = (15,4)).show()\n",
    "\n",
    "to_keep = np.logical_and(num_values>vmin,\n",
    "                         num_values<vmax) \n",
    "print(f\"before filtering: {TMG.N[0]} cells\")\n",
    "TMG.Layers[0].filter(to_keep)\n",
    "print(f\"after filtering: {TMG.N[0]} cells\")"
   ]
  },
  {
   "cell_type": "code",
   "execution_count": null,
   "metadata": {
    "tags": []
   },
   "outputs": [],
   "source": [
    "num_values = TMG.Layers[0].adata.X.sum(1).copy()\n",
    "vmin,vmax = np.percentile(num_values[num_values>0],[5,99.9])\n",
    "print(vmin,vmax)\n",
    "ValueDistributions(TMG,num_values=num_values,title='sum',log=True,min_line = vmin,max_line=vmax,figsize = (15,4)).show()\n",
    "\n",
    "to_keep = np.logical_and(num_values>vmin,\n",
    "                         num_values<vmax) \n",
    "print(f\"before filtering: {TMG.N[0]} cells\")\n",
    "TMG.Layers[0].filter(to_keep)\n",
    "print(f\"after filtering: {TMG.N[0]} cells\")"
   ]
  },
  {
   "cell_type": "code",
   "execution_count": null,
   "metadata": {
    "tags": []
   },
   "outputs": [],
   "source": [
    "num_values = TMG.Layers[0].adata.obs['size'].copy()\n",
    "vmin,vmax = np.percentile(num_values,[1,99.9])\n",
    "print(vmin,vmax)\n",
    "ValueDistributions(TMG,num_values=num_values,title='size',log=False,min_line = vmin,max_line=vmax,figsize = (15,4)).show()\n",
    "\n",
    "to_keep = np.logical_and(num_values>vmin,\n",
    "                         num_values<vmax) \n",
    "print(f\"before filtering: {TMG.N[0]} cells\")\n",
    "TMG.Layers[0].filter(to_keep)\n",
    "print(f\"after filtering: {TMG.N[0]} cells\")"
   ]
  },
  {
   "cell_type": "code",
   "execution_count": null,
   "metadata": {
    "tags": []
   },
   "outputs": [],
   "source": [
    "num_values = np.array(TMG.Layers[0].adata.obs['nonspecific_encoding'].copy()) - np.array(TMG.Layers[0].adata.obs['nonspecific_readout'].copy())\n",
    "vmin,vmax = np.percentile(num_values,[0,99])\n",
    "print(vmin,vmax)\n",
    "ValueDistributions(TMG,num_values=num_values,title='nonspecific_encoding',log=True,min_line = None,max_line=vmax,figsize = (15,4)).show()\n",
    "\n",
    "to_keep = np.logical_and(num_values>vmin,\n",
    "                         num_values<vmax) \n",
    "print(f\"before filtering: {TMG.N[0]} cells\")\n",
    "TMG.Layers[0].filter(to_keep)\n",
    "print(f\"after filtering: {TMG.N[0]} cells\")"
   ]
  },
  {
   "cell_type": "code",
   "execution_count": null,
   "metadata": {
    "tags": []
   },
   "outputs": [],
   "source": [
    "num_values = TMG.Layers[0].adata.obs['nonspecific_readout'].copy()\n",
    "vmin,vmax = np.percentile(num_values,[0,99])\n",
    "print(vmin,vmax)\n",
    "ValueDistributions(TMG,num_values=num_values,title='nonspecific_readout',log=True,min_line = None,max_line=vmax,figsize = (15,4)).show()\n",
    "\n",
    "to_keep = np.logical_and(num_values>vmin,\n",
    "                         num_values<vmax) \n",
    "print(f\"before filtering: {TMG.N[0]} cells\")\n",
    "TMG.Layers[0].filter(to_keep)\n",
    "print(f\"after filtering: {TMG.N[0]} cells\")"
   ]
  },
  {
   "cell_type": "code",
   "execution_count": null,
   "metadata": {
    "tags": []
   },
   "outputs": [],
   "source": [
    "columns = ['dapi','polyt','polyt_raw','nonspecific_encoding','nonspecific_encoding_raw','nonspecific_readout','nonspecific_readout_raw','size']\n",
    "TMG.Layers[0].adata.obs.groupby('Slice')[columns].mean().reset_index()"
   ]
  },
  {
   "cell_type": "code",
   "execution_count": null,
   "metadata": {
    "tags": []
   },
   "outputs": [],
   "source": [
    "TMG.Layers[0].adata"
   ]
  },
  {
   "cell_type": "markdown",
   "metadata": {},
   "source": [
    "### Preview Vectors"
   ]
  },
  {
   "cell_type": "code",
   "execution_count": null,
   "metadata": {
    "tags": []
   },
   "outputs": [],
   "source": [
    "FISHbasis = TMG.Layers[0].adata.X.copy()"
   ]
  },
  {
   "cell_type": "code",
   "execution_count": null,
   "metadata": {
    "tags": []
   },
   "outputs": [],
   "source": [
    "TMG.Layers[0].adata "
   ]
  },
  {
   "cell_type": "code",
   "execution_count": null,
   "metadata": {
    "tags": []
   },
   "outputs": [],
   "source": [
    "data = TMG.Layers[0].adata\n",
    "converter = {r:h.split('hybe')[-1] for r,h,c in config.bitmap}\n",
    "''.join(config.bitmap[np.where(data.X.mean(0)==value)[0][0]][1].split('hybe')[-1]+',' for value in sorted(data.X.mean(0)))"
   ]
  },
  {
   "cell_type": "code",
   "execution_count": null,
   "metadata": {
    "tags": []
   },
   "outputs": [],
   "source": [
    "data = TMG.Layers[0].adata\n",
    "sections = data.obs['Slice'].unique()\n",
    "bits = np.array(list(data.var.index))\n",
    "n_sections = sections.shape[0]\n",
    "n_columns = n_sections\n",
    "n_rows = data.X.shape[1]\n",
    "\n",
    "num_plots = n_columns*n_rows\n",
    "fig, axs = plt.subplots(n_rows, n_columns, figsize=(5*n_columns, 5*n_rows))\n",
    "x = data.obs['stage_x']\n",
    "y = data.obs['stage_y']\n",
    "# Flatten the axs array so that we can iterate over it using a single loop\n",
    "axs = axs.ravel()\n",
    "# Iterate over the subplots and plot each scatter plot\n",
    "i = -1\n",
    "for b,bit in enumerate(bits):\n",
    "    for s,section in enumerate(sections):\n",
    "            m = data.obs['Slice']==section\n",
    "            i+=1\n",
    "            c = FISHbasis[m,b].copy()\n",
    "            vmin,vmax = np.percentile(c[(c!=0)&(np.isnan(c)==False)],[5,95])\n",
    "            ax = axs[i]\n",
    "            order = np.argsort(c)\n",
    "            scatter_plot = ax.scatter(x[m][order], y[m][order],c=c[order],vmin=vmin,vmax=vmax,s=0.05,marker='x',cmap='jet')  # Adjust 's' for marker size if needed\n",
    "            fig.colorbar(scatter_plot, ax=ax)\n",
    "            ax.set_title(section+'\\n'+bit)\n",
    "            ax.tick_params(axis='both', which='both', length=0)\n",
    "            ax.axis('off')\n",
    "    # break\n",
    "\n",
    "# Hide empty subplots if there are any\n",
    "for i in range(num_plots, len(axs)):\n",
    "    axs[i].axis(\"off\")\n",
    "\n",
    "# Adjust the layout and padding between subplots\n",
    "plt.tight_layout()\n",
    "\n",
    "# Show the plot\n",
    "plt.show()"
   ]
  },
  {
   "cell_type": "markdown",
   "metadata": {},
   "source": [
    "### Remove Bad Bits"
   ]
  },
  {
   "cell_type": "code",
   "execution_count": null,
   "metadata": {
    "scrolled": true,
    "tags": []
   },
   "outputs": [],
   "source": [
    "for bit in range(TMG.Layers[0].adata.X.shape[1]) :\n",
    "    num_values = TMG.Layers[0].adata.X[:,bit].copy()\n",
    "    vmin,vmax = np.percentile(num_values,[25,75])\n",
    "    ValueDistributions(TMG,num_values=num_values,title=TMG.Layers[0].adata.var.index[bit],log=True,min_line = vmin,max_line=vmax,figsize = (15,4)).show()"
   ]
  },
  {
   "cell_type": "code",
   "execution_count": null,
   "metadata": {
    "tags": []
   },
   "outputs": [],
   "source": [
    "# # Remove Bad Bits\n",
    "# M = [np.percentile(TMG.Layers[0].adata.X[:,i],99)>100 for i in range(TMG.Layers[0].adata.shape[1])]\n",
    "# print(TMG.Layers[0].adata.var.index[M])\n",
    "# TMG.Layers[0].adata = TMG.Layers[0].adata[:,M]\n"
   ]
  },
  {
   "cell_type": "code",
   "execution_count": null,
   "metadata": {
    "tags": []
   },
   "outputs": [],
   "source": [
    "# num_values = TMG.Layers[0].adata.X.sum(1).copy()\n",
    "# vmin,vmax = np.percentile(num_values[num_values>0],[5,100])\n",
    "# print(vmin,vmax)\n",
    "# ValueDistributions(TMG,num_values=num_values,title='sum',log=True,min_line = vmin,max_line=vmax,figsize = (15,4)).show()\n",
    "\n",
    "# to_keep = np.logical_and(num_values>vmin,\n",
    "#                          num_values<vmax) \n",
    "# print(f\"before filtering: {TMG.N[0]} cells\")\n",
    "# TMG.Layers[0].filter(to_keep)\n",
    "# print(f\"after filtering: {TMG.N[0]} cells\")"
   ]
  },
  {
   "cell_type": "markdown",
   "metadata": {},
   "source": [
    "### Correct for Cell Staining"
   ]
  },
  {
   "cell_type": "code",
   "execution_count": null,
   "metadata": {
    "tags": []
   },
   "outputs": [],
   "source": [
    "# \"\"\" Cell Staining Correction  SUM \"\"\"\n",
    "# FISHbasis = TMG.Layers[0].adata.X.copy()\n",
    "# correction = np.sum(FISHbasis.copy(),axis=1).mean()/np.sum(FISHbasis.copy(),axis=1)\n",
    "# FISHbasis_normalized = (FISHbasis.copy().T*correction).T"
   ]
  },
  {
   "cell_type": "code",
   "execution_count": null,
   "metadata": {
    "tags": []
   },
   "outputs": [],
   "source": [
    "\"\"\" Cell Staining Correction PolyT \"\"\"\n",
    "FISHbasis = TMG.Layers[0].adata.X.copy()\n",
    "num_values = np.array(TMG.Layers[0].adata.obs['polyt']) - np.array(TMG.Layers[0].adata.obs['nonspecific_readout'])\n",
    "correction = num_values.mean()/num_values\n",
    "FISHbasis_normalized = (FISHbasis.copy().T*correction).T"
   ]
  },
  {
   "cell_type": "code",
   "execution_count": null,
   "metadata": {
    "tags": []
   },
   "outputs": [],
   "source": [
    "data = TMG.Layers[0].adata\n",
    "sections = data.obs['Slice'].unique()\n",
    "bits = np.array(list(data.var.index))\n",
    "n_sections = sections.shape[0]\n",
    "n_columns = n_sections\n",
    "n_rows = data.X.shape[1]\n",
    "\n",
    "num_plots = n_columns*n_rows\n",
    "fig, axs = plt.subplots(n_rows, n_columns, figsize=(5*n_columns, 5*n_rows))\n",
    "x = data.obs['stage_x']\n",
    "y = data.obs['stage_y']\n",
    "# Flatten the axs array so that we can iterate over it using a single loop\n",
    "axs = axs.ravel()\n",
    "# Iterate over the subplots and plot each scatter plot\n",
    "i = -1\n",
    "for b,bit in enumerate(bits):\n",
    "    for s,section in enumerate(sections):\n",
    "            m = data.obs['Slice']==section\n",
    "            i+=1\n",
    "            c = FISHbasis_normalized[m,b].copy()\n",
    "            vmin,vmax = np.percentile(c[(c!=0)&(np.isnan(c)==False)],[5,95])\n",
    "            # c = FISHbasis_normalized[m,b].copy()\n",
    "            ax = axs[i]\n",
    "            order = np.argsort(c)\n",
    "            scatter_plot = ax.scatter(x[m][order], y[m][order],c=c[order],vmin=vmin,vmax=vmax,s=0.05,marker='x',cmap='jet')  # Adjust 's' for marker size if needed\n",
    "            fig.colorbar(scatter_plot, ax=ax)\n",
    "            ax.set_title(section+'\\n'+bit)\n",
    "            ax.tick_params(axis='both', which='both', length=0)\n",
    "            ax.axis('off')\n",
    "    # break\n",
    "\n",
    "# Hide empty subplots if there are any\n",
    "for i in range(num_plots, len(axs)):\n",
    "    axs[i].axis(\"off\")\n",
    "\n",
    "# Adjust the layout and padding between subplots\n",
    "plt.tight_layout()\n",
    "\n",
    "# Show the plot\n",
    "plt.show()"
   ]
  },
  {
   "cell_type": "markdown",
   "metadata": {},
   "source": [
    "### Zscore to put all bits in same space"
   ]
  },
  {
   "cell_type": "code",
   "execution_count": null,
   "metadata": {
    "tags": []
   },
   "outputs": [],
   "source": [
    "\"\"\" Zscore \"\"\"\n",
    "data = TMG.Layers[0].adata\n",
    "section = np.array(data.obs['Slice'])\n",
    "sections = np.unique(section)\n",
    "FISHbasis_zscored = np.zeros_like(FISHbasis_normalized.copy())\n",
    "for i in range(FISHbasis_normalized.shape[1]):\n",
    "    tc = FISHbasis_normalized[:,i].copy()\n",
    "    for s in sections:\n",
    "        m = section==s\n",
    "        c = tc[m]\n",
    "        vmin,vmid,vmax = np.percentile(c[np.isnan(c)==False],[25,50,75])\n",
    "        std =  np.std(c[np.isnan(c)==False])\n",
    "        c = c-vmid\n",
    "        c = c/std\n",
    "        # if vmin!=vmax:\n",
    "        #     print(vmin,vmid,vmax)\n",
    "        #     c = c/(vmax-vmin)\n",
    "        # else:\n",
    "        #     std =  np.std(c[np.isnan(c)==False])\n",
    "        #     print(vmid,std)\n",
    "        #     c = c/std\n",
    "        tc[m] = c\n",
    "    FISHbasis_zscored[:,i] = tc\n",
    "FISHbasis_zscored"
   ]
  },
  {
   "cell_type": "code",
   "execution_count": null,
   "metadata": {
    "tags": []
   },
   "outputs": [],
   "source": [
    "data = TMG.Layers[0].adata\n",
    "sections = data.obs['Slice'].unique()\n",
    "bits = np.array(list(data.var.index))\n",
    "n_sections = sections.shape[0]\n",
    "n_columns = n_sections\n",
    "n_rows = data.X.shape[1]\n",
    "\n",
    "num_plots = n_columns*n_rows\n",
    "fig, axs = plt.subplots(n_rows, n_columns, figsize=(5*n_columns, 5*n_rows))\n",
    "x = data.obs['stage_x']\n",
    "y = data.obs['stage_y']\n",
    "# Flatten the axs array so that we can iterate over it using a single loop\n",
    "axs = axs.ravel()\n",
    "# Iterate over the subplots and plot each scatter plot\n",
    "i = -1\n",
    "for b,bit in enumerate(bits):\n",
    "    for s,section in enumerate(sections):\n",
    "            m = data.obs['Slice']==section\n",
    "            i+=1\n",
    "            c = FISHbasis_zscored[m,b].copy()\n",
    "            vmin,vmax = np.percentile(c[(c!=0)&(np.isnan(c)==False)],[5,95])\n",
    "            # c = FISHbasis_zscored[m,b].copy()\n",
    "            ax = axs[i]\n",
    "            order = np.argsort(c)\n",
    "            scatter_plot = ax.scatter(x[m][order], y[m][order],c=c[order],vmin=vmin,vmax=vmax,s=0.05,marker='x',cmap='jet')  # Adjust 's' for marker size if needed\n",
    "            fig.colorbar(scatter_plot, ax=ax)\n",
    "            ax.set_title(section+'\\n'+bit)\n",
    "            ax.tick_params(axis='both', which='both', length=0)\n",
    "            ax.axis('off')\n",
    "    # break\n",
    "\n",
    "# Hide empty subplots if there are any\n",
    "for i in range(num_plots, len(axs)):\n",
    "    axs[i].axis(\"off\")\n",
    "\n",
    "# Adjust the layout and padding between subplots\n",
    "plt.tight_layout()\n",
    "\n",
    "# Show the plot\n",
    "plt.show()"
   ]
  },
  {
   "cell_type": "code",
   "execution_count": null,
   "metadata": {
    "tags": []
   },
   "outputs": [],
   "source": [
    "TMG.Layers[0].adata.X = FISHbasis_zscored"
   ]
  },
  {
   "cell_type": "markdown",
   "metadata": {},
   "source": [
    "### Preview clustering"
   ]
  },
  {
   "cell_type": "code",
   "execution_count": null,
   "metadata": {
    "tags": []
   },
   "outputs": [],
   "source": [
    "import scanpy as sc\n",
    "import umap\n",
    "adata = TMG.Layers[0].adata.copy()\n",
    "# adata.X = FISHbasis_norm\n",
    "sc.pp.neighbors(adata, n_neighbors=15, use_rep='X') \n",
    "sc.tl.umap(adata, min_dist=0.1)\n",
    "sc.tl.louvain(adata)\n",
    "sc.pl.umap(adata, color='louvain', show=True)\n",
    "xy = np.stack([adata.obs['stage_x'],adata.obs['stage_y']])\n",
    "adata.obsm['stage'] = xy.T\n",
    "sc.pl.embedding(adata, basis='stage', color='louvain', show=False)"
   ]
  },
  {
   "cell_type": "code",
   "execution_count": null,
   "metadata": {
    "tags": []
   },
   "outputs": [],
   "source": [
    "data = adata.copy()\n",
    "sections = data.obs['Slice'].unique()\n",
    "for section in sections:\n",
    "    print(section)\n",
    "    sc.pl.embedding(data[data.obs['Slice']==section], basis='stage', color='louvain', show=True)"
   ]
  },
  {
   "cell_type": "code",
   "execution_count": null,
   "metadata": {
    "tags": []
   },
   "outputs": [],
   "source": [
    "data = adata.copy()\n",
    "sections = data.obs['Slice'].unique()\n",
    "bits = np.array(list(data.obs['louvain'].unique()))\n",
    "\n",
    "n_columns = sections.shape[0]\n",
    "n_rows = bits.shape[0]\n",
    "num_plots = n_columns*n_sections\n",
    "fig, axs = plt.subplots(n_rows, n_columns, figsize=(5*n_columns, 5*n_rows))\n",
    "x = data.obs['stage_x']\n",
    "y = data.obs['stage_y']\n",
    "# Flatten the axs array so that we can iterate over it using a single loop\n",
    "axs = axs.ravel()\n",
    "# Iterate over the subplots and plot each scatter plot\n",
    "i = -1\n",
    "for b,bit in enumerate(bits):\n",
    "    for s,section in enumerate(sections):\n",
    "        m = data.obs['Slice']==section\n",
    "        cm = data.obs['louvain']==bit\n",
    "        i+=1\n",
    "        vmin,vmax = np.percentile(c[(c!=0)&(np.isnan(c)==False)],[20,95])\n",
    "        ax = axs[i]\n",
    "        scatter_plot = ax.scatter(x[m&cm], y[m&cm],c=adata.uns['louvain_colors'][b],s=0.1,marker='x')  # Adjust 's' for marker size if needed\n",
    "        ax.set_title(section+'\\n'+bit)\n",
    "        ax.tick_params(axis='both', which='both', length=0)\n",
    "        ax.axis('off')\n",
    "    # break\n",
    "\n",
    "# Hide empty subplots if there are any\n",
    "for i in range(num_plots, len(axs)):\n",
    "    axs[i].axis(\"off\")\n",
    "\n",
    "# Adjust the layout and padding between subplots\n",
    "plt.tight_layout()\n",
    "\n",
    "# Show the plot\n",
    "plt.show()"
   ]
  },
  {
   "cell_type": "markdown",
   "metadata": {
    "tags": []
   },
   "source": [
    "## Run TMG"
   ]
  },
  {
   "cell_type": "code",
   "execution_count": null,
   "metadata": {
    "tags": []
   },
   "outputs": [],
   "source": [
    "TMG.Layers[0].build_spatial_graph()"
   ]
  },
  {
   "cell_type": "code",
   "execution_count": null,
   "metadata": {},
   "outputs": [],
   "source": [
    "# SLOW\n",
    "TMG.Layers[0].build_feature_graph(metric='correlation')"
   ]
  },
  {
   "cell_type": "code",
   "execution_count": null,
   "metadata": {},
   "outputs": [],
   "source": [
    "# Create the classifier\n",
    "optleiden = Classification.OptimalLeidenUnsupervized(TMG.Layers[0])"
   ]
  },
  {
   "cell_type": "code",
   "execution_count": null,
   "metadata": {},
   "outputs": [],
   "source": [
    "# train the classifier\n",
    "optleiden.train(opt_params={'iters':10, 'n_consensus':1})"
   ]
  },
  {
   "cell_type": "code",
   "execution_count": null,
   "metadata": {},
   "outputs": [],
   "source": [
    "# use the classifier to create types and add them to TMG using the Taxonomy created on the fly by the classifier\n",
    "type_vec = optleiden.classify(TMG.Layers[0].feature_mat)"
   ]
  },
  {
   "cell_type": "code",
   "execution_count": null,
   "metadata": {},
   "outputs": [],
   "source": [
    "TMG.add_type_information(0, type_vec, optleiden.tax)"
   ]
  },
  {
   "cell_type": "code",
   "execution_count": null,
   "metadata": {},
   "outputs": [],
   "source": [
    "TMG.create_isozone_layer()\n",
    "logging.info(f\"TMG has {len(TMG.Layers)} Layers\")"
   ]
  },
  {
   "cell_type": "code",
   "execution_count": null,
   "metadata": {},
   "outputs": [],
   "source": [
    "n_topics_list = [2,5,10,15,20,30,50]\n",
    "n_procs = len(n_topics_list) \n",
    "\n",
    "topic_cls = Classification.TopicClassifier(TMG.Layers[0])\n",
    "topic_cls.train(n_topics_list=n_topics_list, n_procs=n_procs)\n",
    "topics = topic_cls.classify(topic_cls.Env)"
   ]
  },
  {
   "cell_type": "code",
   "execution_count": null,
   "metadata": {},
   "outputs": [],
   "source": [
    "TMG.create_region_layer(topics, topic_cls.tax)\n",
    "logging.info(f\"TMG has {len(TMG.Layers)} Layers\")"
   ]
  },
  {
   "cell_type": "code",
   "execution_count": null,
   "metadata": {},
   "outputs": [],
   "source": [
    "TMG.add_geoms(geom_types = [\"mask\",\"voronoi\",\"isozones\",\"regions\"],redo=False)"
   ]
  },
  {
   "cell_type": "code",
   "execution_count": null,
   "metadata": {
    "tags": []
   },
   "outputs": [],
   "source": [
    "TMG.save()"
   ]
  },
  {
   "cell_type": "code",
   "execution_count": null,
   "metadata": {},
   "outputs": [],
   "source": [
    "TMG = TissueMultiGraph(inputpath=inputpath,redo = False)"
   ]
  },
  {
   "cell_type": "code",
   "execution_count": null,
   "metadata": {
    "tags": []
   },
   "outputs": [],
   "source": [
    "V = BasisView(TMG,rotation=-90)\n",
    "V.show()"
   ]
  },
  {
   "cell_type": "code",
   "execution_count": null,
   "metadata": {
    "tags": []
   },
   "outputs": [],
   "source": [
    "SingleMapView(TMG,level_type = \"cell\", map_type = \"random\",rotation=-90).show()\n",
    "SingleMapView(TMG,level_type = \"isozone\",map_type = \"random\",rotation=-90).show()\n",
    "SingleMapView(TMG,level_type = \"region\",map_type = \"random\",rotation=-90).show()"
   ]
  },
  {
   "cell_type": "code",
   "execution_count": null,
   "metadata": {},
   "outputs": [],
   "source": [
    "colormaps = ['Purples','Oranges','Blues','Greens','Reds','cividis']\n",
    "SingleMapView(TMG,level_type = \"cell\", map_type = \"type\",color_assign_method = 'linkage',colormaps = colormaps,rotation=-90).show()"
   ]
  },
  {
   "cell_type": "code",
   "execution_count": null,
   "metadata": {},
   "outputs": [],
   "source": [
    "V = UMAPwithSpatialMap(TMG,qntl = (0.025,0.975),clp_embed = (0.025,0.975),rotation=-90)\n",
    "V.show()"
   ]
  },
  {
   "cell_type": "code",
   "execution_count": null,
   "metadata": {},
   "outputs": [],
   "source": []
  }
 ],
 "metadata": {
  "kernelspec": {
   "display_name": "Python [conda env:dredfish_3.9]",
   "language": "python",
   "name": "conda-env-dredfish_3.9-py"
  },
  "language_info": {
   "codemirror_mode": {
    "name": "ipython",
    "version": 3
   },
   "file_extension": ".py",
   "mimetype": "text/x-python",
   "name": "python",
   "nbconvert_exporter": "python",
   "pygments_lexer": "ipython3",
   "version": "3.9.0"
  }
 },
 "nbformat": 4,
 "nbformat_minor": 4
}
