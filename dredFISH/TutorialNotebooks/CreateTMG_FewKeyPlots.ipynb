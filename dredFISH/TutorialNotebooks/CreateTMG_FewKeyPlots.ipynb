{
 "cells": [
  {
   "cell_type": "code",
   "execution_count": null,
   "metadata": {
    "tags": []
   },
   "outputs": [],
   "source": [
    "import numpy as np\n",
    "import pandas as pd\n",
    "import matplotlib.pyplot as plt\n",
    "\n",
    "import importlib\n",
    "import os\n",
    "import glob\n",
    "\n",
    "import sys\n",
    "sys.path.append('/home/rwollman/MyProjects/AH/Repos/dredFISH')\n",
    "from dredFISH.Analysis.TissueGraph import *\n",
    "from dredFISH.Analysis.Classification import *\n",
    "from dredFISH.Visualization.Viz import *\n",
    "from dredFISH.Analysis import Classification\n",
    "from dredFISH.Utils import geomu, fileu\n",
    "\n",
    "plt.rcParams['figure.facecolor'] = 'white' "
   ]
  },
  {
   "cell_type": "code",
   "execution_count": null,
   "metadata": {
    "tags": []
   },
   "outputs": [],
   "source": [
    "pth = os.getcwd()\n",
    "parts = os.path.split(pth)\n",
    "parts2 = os.path.split(parts[0])\n",
    "parts3 = os.path.split(parts2[0])\n",
    "inputpath = os.path.join(parts[0],parts3[1])"
   ]
  },
  {
   "cell_type": "code",
   "execution_count": null,
   "metadata": {
    "tags": []
   },
   "outputs": [],
   "source": [
    "inputpath"
   ]
  },
  {
   "cell_type": "code",
   "execution_count": null,
   "metadata": {
    "tags": []
   },
   "outputs": [],
   "source": [
    "config = fileu.load_config_module(inputpath)\n",
    "hybes = [c[0] for c in config.bitmap if c[0]!= 'PolyT']"
   ]
  },
  {
   "cell_type": "code",
   "execution_count": null,
   "metadata": {
    "tags": []
   },
   "outputs": [],
   "source": [
    "TMG = TissueMultiGraph(inputpath = inputpath,redo = True)\n",
    "TMG.create_cell_layer(build_spatial_graph = False,build_feature_graph = False,hybes=hybes,norm='none')"
   ]
  },
  {
   "cell_type": "code",
   "execution_count": null,
   "metadata": {
    "tags": []
   },
   "outputs": [],
   "source": [
    "XY = TMG.Layers[0].XY\n",
    "in_large_comp = geomu.in_graph_large_connected_components(XY,large_comp_def = 0.01,plot_comp = True,max_dist = 100)"
   ]
  },
  {
   "cell_type": "code",
   "execution_count": null,
   "metadata": {
    "tags": []
   },
   "outputs": [],
   "source": [
    "print(f\"before filtering: {TMG.N[0]} cells\")\n",
    "TMG.Layers[0].filter(in_large_comp)\n",
    "print(f\"after filtering: {TMG.N[0]} cells\")"
   ]
  },
  {
   "cell_type": "code",
   "execution_count": null,
   "metadata": {
    "tags": []
   },
   "outputs": [],
   "source": [
    "vmin,vmax = np.percentile(TMG.Layers[0].adata.obs['dapi'],[1,99])\n",
    "vmin,vmax"
   ]
  },
  {
   "cell_type": "code",
   "execution_count": null,
   "metadata": {
    "tags": []
   },
   "outputs": [],
   "source": [
    "DapiValueDistributions(TMG,min_dapi_line = vmin,max_dapi_line=vmax,figsize = (4,4)).show()"
   ]
  },
  {
   "cell_type": "code",
   "execution_count": null,
   "metadata": {
    "tags": []
   },
   "outputs": [],
   "source": [
    "to_keep = np.logical_and(TMG.Layers[0].adata.obs['dapi']>vmin,\n",
    "                         TMG.Layers[0].adata.obs['dapi']<vmax) \n",
    "print(f\"before filtering: {TMG.N[0]} cells\")\n",
    "TMG.Layers[0].filter(to_keep)\n",
    "print(f\"after filtering: {TMG.N[0]} cells\")"
   ]
  },
  {
   "cell_type": "code",
   "execution_count": null,
   "metadata": {},
   "outputs": [],
   "source": [
    "data = TMG.Layers[0].adata\n",
    "converter = {r:h.split('hybe')[-1] for r,h,c in config.bitmap}\n",
    "''.join(config.bitmap[np.where(data.X.mean(0)==value)[0][0]][1].split('hybe')[-1]+',' for value in sorted(data.X.mean(0)))"
   ]
  },
  {
   "cell_type": "code",
   "execution_count": null,
   "metadata": {
    "tags": []
   },
   "outputs": [],
   "source": [
    "TMG.Layers[0].build_spatial_graph()"
   ]
  },
  {
   "cell_type": "code",
   "execution_count": null,
   "metadata": {
    "tags": []
   },
   "outputs": [],
   "source": [
    "data = TMG.Layers[0].adata\n",
    "# Create a 5x5 grid of subplots\n",
    "fig, axs = plt.subplots(5, 5, figsize=(25, 25))\n",
    "x = data.obs['stage_x']\n",
    "y = data.obs['stage_y']\n",
    "# Flatten the axs array so that we can iterate over it using a single loop\n",
    "axs = axs.ravel()\n",
    "num_plots = data.X.shape[1]\n",
    "# Iterate over the subplots and plot each scatter plot\n",
    "for i in range(num_plots):\n",
    "    c = data.X[:,i].copy()\n",
    "    vmin,vmax = np.percentile(c[c!=0],[5,95])\n",
    "    ax = axs[i]\n",
    "    scatter_plot = ax.scatter(x, y,c=c,vmin=vmin,vmax=vmax,s=0.1,marker='x',cmap='jet')  # Adjust 's' for marker size if needed\n",
    "    fig.colorbar(scatter_plot, ax=ax)\n",
    "    ax.set_title(config.bitmap[i][0])\n",
    "    ax.tick_params(axis='both', which='both', length=0)\n",
    "    ax.axis('off')\n",
    "    # break\n",
    "\n",
    "# Hide empty subplots if there are any\n",
    "for i in range(num_plots, len(axs)):\n",
    "    axs[i].axis(\"off\")\n",
    "\n",
    "# Adjust the layout and padding between subplots\n",
    "plt.tight_layout()\n",
    "\n",
    "# Show the plot\n",
    "plt.show()"
   ]
  },
  {
   "cell_type": "code",
   "execution_count": null,
   "metadata": {
    "tags": []
   },
   "outputs": [],
   "source": [
    "FISHbasis = TMG.Layers[0].adata.X"
   ]
  },
  {
   "cell_type": "code",
   "execution_count": null,
   "metadata": {
    "tags": []
   },
   "outputs": [],
   "source": [
    "FISHbasis.mean(0)"
   ]
  },
  {
   "cell_type": "code",
   "execution_count": null,
   "metadata": {
    "tags": []
   },
   "outputs": [],
   "source": [
    "\"\"\" Scale Bits to same scale \"\"\"\n",
    "correction = FISHbasis.mean()/FISHbasis.mean(0)\n",
    "correction"
   ]
  },
  {
   "cell_type": "code",
   "execution_count": null,
   "metadata": {
    "tags": []
   },
   "outputs": [],
   "source": [
    "(FISHbasis*correction).mean(0)"
   ]
  },
  {
   "cell_type": "code",
   "execution_count": null,
   "metadata": {
    "tags": []
   },
   "outputs": [],
   "source": [
    "FISHbasis_scaled = FISHbasis*correction"
   ]
  },
  {
   "cell_type": "code",
   "execution_count": null,
   "metadata": {
    "tags": []
   },
   "outputs": [],
   "source": [
    "data = TMG.Layers[0].adata\n",
    "# Create a 5x5 grid of subplots\n",
    "fig, axs = plt.subplots(5, 5, figsize=(25, 25))\n",
    "x = data.obs['stage_x']\n",
    "y = data.obs['stage_y']\n",
    "# Flatten the axs array so that we can iterate over it using a single loop\n",
    "axs = axs.ravel()\n",
    "num_plots = data.X.shape[1]\n",
    "# Iterate over the subplots and plot each scatter plot\n",
    "for i in range(num_plots):\n",
    "    c = FISHbasis_scaled[:,i].copy()\n",
    "    vmin,vmax = np.percentile(c[c!=0],[5,95])\n",
    "    ax = axs[i]\n",
    "    scatter_plot = ax.scatter(x, y,c=c,vmin=vmin,vmax=vmax,s=0.1,marker='x',cmap='jet')  # Adjust 's' for marker size if needed\n",
    "    fig.colorbar(scatter_plot, ax=ax)\n",
    "    ax.set_title(config.bitmap[i][0])\n",
    "    ax.tick_params(axis='both', which='both', length=0)\n",
    "    ax.axis('off')\n",
    "    # break\n",
    "\n",
    "# Hide empty subplots if there are any\n",
    "for i in range(num_plots, len(axs)):\n",
    "    axs[i].axis(\"off\")\n",
    "\n",
    "# Adjust the layout and padding between subplots\n",
    "plt.tight_layout()\n",
    "\n",
    "# Show the plot\n",
    "plt.show()"
   ]
  },
  {
   "cell_type": "code",
   "execution_count": null,
   "metadata": {
    "tags": []
   },
   "outputs": [],
   "source": [
    "\"\"\" Cell Staining Correction \"\"\"\n",
    "np.sum(FISHbasis_scaled,axis=1)"
   ]
  },
  {
   "cell_type": "code",
   "execution_count": null,
   "metadata": {
    "tags": []
   },
   "outputs": [],
   "source": [
    "np.sum(FISHbasis_scaled,axis=1).mean()"
   ]
  },
  {
   "cell_type": "code",
   "execution_count": null,
   "metadata": {
    "tags": []
   },
   "outputs": [],
   "source": [
    "correction = np.sum(FISHbasis_scaled,axis=1).mean()/np.sum(FISHbasis_scaled,axis=1)\n",
    "correction"
   ]
  },
  {
   "cell_type": "code",
   "execution_count": null,
   "metadata": {
    "tags": []
   },
   "outputs": [],
   "source": [
    "FISHbasis_normalized = (FISHbasis_scaled.T*correction).T\n",
    "FISHbasis_normalized"
   ]
  },
  {
   "cell_type": "code",
   "execution_count": null,
   "metadata": {
    "tags": []
   },
   "outputs": [],
   "source": [
    "data = TMG.Layers[0].adata\n",
    "# Create a 5x5 grid of subplots\n",
    "fig, axs = plt.subplots(5, 5, figsize=(25, 25))\n",
    "x = data.obs['stage_x']\n",
    "y = data.obs['stage_y']\n",
    "# Flatten the axs array so that we can iterate over it using a single loop\n",
    "axs = axs.ravel()\n",
    "num_plots = data.X.shape[1]\n",
    "# Iterate over the subplots and plot each scatter plot\n",
    "for i in range(num_plots):\n",
    "    c = FISHbasis_normalized[:,i].copy()\n",
    "    vmin,vmax = np.percentile(c[c!=0],[5,95])\n",
    "    ax = axs[i]\n",
    "    scatter_plot = ax.scatter(x, y,c=c,vmin=vmin,vmax=vmax,s=0.1,marker='x',cmap='jet')  # Adjust 's' for marker size if needed\n",
    "    fig.colorbar(scatter_plot, ax=ax)\n",
    "    ax.set_title(config.bitmap[i][0])\n",
    "    ax.tick_params(axis='both', which='both', length=0)\n",
    "    ax.axis('off')\n",
    "    # break\n",
    "\n",
    "# Hide empty subplots if there are any\n",
    "for i in range(num_plots, len(axs)):\n",
    "    axs[i].axis(\"off\")\n",
    "\n",
    "# Adjust the layout and padding between subplots\n",
    "plt.tight_layout()\n",
    "\n",
    "# Show the plot\n",
    "plt.show()"
   ]
  },
  {
   "cell_type": "code",
   "execution_count": null,
   "metadata": {
    "tags": []
   },
   "outputs": [],
   "source": [
    "\"\"\" Zscore \"\"\"\n",
    "FISHbasis_zscored = np.zeros_like(FISHbasis_normalized)\n",
    "for i in range(FISHbasis_normalized.shape[1]):\n",
    "    c = FISHbasis_normalized[:,i]\n",
    "    vmin,vmid,vmax = np.percentile(c[np.isnan(c)==False],[25,50,75])\n",
    "    c = c-vmid\n",
    "    c = c/(vmax-vmin)\n",
    "    FISHbasis_zscored[:,i] = c\n",
    "FISHbasis_zscored"
   ]
  },
  {
   "cell_type": "code",
   "execution_count": null,
   "metadata": {
    "tags": []
   },
   "outputs": [],
   "source": [
    "data = TMG.Layers[0].adata\n",
    "# Create a 5x5 grid of subplots\n",
    "fig, axs = plt.subplots(5, 5, figsize=(25, 25))\n",
    "x = data.obs['stage_x']\n",
    "y = data.obs['stage_y']\n",
    "# Flatten the axs array so that we can iterate over it using a single loop\n",
    "axs = axs.ravel()\n",
    "num_plots = data.X.shape[1]\n",
    "# Iterate over the subplots and plot each scatter plot\n",
    "for i in range(num_plots):\n",
    "    c = FISHbasis_zscored[:,i].copy()\n",
    "    vmin,vmax = np.percentile(c[c!=0],[5,95])\n",
    "    ax = axs[i]\n",
    "    scatter_plot = ax.scatter(x, y,c=c,vmin=vmin,vmax=vmax,s=0.1,marker='x',cmap='jet')  # Adjust 's' for marker size if needed\n",
    "    fig.colorbar(scatter_plot, ax=ax)\n",
    "    ax.set_title(config.bitmap[i][0])\n",
    "    ax.tick_params(axis='both', which='both', length=0)\n",
    "    ax.axis('off')\n",
    "    # break\n",
    "\n",
    "# Hide empty subplots if there are any\n",
    "for i in range(num_plots, len(axs)):\n",
    "    axs[i].axis(\"off\")\n",
    "\n",
    "# Adjust the layout and padding between subplots\n",
    "plt.tight_layout()\n",
    "\n",
    "# Show the plot\n",
    "plt.show()"
   ]
  },
  {
   "cell_type": "code",
   "execution_count": null,
   "metadata": {
    "tags": []
   },
   "outputs": [],
   "source": [
    "TMG.Layers[0].adata.X = FISHbasis_zscored"
   ]
  },
  {
   "cell_type": "code",
   "execution_count": null,
   "metadata": {
    "tags": []
   },
   "outputs": [],
   "source": [
    "data = TMG.Layers[0].adata\n",
    "# Create a 5x5 grid of subplots\n",
    "fig, axs = plt.subplots(5, 5, figsize=(25, 25))\n",
    "x = data.obs['stage_x']\n",
    "y = data.obs['stage_y']\n",
    "# Flatten the axs array so that we can iterate over it using a single loop\n",
    "axs = axs.ravel()\n",
    "num_plots = data.X.shape[1]\n",
    "# Iterate over the subplots and plot each scatter plot\n",
    "for i in range(num_plots):\n",
    "    c = data.X[:,i].copy()\n",
    "    vmin,vmax = np.percentile(c[c!=0],[5,95])\n",
    "    ax = axs[i]\n",
    "    scatter_plot = ax.scatter(x, y,c=c,vmin=vmin,vmax=vmax,s=0.1,marker='x',cmap='jet')  # Adjust 's' for marker size if needed\n",
    "    fig.colorbar(scatter_plot, ax=ax)\n",
    "    ax.set_title(config.bitmap[i][0])\n",
    "    ax.tick_params(axis='both', which='both', length=0)\n",
    "    ax.axis('off')\n",
    "    # break\n",
    "\n",
    "# Hide empty subplots if there are any\n",
    "for i in range(num_plots, len(axs)):\n",
    "    axs[i].axis(\"off\")\n",
    "\n",
    "# Adjust the layout and padding between subplots\n",
    "plt.tight_layout()\n",
    "\n",
    "# Show the plot\n",
    "plt.show()"
   ]
  },
  {
   "cell_type": "code",
   "execution_count": null,
   "metadata": {
    "tags": []
   },
   "outputs": [],
   "source": [
    "import scanpy as sc\n",
    "import umap\n",
    "adata = TMG.Layers[0].adata.copy()\n",
    "# adata.X = FISHbasis_norm\n",
    "sc.pp.neighbors(adata, n_neighbors=15, use_rep='X') \n",
    "sc.tl.umap(adata, min_dist=0.1)\n",
    "sc.tl.louvain(adata)\n",
    "sc.pl.umap(adata, color='louvain', show=True)\n",
    "xy = np.stack([adata.obs['stage_x'],adata.obs['stage_y']])\n",
    "adata.obsm['stage'] = xy.T\n",
    "sc.pl.embedding(adata, basis='stage', color='louvain', show=False)"
   ]
  },
  {
   "cell_type": "code",
   "execution_count": null,
   "metadata": {
    "tags": []
   },
   "outputs": [],
   "source": [
    "# Create a 5x5 grid of subplots\n",
    "fig, axs = plt.subplots(5, 5, figsize=(25, 25))\n",
    "x = data.obs['stage_x']\n",
    "y = data.obs['stage_y']\n",
    "# Flatten the axs array so that we can iterate over it using a single loop\n",
    "axs = axs.ravel()\n",
    "num_plots = len(adata.obs['louvain'].unique())\n",
    "# Iterate over the subplots and plot each scatter plot\n",
    "for i in adata.obs['louvain'].unique():\n",
    "    i = int(i)\n",
    "    # c = FISHbasis_norm[:,i].copy()\n",
    "    # vmin,vmax = np.percentile(c[c!=0],[5,95])\n",
    "    ax = axs[i]\n",
    "    m = adata.obs['louvain']==str(i)\n",
    "    scatter_plot = ax.scatter(x[m], y[m],c=adata.uns['louvain_colors'][i],s=0.1,marker='x')  # Adjust 's' for marker size if needed\n",
    "    # fig.colorbar(scatter_plot, ax=ax)\n",
    "    ax.set_title(str(i))\n",
    "    ax.tick_params(axis='both', which='both', length=0)\n",
    "    ax.axis('off')\n",
    "    # break\n",
    "\n",
    "# Hide empty subplots if there are any\n",
    "for i in range(num_plots, len(axs)):\n",
    "    axs[i].axis(\"off\")\n",
    "\n",
    "# Adjust the layout and padding between subplots\n",
    "plt.tight_layout()\n",
    "\n",
    "# Show the plot\n",
    "plt.show()"
   ]
  },
  {
   "cell_type": "code",
   "execution_count": null,
   "metadata": {},
   "outputs": [],
   "source": [
    "# SLOW\n",
    "TMG.Layers[0].build_feature_graph(metric='correlation')"
   ]
  },
  {
   "cell_type": "code",
   "execution_count": null,
   "metadata": {},
   "outputs": [],
   "source": [
    "TMG.Layers[0].adata"
   ]
  },
  {
   "cell_type": "code",
   "execution_count": null,
   "metadata": {},
   "outputs": [],
   "source": [
    "TMG.Layers[0].adata.obsp['FG']"
   ]
  },
  {
   "cell_type": "code",
   "execution_count": null,
   "metadata": {},
   "outputs": [],
   "source": [
    "TMG.Layers[0].adata.obsp['SG']"
   ]
  },
  {
   "cell_type": "code",
   "execution_count": null,
   "metadata": {},
   "outputs": [],
   "source": [
    "# Create the classifier\n",
    "optleiden = Classification.OptimalLeidenUnsupervized(TMG.Layers[0])"
   ]
  },
  {
   "cell_type": "code",
   "execution_count": null,
   "metadata": {},
   "outputs": [],
   "source": [
    "# train the classifier\n",
    "optleiden.train(opt_params={'iters':10, 'n_consensus':1})"
   ]
  },
  {
   "cell_type": "code",
   "execution_count": null,
   "metadata": {},
   "outputs": [],
   "source": [
    "# use the classifier to create types and add them to TMG using the Taxonomy created on the fly by the classifier\n",
    "type_vec = optleiden.classify(TMG.Layers[0].feature_mat)\n"
   ]
  },
  {
   "cell_type": "code",
   "execution_count": null,
   "metadata": {},
   "outputs": [],
   "source": [
    "TMG.add_type_information(0, type_vec, optleiden.tax)"
   ]
  },
  {
   "cell_type": "code",
   "execution_count": null,
   "metadata": {},
   "outputs": [],
   "source": [
    "TMG.create_isozone_layer()\n",
    "logging.info(f\"TMG has {len(TMG.Layers)} Layers\")"
   ]
  },
  {
   "cell_type": "code",
   "execution_count": null,
   "metadata": {},
   "outputs": [],
   "source": [
    "n_topics_list = [2,5,10,15,20,30,50]\n",
    "n_procs = len(n_topics_list) \n",
    "\n",
    "topic_cls = Classification.TopicClassifier(TMG.Layers[0])\n",
    "topic_cls.train(n_topics_list=n_topics_list, n_procs=n_procs)\n",
    "topics = topic_cls.classify(topic_cls.Env)"
   ]
  },
  {
   "cell_type": "code",
   "execution_count": null,
   "metadata": {},
   "outputs": [],
   "source": [
    "TMG.create_region_layer(topics, topic_cls.tax)\n",
    "logging.info(f\"TMG has {len(TMG.Layers)} Layers\")"
   ]
  },
  {
   "cell_type": "code",
   "execution_count": null,
   "metadata": {},
   "outputs": [],
   "source": [
    "TMG.add_geoms(geom_types = [\"mask\",\"voronoi\",\"isozones\",\"regions\"],redo=False)"
   ]
  },
  {
   "cell_type": "code",
   "execution_count": null,
   "metadata": {
    "tags": []
   },
   "outputs": [],
   "source": [
    "TMG.save()"
   ]
  },
  {
   "cell_type": "code",
   "execution_count": null,
   "metadata": {},
   "outputs": [],
   "source": [
    "TMG = TissueMultiGraph(inputpath=inputpath,redo = False)"
   ]
  },
  {
   "cell_type": "code",
   "execution_count": null,
   "metadata": {
    "tags": []
   },
   "outputs": [],
   "source": [
    "V = BasisView(TMG,rotation=-90)\n",
    "V.show()"
   ]
  },
  {
   "cell_type": "code",
   "execution_count": null,
   "metadata": {
    "tags": []
   },
   "outputs": [],
   "source": [
    "SingleMapView(TMG,level_type = \"cell\", map_type = \"random\",rotation=-90).show()\n",
    "SingleMapView(TMG,level_type = \"isozone\",map_type = \"random\",rotation=-90).show()\n",
    "SingleMapView(TMG,level_type = \"region\",map_type = \"random\",rotation=-90).show()\n"
   ]
  },
  {
   "cell_type": "code",
   "execution_count": null,
   "metadata": {},
   "outputs": [],
   "source": [
    "colormaps = ['Purples','Oranges','Blues','Greens','Reds','cividis']\n",
    "SingleMapView(TMG,level_type = \"cell\", map_type = \"type\",color_assign_method = 'linkage',colormaps = colormaps,rotation=-90).show()\n"
   ]
  },
  {
   "cell_type": "code",
   "execution_count": null,
   "metadata": {},
   "outputs": [],
   "source": [
    "V = UMAPwithSpatialMap(TMG,qntl = (0.025,0.975),clp_embed = (0.025,0.975),rotation=-90)\n",
    "V.show()"
   ]
  },
  {
   "cell_type": "code",
   "execution_count": null,
   "metadata": {},
   "outputs": [],
   "source": []
  }
 ],
 "metadata": {
  "kernelspec": {
   "display_name": "Python [conda env:dredfish_3.9]",
   "language": "python",
   "name": "conda-env-dredfish_3.9-py"
  },
  "language_info": {
   "codemirror_mode": {
    "name": "ipython",
    "version": 3
   },
   "file_extension": ".py",
   "mimetype": "text/x-python",
   "name": "python",
   "nbconvert_exporter": "python",
   "pygments_lexer": "ipython3",
   "version": "3.9.0"
  }
 },
 "nbformat": 4,
 "nbformat_minor": 4
}
